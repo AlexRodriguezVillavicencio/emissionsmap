{
 "cells": [
  {
   "cell_type": "code",
   "execution_count": 8,
   "metadata": {},
   "outputs": [],
   "source": [
    "import numpy as np\n",
    "import pandas as pd\n",
    "import mysql.connector\n",
    "from sqlalchemy import create_engine\n"
   ]
  },
  {
   "cell_type": "code",
   "execution_count": 9,
   "metadata": {},
   "outputs": [],
   "source": [
    "def cargaMySql (nombre, dataset):\n",
    "    a = nombre\n",
    "    nombre = dataset\n",
    "    \n",
    "    #Creacion de variables\n",
    "    host_name,db_name, u_name, u_pass, port_num  = \"localhost\",\"proyecto_final\", \"root\", \"cr4zyfr0g\", \"3306\"\n",
    "    #Conexion a la db\n",
    "    mydb = mysql.connector.connect(\n",
    "    host=host_name,\n",
    "    user=u_name,\n",
    "    password=u_pass,\n",
    "    database=db_name )\n",
    "    #Creacion del motor de base de datos\n",
    "    engine = create_engine(\"mysql+mysqlconnector://\" + u_name + \":\" + u_pass + \"@\" + host_name + \":\" + port_num + \"/\" + db_name, echo=False)\n",
    "    \n",
    "    #Importacion del dataframe a nuestra base de datos en SQL\n",
    "    nombre.to_sql(name=a, con=engine, if_exists=\"append\", index=False)\n",
    "    return print('Carga exitosa')"
   ]
  },
  {
   "cell_type": "code",
   "execution_count": 10,
   "metadata": {},
   "outputs": [],
   "source": [
    "def calidaDato (data):\n",
    "    df = data\n",
    "    calidad = []\n",
    "    mascara = df.isna().sum()\n",
    "    for i in range(0,len(mascara)):\n",
    "        p = (df.shape[0]- mascara[i]) / df.shape[0]\n",
    "        calidad.append([mascara.index[i], round((p*100),2)])\n",
    "   \n",
    "    calidad = pd.DataFrame(calidad)\n",
    "    calidad.rename(columns={0:'Columna', 1: 'Calida %'}, inplace=True)\n",
    "    \n",
    "    return calidad"
   ]
  }
 ],
 "metadata": {
  "kernelspec": {
   "display_name": "Python 3.10.4 64-bit",
   "language": "python",
   "name": "python3"
  },
  "language_info": {
   "codemirror_mode": {
    "name": "ipython",
    "version": 3
   },
   "file_extension": ".py",
   "mimetype": "text/x-python",
   "name": "python",
   "nbconvert_exporter": "python",
   "pygments_lexer": "ipython3",
   "version": "3.10.4"
  },
  "orig_nbformat": 4,
  "vscode": {
   "interpreter": {
    "hash": "a42ccb73e7d9bfdf27e036f1d2b8b681e55fc0743cc5586bc2474d4a60f4b886"
   }
  }
 },
 "nbformat": 4,
 "nbformat_minor": 2
}
