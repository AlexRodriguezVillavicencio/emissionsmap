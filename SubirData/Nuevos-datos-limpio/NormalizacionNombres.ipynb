{
 "cells": [
  {
   "cell_type": "code",
   "execution_count": 1,
   "metadata": {},
   "outputs": [],
   "source": [
    "import pandas as pd"
   ]
  },
  {
   "cell_type": "markdown",
   "metadata": {},
   "source": [
    "### Tabla "
   ]
  },
  {
   "cell_type": "code",
   "execution_count": 2,
   "metadata": {},
   "outputs": [
    {
     "data": {
      "text/html": [
       "<div>\n",
       "<style scoped>\n",
       "    .dataframe tbody tr th:only-of-type {\n",
       "        vertical-align: middle;\n",
       "    }\n",
       "\n",
       "    .dataframe tbody tr th {\n",
       "        vertical-align: top;\n",
       "    }\n",
       "\n",
       "    .dataframe thead th {\n",
       "        text-align: right;\n",
       "    }\n",
       "</style>\n",
       "<table border=\"1\" class=\"dataframe\">\n",
       "  <thead>\n",
       "    <tr style=\"text-align: right;\">\n",
       "      <th></th>\n",
       "      <th>Unnamed: 0</th>\n",
       "      <th>Pais</th>\n",
       "      <th>Anio</th>\n",
       "      <th>Anomalia De La Temperatura Media Del Promedio De 1961 A 1990</th>\n",
       "      <th>Limite Superior</th>\n",
       "      <th>Limite Inferior</th>\n",
       "      <th>Codigo</th>\n",
       "      <th>Id_Pais</th>\n",
       "      <th>Id_Anio</th>\n",
       "    </tr>\n",
       "  </thead>\n",
       "  <tbody>\n",
       "    <tr>\n",
       "      <th>0</th>\n",
       "      <td>0</td>\n",
       "      <td>Global</td>\n",
       "      <td>1850</td>\n",
       "      <td>-0.373</td>\n",
       "      <td>-0.339</td>\n",
       "      <td>-0.425</td>\n",
       "      <td>NaN</td>\n",
       "      <td>4cc6684df7b4a92b1dec6fce3264fac8</td>\n",
       "      <td>8c3039bd5842dca3d944faab91447818</td>\n",
       "    </tr>\n",
       "    <tr>\n",
       "      <th>1</th>\n",
       "      <td>1</td>\n",
       "      <td>Global</td>\n",
       "      <td>1851</td>\n",
       "      <td>-0.218</td>\n",
       "      <td>-0.184</td>\n",
       "      <td>-0.274</td>\n",
       "      <td>NaN</td>\n",
       "      <td>4cc6684df7b4a92b1dec6fce3264fac8</td>\n",
       "      <td>ff1418e8cc993fe8abcfe3ce2003e5c5</td>\n",
       "    </tr>\n",
       "    <tr>\n",
       "      <th>2</th>\n",
       "      <td>2</td>\n",
       "      <td>Global</td>\n",
       "      <td>1852</td>\n",
       "      <td>-0.228</td>\n",
       "      <td>-0.196</td>\n",
       "      <td>-0.280</td>\n",
       "      <td>NaN</td>\n",
       "      <td>4cc6684df7b4a92b1dec6fce3264fac8</td>\n",
       "      <td>eb1e78328c46506b46a4ac4a1e378b91</td>\n",
       "    </tr>\n",
       "    <tr>\n",
       "      <th>3</th>\n",
       "      <td>3</td>\n",
       "      <td>Global</td>\n",
       "      <td>1853</td>\n",
       "      <td>-0.269</td>\n",
       "      <td>-0.239</td>\n",
       "      <td>-0.321</td>\n",
       "      <td>NaN</td>\n",
       "      <td>4cc6684df7b4a92b1dec6fce3264fac8</td>\n",
       "      <td>7503cfacd12053d309b6bed5c89de212</td>\n",
       "    </tr>\n",
       "    <tr>\n",
       "      <th>4</th>\n",
       "      <td>4</td>\n",
       "      <td>Global</td>\n",
       "      <td>1854</td>\n",
       "      <td>-0.248</td>\n",
       "      <td>-0.218</td>\n",
       "      <td>-0.301</td>\n",
       "      <td>NaN</td>\n",
       "      <td>4cc6684df7b4a92b1dec6fce3264fac8</td>\n",
       "      <td>49ad23d1ec9fa4bd8d77d02681df5cfa</td>\n",
       "    </tr>\n",
       "  </tbody>\n",
       "</table>\n",
       "</div>"
      ],
      "text/plain": [
       "   Unnamed: 0    Pais  Anio  \\\n",
       "0           0  Global  1850   \n",
       "1           1  Global  1851   \n",
       "2           2  Global  1852   \n",
       "3           3  Global  1853   \n",
       "4           4  Global  1854   \n",
       "\n",
       "   Anomalia De La Temperatura Media Del Promedio De 1961 A 1990  \\\n",
       "0                                             -0.373              \n",
       "1                                             -0.218              \n",
       "2                                             -0.228              \n",
       "3                                             -0.269              \n",
       "4                                             -0.248              \n",
       "\n",
       "   Limite Superior  Limite Inferior  Codigo                           Id_Pais  \\\n",
       "0           -0.339           -0.425     NaN  4cc6684df7b4a92b1dec6fce3264fac8   \n",
       "1           -0.184           -0.274     NaN  4cc6684df7b4a92b1dec6fce3264fac8   \n",
       "2           -0.196           -0.280     NaN  4cc6684df7b4a92b1dec6fce3264fac8   \n",
       "3           -0.239           -0.321     NaN  4cc6684df7b4a92b1dec6fce3264fac8   \n",
       "4           -0.218           -0.301     NaN  4cc6684df7b4a92b1dec6fce3264fac8   \n",
       "\n",
       "                            Id_Anio  \n",
       "0  8c3039bd5842dca3d944faab91447818  \n",
       "1  ff1418e8cc993fe8abcfe3ce2003e5c5  \n",
       "2  eb1e78328c46506b46a4ac4a1e378b91  \n",
       "3  7503cfacd12053d309b6bed5c89de212  \n",
       "4  49ad23d1ec9fa4bd8d77d02681df5cfa  "
      ]
     },
     "execution_count": 2,
     "metadata": {},
     "output_type": "execute_result"
    }
   ],
   "source": [
    "#ingestar cvs\n",
    "df = pd.read_csv(r'Temperatura_anomalia.csv', sep=',')\n",
    "df.head()"
   ]
  },
  {
   "cell_type": "code",
   "execution_count": null,
   "metadata": {},
   "outputs": [],
   "source": [
    "#borrar columnas innecesarias\n",
    "df.drop(['Unnamed: 0'], axis=1, inplace=True)\n"
   ]
  },
  {
   "cell_type": "code",
   "execution_count": 8,
   "metadata": {},
   "outputs": [
    {
     "data": {
      "text/html": [
       "<div>\n",
       "<style scoped>\n",
       "    .dataframe tbody tr th:only-of-type {\n",
       "        vertical-align: middle;\n",
       "    }\n",
       "\n",
       "    .dataframe tbody tr th {\n",
       "        vertical-align: top;\n",
       "    }\n",
       "\n",
       "    .dataframe thead th {\n",
       "        text-align: right;\n",
       "    }\n",
       "</style>\n",
       "<table border=\"1\" class=\"dataframe\">\n",
       "  <thead>\n",
       "    <tr style=\"text-align: right;\">\n",
       "      <th></th>\n",
       "      <th>Pais</th>\n",
       "      <th>Anio</th>\n",
       "      <th>Anomalia Media</th>\n",
       "      <th>Limite Superior</th>\n",
       "      <th>Limite Inferior</th>\n",
       "      <th>Codigo</th>\n",
       "      <th>Id_Pais</th>\n",
       "      <th>Id_Anio</th>\n",
       "    </tr>\n",
       "  </thead>\n",
       "  <tbody>\n",
       "    <tr>\n",
       "      <th>0</th>\n",
       "      <td>Global</td>\n",
       "      <td>1850</td>\n",
       "      <td>-0.373</td>\n",
       "      <td>-0.339</td>\n",
       "      <td>-0.425</td>\n",
       "      <td>NaN</td>\n",
       "      <td>4cc6684df7b4a92b1dec6fce3264fac8</td>\n",
       "      <td>8c3039bd5842dca3d944faab91447818</td>\n",
       "    </tr>\n",
       "    <tr>\n",
       "      <th>1</th>\n",
       "      <td>Global</td>\n",
       "      <td>1851</td>\n",
       "      <td>-0.218</td>\n",
       "      <td>-0.184</td>\n",
       "      <td>-0.274</td>\n",
       "      <td>NaN</td>\n",
       "      <td>4cc6684df7b4a92b1dec6fce3264fac8</td>\n",
       "      <td>ff1418e8cc993fe8abcfe3ce2003e5c5</td>\n",
       "    </tr>\n",
       "    <tr>\n",
       "      <th>2</th>\n",
       "      <td>Global</td>\n",
       "      <td>1852</td>\n",
       "      <td>-0.228</td>\n",
       "      <td>-0.196</td>\n",
       "      <td>-0.280</td>\n",
       "      <td>NaN</td>\n",
       "      <td>4cc6684df7b4a92b1dec6fce3264fac8</td>\n",
       "      <td>eb1e78328c46506b46a4ac4a1e378b91</td>\n",
       "    </tr>\n",
       "    <tr>\n",
       "      <th>3</th>\n",
       "      <td>Global</td>\n",
       "      <td>1853</td>\n",
       "      <td>-0.269</td>\n",
       "      <td>-0.239</td>\n",
       "      <td>-0.321</td>\n",
       "      <td>NaN</td>\n",
       "      <td>4cc6684df7b4a92b1dec6fce3264fac8</td>\n",
       "      <td>7503cfacd12053d309b6bed5c89de212</td>\n",
       "    </tr>\n",
       "    <tr>\n",
       "      <th>4</th>\n",
       "      <td>Global</td>\n",
       "      <td>1854</td>\n",
       "      <td>-0.248</td>\n",
       "      <td>-0.218</td>\n",
       "      <td>-0.301</td>\n",
       "      <td>NaN</td>\n",
       "      <td>4cc6684df7b4a92b1dec6fce3264fac8</td>\n",
       "      <td>49ad23d1ec9fa4bd8d77d02681df5cfa</td>\n",
       "    </tr>\n",
       "  </tbody>\n",
       "</table>\n",
       "</div>"
      ],
      "text/plain": [
       "     Pais  Anio  Anomalia Media  Limite Superior  Limite Inferior  Codigo  \\\n",
       "0  Global  1850          -0.373           -0.339           -0.425     NaN   \n",
       "1  Global  1851          -0.218           -0.184           -0.274     NaN   \n",
       "2  Global  1852          -0.228           -0.196           -0.280     NaN   \n",
       "3  Global  1853          -0.269           -0.239           -0.321     NaN   \n",
       "4  Global  1854          -0.248           -0.218           -0.301     NaN   \n",
       "\n",
       "                            Id_Pais                           Id_Anio  \n",
       "0  4cc6684df7b4a92b1dec6fce3264fac8  8c3039bd5842dca3d944faab91447818  \n",
       "1  4cc6684df7b4a92b1dec6fce3264fac8  ff1418e8cc993fe8abcfe3ce2003e5c5  \n",
       "2  4cc6684df7b4a92b1dec6fce3264fac8  eb1e78328c46506b46a4ac4a1e378b91  \n",
       "3  4cc6684df7b4a92b1dec6fce3264fac8  7503cfacd12053d309b6bed5c89de212  \n",
       "4  4cc6684df7b4a92b1dec6fce3264fac8  49ad23d1ec9fa4bd8d77d02681df5cfa  "
      ]
     },
     "execution_count": 8,
     "metadata": {},
     "output_type": "execute_result"
    }
   ],
   "source": [
    "#cambiar nombre de columnas Anomalia De La Temperatura Media Del Promedio\n",
    "df.rename(columns={'Anomalia De La Temperatura Media Del Promedio De 1961 A 1990': 'Anomalia Media'}, inplace=True)\n",
    "df.head()"
   ]
  },
  {
   "cell_type": "markdown",
   "metadata": {},
   "source": [
    "#"
   ]
  },
  {
   "cell_type": "code",
   "execution_count": 12,
   "metadata": {},
   "outputs": [
    {
     "data": {
      "text/plain": [
       "Index(['Pais', 'Anio', 'Anomalia Media', 'Limite Superior', 'Limite Inferior',\n",
       "       'Codigo', 'Id_Pais', 'Id_Anio'],\n",
       "      dtype='object')"
      ]
     },
     "execution_count": 12,
     "metadata": {},
     "output_type": "execute_result"
    }
   ],
   "source": [
    "#COLUMNAS\n",
    "df.columns"
   ]
  }
 ],
 "metadata": {
  "kernelspec": {
   "display_name": "Python 3.10.6 64-bit",
   "language": "python",
   "name": "python3"
  },
  "language_info": {
   "codemirror_mode": {
    "name": "ipython",
    "version": 3
   },
   "file_extension": ".py",
   "mimetype": "text/x-python",
   "name": "python",
   "nbconvert_exporter": "python",
   "pygments_lexer": "ipython3",
   "version": "3.10.6"
  },
  "orig_nbformat": 4,
  "vscode": {
   "interpreter": {
    "hash": "d46546ac027097ea23ecdc50871ac50fa2b04e00bab4da596875593c6ed971e7"
   }
  }
 },
 "nbformat": 4,
 "nbformat_minor": 2
}
