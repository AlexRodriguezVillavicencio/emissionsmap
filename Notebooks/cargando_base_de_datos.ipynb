{
 "cells": [
  {
   "cell_type": "code",
   "execution_count": 1,
   "metadata": {},
   "outputs": [],
   "source": [
    "import pandas as pd\n",
    "import mysql.connector\n",
    "from sqlalchemy import create_engine\n"
   ]
  },
  {
   "cell_type": "code",
   "execution_count": 2,
   "metadata": {},
   "outputs": [],
   "source": [
    "def cargaMySql (nombre, dataset):\n",
    "    a = nombre\n",
    "    nombre = dataset\n",
    "    \n",
    "    #Creacion de variables\n",
    "    host_name,db_name, u_name, u_pass, port_num  = \"localhost\",\"proyecto_final\", \"root\", \"marcelA44\", \"3306\"\n",
    "    \n",
    "    #Conexion a la db\n",
    "    mydb = mysql.connector.connect(\n",
    "    host=host_name,\n",
    "    user=u_name,\n",
    "    password=u_pass,\n",
    "    database=db_name )\n",
    "    #Creacion del motor de base de datos\n",
    "    engine = create_engine(\"mysql+mysqlconnector://\" + u_name + \":\" + u_pass + \"@\" + host_name + \":\" + port_num + \"/\" + db_name, echo=False)\n",
    "    \n",
    "    #Importacion del dataframe a nuestra base de datos en SQL\n",
    "    nombre.to_sql(name=a, con=engine, if_exists=\"append\", index=False)\n",
    "    return print('Carga exitosa')"
   ]
  },
  {
   "cell_type": "code",
   "execution_count": null,
   "metadata": {},
   "outputs": [],
   "source": []
  },
  {
   "cell_type": "code",
   "execution_count": 16,
   "metadata": {},
   "outputs": [],
   "source": [
    "data_2 = pd.read_csv('c:\\\\Users\\\\x\\\\OneDrive\\\\Escritorio\\\\Agus\\\\Henry DATA 02\\\\emissionsmap\\\\documentation\\\\TablasNormal\\\\electricity_prod_source_stacked.csv')"
   ]
  },
  {
   "cell_type": "code",
   "execution_count": 4,
   "metadata": {},
   "outputs": [],
   "source": [
    "data_3 = pd.read_csv('c:\\\\Users\\\\x\\\\OneDrive\\\\Escritorio\\\\Agus\\\\Henry DATA 02\\\\emissionsmap\\\\documentation\\\\TablasNormal\\\\Gases_normalizado.csv')"
   ]
  },
  {
   "cell_type": "code",
   "execution_count": 15,
   "metadata": {},
   "outputs": [],
   "source": [
    "data_4 = pd.read_csv('c:\\\\Users\\\\x\\\\OneDrive\\\\Escritorio\\\\Agus\\\\Henry DATA 02\\\\emissionsmap\\\\documentation\\\\TablasNormal\\\\primary_energy.csv')"
   ]
  },
  {
   "cell_type": "code",
   "execution_count": 8,
   "metadata": {},
   "outputs": [],
   "source": [
    "data = pd.read_csv('c:\\\\Users\\\\x\\\\OneDrive\\\\Escritorio\\\\Agus\\\\Henry DATA 02\\\\emissionsmap\\\\documentation\\\\TablasNormal\\\\historical_emission_normal.csv')"
   ]
  },
  {
   "cell_type": "code",
   "execution_count": 17,
   "metadata": {},
   "outputs": [],
   "source": [
    "data_11 = pd.read_csv('c:\\\\Users\\\\x\\\\OneDrive\\\\Escritorio\\\\Agus\\\\Henry DATA 02\\\\emissionsmap\\\\documentation\\\\TablasNormal\\\\Partic_Global_Energia.csv')"
   ]
  },
  {
   "cell_type": "code",
   "execution_count": 11,
   "metadata": {},
   "outputs": [],
   "source": [
    "data_8 = pd.read_csv('c:\\\\Users\\\\x\\\\OneDrive\\\\Escritorio\\\\Agus\\\\Henry DATA 02\\\\emissionsmap\\\\documentation\\\\TablasNormal\\\\Primary_sub_normal.csv')"
   ]
  },
  {
   "cell_type": "code",
   "execution_count": 12,
   "metadata": {},
   "outputs": [],
   "source": [
    "data_9 = pd.read_csv('c:\\\\Users\\\\x\\\\OneDrive\\\\Escritorio\\\\Agus\\\\Henry DATA 02\\\\emissionsmap\\\\documentation\\\\TablasNormal\\\\Sub_energ_normal.csv')"
   ]
  },
  {
   "cell_type": "code",
   "execution_count": 13,
   "metadata": {},
   "outputs": [],
   "source": [
    "data_10 = pd.read_csv('c:\\\\Users\\\\x\\\\OneDrive\\\\Escritorio\\\\Agus\\\\Henry DATA 02\\\\emissionsmap\\\\documentation\\\\TablasNormal\\\\Tabla_Hecho.csv')"
   ]
  },
  {
   "cell_type": "code",
   "execution_count": null,
   "metadata": {},
   "outputs": [],
   "source": []
  },
  {
   "cell_type": "code",
   "execution_count": 8,
   "metadata": {},
   "outputs": [
    {
     "name": "stdout",
     "output_type": "stream",
     "text": [
      "Carga exitosa\n"
     ]
    }
   ],
   "source": [
    "cargaMySql('electricity_prod_source', data_2)"
   ]
  },
  {
   "cell_type": "code",
   "execution_count": 18,
   "metadata": {},
   "outputs": [
    {
     "name": "stderr",
     "output_type": "stream",
     "text": [
      "C:\\Users\\x\\AppData\\Local\\Packages\\PythonSoftwareFoundation.Python.3.10_qbz5n2kfra8p0\\LocalCache\\local-packages\\Python310\\site-packages\\pandas\\io\\sql.py:1663: UserWarning: The provided table name 'Gastos_normalizado' is not found exactly as such in the database after writing the table, possibly due to case sensitivity issues. Consider using lower case table names.\n",
      "  warnings.warn(msg, UserWarning)\n"
     ]
    },
    {
     "name": "stdout",
     "output_type": "stream",
     "text": [
      "Carga exitosa\n",
      "Carga exitosa\n",
      "Carga exitosa\n"
     ]
    },
    {
     "name": "stderr",
     "output_type": "stream",
     "text": [
      "C:\\Users\\x\\AppData\\Local\\Packages\\PythonSoftwareFoundation.Python.3.10_qbz5n2kfra8p0\\LocalCache\\local-packages\\Python310\\site-packages\\pandas\\io\\sql.py:1663: UserWarning: The provided table name 'Partic_Global_Energia' is not found exactly as such in the database after writing the table, possibly due to case sensitivity issues. Consider using lower case table names.\n",
      "  warnings.warn(msg, UserWarning)\n"
     ]
    },
    {
     "name": "stdout",
     "output_type": "stream",
     "text": [
      "Carga exitosa\n"
     ]
    },
    {
     "name": "stderr",
     "output_type": "stream",
     "text": [
      "C:\\Users\\x\\AppData\\Local\\Packages\\PythonSoftwareFoundation.Python.3.10_qbz5n2kfra8p0\\LocalCache\\local-packages\\Python310\\site-packages\\pandas\\io\\sql.py:1663: UserWarning: The provided table name 'Primary_sub_normal' is not found exactly as such in the database after writing the table, possibly due to case sensitivity issues. Consider using lower case table names.\n",
      "  warnings.warn(msg, UserWarning)\n"
     ]
    },
    {
     "name": "stdout",
     "output_type": "stream",
     "text": [
      "Carga exitosa\n"
     ]
    },
    {
     "name": "stderr",
     "output_type": "stream",
     "text": [
      "C:\\Users\\x\\AppData\\Local\\Packages\\PythonSoftwareFoundation.Python.3.10_qbz5n2kfra8p0\\LocalCache\\local-packages\\Python310\\site-packages\\pandas\\io\\sql.py:1663: UserWarning: The provided table name 'Sub_energ_normal' is not found exactly as such in the database after writing the table, possibly due to case sensitivity issues. Consider using lower case table names.\n",
      "  warnings.warn(msg, UserWarning)\n"
     ]
    },
    {
     "name": "stdout",
     "output_type": "stream",
     "text": [
      "Carga exitosa\n",
      "Carga exitosa\n"
     ]
    },
    {
     "name": "stderr",
     "output_type": "stream",
     "text": [
      "C:\\Users\\x\\AppData\\Local\\Packages\\PythonSoftwareFoundation.Python.3.10_qbz5n2kfra8p0\\LocalCache\\local-packages\\Python310\\site-packages\\pandas\\io\\sql.py:1663: UserWarning: The provided table name 'Tabla_Hecho' is not found exactly as such in the database after writing the table, possibly due to case sensitivity issues. Consider using lower case table names.\n",
      "  warnings.warn(msg, UserWarning)\n"
     ]
    }
   ],
   "source": [
    "cargaMySql('Gastos_normalizado', data_3)\n",
    "cargaMySql('primary_energy', data_4)\n",
    "cargaMySql('historical_emission_normal', data)\n",
    "cargaMySql('Partic_Global_Energia', data_11)\n",
    "cargaMySql('Primary_sub_normal', data_8)\n",
    "cargaMySql('Sub_energ_normal', data_9)\n",
    "cargaMySql('Tabla_Hecho', data_10)"
   ]
  },
  {
   "cell_type": "code",
   "execution_count": null,
   "metadata": {},
   "outputs": [],
   "source": []
  }
 ],
 "metadata": {
  "kernelspec": {
   "display_name": "Python 3.10.5 64-bit (windows store)",
   "language": "python",
   "name": "python3"
  },
  "language_info": {
   "codemirror_mode": {
    "name": "ipython",
    "version": 3
   },
   "file_extension": ".py",
   "mimetype": "text/x-python",
   "name": "python",
   "nbconvert_exporter": "python",
   "pygments_lexer": "ipython3",
   "version": "3.10.5"
  },
  "orig_nbformat": 4,
  "vscode": {
   "interpreter": {
    "hash": "e63d05fab5f4c4f95433353c77133dc816419ae199bbd2e34a8fd9963d5a9dae"
   }
  }
 },
 "nbformat": 4,
 "nbformat_minor": 2
}
