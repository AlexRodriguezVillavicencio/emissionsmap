{
 "cells": [
  {
   "cell_type": "code",
   "execution_count": 1,
   "metadata": {},
   "outputs": [],
   "source": [
    "import pandas as pd\n",
    "import mysql.connector\n",
    "from sqlalchemy import create_engine\n",
    "pd.options.mode.chained_assignment = None\n"
   ]
  },
  {
   "cell_type": "code",
   "execution_count": 2,
   "metadata": {},
   "outputs": [],
   "source": [
    "def cargaMySql (nombre, dataset):\n",
    "    a = nombre\n",
    "    nombre = dataset\n",
    "    \n",
    "    #Creacion de variables\n",
    "    host_name,db_name, u_name, u_pass, port_num  = \"localhost\",\"proyecto_final\", \"root\", \"\", \"3306\"\n",
    "    \n",
    "    #Conexion a la db\n",
    "    mydb = mysql.connector.connect(\n",
    "    host=host_name,\n",
    "    user=u_name,\n",
    "    password=u_pass,\n",
    "    database=db_name )\n",
    "    #Creacion del motor de base de datos\n",
    "    engine = create_engine(\"mysql+mysqlconnector://\" + u_name + \":\" + u_pass + \"@\" + host_name + \":\" + port_num + \"/\" + db_name, echo=False)\n",
    "    \n",
    "    #Importacion del dataframe a nuestra base de datos en SQL\n",
    "    nombre.to_sql(name=a, con=engine, if_exists=\"append\", index=False)\n",
    "    return print('Carga exitosa')"
   ]
  },
  {
   "cell_type": "code",
   "execution_count": 2,
   "metadata": {},
   "outputs": [],
   "source": [
    "data_2 = pd.read_csv(r'C:\\Users\\x\\OneDrive\\Escritorio\\Agus\\Henry DATA 02\\emissionsmap\\SubirData\\Nuevos-datos-limpio\\electricity-prod-source-stacked.csv')"
   ]
  },
  {
   "cell_type": "code",
   "execution_count": 3,
   "metadata": {},
   "outputs": [],
   "source": [
    "data_3 = pd.read_csv(r'C:\\Users\\x\\OneDrive\\Escritorio\\Agus\\Henry DATA 02\\emissionsmap\\SubirData\\Nuevos-datos-limpio\\gases.csv')"
   ]
  },
  {
   "cell_type": "code",
   "execution_count": 4,
   "metadata": {},
   "outputs": [],
   "source": [
    "data_4 = pd.read_csv(r'C:\\Users\\x\\OneDrive\\Escritorio\\Agus\\Henry DATA 02\\emissionsmap\\SubirData\\Nuevos-datos-limpio\\primary_sub_energy.csv')"
   ]
  },
  {
   "cell_type": "code",
   "execution_count": 5,
   "metadata": {},
   "outputs": [],
   "source": [
    "data = pd.read_csv(r'C:\\Users\\x\\OneDrive\\Escritorio\\Agus\\Henry DATA 02\\emissionsmap\\SubirData\\Nuevos-datos-limpio\\historical-emissions.csv')"
   ]
  },
  {
   "cell_type": "code",
   "execution_count": 6,
   "metadata": {},
   "outputs": [],
   "source": [
    "# data_11 = pd.read_csv('c:\\\\Users\\\\x\\\\OneDrive\\\\Escritorio\\\\Agus\\\\Henry DATA 02\\\\emissionsmap\\\\documentation\\\\TablasNormal\\\\Partic_Global_Energia.csv')"
   ]
  },
  {
   "cell_type": "code",
   "execution_count": 6,
   "metadata": {},
   "outputs": [],
   "source": [
    "data_8 = pd.read_csv(r'C:\\Users\\x\\OneDrive\\Escritorio\\Agus\\Henry DATA 02\\emissionsmap\\SubirData\\Nuevos-datos-limpio\\sub_energy_fossil.csv')"
   ]
  },
  {
   "cell_type": "code",
   "execution_count": 8,
   "metadata": {},
   "outputs": [],
   "source": [
    "# data_9 = pd.read_csv('c:\\\\Users\\\\x\\\\OneDrive\\\\Escritorio\\\\Agus\\\\Henry DATA 02\\\\emissionsmap\\\\documentation\\\\TablasNormal\\\\Sub_energ_normal.csv')"
   ]
  },
  {
   "cell_type": "code",
   "execution_count": 7,
   "metadata": {},
   "outputs": [],
   "source": [
    "# data_10 = pd.read_csv('c:\\\\Users\\\\x\\\\OneDrive\\\\Escritorio\\\\Agus\\\\Henry DATA 02\\\\emissionsmap\\\\documentation\\\\TablasNormal\\\\Tabla_Hecho.csv')"
   ]
  },
  {
   "cell_type": "code",
   "execution_count": 8,
   "metadata": {},
   "outputs": [
    {
     "name": "stdout",
     "output_type": "stream",
     "text": [
      "Carga exitosa\n"
     ]
    }
   ],
   "source": [
    "cargaMySql('electricity_prod_source', data_2)"
   ]
  },
  {
   "cell_type": "code",
   "execution_count": 18,
   "metadata": {},
   "outputs": [
    {
     "name": "stderr",
     "output_type": "stream",
     "text": [
      "C:\\Users\\x\\AppData\\Local\\Packages\\PythonSoftwareFoundation.Python.3.10_qbz5n2kfra8p0\\LocalCache\\local-packages\\Python310\\site-packages\\pandas\\io\\sql.py:1663: UserWarning: The provided table name 'Gastos_normalizado' is not found exactly as such in the database after writing the table, possibly due to case sensitivity issues. Consider using lower case table names.\n",
      "  warnings.warn(msg, UserWarning)\n"
     ]
    },
    {
     "name": "stdout",
     "output_type": "stream",
     "text": [
      "Carga exitosa\n",
      "Carga exitosa\n",
      "Carga exitosa\n"
     ]
    },
    {
     "name": "stderr",
     "output_type": "stream",
     "text": [
      "C:\\Users\\x\\AppData\\Local\\Packages\\PythonSoftwareFoundation.Python.3.10_qbz5n2kfra8p0\\LocalCache\\local-packages\\Python310\\site-packages\\pandas\\io\\sql.py:1663: UserWarning: The provided table name 'Partic_Global_Energia' is not found exactly as such in the database after writing the table, possibly due to case sensitivity issues. Consider using lower case table names.\n",
      "  warnings.warn(msg, UserWarning)\n"
     ]
    },
    {
     "name": "stdout",
     "output_type": "stream",
     "text": [
      "Carga exitosa\n"
     ]
    },
    {
     "name": "stderr",
     "output_type": "stream",
     "text": [
      "C:\\Users\\x\\AppData\\Local\\Packages\\PythonSoftwareFoundation.Python.3.10_qbz5n2kfra8p0\\LocalCache\\local-packages\\Python310\\site-packages\\pandas\\io\\sql.py:1663: UserWarning: The provided table name 'Primary_sub_normal' is not found exactly as such in the database after writing the table, possibly due to case sensitivity issues. Consider using lower case table names.\n",
      "  warnings.warn(msg, UserWarning)\n"
     ]
    },
    {
     "name": "stdout",
     "output_type": "stream",
     "text": [
      "Carga exitosa\n"
     ]
    },
    {
     "name": "stderr",
     "output_type": "stream",
     "text": [
      "C:\\Users\\x\\AppData\\Local\\Packages\\PythonSoftwareFoundation.Python.3.10_qbz5n2kfra8p0\\LocalCache\\local-packages\\Python310\\site-packages\\pandas\\io\\sql.py:1663: UserWarning: The provided table name 'Sub_energ_normal' is not found exactly as such in the database after writing the table, possibly due to case sensitivity issues. Consider using lower case table names.\n",
      "  warnings.warn(msg, UserWarning)\n"
     ]
    },
    {
     "name": "stdout",
     "output_type": "stream",
     "text": [
      "Carga exitosa\n",
      "Carga exitosa\n"
     ]
    },
    {
     "name": "stderr",
     "output_type": "stream",
     "text": [
      "C:\\Users\\x\\AppData\\Local\\Packages\\PythonSoftwareFoundation.Python.3.10_qbz5n2kfra8p0\\LocalCache\\local-packages\\Python310\\site-packages\\pandas\\io\\sql.py:1663: UserWarning: The provided table name 'Tabla_Hecho' is not found exactly as such in the database after writing the table, possibly due to case sensitivity issues. Consider using lower case table names.\n",
      "  warnings.warn(msg, UserWarning)\n"
     ]
    }
   ],
   "source": [
    "cargaMySql('Gastos_normalizado', data_3)\n",
    "cargaMySql('primary_energy', data_4)\n",
    "cargaMySql('historical_emission_normal', data)\n",
    "cargaMySql('Partic_Global_Energia', data_11)\n",
    "cargaMySql('Primary_sub_normal', data_8)\n",
    "cargaMySql('Sub_energ_normal', data_9)\n",
    "cargaMySql('Tabla_Hecho', data_10)"
   ]
  },
  {
   "cell_type": "code",
   "execution_count": null,
   "metadata": {},
   "outputs": [],
   "source": [
    "def cargaMySql (nombre, dataset):\n",
    "    a = nombre\n",
    "    nombre = dataset\n",
    "    \n",
    "    #Creacion de variables\n",
    "    host_name,db_name, u_name, u_pass, port_num  = \"localhost\",\"proyecto_final\", \"root\", \"\", \"3306\"\n",
    "    \n",
    "    #Conexion a la db\n",
    "    mydb = mysql.connector.connect(\n",
    "    host=host_name,\n",
    "    user=u_name,\n",
    "    password=u_pass,\n",
    "    database=db_name )\n",
    "    #Creacion del motor de base de datos\n",
    "    engine = create_engine(\"mysql+mysqlconnector://\" + u_name + \":\" + u_pass + \"@\" + host_name + \":\" + port_num + \"/\" + db_name, echo=False)\n",
    "    \n",
    "    #Importacion del dataframe a nuestra base de datos en SQL\n",
    "    nombre.to_sql(name=a, con=engine, if_exists=\"append\", index=False)\n",
    "    return print('Carga exitosa')"
   ]
  },
  {
   "cell_type": "code",
   "execution_count": 12,
   "metadata": {},
   "outputs": [],
   "source": [
    "import psycopg2"
   ]
  },
  {
   "cell_type": "code",
   "execution_count": 10,
   "metadata": {},
   "outputs": [
    {
     "data": {
      "text/plain": [
       "['../config.ini']"
      ]
     },
     "execution_count": 10,
     "metadata": {},
     "output_type": "execute_result"
    }
   ],
   "source": [
    "from configparser import ConfigParser\n",
    "config = ConfigParser()\n",
    "file = '../config.ini'\n",
    "config.read(file)"
   ]
  },
  {
   "cell_type": "code",
   "execution_count": 11,
   "metadata": {},
   "outputs": [],
   "source": [
    "USER_BASE = config['database']['user']\n",
    "PASSWORD_BASE = config['database']['passw']\n",
    "DATABASE = config['database']['db']\n",
    "PORT = config['database']['port']\n",
    "HOST = config['database']['host']"
   ]
  },
  {
   "cell_type": "code",
   "execution_count": 13,
   "metadata": {},
   "outputs": [],
   "source": [
    "def consultas(consulta):\n",
    "    try:\n",
    "        connetion = psycopg2.connect(host=HOST, dbname=DATABASE, user=USER_BASE, password=PASSWORD_BASE)\n",
    "        micursor = connetion.cursor()\n",
    "        micursor.execute(consulta)\n",
    "        df = micursor.fetchall()\n",
    "        df = list(df)\n",
    "        df = pd.DataFrame(df)\n",
    "                    \n",
    "    except Exception as error:\n",
    "        print(error)\n",
    "    finally:\n",
    "        if micursor is not None:\n",
    "            micursor.close()\n",
    "        if connetion is not None:\n",
    "            connetion.close()\n",
    "        return df"
   ]
  },
  {
   "cell_type": "code",
   "execution_count": 14,
   "metadata": {},
   "outputs": [
    {
     "name": "stdout",
     "output_type": "stream",
     "text": [
      "could not translate host name \"database-2.ct7rxsgbwels.sa-east-1.rds.amazonaws.com\" to address: Unknown host\n",
      "\n"
     ]
    },
    {
     "ename": "UnboundLocalError",
     "evalue": "local variable 'micursor' referenced before assignment",
     "output_type": "error",
     "traceback": [
      "\u001b[1;31m---------------------------------------------------------------------------\u001b[0m",
      "\u001b[1;31mUnboundLocalError\u001b[0m                         Traceback (most recent call last)",
      "\u001b[1;32mc:\\Users\\x\\OneDrive\\Escritorio\\Agus\\Henry DATA 02\\emissionsmap\\Notebooks\\cargando_base_de_datos.ipynb Celda 18\u001b[0m in \u001b[0;36m<module>\u001b[1;34m\u001b[0m\n\u001b[1;32m----> <a href='vscode-notebook-cell:/c%3A/Users/x/OneDrive/Escritorio/Agus/Henry%20DATA%2002/emissionsmap/Notebooks/cargando_base_de_datos.ipynb#X23sZmlsZQ%3D%3D?line=0'>1</a>\u001b[0m df \u001b[39m=\u001b[39m consultas(\n\u001b[0;32m      <a href='vscode-notebook-cell:/c%3A/Users/x/OneDrive/Escritorio/Agus/Henry%20DATA%2002/emissionsmap/Notebooks/cargando_base_de_datos.ipynb#X23sZmlsZQ%3D%3D?line=1'>2</a>\u001b[0m     \u001b[39m\"\"\" \u001b[39;49;00m\n\u001b[0;32m      <a href='vscode-notebook-cell:/c%3A/Users/x/OneDrive/Escritorio/Agus/Henry%20DATA%2002/emissionsmap/Notebooks/cargando_base_de_datos.ipynb#X23sZmlsZQ%3D%3D?line=2'>3</a>\u001b[0m \u001b[39mSELECT * FROM gases\u001b[39;49;00m\n\u001b[0;32m      <a href='vscode-notebook-cell:/c%3A/Users/x/OneDrive/Escritorio/Agus/Henry%20DATA%2002/emissionsmap/Notebooks/cargando_base_de_datos.ipynb#X23sZmlsZQ%3D%3D?line=3'>4</a>\u001b[0m \u001b[39m    \"\"\"\u001b[39;49;00m)\n",
      "\u001b[1;32mc:\\Users\\x\\OneDrive\\Escritorio\\Agus\\Henry DATA 02\\emissionsmap\\Notebooks\\cargando_base_de_datos.ipynb Celda 18\u001b[0m in \u001b[0;36mconsultas\u001b[1;34m(consulta)\u001b[0m\n\u001b[0;32m     <a href='vscode-notebook-cell:/c%3A/Users/x/OneDrive/Escritorio/Agus/Henry%20DATA%2002/emissionsmap/Notebooks/cargando_base_de_datos.ipynb#X23sZmlsZQ%3D%3D?line=10'>11</a>\u001b[0m     \u001b[39mprint\u001b[39m(error)\n\u001b[0;32m     <a href='vscode-notebook-cell:/c%3A/Users/x/OneDrive/Escritorio/Agus/Henry%20DATA%2002/emissionsmap/Notebooks/cargando_base_de_datos.ipynb#X23sZmlsZQ%3D%3D?line=11'>12</a>\u001b[0m \u001b[39mfinally\u001b[39;00m:\n\u001b[1;32m---> <a href='vscode-notebook-cell:/c%3A/Users/x/OneDrive/Escritorio/Agus/Henry%20DATA%2002/emissionsmap/Notebooks/cargando_base_de_datos.ipynb#X23sZmlsZQ%3D%3D?line=12'>13</a>\u001b[0m     \u001b[39mif\u001b[39;00m micursor \u001b[39mis\u001b[39;00m \u001b[39mnot\u001b[39;00m \u001b[39mNone\u001b[39;00m:\n\u001b[0;32m     <a href='vscode-notebook-cell:/c%3A/Users/x/OneDrive/Escritorio/Agus/Henry%20DATA%2002/emissionsmap/Notebooks/cargando_base_de_datos.ipynb#X23sZmlsZQ%3D%3D?line=13'>14</a>\u001b[0m         micursor\u001b[39m.\u001b[39mclose()\n\u001b[0;32m     <a href='vscode-notebook-cell:/c%3A/Users/x/OneDrive/Escritorio/Agus/Henry%20DATA%2002/emissionsmap/Notebooks/cargando_base_de_datos.ipynb#X23sZmlsZQ%3D%3D?line=14'>15</a>\u001b[0m     \u001b[39mif\u001b[39;00m connetion \u001b[39mis\u001b[39;00m \u001b[39mnot\u001b[39;00m \u001b[39mNone\u001b[39;00m:\n",
      "\u001b[1;31mUnboundLocalError\u001b[0m: local variable 'micursor' referenced before assignment"
     ]
    }
   ],
   "source": [
    "df = consultas(\n",
    "    \"\"\" \n",
    "SELECT * FROM gases\n",
    "    \"\"\")"
   ]
  },
  {
   "cell_type": "code",
   "execution_count": 15,
   "metadata": {},
   "outputs": [
    {
     "data": {
      "text/html": [
       "<div>\n",
       "<style scoped>\n",
       "    .dataframe tbody tr th:only-of-type {\n",
       "        vertical-align: middle;\n",
       "    }\n",
       "\n",
       "    .dataframe tbody tr th {\n",
       "        vertical-align: top;\n",
       "    }\n",
       "\n",
       "    .dataframe thead th {\n",
       "        text-align: right;\n",
       "    }\n",
       "</style>\n",
       "<table border=\"1\" class=\"dataframe\">\n",
       "  <thead>\n",
       "    <tr style=\"text-align: right;\">\n",
       "      <th></th>\n",
       "      <th>0</th>\n",
       "      <th>1</th>\n",
       "      <th>2</th>\n",
       "      <th>3</th>\n",
       "      <th>4</th>\n",
       "      <th>5</th>\n",
       "      <th>6</th>\n",
       "      <th>7</th>\n",
       "      <th>8</th>\n",
       "      <th>9</th>\n",
       "    </tr>\n",
       "  </thead>\n",
       "  <tbody>\n",
       "    <tr>\n",
       "      <th>0</th>\n",
       "      <td>2001</td>\n",
       "      <td>316.36</td>\n",
       "      <td>0.14</td>\n",
       "      <td>4.78</td>\n",
       "      <td>0.004</td>\n",
       "      <td>371.32</td>\n",
       "      <td>0.12</td>\n",
       "      <td>1771.24</td>\n",
       "      <td>0.53</td>\n",
       "      <td>d0fb963ff976f9c37fc81fe03c21ea7b</td>\n",
       "    </tr>\n",
       "    <tr>\n",
       "      <th>1</th>\n",
       "      <td>2002</td>\n",
       "      <td>316.94</td>\n",
       "      <td>0.12</td>\n",
       "      <td>4.98</td>\n",
       "      <td>0.003</td>\n",
       "      <td>373.45</td>\n",
       "      <td>0.12</td>\n",
       "      <td>1772.69</td>\n",
       "      <td>0.55</td>\n",
       "      <td>4ba29b9f9e5732ed33761840f4ba6c53</td>\n",
       "    </tr>\n",
       "    <tr>\n",
       "      <th>2</th>\n",
       "      <td>2003</td>\n",
       "      <td>317.63</td>\n",
       "      <td>0.12</td>\n",
       "      <td>5.23</td>\n",
       "      <td>0.002</td>\n",
       "      <td>375.98</td>\n",
       "      <td>0.12</td>\n",
       "      <td>1777.31</td>\n",
       "      <td>0.52</td>\n",
       "      <td>a591024321c5e2bdbd23ed35f0574dde</td>\n",
       "    </tr>\n",
       "    <tr>\n",
       "      <th>3</th>\n",
       "      <td>2004</td>\n",
       "      <td>318.26</td>\n",
       "      <td>0.12</td>\n",
       "      <td>5.45</td>\n",
       "      <td>0.002</td>\n",
       "      <td>377.70</td>\n",
       "      <td>0.12</td>\n",
       "      <td>1777.03</td>\n",
       "      <td>0.46</td>\n",
       "      <td>b8b4b727d6f5d1b61fff7be687f7970f</td>\n",
       "    </tr>\n",
       "    <tr>\n",
       "      <th>4</th>\n",
       "      <td>2005</td>\n",
       "      <td>318.91</td>\n",
       "      <td>0.10</td>\n",
       "      <td>5.67</td>\n",
       "      <td>0.002</td>\n",
       "      <td>379.98</td>\n",
       "      <td>0.12</td>\n",
       "      <td>1774.14</td>\n",
       "      <td>0.55</td>\n",
       "      <td>d47268e9db2e9aa3827bba3afb7ff94a</td>\n",
       "    </tr>\n",
       "    <tr>\n",
       "      <th>...</th>\n",
       "      <td>...</td>\n",
       "      <td>...</td>\n",
       "      <td>...</td>\n",
       "      <td>...</td>\n",
       "      <td>...</td>\n",
       "      <td>...</td>\n",
       "      <td>...</td>\n",
       "      <td>...</td>\n",
       "      <td>...</td>\n",
       "      <td>...</td>\n",
       "    </tr>\n",
       "    <tr>\n",
       "      <th>58</th>\n",
       "      <td>1993</td>\n",
       "      <td>NaN</td>\n",
       "      <td>NaN</td>\n",
       "      <td>NaN</td>\n",
       "      <td>NaN</td>\n",
       "      <td>357.21</td>\n",
       "      <td>0.12</td>\n",
       "      <td>1736.49</td>\n",
       "      <td>0.44</td>\n",
       "      <td>c5a4e7e6882845ea7bb4d9462868219b</td>\n",
       "    </tr>\n",
       "    <tr>\n",
       "      <th>59</th>\n",
       "      <td>1994</td>\n",
       "      <td>NaN</td>\n",
       "      <td>NaN</td>\n",
       "      <td>NaN</td>\n",
       "      <td>NaN</td>\n",
       "      <td>358.96</td>\n",
       "      <td>0.12</td>\n",
       "      <td>1742.06</td>\n",
       "      <td>0.63</td>\n",
       "      <td>008bd5ad93b754d500338c253d9c1770</td>\n",
       "    </tr>\n",
       "    <tr>\n",
       "      <th>60</th>\n",
       "      <td>1995</td>\n",
       "      <td>NaN</td>\n",
       "      <td>NaN</td>\n",
       "      <td>NaN</td>\n",
       "      <td>NaN</td>\n",
       "      <td>360.97</td>\n",
       "      <td>0.12</td>\n",
       "      <td>1748.80</td>\n",
       "      <td>0.47</td>\n",
       "      <td>3f088ebeda03513be71d34d214291986</td>\n",
       "    </tr>\n",
       "    <tr>\n",
       "      <th>61</th>\n",
       "      <td>1996</td>\n",
       "      <td>NaN</td>\n",
       "      <td>NaN</td>\n",
       "      <td>NaN</td>\n",
       "      <td>NaN</td>\n",
       "      <td>362.74</td>\n",
       "      <td>0.12</td>\n",
       "      <td>1751.46</td>\n",
       "      <td>0.63</td>\n",
       "      <td>6351bf9dce654515bf1ddbd6426dfa97</td>\n",
       "    </tr>\n",
       "    <tr>\n",
       "      <th>62</th>\n",
       "      <td>1997</td>\n",
       "      <td>NaN</td>\n",
       "      <td>NaN</td>\n",
       "      <td>NaN</td>\n",
       "      <td>NaN</td>\n",
       "      <td>363.88</td>\n",
       "      <td>0.12</td>\n",
       "      <td>1754.54</td>\n",
       "      <td>0.36</td>\n",
       "      <td>06964dce9addb1c5cb5d6e3d9838f733</td>\n",
       "    </tr>\n",
       "  </tbody>\n",
       "</table>\n",
       "<p>63 rows × 10 columns</p>\n",
       "</div>"
      ],
      "text/plain": [
       "       0       1     2     3      4       5     6        7     8  \\\n",
       "0   2001  316.36  0.14  4.78  0.004  371.32  0.12  1771.24  0.53   \n",
       "1   2002  316.94  0.12  4.98  0.003  373.45  0.12  1772.69  0.55   \n",
       "2   2003  317.63  0.12  5.23  0.002  375.98  0.12  1777.31  0.52   \n",
       "3   2004  318.26  0.12  5.45  0.002  377.70  0.12  1777.03  0.46   \n",
       "4   2005  318.91  0.10  5.67  0.002  379.98  0.12  1774.14  0.55   \n",
       "..   ...     ...   ...   ...    ...     ...   ...      ...   ...   \n",
       "58  1993     NaN   NaN   NaN    NaN  357.21  0.12  1736.49  0.44   \n",
       "59  1994     NaN   NaN   NaN    NaN  358.96  0.12  1742.06  0.63   \n",
       "60  1995     NaN   NaN   NaN    NaN  360.97  0.12  1748.80  0.47   \n",
       "61  1996     NaN   NaN   NaN    NaN  362.74  0.12  1751.46  0.63   \n",
       "62  1997     NaN   NaN   NaN    NaN  363.88  0.12  1754.54  0.36   \n",
       "\n",
       "                                   9  \n",
       "0   d0fb963ff976f9c37fc81fe03c21ea7b  \n",
       "1   4ba29b9f9e5732ed33761840f4ba6c53  \n",
       "2   a591024321c5e2bdbd23ed35f0574dde  \n",
       "3   b8b4b727d6f5d1b61fff7be687f7970f  \n",
       "4   d47268e9db2e9aa3827bba3afb7ff94a  \n",
       "..                               ...  \n",
       "58  c5a4e7e6882845ea7bb4d9462868219b  \n",
       "59  008bd5ad93b754d500338c253d9c1770  \n",
       "60  3f088ebeda03513be71d34d214291986  \n",
       "61  6351bf9dce654515bf1ddbd6426dfa97  \n",
       "62  06964dce9addb1c5cb5d6e3d9838f733  \n",
       "\n",
       "[63 rows x 10 columns]"
      ]
     },
     "execution_count": 15,
     "metadata": {},
     "output_type": "execute_result"
    }
   ],
   "source": [
    "df"
   ]
  },
  {
   "cell_type": "code",
   "execution_count": 15,
   "metadata": {},
   "outputs": [],
   "source": [
    "def consultas(consulta):\n",
    "    try:\n",
    "        connetion = psycopg2.connect(host=HOST, dbname=DATABASE, user=USER_BASE, password=PASSWORD_BASE)\n",
    "        micursor = connetion.cursor()\n",
    "        micursor.execute(consulta)\n",
    "        column_names = [desc[0] for desc in micursor.description]\n",
    "        df = micursor.fetchall()\n",
    "        df = list(df)\n",
    "        df = pd.DataFrame(df)\n",
    "        n=0\n",
    "        for i in df.columns:\n",
    "            df.rename(columns={i:column_names[n]}, inplace=True)\n",
    "            n+=1\n",
    "    except Exception as error:\n",
    "        print(error)\n",
    "    finally:\n",
    "        if micursor is not None:\n",
    "            micursor.close()\n",
    "        if connetion is not None:\n",
    "            connetion.close()\n",
    "        return df"
   ]
  },
  {
   "cell_type": "code",
   "execution_count": 17,
   "metadata": {},
   "outputs": [
    {
     "data": {
      "text/html": [
       "<div>\n",
       "<style scoped>\n",
       "    .dataframe tbody tr th:only-of-type {\n",
       "        vertical-align: middle;\n",
       "    }\n",
       "\n",
       "    .dataframe tbody tr th {\n",
       "        vertical-align: top;\n",
       "    }\n",
       "\n",
       "    .dataframe thead th {\n",
       "        text-align: right;\n",
       "    }\n",
       "</style>\n",
       "<table border=\"1\" class=\"dataframe\">\n",
       "  <thead>\n",
       "    <tr style=\"text-align: right;\">\n",
       "      <th></th>\n",
       "      <th>Año</th>\n",
       "      <th>Medios N20</th>\n",
       "    </tr>\n",
       "  </thead>\n",
       "  <tbody>\n",
       "    <tr>\n",
       "      <th>0</th>\n",
       "      <td>2001</td>\n",
       "      <td>316.36</td>\n",
       "    </tr>\n",
       "    <tr>\n",
       "      <th>1</th>\n",
       "      <td>2002</td>\n",
       "      <td>316.94</td>\n",
       "    </tr>\n",
       "    <tr>\n",
       "      <th>2</th>\n",
       "      <td>2003</td>\n",
       "      <td>317.63</td>\n",
       "    </tr>\n",
       "    <tr>\n",
       "      <th>3</th>\n",
       "      <td>2004</td>\n",
       "      <td>318.26</td>\n",
       "    </tr>\n",
       "    <tr>\n",
       "      <th>4</th>\n",
       "      <td>2005</td>\n",
       "      <td>318.91</td>\n",
       "    </tr>\n",
       "    <tr>\n",
       "      <th>...</th>\n",
       "      <td>...</td>\n",
       "      <td>...</td>\n",
       "    </tr>\n",
       "    <tr>\n",
       "      <th>58</th>\n",
       "      <td>1993</td>\n",
       "      <td>NaN</td>\n",
       "    </tr>\n",
       "    <tr>\n",
       "      <th>59</th>\n",
       "      <td>1994</td>\n",
       "      <td>NaN</td>\n",
       "    </tr>\n",
       "    <tr>\n",
       "      <th>60</th>\n",
       "      <td>1995</td>\n",
       "      <td>NaN</td>\n",
       "    </tr>\n",
       "    <tr>\n",
       "      <th>61</th>\n",
       "      <td>1996</td>\n",
       "      <td>NaN</td>\n",
       "    </tr>\n",
       "    <tr>\n",
       "      <th>62</th>\n",
       "      <td>1997</td>\n",
       "      <td>NaN</td>\n",
       "    </tr>\n",
       "  </tbody>\n",
       "</table>\n",
       "<p>63 rows × 2 columns</p>\n",
       "</div>"
      ],
      "text/plain": [
       "     Año  Medios N20\n",
       "0   2001      316.36\n",
       "1   2002      316.94\n",
       "2   2003      317.63\n",
       "3   2004      318.26\n",
       "4   2005      318.91\n",
       "..   ...         ...\n",
       "58  1993         NaN\n",
       "59  1994         NaN\n",
       "60  1995         NaN\n",
       "61  1996         NaN\n",
       "62  1997         NaN\n",
       "\n",
       "[63 rows x 2 columns]"
      ]
     },
     "execution_count": 17,
     "metadata": {},
     "output_type": "execute_result"
    }
   ],
   "source": [
    "consultas('Select \"Año\",\"Medios N20\" from public.gases')"
   ]
  },
  {
   "cell_type": "code",
   "execution_count": 21,
   "metadata": {},
   "outputs": [],
   "source": [
    "renovables = consultas('Select \"País\",\"Año\",\"Renovables (% Energía Primaria Equivalente)\" from public.\"sub-energy-fossil-renewables-nuclear\"')"
   ]
  },
  {
   "cell_type": "code",
   "execution_count": null,
   "metadata": {},
   "outputs": [],
   "source": []
  }
 ],
 "metadata": {
  "kernelspec": {
   "display_name": "Python 3.10.5 64-bit (windows store)",
   "language": "python",
   "name": "python3"
  },
  "language_info": {
   "codemirror_mode": {
    "name": "ipython",
    "version": 3
   },
   "file_extension": ".py",
   "mimetype": "text/x-python",
   "name": "python",
   "nbconvert_exporter": "python",
   "pygments_lexer": "ipython3",
   "version": "3.10.5"
  },
  "orig_nbformat": 4,
  "vscode": {
   "interpreter": {
    "hash": "e63d05fab5f4c4f95433353c77133dc816419ae199bbd2e34a8fd9963d5a9dae"
   }
  }
 },
 "nbformat": 4,
 "nbformat_minor": 2
}
