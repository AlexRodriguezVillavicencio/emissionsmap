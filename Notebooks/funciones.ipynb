{
 "cells": [
  {
   "cell_type": "code",
   "execution_count": 1,
   "metadata": {},
   "outputs": [],
   "source": [
    "import pandas as pd\n",
    "import mysql.connector\n",
    "from sqlalchemy import create_engine\n",
    "from googletrans import Translator\n",
    "from select import select\n",
    "import psycopg2\n",
    "\n",
    "from configparser import ConfigParser\n",
    "from pathlib import Path\n",
    "import os"
   ]
  },
  {
   "cell_type": "code",
   "execution_count": 9,
   "metadata": {},
   "outputs": [],
   "source": [
    "def cargaMySql (nombre, dataset):\n",
    "    a = nombre\n",
    "    nombre = dataset\n",
    "    \n",
    "    #Creacion de variables\n",
    "    host_name,db_name, u_name, u_pass, port_num  = \"localhost\",\"proyecto_final\", \"root\", \"contraseña\", \"3306\"\n",
    "    \n",
    "    #Conexion a la db\n",
    "    mydb = mysql.connector.connect(\n",
    "    host=host_name,\n",
    "    user=u_name,\n",
    "    password=u_pass,\n",
    "    database=db_name )\n",
    "    #Creacion del motor de base de datos\n",
    "    engine = create_engine(\"mysql+mysqlconnector://\" + u_name + \":\" + u_pass + \"@\" + host_name + \":\" + port_num + \"/\" + db_name, echo=False)\n",
    "    \n",
    "    #Importacion del dataframe a nuestra base de datos en SQL\n",
    "    nombre.to_sql(name=a, con=engine, if_exists=\"append\", index=False)\n",
    "    return print('Carga exitosa')"
   ]
  },
  {
   "cell_type": "code",
   "execution_count": 10,
   "metadata": {},
   "outputs": [],
   "source": [
    "#Funcion que recibe como parametro una DF para evaluacion de la calidad de los datos de este\n",
    "def calidaDato (data):\n",
    "    df = data\n",
    "    calidad = []\n",
    "    mascara = df.isna().sum() #mascara con la suma d los datos nulos\n",
    "    for i in range(0,len(mascara)):\n",
    "        p = (df.shape[0]- mascara[i]) / df.shape[0] #colum[(total - nulo)/total]\n",
    "        calidad.append([mascara.index[i], round((p*100),2)]) #Agregando el % d ecalidad\n",
    "   \n",
    "    calidad = pd.DataFrame(calidad)\n",
    "    calidad.rename(columns={0:'Columna', 1: 'Calida %'}, inplace=True)\n",
    "    \n",
    "    return calidad"
   ]
  },
  {
   "cell_type": "code",
   "execution_count": null,
   "metadata": {},
   "outputs": [],
   "source": [
    "def generarId (df, colmna):\n",
    "    df = df.sort_values(by=colmna)\n",
    "    n = 0\n",
    "    nombre = \"Id\" + colmna\n",
    "    df[nombre] = n\n",
    "    for i in df[colmna].unique():\n",
    "        n += 1\n",
    "        df.loc[df[colmna] == i, nombre] = n\n",
    "    return df"
   ]
  },
  {
   "cell_type": "code",
   "execution_count": null,
   "metadata": {},
   "outputs": [],
   "source": [
    "def limpieza (df):\n",
    "    translator = Translator()\n",
    "    for i in df.columns:\n",
    "        df.rename(columns={i:translator.translate(i, dest=\"es\").text.title()}, inplace=True)\n",
    "    df.drop(columns=\"Sin Nombre: 0\", inplace=True)\n",
    "\n",
    "    otro = pd.read_csv(\"./owid-co2-data.csv\", delimiter=\",\", encoding=\"utf-8\")\n",
    "    otro = otro[[\"year\",\"country\",\"population\",\"gdp\"]]\n",
    "    df = pd.merge(df, otro, left_on=[\"Año\",\"País\"], right_on=[\"year\",\"country\"], how=\"left\")\n",
    "    df.loc[(df[\"Población\"].isna() == True) & (df[\"population\"].isna() == False), \"Población\"] = df.loc[(df[\"Población\"].isna() == True) & (df[\"population\"].isna() == False)][\"population\"]\n",
    "    df.loc[(df[\"Pib\"].isna() == True) & (df[\"gdp\"].isna() == False), \"Pib\"] = df.loc[(df[\"Pib\"].isna() == True) & (df[\"gdp\"].isna() == False)][\"gdp\"]\n",
    "    df.drop(columns=[\"country\", \"year\", \"population\",\"gdp\"], inplace=True)\n",
    "\n",
    "    df.dropna(subset=[\"Emisión De Co2\"], inplace=True)\n",
    "\n",
    "    for i in df.columns:\n",
    "        if i == \"Tipo_Energia\":\n",
    "            continue\n",
    "        elif \"Energ\" in i:\n",
    "            nom = i + \" \" + \"TWh\"\n",
    "            df[nom] = df[i] / 3.412e+12\n",
    "\n",
    "    return df"
   ]
  },
  {
   "cell_type": "code",
   "execution_count": null,
   "metadata": {},
   "outputs": [],
   "source": [
    "def prueba(path):\n",
    "    with os.scandir(path) as ficheros:\n",
    "        for i in ficheros:\n",
    "            directorio, extencion = os.path.splitext(i)\n",
    "            if extencion == \"\":\n",
    "                prueba(directorio)\n",
    "                continue\n",
    "            else:\n",
    "                if extencion == \".txt\" or extencion == \".csv\":\n",
    "                    ruta = directorio + extencion\n",
    "                    arch = os.path.basename(ruta)\n",
    "                    df = DataFrame2(ruta)\n",
    "                    baseDeDatos(df,arch[:-4])"
   ]
  },
  {
   "cell_type": "code",
   "execution_count": null,
   "metadata": {},
   "outputs": [],
   "source": [
    "#funcion para subir un archivo a una carpeta en especifico\n",
    "def subircsv(nomcarpeta, nomarchivo, extencion, df): #parametros de nomb de carpeta a guadar, nombre del archivo, la extencion(csv) y el dataframe.\n",
    "    df = df\n",
    "    filepath = Path(nomcarpeta + '/' + nomarchivo +'.' + extencion)  \n",
    "    filepath.parent.mkdir(parents=True, exist_ok=True)  #\n",
    "    df.to_csv(filepath) \n",
    "    return print('Archivo cargado exitosamente')"
   ]
  },
  {
   "cell_type": "code",
   "execution_count": null,
   "metadata": {},
   "outputs": [],
   "source": [
    "#funcion para renombra columas de ingles a español\n",
    "def renombracol(data):\n",
    "    data = data\n",
    "    translator = Translator() #metodo de google\n",
    "    for i in data.columns:\n",
    "        b = i.replace('_',' ') #Iteracion para cambiar caracter\n",
    "        data.rename(columns={i:b}, inplace=True) \n",
    "        data.rename(columns={'owner':'owne'}, inplace=True)\n",
    "        \n",
    "    for i in data.columns:\n",
    "        data.rename(columns={i:translator.translate(i, dest=\"es\").text.title()}, inplace=True) #iterecion para obtenr nombre de columna y traducir\n",
    "        \n",
    "    return data"
   ]
  },
  {
   "cell_type": "code",
   "execution_count": null,
   "metadata": {},
   "outputs": [],
   "source": [
    "def subircsv(nomcarpeta, nomarchivo, extencion, df):\n",
    "    df = df\n",
    "    filepath = Path(nomcarpeta + '/' + nomarchivo +'.' + extencion)  \n",
    "    filepath.parent.mkdir(parents=True, exist_ok=True)  \n",
    "    df.to_csv(filepath)"
   ]
  },
  {
   "cell_type": "code",
   "execution_count": null,
   "metadata": {},
   "outputs": [],
   "source": [
    "import hashlib\n",
    "def hash(df,colum):\n",
    "    nom = \"Id\" + colum\n",
    "    if df[colum].dtype == 'int64':\n",
    "        df[colum] = df[colum].astype(str)\n",
    "        df[nom] = df[colum].apply(lambda x: hashlib.md5(x.encode()).hexdigest())\n",
    "        df[colum] = df[colum].astype(int)\n",
    "    else:\n",
    "        df[nom] = df[colum].apply(lambda x: hashlib.md5(x.encode()).hexdigest())"
   ]
  },
  {
   "cell_type": "code",
   "execution_count": 76,
   "metadata": {},
   "outputs": [],
   "source": [
    "def conexionPos():\n",
    "    try:\n",
    "        connection=psycopg2.connect(\n",
    "            host='database-2.ct7rxsgbwels.sa-east-1.rds.amazonaws.com',\n",
    "            user='root',\n",
    "            password='UH39qeH&MN^J5!',\n",
    "            database='Laboratorio'\n",
    "                    )\n",
    "        print('conexion exitosa')\n",
    "        cursor = connection.cursor()\n",
    "        cursor.execute('select version()')\n",
    "        row=cursor.fetchone()\n",
    "        print(row)\n",
    "        cursor.execute('SELECT * FROM public.table_name') # eliminar drop TABLE public.\"Prueba\";\n",
    "        row=cursor.fetchall()\n",
    "            \n",
    "    except Exception as ex:\n",
    "        print(ex)\n",
    "        \n",
    "    finally:\n",
    "        connection.close()\n",
    "    return row "
   ]
  },
  {
   "cell_type": "code",
   "execution_count": null,
   "metadata": {},
   "outputs": [],
   "source": [
    "from sqlalchemy import create_engine\n",
    "from configparser import ConfigParser\n",
    "from pathlib import Path\n",
    "import os\n",
    "\n",
    "#BASE_DIR = Path(__file__).resolve().parent.parent\n",
    "#file = (os.path.join(BASE_DIR.parent,'config.ini'),)\n",
    "config = ConfigParser()\n",
    "file = '../config.ini'\n",
    "config.read(file)\n",
    "\n",
    "USER_BASE = config['database']['user']\n",
    "PASSWORD_BASE = config['database']['passw']\n",
    "DATABASE = config['database']['db']\n",
    "PORT = config['database']['port']\n",
    "HOST = config['database']['host']\n"
   ]
  },
  {
   "cell_type": "code",
   "execution_count": 14,
   "metadata": {},
   "outputs": [],
   "source": [
    "def conexionpotgres():\n",
    "    connection=psycopg2.connect(\n",
    "            host= config['dataBase']['host'],\n",
    "            user=config['dataBase']['user'], \n",
    "            password=config['dataBase']['passw'], \n",
    "            database=config['dataBase']['Laboratorio']\n",
    "                    )\n",
    "        \n",
    "    return print('conexion exitosa')\n"
   ]
  },
  {
   "cell_type": "code",
   "execution_count": null,
   "metadata": {},
   "outputs": [],
   "source": [
    "connection=psycopg2.connect(\n",
    "            host= config['dataBase']['host'],\n",
    "            user=config['dataBase']['user'], \n",
    "            password=config['dataBase']['passw'], \n",
    "            database=config['dataBase']['Laboratorio']\n",
    "                    )"
   ]
  },
  {
   "cell_type": "code",
   "execution_count": 3,
   "metadata": {},
   "outputs": [],
   "source": [
    "import io"
   ]
  },
  {
   "cell_type": "code",
   "execution_count": 4,
   "metadata": {},
   "outputs": [],
   "source": [
    "def cargarTablas(data, nombre):\n",
    "    create_connection = f'postgresql+psycopg2://{USER_BASE}:{PASSWORD_BASE}@{HOST}:{PORT}/{DATABASE}'\n",
    "    engine = create_engine(create_connection)\n",
    "\n",
    "    data.head(0).to_sql(nombre, engine, if_exists='replace',index=False) #drops old table and creates new empty table\n",
    "\n",
    "    conn = engine.raw_connection()\n",
    "    cur = conn.cursor()\n",
    "    output = io.StringIO()\n",
    "    data.to_csv(output, sep='\\t', header=False, index=False)\n",
    "    output.seek(0)\n",
    "    contents = output.getvalue()\n",
    "    cur.copy_from(output, nombre, null='')\n",
    "    \n",
    "    return('Tabala cargadas Exitosamente')"
   ]
  },
  {
   "cell_type": "code",
   "execution_count": null,
   "metadata": {},
   "outputs": [],
   "source": [
    "#Funicon para la obtendion de los indicadores de quantiles\n",
    "def quan(df, nomId, nomQua): #se le pasa dataframe, nombre (ID) y el campo a analizar\n",
    "    lista_id = []\n",
    "    lista_minimo= []\n",
    "    lista_maximo= []\n",
    "    uni = df[nomId].unique()  \n",
    "    i_max = len(df[nomId].unique())\n",
    "    i = 0 \n",
    "     \n",
    "    for id in uni:\n",
    "        i+=1    \n",
    "        q1 = df[df[nomId] == id][nomQua].quantile(0.25) # Cuantil < 25%\n",
    "        mediana = df[df[nomId] == id][nomQua].quantile(0.5) #Media\n",
    "        q3 = df[df[nomId] == id][nomQua].quantile(0.75) # cuantil > 75%\n",
    "        \n",
    "        iqr = q3 - q1 #rango intercuartil\n",
    "        minimo = mediana - 1.5 * iqr # < 15%\n",
    "        maximo = mediana + 1.5 * iqr # > 75%  \n",
    "        if (minimo< 0.001):\n",
    "            minimo= 0.001\n",
    "            \n",
    "        lista_id.append(id)\n",
    "        lista_minimo.append(minimo)\n",
    "        lista_maximo.append(maximo)\n",
    "        \n",
    "        lst = list(zip(lista_id, lista_minimo, lista_maximo))\n",
    "        dfin = pd.DataFrame(lst , columns = [nomId,'minimo','maximo'])   \n",
    "        \n",
    "    \n",
    "        clear_output(wait=True)\n",
    "        print('Completado: ' + str(round(i / i_max * 100, 2)) + '%')\n",
    "    \n",
    "    return dfin"
   ]
  },
  {
   "cell_type": "code",
   "execution_count": null,
   "metadata": {},
   "outputs": [],
   "source": [
    "def evaluacion_calidad_outliers(dato, desde, hasta):\n",
    "    calidad = 'Sin errores'\n",
    "    if (str(dato) == 'nan'):\n",
    "        calidad = 'Valor Nulo'\n",
    "        return calidad\n",
    "    if ((dato < desde) or (dato > hasta)):\n",
    "        calidad = 'Outlier'\n",
    "        return calidad\n",
    "    return calidad\n",
    "\n",
    "def ploteo_Calidad(df, columna, ubicacion):\n",
    "    \"\"\"\n",
    "    Esta función recibe de parámetros un objeto dataframe y el nombre de la columna por la cuál se va a realizar el gráfico\n",
    "    \"\"\"\n",
    "    import matplotlib.pyplot as plt\n",
    "    import seaborn as sns\n",
    "    \n",
    "    test_per = df.groupby(columna).agg(Porcentage =(columna, lambda p: p.count() / df[columna].count() * 100)).round(2)\n",
    "    sns.set_style(\"whitegrid\")\n",
    "    bar,ax = plt.subplots(figsize=(10,6))\n",
    "    ax = sns.barplot(x=test_per.index, y='Porcentage', data=test_per, ci=None, palette=\"pastel\",orient='v', )\n",
    "    ax.set_title(columna, fontsize=15)\n",
    "    ax.set_xlabel (\"Estado\")\n",
    "    ax.set_ylabel (\"Porcentage\")\n",
    "    # calculate the percentages and annotate the sns barplot\n",
    "    for rect in ax.patches:\n",
    "        ax.text (rect.get_x() + rect.get_width() / 2,rect.get_height(),\"%.1f%%\"% rect.get_height(), weight='bold' )\n",
    "    #bar.savefig(ubicacion + '\\\\' + columna + \".png\");\n",
    "    plt.show()"
   ]
  }
 ],
 "metadata": {
  "kernelspec": {
   "display_name": "Python 3.10.4 64-bit",
   "language": "python",
   "name": "python3"
  },
  "language_info": {
   "codemirror_mode": {
    "name": "ipython",
    "version": 3
   },
   "file_extension": ".py",
   "mimetype": "text/x-python",
   "name": "python",
   "nbconvert_exporter": "python",
   "pygments_lexer": "ipython3",
   "version": "3.10.4"
  },
  "orig_nbformat": 4,
  "vscode": {
   "interpreter": {
    "hash": "a42ccb73e7d9bfdf27e036f1d2b8b681e55fc0743cc5586bc2474d4a60f4b886"
   }
  }
 },
 "nbformat": 4,
 "nbformat_minor": 2
}
