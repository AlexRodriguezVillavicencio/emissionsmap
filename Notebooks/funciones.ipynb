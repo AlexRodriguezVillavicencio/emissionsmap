{
 "cells": [
  {
   "cell_type": "code",
   "execution_count": 11,
   "metadata": {},
   "outputs": [],
   "source": [
    "import pandas as pd\n",
    "import mysql.connector\n",
    "from sqlalchemy import create_engine\n",
    "from googletrans import Translator\n",
    "from select import select\n",
    "import psycopg2\n",
    "\n",
    "from configparser import ConfigParser\n",
    "from pathlib import Path\n",
    "import os"
   ]
  },
  {
   "cell_type": "code",
   "execution_count": 9,
   "metadata": {},
   "outputs": [],
   "source": [
    "def cargaMySql (nombre, dataset):\n",
    "    a = nombre\n",
    "    nombre = dataset\n",
    "    \n",
    "    #Creacion de variables\n",
    "    host_name,db_name, u_name, u_pass, port_num  = \"localhost\",\"proyecto_final\", \"root\", \"contraseña\", \"3306\"\n",
    "    \n",
    "    #Conexion a la db\n",
    "    mydb = mysql.connector.connect(\n",
    "    host=host_name,\n",
    "    user=u_name,\n",
    "    password=u_pass,\n",
    "    database=db_name )\n",
    "    #Creacion del motor de base de datos\n",
    "    engine = create_engine(\"mysql+mysqlconnector://\" + u_name + \":\" + u_pass + \"@\" + host_name + \":\" + port_num + \"/\" + db_name, echo=False)\n",
    "    \n",
    "    #Importacion del dataframe a nuestra base de datos en SQL\n",
    "    nombre.to_sql(name=a, con=engine, if_exists=\"append\", index=False)\n",
    "    return print('Carga exitosa')"
   ]
  },
  {
   "cell_type": "code",
   "execution_count": 10,
   "metadata": {},
   "outputs": [],
   "source": [
    "def calidaDato (data):\n",
    "    df = data\n",
    "    calidad = []\n",
    "    mascara = df.isna().sum()\n",
    "    for i in range(0,len(mascara)):\n",
    "        p = (df.shape[0]- mascara[i]) / df.shape[0]\n",
    "        calidad.append([mascara.index[i], round((p*100),2)])\n",
    "   \n",
    "    calidad = pd.DataFrame(calidad)\n",
    "    calidad.rename(columns={0:'Columna', 1: 'Calida %'}, inplace=True)\n",
    "    \n",
    "    return calidad"
   ]
  },
  {
   "cell_type": "code",
   "execution_count": null,
   "metadata": {},
   "outputs": [],
   "source": [
    "def generarId (df, colmna):\n",
    "    df = df.sort_values(by=colmna)\n",
    "    n = 0\n",
    "    nombre = \"Id\" + colmna\n",
    "    df[nombre] = n\n",
    "    for i in df[colmna].unique():\n",
    "        n += 1\n",
    "        df.loc[df[colmna] == i, nombre] = n\n",
    "    return df"
   ]
  },
  {
   "cell_type": "code",
   "execution_count": null,
   "metadata": {},
   "outputs": [],
   "source": [
    "def limpieza (df):\n",
    "    translator = Translator()\n",
    "    for i in df.columns:\n",
    "        df.rename(columns={i:translator.translate(i, dest=\"es\").text.title()}, inplace=True)\n",
    "    df.drop(columns=\"Sin Nombre: 0\", inplace=True)\n",
    "\n",
    "    otro = pd.read_csv(\"./owid-co2-data.csv\", delimiter=\",\", encoding=\"utf-8\")\n",
    "    otro = otro[[\"year\",\"country\",\"population\",\"gdp\"]]\n",
    "    df = pd.merge(df, otro, left_on=[\"Año\",\"País\"], right_on=[\"year\",\"country\"], how=\"left\")\n",
    "    df.loc[(df[\"Población\"].isna() == True) & (df[\"population\"].isna() == False), \"Población\"] = df.loc[(df[\"Población\"].isna() == True) & (df[\"population\"].isna() == False)][\"population\"]\n",
    "    df.loc[(df[\"Pib\"].isna() == True) & (df[\"gdp\"].isna() == False), \"Pib\"] = df.loc[(df[\"Pib\"].isna() == True) & (df[\"gdp\"].isna() == False)][\"gdp\"]\n",
    "    df.drop(columns=[\"country\", \"year\", \"population\",\"gdp\"], inplace=True)\n",
    "\n",
    "    df.dropna(subset=[\"Emisión De Co2\"], inplace=True)\n",
    "\n",
    "    for i in df.columns:\n",
    "        if i == \"Tipo_Energia\":\n",
    "            continue\n",
    "        elif \"Energ\" in i:\n",
    "            nom = i + \" \" + \"TWh\"\n",
    "            df[nom] = df[i] / 3.412e+12\n",
    "\n",
    "    return df"
   ]
  },
  {
   "cell_type": "code",
   "execution_count": null,
   "metadata": {},
   "outputs": [],
   "source": [
    "def prueba(path):\n",
    "    with os.scandir(path) as ficheros:\n",
    "        for i in ficheros:\n",
    "            directorio, extencion = os.path.splitext(i)\n",
    "            if extencion == \"\":\n",
    "                prueba(directorio)\n",
    "                continue\n",
    "            else:\n",
    "                if extencion == \".txt\" or extencion == \".csv\":\n",
    "                    ruta = directorio + extencion\n",
    "                    arch = os.path.basename(ruta)\n",
    "                    df = DataFrame2(ruta)\n",
    "                    baseDeDatos(df,arch[:-4])"
   ]
  },
  {
   "cell_type": "code",
   "execution_count": null,
   "metadata": {},
   "outputs": [],
   "source": [
    "#funcion para subir un archivo a una carpeta en especifico\n",
    "def subircsv(nomcarpeta, nomarchivo, extencion, df):\n",
    "    df = df\n",
    "    filepath = Path(nomcarpeta + '/' + nomarchivo +'.' + extencion)  \n",
    "    filepath.parent.mkdir(parents=True, exist_ok=True)  \n",
    "    df.to_csv(filepath)  "
   ]
  },
  {
   "cell_type": "code",
   "execution_count": null,
   "metadata": {},
   "outputs": [],
   "source": [
    "def renombracol(data):\n",
    "    data = data\n",
    "    translator = Translator()\n",
    "    for i in data.columns:\n",
    "        b = i.replace('_',' ')\n",
    "        data.rename(columns={i:b}, inplace=True)\n",
    "        data.rename(columns={'owner':'owne'}, inplace=True)\n",
    "        \n",
    "    for i in data.columns:\n",
    "        data.rename(columns={i:translator.translate(i, dest=\"es\").text.title()}, inplace=True)\n",
    "        \n",
    "    return data"
   ]
  },
  {
   "cell_type": "code",
   "execution_count": null,
   "metadata": {},
   "outputs": [],
   "source": [
    "def subircsv(nomcarpeta, nomarchivo, extencion, df):\n",
    "    df = df\n",
    "    filepath = Path(nomcarpeta + '/' + nomarchivo +'.' + extencion)  \n",
    "    filepath.parent.mkdir(parents=True, exist_ok=True)  \n",
    "    df.to_csv(filepath)"
   ]
  },
  {
   "cell_type": "code",
   "execution_count": null,
   "metadata": {},
   "outputs": [],
   "source": [
    "import hashlib\n",
    "def hash(df,colum):\n",
    "    nom = \"Id\" + colum\n",
    "    if df[colum].dtype == 'int64':\n",
    "        df[colum] = df[colum].astype(str)\n",
    "        df[nom] = df[colum].apply(lambda x: hashlib.md5(x.encode()).hexdigest())\n",
    "        df[colum] = df[colum].astype(int)\n",
    "    else:\n",
    "        df[nom] = df[colum].apply(lambda x: hashlib.md5(x.encode()).hexdigest())"
   ]
  },
  {
   "cell_type": "code",
   "execution_count": 76,
   "metadata": {},
   "outputs": [],
   "source": [
    "def conexionPos():\n",
    "    try:\n",
    "        connection=psycopg2.connect(\n",
    "            host='database-2.ct7rxsgbwels.sa-east-1.rds.amazonaws.com',\n",
    "            user='root',\n",
    "            password='UH39qeH&MN^J5!',\n",
    "            database='Laboratorio'\n",
    "                    )\n",
    "        print('conexion exitosa')\n",
    "        cursor = connection.cursor()\n",
    "        cursor.execute('select version()')\n",
    "        row=cursor.fetchone()\n",
    "        print(row)\n",
    "        cursor.execute('SELECT * FROM public.table_name') # eliminar drop TABLE public.\"Prueba\";\n",
    "        row=cursor.fetchall()\n",
    "            \n",
    "    except Exception as ex:\n",
    "        print(ex)\n",
    "        \n",
    "    finally:\n",
    "        connection.close()\n",
    "    return row "
   ]
  },
  {
   "cell_type": "code",
   "execution_count": 15,
   "metadata": {},
   "outputs": [],
   "source": [
    "from sqlalchemy import create_engine\n",
    "from configparser import ConfigParser\n",
    "from pathlib import Path\n",
    "import os\n",
    "\n",
    "#BASE_DIR = Path(__file__).resolve().parent.parent\n",
    "#file = (os.path.join(BASE_DIR.parent,'config.ini'),)\n",
    "config = ConfigParser()\n",
    "file = '../config.ini'\n",
    "config.read(file)\n",
    "\n",
    "USER_BASE = config['database']['user']\n",
    "PASSWORD_BASE = config['database']['passw']\n",
    "DATABASE = config['database']['db']\n",
    "PORT = config['database']['port']\n",
    "HOST = config['database']['host']\n"
   ]
  },
  {
   "cell_type": "code",
   "execution_count": 14,
   "metadata": {},
   "outputs": [],
   "source": [
    "def conexionpotgres():\n",
    "    connection=psycopg2.connect(\n",
    "            host= config['dataBase']['host'],\n",
    "            user=config['dataBase']['user'], \n",
    "            password=config['dataBase']['passw'], \n",
    "            database=config['dataBase']['Laboratorio']\n",
    "                    )\n",
    "        \n",
    "    return print('conexion exitosa')\n"
   ]
  },
  {
   "cell_type": "code",
   "execution_count": null,
   "metadata": {},
   "outputs": [],
   "source": [
    "connection=psycopg2.connect(\n",
    "            host= config['dataBase']['host'],\n",
    "            user=config['dataBase']['user'], \n",
    "            password=config['dataBase']['passw'], \n",
    "            database=config['dataBase']['Laboratorio']\n",
    "                    )"
   ]
  },
  {
   "cell_type": "code",
   "execution_count": 12,
   "metadata": {},
   "outputs": [],
   "source": [
    "def elimnarTablas (tabla):\n",
    "    connection=psycopg2.connect(\n",
    "            host='database-2.ct7rxsgbwels.sa-east-1.rds.amazonaws.com',\n",
    "            user='root',\n",
    "            password='UH39qeH&MN^J5!',\n",
    "            database='Laboratorio'\n",
    "                    )\n",
    "    ap = '\"'\n",
    "    cursor = connection.cursor()\n",
    "    cursor.execute('DROP TABLE public.' + tabla) # eliminar drop TABLE public.\"Prueba\";\n",
    "   \n",
    "    return 'a' #row"
   ]
  },
  {
   "cell_type": "code",
   "execution_count": 16,
   "metadata": {},
   "outputs": [],
   "source": [
    "def cargarTablas(data, nombre):\n",
    "    create_connection = f'postgresql+psycopg2://{USER_BASE}:{PASSWORD_BASE}@{HOST}:{PORT}/{DATABASE}'\n",
    "    engine = create_engine(create_connection)\n",
    "\n",
    "    data.head(0).to_sql(nombre, engine, if_exists='replace',index=False) #drops old table and creates new empty table\n",
    "\n",
    "    conn = engine.raw_connection()\n",
    "    cur = conn.cursor()\n",
    "    output = io.StringIO()\n",
    "    data.to_csv(output, sep='\\t', header=False, index=False)\n",
    "    output.seek(0)\n",
    "    contents = output.getvalue()\n",
    "    cur.copy_from(output, nombre, null='')\n",
    "    \n",
    "    return('Tabala cargadas Exitosamente')"
   ]
  }
 ],
 "metadata": {
  "kernelspec": {
   "display_name": "Python 3.10.4 64-bit",
   "language": "python",
   "name": "python3"
  },
  "language_info": {
   "codemirror_mode": {
    "name": "ipython",
    "version": 3
   },
   "file_extension": ".py",
   "mimetype": "text/x-python",
   "name": "python",
   "nbconvert_exporter": "python",
   "pygments_lexer": "ipython3",
   "version": "3.10.4"
  },
  "orig_nbformat": 4,
  "vscode": {
   "interpreter": {
    "hash": "a42ccb73e7d9bfdf27e036f1d2b8b681e55fc0743cc5586bc2474d4a60f4b886"
   }
  }
 },
 "nbformat": 4,
 "nbformat_minor": 2
}
