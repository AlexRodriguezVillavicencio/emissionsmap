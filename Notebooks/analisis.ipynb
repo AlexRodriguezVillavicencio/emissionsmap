{
 "cells": [
  {
   "cell_type": "code",
   "execution_count": 8,
   "metadata": {},
   "outputs": [],
   "source": [
    "import numpy as np\n",
    "import matplotlib.pyplot as plt\n",
    "import matplotlib.colors\n",
    "from mpl_toolkits.mplot3d import axes3d\n",
    "import sklearn.datasets as dt\n",
    "from sklearn.neighbors import KernelDensity\n",
    "import pandas as pd\n",
    "import seaborn as sns\n",
    "sns.set()"
   ]
  },
  {
   "cell_type": "code",
   "execution_count": 3,
   "metadata": {},
   "outputs": [],
   "source": [
    "datos = pd.read_csv('D:\\emissionsmap\\documentation\\data\\energyco2.csv', sep=',', low_memory=False, encoding='utf-8')"
   ]
  },
  {
   "cell_type": "code",
   "execution_count": 4,
   "metadata": {},
   "outputs": [],
   "source": [
    "datosN = pd.read_csv('D:\\emissionsmap\\documentation\\TablasNormal\\Energyco2_Normalizado.csv', sep=',', low_memory=False, encoding='utf-8')"
   ]
  },
  {
   "cell_type": "code",
   "execution_count": 3,
   "metadata": {},
   "outputs": [],
   "source": [
    "def detectar_outliers(df:pd.DataFrame,columna:str,name:str,tecnica='cajas') -> pd.DataFrame:\n",
    "\n",
    "    #Detección por medio de Diagrama de Cajas:\n",
    "    if tecnica == 'cajas':\n",
    "        q1 = df[columna].describe().loc['25%']\n",
    "        q3 = df[columna].describe().loc['75%']\n",
    "        rango_IC = q3 - q1\n",
    "        minimo = q1 - ((1.5) * (rango_IC))\n",
    "        maximo = q3 + ((1.5) * (rango_IC))\n",
    "\n",
    "\n",
    "    #Detección de outliers por medio de las 3 sigmas:\n",
    "    elif tecnica == 'sigmas':\n",
    "        promedio = df[columna].mean()\n",
    "        stddev = df[columna].std()\n",
    "        maximo = promedio + (3 * stddev)\n",
    "        minimo = promedio - (3 * stddev)\n",
    "    df[name] = 1\n",
    "\n",
    "    df[name][(df[columna] > maximo) | (df[columna] < minimo)] = 0\n",
    "    \n",
    "    return df"
   ]
  },
  {
   "cell_type": "code",
   "execution_count": null,
   "metadata": {},
   "outputs": [],
   "source": [
    "energyco2= detectar_outliers(datosN,'Emisión De Co2','Outlier_CO2_emission')"
   ]
  },
  {
   "cell_type": "code",
   "execution_count": 12,
   "metadata": {},
   "outputs": [
    {
     "name": "stderr",
     "output_type": "stream",
     "text": [
      "c:\\Users\\Admin\\AppData\\Local\\Programs\\Python\\Python310\\lib\\site-packages\\seaborn\\_decorators.py:36: FutureWarning: Pass the following variable as a keyword arg: x. From version 0.12, the only valid positional argument will be `data`, and passing other arguments without an explicit keyword will result in an error or misinterpretation.\n",
      "  warnings.warn(\n"
     ]
    },
    {
     "data": {
      "image/png": "[encoded data removed]",
      "text/plain": [
       "<Figure size 432x288 with 1 Axes>"
      ]
     },
     "metadata": {},
     "output_type": "display_data"
    }
   ],
   "source": [
    "sns.boxplot(energyco2['Emisión De Co2'])\n",
    "plt.show()"
   ]
  },
  {
   "cell_type": "code",
   "execution_count": 10,
   "metadata": {},
   "outputs": [],
   "source": [
    "def ploteo_Calidad(df, columna, ubicacion):\n",
    "    \"\"\"\n",
    "    Esta función recibe de parámetros un objeto dataframe y el nombre de la columna por la cuál se va a realizar el gráfico\n",
    "    \"\"\"\n",
    "    import matplotlib.pyplot as plt\n",
    "    import seaborn as sns\n",
    "    \n",
    "    test_per = df.groupby(columna).agg(Porcentage =(columna, lambda p: p.count() / df[columna].count() * 100)).round(2)\n",
    "    sns.set_style(\"whitegrid\")\n",
    "    bar,ax = plt.subplots(figsize=(10,6))\n",
    "    ax = sns.barplot(x=test_per.index, y='Porcentage', data=test_per, ci=None, palette=\"muted\",orient='v', )\n",
    "    ax.set_title(columna, fontsize=15)\n",
    "    ax.set_xlabel (\"Estado\")\n",
    "    ax.set_ylabel (\"Porcentage\")\n",
    "    # calculate the percentages and annotate the sns barplot\n",
    "    for rect in ax.patches:\n",
    "        ax.text (rect.get_x() + rect.get_width() / 2,rect.get_height(),\"%.1f%%\"% rect.get_height(), weight='bold' )\n",
    "    #bar.savefig(ubicacion + '\\\\' + columna + \".png\");\n",
    "    plt.show()"
   ]
  },
  {
   "cell_type": "code",
   "execution_count": null,
   "metadata": {},
   "outputs": [],
   "source": [
    "ploteo_Calidad(datosN, 'Emisión De Co2', '')"
   ]
  },
  {
   "cell_type": "code",
   "execution_count": 6,
   "metadata": {},
   "outputs": [
    {
     "data": {
      "text/html": [
       "<div>\n",
       "<style scoped>\n",
       "    .dataframe tbody tr th:only-of-type {\n",
       "        vertical-align: middle;\n",
       "    }\n",
       "\n",
       "    .dataframe tbody tr th {\n",
       "        vertical-align: top;\n",
       "    }\n",
       "\n",
       "    .dataframe thead th {\n",
       "        text-align: right;\n",
       "    }\n",
       "</style>\n",
       "<table border=\"1\" class=\"dataframe\">\n",
       "  <thead>\n",
       "    <tr style=\"text-align: right;\">\n",
       "      <th></th>\n",
       "      <th>País</th>\n",
       "      <th>Combustible</th>\n",
       "      <th>Año</th>\n",
       "      <th>Consumo De Energía</th>\n",
       "      <th>Producción De Energía</th>\n",
       "      <th>Pib</th>\n",
       "      <th>Población</th>\n",
       "      <th>Intensidad_Energética_Per_Capita</th>\n",
       "      <th>Intensidad_Energética_Por_Pib</th>\n",
       "      <th>Emisión De Co2</th>\n",
       "      <th>Consumo De Energía TWh</th>\n",
       "      <th>Producción De Energía TWh</th>\n",
       "      <th>Intensidad_Energética_Per_Capita TWh</th>\n",
       "      <th>Intensidad_Energética_Por_Pib TWh</th>\n",
       "      <th>Id_Año</th>\n",
       "      <th>Id_País</th>\n",
       "      <th>Id_Combustible</th>\n",
       "    </tr>\n",
       "  </thead>\n",
       "  <tbody>\n",
       "    <tr>\n",
       "      <th>0</th>\n",
       "      <td>World</td>\n",
       "      <td>all energy types</td>\n",
       "      <td>1980</td>\n",
       "      <td>292.899790</td>\n",
       "      <td>296.337228</td>\n",
       "      <td>27770.910281</td>\n",
       "      <td>4.298127e+06</td>\n",
       "      <td>68.145921</td>\n",
       "      <td>10.547</td>\n",
       "      <td>4946.627130</td>\n",
       "      <td>8.584402e-11</td>\n",
       "      <td>8.685147e-11</td>\n",
       "      <td>1.997243e-11</td>\n",
       "      <td>3.091149e-12</td>\n",
       "      <td>f80bf05527157a8c2a7bb63b22f49aaa</td>\n",
       "      <td>f5a7924e621e84c9280a9a27e1bcb7f6</td>\n",
       "      <td>cc8cc099b05d2c44e441a5443da94571</td>\n",
       "    </tr>\n",
       "    <tr>\n",
       "      <th>1</th>\n",
       "      <td>World</td>\n",
       "      <td>Coal</td>\n",
       "      <td>1980</td>\n",
       "      <td>78.656134</td>\n",
       "      <td>80.114194</td>\n",
       "      <td>27770.910281</td>\n",
       "      <td>4.298127e+06</td>\n",
       "      <td>68.145921</td>\n",
       "      <td>10.547</td>\n",
       "      <td>1409.790188</td>\n",
       "      <td>2.305279e-11</td>\n",
       "      <td>2.348013e-11</td>\n",
       "      <td>1.997243e-11</td>\n",
       "      <td>3.091149e-12</td>\n",
       "      <td>f80bf05527157a8c2a7bb63b22f49aaa</td>\n",
       "      <td>f5a7924e621e84c9280a9a27e1bcb7f6</td>\n",
       "      <td>ff8cfc4e6a79e6514be2533a5f5506ad</td>\n",
       "    </tr>\n",
       "    <tr>\n",
       "      <th>2</th>\n",
       "      <td>World</td>\n",
       "      <td>natural gas</td>\n",
       "      <td>1980</td>\n",
       "      <td>53.865223</td>\n",
       "      <td>54.761046</td>\n",
       "      <td>27770.910281</td>\n",
       "      <td>4.298127e+06</td>\n",
       "      <td>68.145921</td>\n",
       "      <td>10.547</td>\n",
       "      <td>1081.593377</td>\n",
       "      <td>1.578699e-11</td>\n",
       "      <td>1.604954e-11</td>\n",
       "      <td>1.997243e-11</td>\n",
       "      <td>3.091149e-12</td>\n",
       "      <td>f80bf05527157a8c2a7bb63b22f49aaa</td>\n",
       "      <td>f5a7924e621e84c9280a9a27e1bcb7f6</td>\n",
       "      <td>400a8f6716375443c853ae0dfd78b768</td>\n",
       "    </tr>\n",
       "    <tr>\n",
       "      <th>3</th>\n",
       "      <td>World</td>\n",
       "      <td>Other</td>\n",
       "      <td>1980</td>\n",
       "      <td>132.064019</td>\n",
       "      <td>133.111109</td>\n",
       "      <td>27770.910281</td>\n",
       "      <td>4.298127e+06</td>\n",
       "      <td>68.145921</td>\n",
       "      <td>10.547</td>\n",
       "      <td>2455.243565</td>\n",
       "      <td>3.870575e-11</td>\n",
       "      <td>3.901263e-11</td>\n",
       "      <td>1.997243e-11</td>\n",
       "      <td>3.091149e-12</td>\n",
       "      <td>f80bf05527157a8c2a7bb63b22f49aaa</td>\n",
       "      <td>f5a7924e621e84c9280a9a27e1bcb7f6</td>\n",
       "      <td>6311ae17c1ee52b36e68aaf4ad066387</td>\n",
       "    </tr>\n",
       "    <tr>\n",
       "      <th>4</th>\n",
       "      <td>World</td>\n",
       "      <td>Nuclear</td>\n",
       "      <td>1980</td>\n",
       "      <td>7.575700</td>\n",
       "      <td>7.575700</td>\n",
       "      <td>27770.910281</td>\n",
       "      <td>4.298127e+06</td>\n",
       "      <td>68.145921</td>\n",
       "      <td>10.547</td>\n",
       "      <td>0.000000</td>\n",
       "      <td>2.220311e-12</td>\n",
       "      <td>2.220311e-12</td>\n",
       "      <td>1.997243e-11</td>\n",
       "      <td>3.091149e-12</td>\n",
       "      <td>f80bf05527157a8c2a7bb63b22f49aaa</td>\n",
       "      <td>f5a7924e621e84c9280a9a27e1bcb7f6</td>\n",
       "      <td>c49e6d739a7a7356e88aa84503666ee9</td>\n",
       "    </tr>\n",
       "  </tbody>\n",
       "</table>\n",
       "</div>"
      ],
      "text/plain": [
       "    País       Combustible   Año  Consumo De Energía  Producción De Energía  \\\n",
       "0  World  all energy types  1980          292.899790             296.337228   \n",
       "1  World              Coal  1980           78.656134              80.114194   \n",
       "2  World       natural gas  1980           53.865223              54.761046   \n",
       "3  World             Other  1980          132.064019             133.111109   \n",
       "4  World           Nuclear  1980            7.575700               7.575700   \n",
       "\n",
       "            Pib     Población  Intensidad_Energética_Per_Capita  \\\n",
       "0  27770.910281  4.298127e+06                         68.145921   \n",
       "1  27770.910281  4.298127e+06                         68.145921   \n",
       "2  27770.910281  4.298127e+06                         68.145921   \n",
       "3  27770.910281  4.298127e+06                         68.145921   \n",
       "4  27770.910281  4.298127e+06                         68.145921   \n",
       "\n",
       "   Intensidad_Energética_Por_Pib  Emisión De Co2  Consumo De Energía TWh  \\\n",
       "0                         10.547     4946.627130            8.584402e-11   \n",
       "1                         10.547     1409.790188            2.305279e-11   \n",
       "2                         10.547     1081.593377            1.578699e-11   \n",
       "3                         10.547     2455.243565            3.870575e-11   \n",
       "4                         10.547        0.000000            2.220311e-12   \n",
       "\n",
       "   Producción De Energía TWh  Intensidad_Energética_Per_Capita TWh  \\\n",
       "0               8.685147e-11                          1.997243e-11   \n",
       "1               2.348013e-11                          1.997243e-11   \n",
       "2               1.604954e-11                          1.997243e-11   \n",
       "3               3.901263e-11                          1.997243e-11   \n",
       "4               2.220311e-12                          1.997243e-11   \n",
       "\n",
       "   Intensidad_Energética_Por_Pib TWh                            Id_Año  \\\n",
       "0                       3.091149e-12  f80bf05527157a8c2a7bb63b22f49aaa   \n",
       "1                       3.091149e-12  f80bf05527157a8c2a7bb63b22f49aaa   \n",
       "2                       3.091149e-12  f80bf05527157a8c2a7bb63b22f49aaa   \n",
       "3                       3.091149e-12  f80bf05527157a8c2a7bb63b22f49aaa   \n",
       "4                       3.091149e-12  f80bf05527157a8c2a7bb63b22f49aaa   \n",
       "\n",
       "                            Id_País                    Id_Combustible  \n",
       "0  f5a7924e621e84c9280a9a27e1bcb7f6  cc8cc099b05d2c44e441a5443da94571  \n",
       "1  f5a7924e621e84c9280a9a27e1bcb7f6  ff8cfc4e6a79e6514be2533a5f5506ad  \n",
       "2  f5a7924e621e84c9280a9a27e1bcb7f6  400a8f6716375443c853ae0dfd78b768  \n",
       "3  f5a7924e621e84c9280a9a27e1bcb7f6  6311ae17c1ee52b36e68aaf4ad066387  \n",
       "4  f5a7924e621e84c9280a9a27e1bcb7f6  c49e6d739a7a7356e88aa84503666ee9  "
      ]
     },
     "execution_count": 6,
     "metadata": {},
     "output_type": "execute_result"
    }
   ],
   "source": [
    "datosN.head()"
   ]
  },
  {
   "cell_type": "code",
   "execution_count": 4,
   "metadata": {},
   "outputs": [
    {
     "data": {
      "text/html": [
       "<div>\n",
       "<style scoped>\n",
       "    .dataframe tbody tr th:only-of-type {\n",
       "        vertical-align: middle;\n",
       "    }\n",
       "\n",
       "    .dataframe tbody tr th {\n",
       "        vertical-align: top;\n",
       "    }\n",
       "\n",
       "    .dataframe thead th {\n",
       "        text-align: right;\n",
       "    }\n",
       "</style>\n",
       "<table border=\"1\" class=\"dataframe\">\n",
       "  <thead>\n",
       "    <tr style=\"text-align: right;\">\n",
       "      <th></th>\n",
       "      <th>Unnamed: 0</th>\n",
       "      <th>Country</th>\n",
       "      <th>Energy_type</th>\n",
       "      <th>Year</th>\n",
       "      <th>Energy_consumption</th>\n",
       "      <th>Energy_production</th>\n",
       "      <th>GDP</th>\n",
       "      <th>Population</th>\n",
       "      <th>Energy_intensity_per_capita</th>\n",
       "      <th>Energy_intensity_by_GDP</th>\n",
       "      <th>CO2_emission</th>\n",
       "    </tr>\n",
       "  </thead>\n",
       "  <tbody>\n",
       "    <tr>\n",
       "      <th>0</th>\n",
       "      <td>0</td>\n",
       "      <td>World</td>\n",
       "      <td>all_energy_types</td>\n",
       "      <td>1980</td>\n",
       "      <td>292.899790</td>\n",
       "      <td>296.337228</td>\n",
       "      <td>27770.910281</td>\n",
       "      <td>4.298127e+06</td>\n",
       "      <td>68.145921</td>\n",
       "      <td>10.547</td>\n",
       "      <td>4946.627130</td>\n",
       "    </tr>\n",
       "    <tr>\n",
       "      <th>1</th>\n",
       "      <td>1</td>\n",
       "      <td>World</td>\n",
       "      <td>coal</td>\n",
       "      <td>1980</td>\n",
       "      <td>78.656134</td>\n",
       "      <td>80.114194</td>\n",
       "      <td>27770.910281</td>\n",
       "      <td>4.298127e+06</td>\n",
       "      <td>68.145921</td>\n",
       "      <td>10.547</td>\n",
       "      <td>1409.790188</td>\n",
       "    </tr>\n",
       "    <tr>\n",
       "      <th>2</th>\n",
       "      <td>2</td>\n",
       "      <td>World</td>\n",
       "      <td>natural_gas</td>\n",
       "      <td>1980</td>\n",
       "      <td>53.865223</td>\n",
       "      <td>54.761046</td>\n",
       "      <td>27770.910281</td>\n",
       "      <td>4.298127e+06</td>\n",
       "      <td>68.145921</td>\n",
       "      <td>10.547</td>\n",
       "      <td>1081.593377</td>\n",
       "    </tr>\n",
       "    <tr>\n",
       "      <th>3</th>\n",
       "      <td>3</td>\n",
       "      <td>World</td>\n",
       "      <td>petroleum_n_other_liquids</td>\n",
       "      <td>1980</td>\n",
       "      <td>132.064019</td>\n",
       "      <td>133.111109</td>\n",
       "      <td>27770.910281</td>\n",
       "      <td>4.298127e+06</td>\n",
       "      <td>68.145921</td>\n",
       "      <td>10.547</td>\n",
       "      <td>2455.243565</td>\n",
       "    </tr>\n",
       "    <tr>\n",
       "      <th>4</th>\n",
       "      <td>4</td>\n",
       "      <td>World</td>\n",
       "      <td>nuclear</td>\n",
       "      <td>1980</td>\n",
       "      <td>7.575700</td>\n",
       "      <td>7.575700</td>\n",
       "      <td>27770.910281</td>\n",
       "      <td>4.298127e+06</td>\n",
       "      <td>68.145921</td>\n",
       "      <td>10.547</td>\n",
       "      <td>0.000000</td>\n",
       "    </tr>\n",
       "  </tbody>\n",
       "</table>\n",
       "</div>"
      ],
      "text/plain": [
       "   Unnamed: 0 Country                Energy_type  Year  Energy_consumption  \\\n",
       "0           0   World           all_energy_types  1980          292.899790   \n",
       "1           1   World                       coal  1980           78.656134   \n",
       "2           2   World                natural_gas  1980           53.865223   \n",
       "3           3   World  petroleum_n_other_liquids  1980          132.064019   \n",
       "4           4   World                    nuclear  1980            7.575700   \n",
       "\n",
       "   Energy_production           GDP    Population  Energy_intensity_per_capita  \\\n",
       "0         296.337228  27770.910281  4.298127e+06                    68.145921   \n",
       "1          80.114194  27770.910281  4.298127e+06                    68.145921   \n",
       "2          54.761046  27770.910281  4.298127e+06                    68.145921   \n",
       "3         133.111109  27770.910281  4.298127e+06                    68.145921   \n",
       "4           7.575700  27770.910281  4.298127e+06                    68.145921   \n",
       "\n",
       "   Energy_intensity_by_GDP  CO2_emission  \n",
       "0                   10.547   4946.627130  \n",
       "1                   10.547   1409.790188  \n",
       "2                   10.547   1081.593377  \n",
       "3                   10.547   2455.243565  \n",
       "4                   10.547      0.000000  "
      ]
     },
     "execution_count": 4,
     "metadata": {},
     "output_type": "execute_result"
    }
   ],
   "source": [
    "datos.head()"
   ]
  },
  {
   "cell_type": "code",
   "execution_count": 94,
   "metadata": {},
   "outputs": [],
   "source": [
    "data= datos[datos['Energy_type'] != 'all energy types']"
   ]
  },
  {
   "cell_type": "code",
   "execution_count": 95,
   "metadata": {},
   "outputs": [],
   "source": [
    "data = data[data['Country'] != 'World']"
   ]
  },
  {
   "cell_type": "code",
   "execution_count": 96,
   "metadata": {},
   "outputs": [
    {
     "data": {
      "text/html": [
       "<div>\n",
       "<style scoped>\n",
       "    .dataframe tbody tr th:only-of-type {\n",
       "        vertical-align: middle;\n",
       "    }\n",
       "\n",
       "    .dataframe tbody tr th {\n",
       "        vertical-align: top;\n",
       "    }\n",
       "\n",
       "    .dataframe thead th {\n",
       "        text-align: right;\n",
       "    }\n",
       "</style>\n",
       "<table border=\"1\" class=\"dataframe\">\n",
       "  <thead>\n",
       "    <tr style=\"text-align: right;\">\n",
       "      <th></th>\n",
       "      <th>Unnamed: 0</th>\n",
       "      <th>Country</th>\n",
       "      <th>Energy_type</th>\n",
       "      <th>Year</th>\n",
       "      <th>Energy_consumption</th>\n",
       "      <th>Energy_production</th>\n",
       "      <th>GDP</th>\n",
       "      <th>Population</th>\n",
       "      <th>Energy_intensity_per_capita</th>\n",
       "      <th>Energy_intensity_by_GDP</th>\n",
       "      <th>CO2_emission</th>\n",
       "    </tr>\n",
       "  </thead>\n",
       "  <tbody>\n",
       "    <tr>\n",
       "      <th>35335</th>\n",
       "      <td>35335</td>\n",
       "      <td>Kyrgyzstan</td>\n",
       "      <td>coal</td>\n",
       "      <td>2005</td>\n",
       "      <td>0.023379</td>\n",
       "      <td>0.005263</td>\n",
       "      <td>15.8198</td>\n",
       "      <td>5075.340</td>\n",
       "      <td>38.704418</td>\n",
       "      <td>12.417229</td>\n",
       "      <td>2.340055</td>\n",
       "    </tr>\n",
       "    <tr>\n",
       "      <th>10710</th>\n",
       "      <td>10710</td>\n",
       "      <td>Reunion</td>\n",
       "      <td>all_energy_types</td>\n",
       "      <td>1987</td>\n",
       "      <td>0.018208</td>\n",
       "      <td>0.005460</td>\n",
       "      <td>NaN</td>\n",
       "      <td>578.938</td>\n",
       "      <td>31.451466</td>\n",
       "      <td>0.000000</td>\n",
       "      <td>0.800000</td>\n",
       "    </tr>\n",
       "    <tr>\n",
       "      <th>4547</th>\n",
       "      <td>4547</td>\n",
       "      <td>Ethiopia</td>\n",
       "      <td>renewables_n_other</td>\n",
       "      <td>1983</td>\n",
       "      <td>0.006554</td>\n",
       "      <td>0.006554</td>\n",
       "      <td>NaN</td>\n",
       "      <td>38142.700</td>\n",
       "      <td>0.996139</td>\n",
       "      <td>0.000000</td>\n",
       "      <td>0.000000</td>\n",
       "    </tr>\n",
       "  </tbody>\n",
       "</table>\n",
       "</div>"
      ],
      "text/plain": [
       "       Unnamed: 0     Country         Energy_type  Year  Energy_consumption  \\\n",
       "35335       35335  Kyrgyzstan                coal  2005            0.023379   \n",
       "10710       10710     Reunion    all_energy_types  1987            0.018208   \n",
       "4547         4547    Ethiopia  renewables_n_other  1983            0.006554   \n",
       "\n",
       "       Energy_production      GDP  Population  Energy_intensity_per_capita  \\\n",
       "35335           0.005263  15.8198    5075.340                    38.704418   \n",
       "10710           0.005460      NaN     578.938                    31.451466   \n",
       "4547            0.006554      NaN   38142.700                     0.996139   \n",
       "\n",
       "       Energy_intensity_by_GDP  CO2_emission  \n",
       "35335                12.417229      2.340055  \n",
       "10710                 0.000000      0.800000  \n",
       "4547                  0.000000      0.000000  "
      ]
     },
     "execution_count": 96,
     "metadata": {},
     "output_type": "execute_result"
    }
   ],
   "source": [
    "data.sample(3)"
   ]
  },
  {
   "cell_type": "code",
   "execution_count": 97,
   "metadata": {},
   "outputs": [
    {
     "data": {
      "text/plain": [
       "Unnamed: 0                         0\n",
       "Country                            0\n",
       "Energy_type                        0\n",
       "Year                               0\n",
       "Energy_consumption             11153\n",
       "Energy_production              11151\n",
       "GDP                            15414\n",
       "Population                      9426\n",
       "Energy_intensity_per_capita     5082\n",
       "Energy_intensity_by_GDP         5082\n",
       "CO2_emission                    3826\n",
       "dtype: int64"
      ]
     },
     "execution_count": 97,
     "metadata": {},
     "output_type": "execute_result"
    }
   ],
   "source": [
    "data.isna().sum()"
   ]
  },
  {
   "cell_type": "code",
   "execution_count": 102,
   "metadata": {},
   "outputs": [],
   "source": [
    "columnas = data.columns"
   ]
  },
  {
   "cell_type": "code",
   "execution_count": 103,
   "metadata": {},
   "outputs": [
    {
     "data": {
      "text/html": [
       "<div>\n",
       "<style scoped>\n",
       "    .dataframe tbody tr th:only-of-type {\n",
       "        vertical-align: middle;\n",
       "    }\n",
       "\n",
       "    .dataframe tbody tr th {\n",
       "        vertical-align: top;\n",
       "    }\n",
       "\n",
       "    .dataframe thead th {\n",
       "        text-align: right;\n",
       "    }\n",
       "</style>\n",
       "<table border=\"1\" class=\"dataframe\">\n",
       "  <thead>\n",
       "    <tr style=\"text-align: right;\">\n",
       "      <th></th>\n",
       "      <th>Unnamed: 0</th>\n",
       "      <th>Country</th>\n",
       "      <th>Energy_type</th>\n",
       "      <th>Year</th>\n",
       "      <th>Energy_consumption</th>\n",
       "      <th>Energy_production</th>\n",
       "      <th>GDP</th>\n",
       "      <th>Population</th>\n",
       "      <th>Energy_intensity_per_capita</th>\n",
       "      <th>Energy_intensity_by_GDP</th>\n",
       "      <th>CO2_emission</th>\n",
       "    </tr>\n",
       "  </thead>\n",
       "  <tbody>\n",
       "    <tr>\n",
       "      <th>6</th>\n",
       "      <td>6</td>\n",
       "      <td>Afghanistan</td>\n",
       "      <td>all_energy_types</td>\n",
       "      <td>1980</td>\n",
       "      <td>0.026583</td>\n",
       "      <td>0.072561</td>\n",
       "      <td>NaN</td>\n",
       "      <td>13356.5</td>\n",
       "      <td>1.990283</td>\n",
       "      <td>0.000000</td>\n",
       "      <td>NaN</td>\n",
       "    </tr>\n",
       "    <tr>\n",
       "      <th>7</th>\n",
       "      <td>7</td>\n",
       "      <td>Afghanistan</td>\n",
       "      <td>coal</td>\n",
       "      <td>1980</td>\n",
       "      <td>0.002479</td>\n",
       "      <td>0.002355</td>\n",
       "      <td>NaN</td>\n",
       "      <td>13356.5</td>\n",
       "      <td>1.990283</td>\n",
       "      <td>0.000000</td>\n",
       "      <td>NaN</td>\n",
       "    </tr>\n",
       "    <tr>\n",
       "      <th>8</th>\n",
       "      <td>8</td>\n",
       "      <td>Afghanistan</td>\n",
       "      <td>natural_gas</td>\n",
       "      <td>1980</td>\n",
       "      <td>0.002094</td>\n",
       "      <td>0.062820</td>\n",
       "      <td>NaN</td>\n",
       "      <td>13356.5</td>\n",
       "      <td>1.990283</td>\n",
       "      <td>0.000000</td>\n",
       "      <td>NaN</td>\n",
       "    </tr>\n",
       "    <tr>\n",
       "      <th>9</th>\n",
       "      <td>9</td>\n",
       "      <td>Afghanistan</td>\n",
       "      <td>petroleum_n_other_liquids</td>\n",
       "      <td>1980</td>\n",
       "      <td>0.014624</td>\n",
       "      <td>0.000000</td>\n",
       "      <td>NaN</td>\n",
       "      <td>13356.5</td>\n",
       "      <td>1.990283</td>\n",
       "      <td>0.000000</td>\n",
       "      <td>NaN</td>\n",
       "    </tr>\n",
       "    <tr>\n",
       "      <th>10</th>\n",
       "      <td>10</td>\n",
       "      <td>Afghanistan</td>\n",
       "      <td>nuclear</td>\n",
       "      <td>1980</td>\n",
       "      <td>NaN</td>\n",
       "      <td>NaN</td>\n",
       "      <td>NaN</td>\n",
       "      <td>13356.5</td>\n",
       "      <td>1.990283</td>\n",
       "      <td>0.000000</td>\n",
       "      <td>0.000000</td>\n",
       "    </tr>\n",
       "    <tr>\n",
       "      <th>...</th>\n",
       "      <td>...</td>\n",
       "      <td>...</td>\n",
       "      <td>...</td>\n",
       "      <td>...</td>\n",
       "      <td>...</td>\n",
       "      <td>...</td>\n",
       "      <td>...</td>\n",
       "      <td>...</td>\n",
       "      <td>...</td>\n",
       "      <td>...</td>\n",
       "      <td>...</td>\n",
       "    </tr>\n",
       "    <tr>\n",
       "      <th>55435</th>\n",
       "      <td>55435</td>\n",
       "      <td>Zimbabwe</td>\n",
       "      <td>coal</td>\n",
       "      <td>2019</td>\n",
       "      <td>0.045064</td>\n",
       "      <td>0.075963</td>\n",
       "      <td>37.6204</td>\n",
       "      <td>14654.2</td>\n",
       "      <td>11.508701</td>\n",
       "      <td>4.482962</td>\n",
       "      <td>4.586869</td>\n",
       "    </tr>\n",
       "    <tr>\n",
       "      <th>55436</th>\n",
       "      <td>55436</td>\n",
       "      <td>Zimbabwe</td>\n",
       "      <td>natural_gas</td>\n",
       "      <td>2019</td>\n",
       "      <td>0.000000</td>\n",
       "      <td>0.000000</td>\n",
       "      <td>37.6204</td>\n",
       "      <td>14654.2</td>\n",
       "      <td>11.508701</td>\n",
       "      <td>4.482962</td>\n",
       "      <td>0.000000</td>\n",
       "    </tr>\n",
       "    <tr>\n",
       "      <th>55437</th>\n",
       "      <td>55437</td>\n",
       "      <td>Zimbabwe</td>\n",
       "      <td>petroleum_n_other_liquids</td>\n",
       "      <td>2019</td>\n",
       "      <td>0.055498</td>\n",
       "      <td>0.000000</td>\n",
       "      <td>37.6204</td>\n",
       "      <td>14654.2</td>\n",
       "      <td>11.508701</td>\n",
       "      <td>4.482962</td>\n",
       "      <td>4.377890</td>\n",
       "    </tr>\n",
       "    <tr>\n",
       "      <th>55438</th>\n",
       "      <td>55438</td>\n",
       "      <td>Zimbabwe</td>\n",
       "      <td>nuclear</td>\n",
       "      <td>2019</td>\n",
       "      <td>NaN</td>\n",
       "      <td>NaN</td>\n",
       "      <td>37.6204</td>\n",
       "      <td>14654.2</td>\n",
       "      <td>11.508701</td>\n",
       "      <td>4.482962</td>\n",
       "      <td>0.000000</td>\n",
       "    </tr>\n",
       "    <tr>\n",
       "      <th>55439</th>\n",
       "      <td>55439</td>\n",
       "      <td>Zimbabwe</td>\n",
       "      <td>renewables_n_other</td>\n",
       "      <td>2019</td>\n",
       "      <td>0.068089</td>\n",
       "      <td>0.067499</td>\n",
       "      <td>37.6204</td>\n",
       "      <td>14654.2</td>\n",
       "      <td>11.508701</td>\n",
       "      <td>4.482962</td>\n",
       "      <td>0.000000</td>\n",
       "    </tr>\n",
       "  </tbody>\n",
       "</table>\n",
       "<p>55200 rows × 11 columns</p>\n",
       "</div>"
      ],
      "text/plain": [
       "       Unnamed: 0      Country                Energy_type  Year  \\\n",
       "6               6  Afghanistan           all_energy_types  1980   \n",
       "7               7  Afghanistan                       coal  1980   \n",
       "8               8  Afghanistan                natural_gas  1980   \n",
       "9               9  Afghanistan  petroleum_n_other_liquids  1980   \n",
       "10             10  Afghanistan                    nuclear  1980   \n",
       "...           ...          ...                        ...   ...   \n",
       "55435       55435     Zimbabwe                       coal  2019   \n",
       "55436       55436     Zimbabwe                natural_gas  2019   \n",
       "55437       55437     Zimbabwe  petroleum_n_other_liquids  2019   \n",
       "55438       55438     Zimbabwe                    nuclear  2019   \n",
       "55439       55439     Zimbabwe         renewables_n_other  2019   \n",
       "\n",
       "       Energy_consumption  Energy_production      GDP  Population  \\\n",
       "6                0.026583           0.072561      NaN     13356.5   \n",
       "7                0.002479           0.002355      NaN     13356.5   \n",
       "8                0.002094           0.062820      NaN     13356.5   \n",
       "9                0.014624           0.000000      NaN     13356.5   \n",
       "10                    NaN                NaN      NaN     13356.5   \n",
       "...                   ...                ...      ...         ...   \n",
       "55435            0.045064           0.075963  37.6204     14654.2   \n",
       "55436            0.000000           0.000000  37.6204     14654.2   \n",
       "55437            0.055498           0.000000  37.6204     14654.2   \n",
       "55438                 NaN                NaN  37.6204     14654.2   \n",
       "55439            0.068089           0.067499  37.6204     14654.2   \n",
       "\n",
       "       Energy_intensity_per_capita  Energy_intensity_by_GDP  CO2_emission  \n",
       "6                         1.990283                 0.000000           NaN  \n",
       "7                         1.990283                 0.000000           NaN  \n",
       "8                         1.990283                 0.000000           NaN  \n",
       "9                         1.990283                 0.000000           NaN  \n",
       "10                        1.990283                 0.000000      0.000000  \n",
       "...                            ...                      ...           ...  \n",
       "55435                    11.508701                 4.482962      4.586869  \n",
       "55436                    11.508701                 4.482962      0.000000  \n",
       "55437                    11.508701                 4.482962      4.377890  \n",
       "55438                    11.508701                 4.482962      0.000000  \n",
       "55439                    11.508701                 4.482962      0.000000  \n",
       "\n",
       "[55200 rows x 11 columns]"
      ]
     },
     "execution_count": 103,
     "metadata": {},
     "output_type": "execute_result"
    }
   ],
   "source": [
    "data"
   ]
  },
  {
   "cell_type": "code",
   "execution_count": 98,
   "metadata": {},
   "outputs": [],
   "source": [
    "datos = pd.read_csv('D:\\emissionsmap\\documentation\\TablasNormal\\Energyco2_Normalizado.csv', sep=',', low_memory=False, encoding='utf-8')"
   ]
  },
  {
   "cell_type": "code",
   "execution_count": 101,
   "metadata": {},
   "outputs": [
    {
     "data": {
      "text/plain": [
       "(array([5.1381e+04, 9.4000e+01, 6.9000e+01, 2.2000e+01, 9.0000e+00,\n",
       "        8.0000e+00, 1.4000e+01, 3.0000e+00, 5.0000e+00, 9.0000e+00]),\n",
       " array([-5.13022234e-03,  3.55848873e+03,  7.11698260e+03,  1.06754765e+04,\n",
       "         1.42339703e+04,  1.77924642e+04,  2.13509580e+04,  2.49094519e+04,\n",
       "         2.84679458e+04,  3.20264396e+04,  3.55849335e+04]),\n",
       " <BarContainer object of 10 artists>)"
      ]
     },
     "execution_count": 101,
     "metadata": {},
     "output_type": "execute_result"
    },
    {
     "data": {
      "image/png": "[encoded data removed]",
      "text/plain": [
       "<Figure size 432x288 with 1 Axes>"
      ]
     },
     "metadata": {
      "needs_background": "light"
     },
     "output_type": "display_data"
    }
   ],
   "source": [
    "plt.hist(datos['Emisión De Co2'])"
   ]
  },
  {
   "cell_type": "code",
   "execution_count": 58,
   "metadata": {},
   "outputs": [
    {
     "data": {
      "text/plain": [
       "(array([25., 20., 10., 20., 20., 20., 20., 20., 20., 25.]),\n",
       " array([4298126.5224  , 4639776.976543, 4981427.430686, 5323077.884829,\n",
       "        5664728.338972, 6006378.793115, 6348029.247258, 6689679.701401,\n",
       "        7031330.155544, 7372980.609687, 7714631.06383 ]),\n",
       " <BarContainer object of 10 artists>)"
      ]
     },
     "execution_count": 58,
     "metadata": {},
     "output_type": "execute_result"
    },
    {
     "data": {
      "image/png": "[encoded data removed]",
      "text/plain": [
       "<Figure size 432x288 with 1 Axes>"
      ]
     },
     "metadata": {
      "needs_background": "light"
     },
     "output_type": "display_data"
    }
   ],
   "source": [
    "plt.hist(datos['Población'])"
   ]
  },
  {
   "cell_type": "code",
   "execution_count": 60,
   "metadata": {},
   "outputs": [
    {
     "data": {
      "text/plain": [
       "<matplotlib.collections.PathCollection at 0x2115a2033a0>"
      ]
     },
     "execution_count": 60,
     "metadata": {},
     "output_type": "execute_result"
    },
    {
     "data": {
      "image/png": "[encoded data removed]",
      "text/plain": [
       "<Figure size 432x288 with 1 Axes>"
      ]
     },
     "metadata": {
      "needs_background": "light"
     },
     "output_type": "display_data"
    }
   ],
   "source": [
    "plt.scatter(datos['Año'], datos['Emisión De Co2'], s=200, c=datos['Consumo De Energía'], cmap='Greens')"
   ]
  },
  {
   "cell_type": "code",
   "execution_count": 77,
   "metadata": {},
   "outputs": [],
   "source": [
    "groups = datos.groupby('Combustible')"
   ]
  },
  {
   "cell_type": "code",
   "execution_count": 78,
   "metadata": {},
   "outputs": [
    {
     "data": {
      "text/plain": [
       "<matplotlib.legend.Legend at 0x2115a225d20>"
      ]
     },
     "execution_count": 78,
     "metadata": {},
     "output_type": "execute_result"
    },
    {
     "data": {
      "image/png": "[encoded data removed]",
      "text/plain": [
       "<Figure size 432x288 with 1 Axes>"
      ]
     },
     "metadata": {
      "needs_background": "light"
     },
     "output_type": "display_data"
    }
   ],
   "source": [
    "\n",
    "for name, group in groups:\n",
    "    plt.plot(group['Año'], group['Emisión De Co2'], marker='o', linestyle='', markersize=12, label=name)\n",
    "\n",
    "plt.legend()"
   ]
  },
  {
   "cell_type": "code",
   "execution_count": 17,
   "metadata": {},
   "outputs": [],
   "source": [
    "seed = 11\n",
    "rand_state = 11"
   ]
  },
  {
   "cell_type": "code",
   "execution_count": 18,
   "metadata": {},
   "outputs": [],
   "source": [
    "rand = np.random.RandomState(seed)"
   ]
  },
  {
   "cell_type": "code",
   "execution_count": 19,
   "metadata": {},
   "outputs": [],
   "source": [
    "dis_list = ['uniform', 'normal', 'exponential', 'lognormal', 'chisquare', 'beta']\n",
    "param_list = ['-1,1', '0,1', '1', '2', '0.5', '0.9' ]\n",
    "color_list = ['purple', 'fuchsia', 'blue', 'black', 'red', 'green']"
   ]
  },
  {
   "cell_type": "code",
   "execution_count": null,
   "metadata": {},
   "outputs": [],
   "source": [
    "fig,ax = plt.subplots(nrows=2, ncols=3,figsize=(12,7))\n",
    "plt_ind_list = np.arange(6)+231"
   ]
  },
  {
   "cell_type": "code",
   "execution_count": 21,
   "metadata": {},
   "outputs": [
    {
     "data": {
      "image/png": "[encoded data removed]",
      "text/plain": [
       "<Figure size 432x288 with 6 Axes>"
      ]
     },
     "metadata": {
      "needs_background": "light"
     },
     "output_type": "display_data"
    }
   ],
   "source": [
    "from matplotlib.pyplot import subplot\n",
    "\n",
    "\n",
    "for dist, plt_ind, param,colors in zip(dis_list, plt_ind_list, param_list, color_list):\n",
    "    x = eval('rand.' + dist +'('+ param + ',5000)')\n",
    "    plt.subplot(plt_ind)\n",
    "    plt.hist(x, bins=50, color=colors)\n",
    "    plt.title(dist)\n",
    "    \n",
    "fig.subplots_adjust(hspace=0.4, wspace=.3)\n",
    "plt.suptitle('muestreo de varias distribuciones ', fontsize=20)\n",
    "plt.show()"
   ]
  }
 ],
 "metadata": {
  "kernelspec": {
   "display_name": "Python 3.10.4 64-bit",
   "language": "python",
   "name": "python3"
  },
  "language_info": {
   "codemirror_mode": {
    "name": "ipython",
    "version": 3
   },
   "file_extension": ".py",
   "mimetype": "text/x-python",
   "name": "python",
   "nbconvert_exporter": "python",
   "pygments_lexer": "ipython3",
   "version": "3.10.4"
  },
  "orig_nbformat": 4,
  "vscode": {
   "interpreter": {
    "hash": "a42ccb73e7d9bfdf27e036f1d2b8b681e55fc0743cc5586bc2474d4a60f4b886"
   }
  }
 },
 "nbformat": 4,
 "nbformat_minor": 2
}
