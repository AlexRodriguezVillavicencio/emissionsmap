{
 "cells": [
  {
   "cell_type": "code",
   "execution_count": 1,
   "metadata": {},
   "outputs": [],
   "source": [
    "import numpy as np\n",
    "import matplotlib.pyplot as plt\n",
    "import matplotlib.colors\n",
    "from mpl_toolkits.mplot3d import axes3d\n",
    "import sklearn.datasets as dt\n",
    "from sklearn.neighbors import KernelDensity\n",
    "import pandas as pd\n",
    "import seaborn as sns\n",
    "from IPython.display import clear_output\n",
    "import datetime\n",
    "import hashlib\n",
    "sns.set()"
   ]
  },
  {
   "cell_type": "code",
   "execution_count": 2,
   "metadata": {},
   "outputs": [],
   "source": [
    "def norcampo (df):\n",
    "    \n",
    "    for i in df.columns:\n",
    "        if i == \"Energy_type\":\n",
    "            df.rename(columns={i:\"Combustible\"}, inplace=True)\n",
    "        elif \"Energ\" in i:\n",
    "            nom = i + \" \" + \"TWh\"\n",
    "            df[nom] = df[i] / 3.412e+12\n",
    "\n",
    "    return df"
   ]
  },
  {
   "cell_type": "markdown",
   "metadata": {},
   "source": [
    "D:\\emissionsmap\\documentation\\TablasNormal\\primary-energy.csv"
   ]
  },
  {
   "cell_type": "code",
   "execution_count": 3,
   "metadata": {},
   "outputs": [],
   "source": [
    "datos = pd.read_csv('D:\\emissionsmap\\documentation\\data\\energyco2.csv', sep=',', low_memory=False, encoding='utf-8')"
   ]
  },
  {
   "cell_type": "code",
   "execution_count": 4,
   "metadata": {},
   "outputs": [],
   "source": [
    "datosWorld = datos[(datos['Energy_type'] == 'all_energy_types') & (datos['Country'] != 'World')]\n",
    "datosCountry = datos[(datos['Energy_type'] == 'all_energy_types') & (datos['Country'] == 'World')]"
   ]
  },
  {
   "cell_type": "code",
   "execution_count": 5,
   "metadata": {},
   "outputs": [
    {
     "name": "stderr",
     "output_type": "stream",
     "text": [
      "C:\\Users\\Admin\\AppData\\Local\\Temp\\ipykernel_14596\\1383027141.py:1: SettingWithCopyWarning: \n",
      "A value is trying to be set on a copy of a slice from a DataFrame\n",
      "\n",
      "See the caveats in the documentation: https://pandas.pydata.org/pandas-docs/stable/user_guide/indexing.html#returning-a-view-versus-a-copy\n",
      "  datosWorld.drop(columns={'Unnamed: 0'}, inplace=True)\n"
     ]
    }
   ],
   "source": [
    "datosWorld.drop(columns={'Unnamed: 0'}, inplace=True)\n",
    "#datosCountry.drop(columns={'Unnamed: 0'}, inplace=True)"
   ]
  },
  {
   "cell_type": "code",
   "execution_count": 6,
   "metadata": {},
   "outputs": [
    {
     "data": {
      "text/plain": [
       "Country                           0\n",
       "Energy_type                       0\n",
       "Year                              0\n",
       "Energy_consumption              647\n",
       "Energy_production               647\n",
       "GDP                            2569\n",
       "Population                     1571\n",
       "Energy_intensity_per_capita     847\n",
       "Energy_intensity_by_GDP         847\n",
       "CO2_emission                    869\n",
       "dtype: int64"
      ]
     },
     "execution_count": 6,
     "metadata": {},
     "output_type": "execute_result"
    }
   ],
   "source": [
    "datosWorld.isnull().sum() # cantidad de datos faltantes en cada columna"
   ]
  },
  {
   "cell_type": "code",
   "execution_count": 7,
   "metadata": {},
   "outputs": [
    {
     "data": {
      "text/plain": [
       "7997"
      ]
     },
     "execution_count": 7,
     "metadata": {},
     "output_type": "execute_result"
    }
   ],
   "source": [
    "datosWorld.isnull().sum().sum() #total de datos faltantes"
   ]
  },
  {
   "cell_type": "code",
   "execution_count": 8,
   "metadata": {},
   "outputs": [
    {
     "name": "stdout",
     "output_type": "stream",
     "text": [
      "<class 'pandas.core.frame.DataFrame'>\n",
      "Int64Index: 9200 entries, 6 to 55434\n",
      "Data columns (total 10 columns):\n",
      " #   Column                       Non-Null Count  Dtype  \n",
      "---  ------                       --------------  -----  \n",
      " 0   Country                      9200 non-null   object \n",
      " 1   Energy_type                  9200 non-null   object \n",
      " 2   Year                         9200 non-null   int64  \n",
      " 3   Energy_consumption           8553 non-null   float64\n",
      " 4   Energy_production            8553 non-null   float64\n",
      " 5   GDP                          6631 non-null   float64\n",
      " 6   Population                   7629 non-null   float64\n",
      " 7   Energy_intensity_per_capita  8353 non-null   float64\n",
      " 8   Energy_intensity_by_GDP      8353 non-null   float64\n",
      " 9   CO2_emission                 8331 non-null   float64\n",
      "dtypes: float64(7), int64(1), object(2)\n",
      "memory usage: 790.6+ KB\n"
     ]
    }
   ],
   "source": [
    "datosWorld.info()"
   ]
  },
  {
   "cell_type": "code",
   "execution_count": 9,
   "metadata": {},
   "outputs": [
    {
     "name": "stderr",
     "output_type": "stream",
     "text": [
      "C:\\Users\\Admin\\AppData\\Local\\Temp\\ipykernel_14596\\2450735850.py:1: SettingWithCopyWarning: \n",
      "A value is trying to be set on a copy of a slice from a DataFrame.\n",
      "Try using .loc[row_indexer,col_indexer] = value instead\n",
      "\n",
      "See the caveats in the documentation: https://pandas.pydata.org/pandas-docs/stable/user_guide/indexing.html#returning-a-view-versus-a-copy\n",
      "  datosWorld['Id']  = datosWorld['Year'].apply(lambda x: str(x))\n",
      "C:\\Users\\Admin\\AppData\\Local\\Temp\\ipykernel_14596\\2450735850.py:2: SettingWithCopyWarning: \n",
      "A value is trying to be set on a copy of a slice from a DataFrame.\n",
      "Try using .loc[row_indexer,col_indexer] = value instead\n",
      "\n",
      "See the caveats in the documentation: https://pandas.pydata.org/pandas-docs/stable/user_guide/indexing.html#returning-a-view-versus-a-copy\n",
      "  datosWorld['Id_fin'] = datosWorld['Id'] + datosWorld['Country']\n"
     ]
    }
   ],
   "source": [
    "datosWorld['Id']  = datosWorld['Year'].apply(lambda x: str(x))\n",
    "datosWorld['Id_fin'] = datosWorld['Id'] + datosWorld['Country']"
   ]
  },
  {
   "cell_type": "code",
   "execution_count": 10,
   "metadata": {},
   "outputs": [
    {
     "name": "stderr",
     "output_type": "stream",
     "text": [
      "C:\\Users\\Admin\\AppData\\Local\\Temp\\ipykernel_14596\\518957544.py:1: SettingWithCopyWarning: \n",
      "A value is trying to be set on a copy of a slice from a DataFrame.\n",
      "Try using .loc[row_indexer,col_indexer] = value instead\n",
      "\n",
      "See the caveats in the documentation: https://pandas.pydata.org/pandas-docs/stable/user_guide/indexing.html#returning-a-view-versus-a-copy\n",
      "  datosWorld['Id_hash'] = datosWorld['Id_fin'].apply(lambda x: hashlib.md5(x.encode()).hexdigest())\n"
     ]
    }
   ],
   "source": [
    "datosWorld['Id_hash'] = datosWorld['Id_fin'].apply(lambda x: hashlib.md5(x.encode()).hexdigest())"
   ]
  },
  {
   "cell_type": "code",
   "execution_count": 11,
   "metadata": {},
   "outputs": [],
   "source": [
    "col = datosWorld.pop(\"Id_hash\")\n",
    "datosWorld.insert(3, col.name, col)\n"
   ]
  },
  {
   "cell_type": "code",
   "execution_count": 12,
   "metadata": {},
   "outputs": [],
   "source": [
    "datosWorld = datosWorld.drop(columns=['Id', 'Id_fin'])\n",
    "data_fin = datosWorld"
   ]
  },
  {
   "cell_type": "code",
   "execution_count": 13,
   "metadata": {},
   "outputs": [],
   "source": [
    "datosWorld = datosWorld.drop(columns=['Country', 'Energy_type', 'Year'])"
   ]
  },
  {
   "cell_type": "code",
   "execution_count": 14,
   "metadata": {},
   "outputs": [],
   "source": [
    "datosWorld.reset_index(inplace=True, drop=True)"
   ]
  },
  {
   "cell_type": "code",
   "execution_count": 15,
   "metadata": {},
   "outputs": [
    {
     "data": {
      "text/html": [
       "<div>\n",
       "<style scoped>\n",
       "    .dataframe tbody tr th:only-of-type {\n",
       "        vertical-align: middle;\n",
       "    }\n",
       "\n",
       "    .dataframe tbody tr th {\n",
       "        vertical-align: top;\n",
       "    }\n",
       "\n",
       "    .dataframe thead th {\n",
       "        text-align: right;\n",
       "    }\n",
       "</style>\n",
       "<table border=\"1\" class=\"dataframe\">\n",
       "  <thead>\n",
       "    <tr style=\"text-align: right;\">\n",
       "      <th></th>\n",
       "      <th>Id_hash</th>\n",
       "      <th>Energy_consumption</th>\n",
       "      <th>Energy_production</th>\n",
       "      <th>GDP</th>\n",
       "      <th>Population</th>\n",
       "      <th>Energy_intensity_per_capita</th>\n",
       "      <th>Energy_intensity_by_GDP</th>\n",
       "      <th>CO2_emission</th>\n",
       "    </tr>\n",
       "  </thead>\n",
       "  <tbody>\n",
       "    <tr>\n",
       "      <th>0</th>\n",
       "      <td>2ecafd051f51dfb0f62b8ea2180c2590</td>\n",
       "      <td>0.026583</td>\n",
       "      <td>0.072561</td>\n",
       "      <td>NaN</td>\n",
       "      <td>13356.500</td>\n",
       "      <td>1.990283</td>\n",
       "      <td>0.000000</td>\n",
       "      <td>NaN</td>\n",
       "    </tr>\n",
       "    <tr>\n",
       "      <th>1</th>\n",
       "      <td>3bce3ee1ec02d4da99a91a238fca3cd0</td>\n",
       "      <td>0.162982</td>\n",
       "      <td>0.155562</td>\n",
       "      <td>NaN</td>\n",
       "      <td>2682.700</td>\n",
       "      <td>60.752906</td>\n",
       "      <td>0.000000</td>\n",
       "      <td>NaN</td>\n",
       "    </tr>\n",
       "    <tr>\n",
       "      <th>2</th>\n",
       "      <td>3a0432f7cf6e15e3493e5e061a2acad0</td>\n",
       "      <td>0.780695</td>\n",
       "      <td>2.803017</td>\n",
       "      <td>NaN</td>\n",
       "      <td>19221.700</td>\n",
       "      <td>40.615303</td>\n",
       "      <td>0.000000</td>\n",
       "      <td>NaN</td>\n",
       "    </tr>\n",
       "    <tr>\n",
       "      <th>3</th>\n",
       "      <td>fbbe8dcba0b3ef5aed7328916301e503</td>\n",
       "      <td>0.005893</td>\n",
       "      <td>0.000000</td>\n",
       "      <td>NaN</td>\n",
       "      <td>32.646</td>\n",
       "      <td>180.515604</td>\n",
       "      <td>0.000000</td>\n",
       "      <td>NaN</td>\n",
       "    </tr>\n",
       "    <tr>\n",
       "      <th>4</th>\n",
       "      <td>292a7d7b0907c5eca7e35d3825f09b0b</td>\n",
       "      <td>0.058366</td>\n",
       "      <td>0.335098</td>\n",
       "      <td>NaN</td>\n",
       "      <td>8341.290</td>\n",
       "      <td>6.997257</td>\n",
       "      <td>0.000000</td>\n",
       "      <td>NaN</td>\n",
       "    </tr>\n",
       "    <tr>\n",
       "      <th>...</th>\n",
       "      <td>...</td>\n",
       "      <td>...</td>\n",
       "      <td>...</td>\n",
       "      <td>...</td>\n",
       "      <td>...</td>\n",
       "      <td>...</td>\n",
       "      <td>...</td>\n",
       "      <td>...</td>\n",
       "    </tr>\n",
       "    <tr>\n",
       "      <th>9195</th>\n",
       "      <td>245124a1c823dc26c546284c073a60fb</td>\n",
       "      <td>0.019436</td>\n",
       "      <td>0.000000</td>\n",
       "      <td>NaN</td>\n",
       "      <td>NaN</td>\n",
       "      <td>0.000000</td>\n",
       "      <td>0.000000</td>\n",
       "      <td>1.273787</td>\n",
       "    </tr>\n",
       "    <tr>\n",
       "      <th>9196</th>\n",
       "      <td>4b6bd0969e31290698ac477e04e3a7cc</td>\n",
       "      <td>0.003712</td>\n",
       "      <td>0.000000</td>\n",
       "      <td>NaN</td>\n",
       "      <td>NaN</td>\n",
       "      <td>0.000000</td>\n",
       "      <td>0.000000</td>\n",
       "      <td>0.263038</td>\n",
       "    </tr>\n",
       "    <tr>\n",
       "      <th>9197</th>\n",
       "      <td>5cdac236da06100ca5ed65f07395268e</td>\n",
       "      <td>0.159020</td>\n",
       "      <td>0.133273</td>\n",
       "      <td>53.0838</td>\n",
       "      <td>29162.200</td>\n",
       "      <td>5.452938</td>\n",
       "      <td>2.995635</td>\n",
       "      <td>8.292505</td>\n",
       "    </tr>\n",
       "    <tr>\n",
       "      <th>9198</th>\n",
       "      <td>9bfb0677f9a1f98458fe74f88825dc4f</td>\n",
       "      <td>0.207097</td>\n",
       "      <td>0.148004</td>\n",
       "      <td>247.1819</td>\n",
       "      <td>17873.850</td>\n",
       "      <td>11.586567</td>\n",
       "      <td>0.837831</td>\n",
       "      <td>7.096290</td>\n",
       "    </tr>\n",
       "    <tr>\n",
       "      <th>9199</th>\n",
       "      <td>3997c7c7530d0771409d285a6e1c265a</td>\n",
       "      <td>0.168651</td>\n",
       "      <td>0.143462</td>\n",
       "      <td>37.6204</td>\n",
       "      <td>14654.200</td>\n",
       "      <td>11.508701</td>\n",
       "      <td>4.482962</td>\n",
       "      <td>8.964759</td>\n",
       "    </tr>\n",
       "  </tbody>\n",
       "</table>\n",
       "<p>9200 rows × 8 columns</p>\n",
       "</div>"
      ],
      "text/plain": [
       "                               Id_hash  Energy_consumption  Energy_production  \\\n",
       "0     2ecafd051f51dfb0f62b8ea2180c2590            0.026583           0.072561   \n",
       "1     3bce3ee1ec02d4da99a91a238fca3cd0            0.162982           0.155562   \n",
       "2     3a0432f7cf6e15e3493e5e061a2acad0            0.780695           2.803017   \n",
       "3     fbbe8dcba0b3ef5aed7328916301e503            0.005893           0.000000   \n",
       "4     292a7d7b0907c5eca7e35d3825f09b0b            0.058366           0.335098   \n",
       "...                                ...                 ...                ...   \n",
       "9195  245124a1c823dc26c546284c073a60fb            0.019436           0.000000   \n",
       "9196  4b6bd0969e31290698ac477e04e3a7cc            0.003712           0.000000   \n",
       "9197  5cdac236da06100ca5ed65f07395268e            0.159020           0.133273   \n",
       "9198  9bfb0677f9a1f98458fe74f88825dc4f            0.207097           0.148004   \n",
       "9199  3997c7c7530d0771409d285a6e1c265a            0.168651           0.143462   \n",
       "\n",
       "           GDP  Population  Energy_intensity_per_capita  \\\n",
       "0          NaN   13356.500                     1.990283   \n",
       "1          NaN    2682.700                    60.752906   \n",
       "2          NaN   19221.700                    40.615303   \n",
       "3          NaN      32.646                   180.515604   \n",
       "4          NaN    8341.290                     6.997257   \n",
       "...        ...         ...                          ...   \n",
       "9195       NaN         NaN                     0.000000   \n",
       "9196       NaN         NaN                     0.000000   \n",
       "9197   53.0838   29162.200                     5.452938   \n",
       "9198  247.1819   17873.850                    11.586567   \n",
       "9199   37.6204   14654.200                    11.508701   \n",
       "\n",
       "      Energy_intensity_by_GDP  CO2_emission  \n",
       "0                    0.000000           NaN  \n",
       "1                    0.000000           NaN  \n",
       "2                    0.000000           NaN  \n",
       "3                    0.000000           NaN  \n",
       "4                    0.000000           NaN  \n",
       "...                       ...           ...  \n",
       "9195                 0.000000      1.273787  \n",
       "9196                 0.000000      0.263038  \n",
       "9197                 2.995635      8.292505  \n",
       "9198                 0.837831      7.096290  \n",
       "9199                 4.482962      8.964759  \n",
       "\n",
       "[9200 rows x 8 columns]"
      ]
     },
     "execution_count": 15,
     "metadata": {},
     "output_type": "execute_result"
    }
   ],
   "source": [
    "datosWorld"
   ]
  },
  {
   "cell_type": "code",
   "execution_count": 16,
   "metadata": {},
   "outputs": [],
   "source": [
    "columnas = datosWorld.columns"
   ]
  },
  {
   "cell_type": "code",
   "execution_count": 17,
   "metadata": {},
   "outputs": [],
   "source": [
    "#conjunto de variables de entrada\n",
    "X = datosWorld.iloc[:,1:].values"
   ]
  },
  {
   "cell_type": "code",
   "execution_count": 18,
   "metadata": {},
   "outputs": [
    {
     "data": {
      "text/plain": [
       "array([[2.65832167e-02, 7.25611561e-02,            nan, ...,\n",
       "        1.99028313e+00, 0.00000000e+00,            nan],\n",
       "       [1.62981822e-01, 1.55561620e-01,            nan, ...,\n",
       "        6.07529063e+01, 0.00000000e+00,            nan],\n",
       "       [7.80695167e-01, 2.80301736e+00,            nan, ...,\n",
       "        4.06153029e+01, 0.00000000e+00,            nan],\n",
       "       ...,\n",
       "       [1.59019669e-01, 1.33273097e-01, 5.30838000e+01, ...,\n",
       "        5.45293802e+00, 2.99563462e+00, 8.29250523e+00],\n",
       "       [2.07096557e-01, 1.48003794e-01, 2.47181900e+02, ...,\n",
       "        1.15865668e+01, 8.37830589e-01, 7.09628982e+00],\n",
       "       [1.68650809e-01, 1.43462207e-01, 3.76204000e+01, ...,\n",
       "        1.15087012e+01, 4.48296160e+00, 8.96475902e+00]])"
      ]
     },
     "execution_count": 18,
     "metadata": {},
     "output_type": "execute_result"
    }
   ],
   "source": [
    "X"
   ]
  },
  {
   "cell_type": "code",
   "execution_count": 19,
   "metadata": {},
   "outputs": [],
   "source": [
    "Y = datosWorld.iloc[:,0].values"
   ]
  },
  {
   "cell_type": "code",
   "execution_count": 20,
   "metadata": {},
   "outputs": [
    {
     "data": {
      "text/plain": [
       "array(['2ecafd051f51dfb0f62b8ea2180c2590',\n",
       "       '3bce3ee1ec02d4da99a91a238fca3cd0',\n",
       "       '3a0432f7cf6e15e3493e5e061a2acad0', ...,\n",
       "       '5cdac236da06100ca5ed65f07395268e',\n",
       "       '9bfb0677f9a1f98458fe74f88825dc4f',\n",
       "       '3997c7c7530d0771409d285a6e1c265a'], dtype=object)"
      ]
     },
     "execution_count": 20,
     "metadata": {},
     "output_type": "execute_result"
    }
   ],
   "source": [
    "Y"
   ]
  },
  {
   "cell_type": "code",
   "execution_count": 21,
   "metadata": {},
   "outputs": [],
   "source": [
    "from sklearn.model_selection import train_test_split"
   ]
  },
  {
   "cell_type": "code",
   "execution_count": 22,
   "metadata": {},
   "outputs": [],
   "source": [
    "X_train, X_test, Y_train, Y_test = train_test_split(X, Y, test_size=0.20)"
   ]
  },
  {
   "cell_type": "code",
   "execution_count": 23,
   "metadata": {},
   "outputs": [],
   "source": [
    "from sklearn.impute import KNNImputer"
   ]
  },
  {
   "cell_type": "code",
   "execution_count": 24,
   "metadata": {},
   "outputs": [],
   "source": [
    "imputer = KNNImputer(n_neighbors=5, weights='uniform', metric='nan_euclidean')"
   ]
  },
  {
   "cell_type": "code",
   "execution_count": 25,
   "metadata": {},
   "outputs": [],
   "source": [
    "X_train = imputer.fit_transform(X_train)\n",
    "X_test = imputer.transform(X_test)"
   ]
  },
  {
   "cell_type": "code",
   "execution_count": 26,
   "metadata": {},
   "outputs": [],
   "source": [
    "X_train = pd.DataFrame(X_train)\n",
    "X_test = pd.DataFrame(X_test)\n",
    "Y_train = pd.DataFrame(Y_train)\n",
    "Y_test = pd.DataFrame(Y_test)"
   ]
  },
  {
   "cell_type": "code",
   "execution_count": 27,
   "metadata": {},
   "outputs": [],
   "source": [
    "X = pd.concat([X_train, X_test], axis=0)\n",
    "Y = pd.concat([Y_train, Y_test], axis=0)"
   ]
  },
  {
   "cell_type": "code",
   "execution_count": 28,
   "metadata": {},
   "outputs": [
    {
     "data": {
      "text/html": [
       "<div>\n",
       "<style scoped>\n",
       "    .dataframe tbody tr th:only-of-type {\n",
       "        vertical-align: middle;\n",
       "    }\n",
       "\n",
       "    .dataframe tbody tr th {\n",
       "        vertical-align: top;\n",
       "    }\n",
       "\n",
       "    .dataframe thead th {\n",
       "        text-align: right;\n",
       "    }\n",
       "</style>\n",
       "<table border=\"1\" class=\"dataframe\">\n",
       "  <thead>\n",
       "    <tr style=\"text-align: right;\">\n",
       "      <th></th>\n",
       "      <th>0</th>\n",
       "      <th>1</th>\n",
       "      <th>2</th>\n",
       "      <th>3</th>\n",
       "      <th>4</th>\n",
       "      <th>5</th>\n",
       "      <th>6</th>\n",
       "    </tr>\n",
       "  </thead>\n",
       "  <tbody>\n",
       "    <tr>\n",
       "      <th>0</th>\n",
       "      <td>0.060156</td>\n",
       "      <td>0.047512</td>\n",
       "      <td>24.489900</td>\n",
       "      <td>6046.630</td>\n",
       "      <td>9.948725</td>\n",
       "      <td>2.456370</td>\n",
       "      <td>0.589694</td>\n",
       "    </tr>\n",
       "    <tr>\n",
       "      <th>1</th>\n",
       "      <td>0.011389</td>\n",
       "      <td>0.007745</td>\n",
       "      <td>2.449950</td>\n",
       "      <td>345.707</td>\n",
       "      <td>32.944084</td>\n",
       "      <td>4.648667</td>\n",
       "      <td>0.476432</td>\n",
       "    </tr>\n",
       "    <tr>\n",
       "      <th>2</th>\n",
       "      <td>0.281137</td>\n",
       "      <td>0.140222</td>\n",
       "      <td>67.420600</td>\n",
       "      <td>2065.900</td>\n",
       "      <td>136.084723</td>\n",
       "      <td>4.169904</td>\n",
       "      <td>12.808097</td>\n",
       "    </tr>\n",
       "    <tr>\n",
       "      <th>3</th>\n",
       "      <td>0.250074</td>\n",
       "      <td>0.133071</td>\n",
       "      <td>36.120100</td>\n",
       "      <td>1989.480</td>\n",
       "      <td>125.698324</td>\n",
       "      <td>6.923411</td>\n",
       "      <td>13.835169</td>\n",
       "    </tr>\n",
       "    <tr>\n",
       "      <th>4</th>\n",
       "      <td>0.129607</td>\n",
       "      <td>0.125356</td>\n",
       "      <td>34.708700</td>\n",
       "      <td>2886.430</td>\n",
       "      <td>44.902313</td>\n",
       "      <td>3.734147</td>\n",
       "      <td>3.913786</td>\n",
       "    </tr>\n",
       "    <tr>\n",
       "      <th>...</th>\n",
       "      <td>...</td>\n",
       "      <td>...</td>\n",
       "      <td>...</td>\n",
       "      <td>...</td>\n",
       "      <td>...</td>\n",
       "      <td>...</td>\n",
       "      <td>...</td>\n",
       "    </tr>\n",
       "    <tr>\n",
       "      <th>1835</th>\n",
       "      <td>0.002405</td>\n",
       "      <td>0.000049</td>\n",
       "      <td>1.817910</td>\n",
       "      <td>689.696</td>\n",
       "      <td>3.486407</td>\n",
       "      <td>1.322706</td>\n",
       "      <td>0.200000</td>\n",
       "    </tr>\n",
       "    <tr>\n",
       "      <th>1836</th>\n",
       "      <td>0.010710</td>\n",
       "      <td>0.000000</td>\n",
       "      <td>14.370044</td>\n",
       "      <td>3707.510</td>\n",
       "      <td>2.888800</td>\n",
       "      <td>0.000000</td>\n",
       "      <td>0.700000</td>\n",
       "    </tr>\n",
       "    <tr>\n",
       "      <th>1837</th>\n",
       "      <td>0.011852</td>\n",
       "      <td>0.000000</td>\n",
       "      <td>6.169298</td>\n",
       "      <td>347.754</td>\n",
       "      <td>34.081319</td>\n",
       "      <td>0.000000</td>\n",
       "      <td>0.800000</td>\n",
       "    </tr>\n",
       "    <tr>\n",
       "      <th>1838</th>\n",
       "      <td>0.002714</td>\n",
       "      <td>0.000000</td>\n",
       "      <td>1.611350</td>\n",
       "      <td>913.404</td>\n",
       "      <td>2.971643</td>\n",
       "      <td>1.684495</td>\n",
       "      <td>0.100000</td>\n",
       "    </tr>\n",
       "    <tr>\n",
       "      <th>1839</th>\n",
       "      <td>100.893363</td>\n",
       "      <td>71.338069</td>\n",
       "      <td>16356.750000</td>\n",
       "      <td>301157.000</td>\n",
       "      <td>335.019153</td>\n",
       "      <td>6.168301</td>\n",
       "      <td>5929.329204</td>\n",
       "    </tr>\n",
       "  </tbody>\n",
       "</table>\n",
       "<p>9200 rows × 7 columns</p>\n",
       "</div>"
      ],
      "text/plain": [
       "               0          1             2           3           4         5  \\\n",
       "0       0.060156   0.047512     24.489900    6046.630    9.948725  2.456370   \n",
       "1       0.011389   0.007745      2.449950     345.707   32.944084  4.648667   \n",
       "2       0.281137   0.140222     67.420600    2065.900  136.084723  4.169904   \n",
       "3       0.250074   0.133071     36.120100    1989.480  125.698324  6.923411   \n",
       "4       0.129607   0.125356     34.708700    2886.430   44.902313  3.734147   \n",
       "...          ...        ...           ...         ...         ...       ...   \n",
       "1835    0.002405   0.000049      1.817910     689.696    3.486407  1.322706   \n",
       "1836    0.010710   0.000000     14.370044    3707.510    2.888800  0.000000   \n",
       "1837    0.011852   0.000000      6.169298     347.754   34.081319  0.000000   \n",
       "1838    0.002714   0.000000      1.611350     913.404    2.971643  1.684495   \n",
       "1839  100.893363  71.338069  16356.750000  301157.000  335.019153  6.168301   \n",
       "\n",
       "                6  \n",
       "0        0.589694  \n",
       "1        0.476432  \n",
       "2       12.808097  \n",
       "3       13.835169  \n",
       "4        3.913786  \n",
       "...           ...  \n",
       "1835     0.200000  \n",
       "1836     0.700000  \n",
       "1837     0.800000  \n",
       "1838     0.100000  \n",
       "1839  5929.329204  \n",
       "\n",
       "[9200 rows x 7 columns]"
      ]
     },
     "execution_count": 28,
     "metadata": {},
     "output_type": "execute_result"
    }
   ],
   "source": [
    "X"
   ]
  },
  {
   "cell_type": "code",
   "execution_count": 29,
   "metadata": {},
   "outputs": [
    {
     "data": {
      "text/html": [
       "<div>\n",
       "<style scoped>\n",
       "    .dataframe tbody tr th:only-of-type {\n",
       "        vertical-align: middle;\n",
       "    }\n",
       "\n",
       "    .dataframe tbody tr th {\n",
       "        vertical-align: top;\n",
       "    }\n",
       "\n",
       "    .dataframe thead th {\n",
       "        text-align: right;\n",
       "    }\n",
       "</style>\n",
       "<table border=\"1\" class=\"dataframe\">\n",
       "  <thead>\n",
       "    <tr style=\"text-align: right;\">\n",
       "      <th></th>\n",
       "      <th>0</th>\n",
       "    </tr>\n",
       "  </thead>\n",
       "  <tbody>\n",
       "    <tr>\n",
       "      <th>0</th>\n",
       "      <td>70e3737a24b69110028c01798c59d365</td>\n",
       "    </tr>\n",
       "    <tr>\n",
       "      <th>1</th>\n",
       "      <td>4ba265962cfb21cf95d71d9764100aa0</td>\n",
       "    </tr>\n",
       "    <tr>\n",
       "      <th>2</th>\n",
       "      <td>b08dc2cc47d955166f23c0549bb79361</td>\n",
       "    </tr>\n",
       "    <tr>\n",
       "      <th>3</th>\n",
       "      <td>13dbbec7c590b51c0af830a1e75fe86a</td>\n",
       "    </tr>\n",
       "    <tr>\n",
       "      <th>4</th>\n",
       "      <td>dd9bc7abdf9ac35c262ef8b1780033e2</td>\n",
       "    </tr>\n",
       "    <tr>\n",
       "      <th>...</th>\n",
       "      <td>...</td>\n",
       "    </tr>\n",
       "    <tr>\n",
       "      <th>1835</th>\n",
       "      <td>0253e7c57f6d106983427f71da6ba4ae</td>\n",
       "    </tr>\n",
       "    <tr>\n",
       "      <th>1836</th>\n",
       "      <td>1c9ccd70b93a2f8aa94b91e742d25a8f</td>\n",
       "    </tr>\n",
       "    <tr>\n",
       "      <th>1837</th>\n",
       "      <td>7248313342e5843324cb37f12d913edc</td>\n",
       "    </tr>\n",
       "    <tr>\n",
       "      <th>1838</th>\n",
       "      <td>49f1d37766ee34d702ede384779989bb</td>\n",
       "    </tr>\n",
       "    <tr>\n",
       "      <th>1839</th>\n",
       "      <td>76c7ebe5b577e0cbf4ff59f137c45bfd</td>\n",
       "    </tr>\n",
       "  </tbody>\n",
       "</table>\n",
       "<p>9200 rows × 1 columns</p>\n",
       "</div>"
      ],
      "text/plain": [
       "                                     0\n",
       "0     70e3737a24b69110028c01798c59d365\n",
       "1     4ba265962cfb21cf95d71d9764100aa0\n",
       "2     b08dc2cc47d955166f23c0549bb79361\n",
       "3     13dbbec7c590b51c0af830a1e75fe86a\n",
       "4     dd9bc7abdf9ac35c262ef8b1780033e2\n",
       "...                                ...\n",
       "1835  0253e7c57f6d106983427f71da6ba4ae\n",
       "1836  1c9ccd70b93a2f8aa94b91e742d25a8f\n",
       "1837  7248313342e5843324cb37f12d913edc\n",
       "1838  49f1d37766ee34d702ede384779989bb\n",
       "1839  76c7ebe5b577e0cbf4ff59f137c45bfd\n",
       "\n",
       "[9200 rows x 1 columns]"
      ]
     },
     "execution_count": 29,
     "metadata": {},
     "output_type": "execute_result"
    }
   ],
   "source": [
    "Y"
   ]
  },
  {
   "cell_type": "code",
   "execution_count": 30,
   "metadata": {},
   "outputs": [],
   "source": [
    "data = pd.concat([Y, X], axis=1)"
   ]
  },
  {
   "cell_type": "code",
   "execution_count": 31,
   "metadata": {},
   "outputs": [
    {
     "data": {
      "text/html": [
       "<div>\n",
       "<style scoped>\n",
       "    .dataframe tbody tr th:only-of-type {\n",
       "        vertical-align: middle;\n",
       "    }\n",
       "\n",
       "    .dataframe tbody tr th {\n",
       "        vertical-align: top;\n",
       "    }\n",
       "\n",
       "    .dataframe thead th {\n",
       "        text-align: right;\n",
       "    }\n",
       "</style>\n",
       "<table border=\"1\" class=\"dataframe\">\n",
       "  <thead>\n",
       "    <tr style=\"text-align: right;\">\n",
       "      <th></th>\n",
       "      <th>0</th>\n",
       "      <th>0</th>\n",
       "      <th>1</th>\n",
       "      <th>2</th>\n",
       "      <th>3</th>\n",
       "      <th>4</th>\n",
       "      <th>5</th>\n",
       "      <th>6</th>\n",
       "    </tr>\n",
       "  </thead>\n",
       "  <tbody>\n",
       "    <tr>\n",
       "      <th>0</th>\n",
       "      <td>70e3737a24b69110028c01798c59d365</td>\n",
       "      <td>0.060156</td>\n",
       "      <td>0.047512</td>\n",
       "      <td>24.489900</td>\n",
       "      <td>6046.630</td>\n",
       "      <td>9.948725</td>\n",
       "      <td>2.456370</td>\n",
       "      <td>0.589694</td>\n",
       "    </tr>\n",
       "    <tr>\n",
       "      <th>1</th>\n",
       "      <td>4ba265962cfb21cf95d71d9764100aa0</td>\n",
       "      <td>0.011389</td>\n",
       "      <td>0.007745</td>\n",
       "      <td>2.449950</td>\n",
       "      <td>345.707</td>\n",
       "      <td>32.944084</td>\n",
       "      <td>4.648667</td>\n",
       "      <td>0.476432</td>\n",
       "    </tr>\n",
       "    <tr>\n",
       "      <th>2</th>\n",
       "      <td>b08dc2cc47d955166f23c0549bb79361</td>\n",
       "      <td>0.281137</td>\n",
       "      <td>0.140222</td>\n",
       "      <td>67.420600</td>\n",
       "      <td>2065.900</td>\n",
       "      <td>136.084723</td>\n",
       "      <td>4.169904</td>\n",
       "      <td>12.808097</td>\n",
       "    </tr>\n",
       "    <tr>\n",
       "      <th>3</th>\n",
       "      <td>13dbbec7c590b51c0af830a1e75fe86a</td>\n",
       "      <td>0.250074</td>\n",
       "      <td>0.133071</td>\n",
       "      <td>36.120100</td>\n",
       "      <td>1989.480</td>\n",
       "      <td>125.698324</td>\n",
       "      <td>6.923411</td>\n",
       "      <td>13.835169</td>\n",
       "    </tr>\n",
       "    <tr>\n",
       "      <th>4</th>\n",
       "      <td>dd9bc7abdf9ac35c262ef8b1780033e2</td>\n",
       "      <td>0.129607</td>\n",
       "      <td>0.125356</td>\n",
       "      <td>34.708700</td>\n",
       "      <td>2886.430</td>\n",
       "      <td>44.902313</td>\n",
       "      <td>3.734147</td>\n",
       "      <td>3.913786</td>\n",
       "    </tr>\n",
       "    <tr>\n",
       "      <th>...</th>\n",
       "      <td>...</td>\n",
       "      <td>...</td>\n",
       "      <td>...</td>\n",
       "      <td>...</td>\n",
       "      <td>...</td>\n",
       "      <td>...</td>\n",
       "      <td>...</td>\n",
       "      <td>...</td>\n",
       "    </tr>\n",
       "    <tr>\n",
       "      <th>1835</th>\n",
       "      <td>0253e7c57f6d106983427f71da6ba4ae</td>\n",
       "      <td>0.002405</td>\n",
       "      <td>0.000049</td>\n",
       "      <td>1.817910</td>\n",
       "      <td>689.696</td>\n",
       "      <td>3.486407</td>\n",
       "      <td>1.322706</td>\n",
       "      <td>0.200000</td>\n",
       "    </tr>\n",
       "    <tr>\n",
       "      <th>1836</th>\n",
       "      <td>1c9ccd70b93a2f8aa94b91e742d25a8f</td>\n",
       "      <td>0.010710</td>\n",
       "      <td>0.000000</td>\n",
       "      <td>14.370044</td>\n",
       "      <td>3707.510</td>\n",
       "      <td>2.888800</td>\n",
       "      <td>0.000000</td>\n",
       "      <td>0.700000</td>\n",
       "    </tr>\n",
       "    <tr>\n",
       "      <th>1837</th>\n",
       "      <td>7248313342e5843324cb37f12d913edc</td>\n",
       "      <td>0.011852</td>\n",
       "      <td>0.000000</td>\n",
       "      <td>6.169298</td>\n",
       "      <td>347.754</td>\n",
       "      <td>34.081319</td>\n",
       "      <td>0.000000</td>\n",
       "      <td>0.800000</td>\n",
       "    </tr>\n",
       "    <tr>\n",
       "      <th>1838</th>\n",
       "      <td>49f1d37766ee34d702ede384779989bb</td>\n",
       "      <td>0.002714</td>\n",
       "      <td>0.000000</td>\n",
       "      <td>1.611350</td>\n",
       "      <td>913.404</td>\n",
       "      <td>2.971643</td>\n",
       "      <td>1.684495</td>\n",
       "      <td>0.100000</td>\n",
       "    </tr>\n",
       "    <tr>\n",
       "      <th>1839</th>\n",
       "      <td>76c7ebe5b577e0cbf4ff59f137c45bfd</td>\n",
       "      <td>100.893363</td>\n",
       "      <td>71.338069</td>\n",
       "      <td>16356.750000</td>\n",
       "      <td>301157.000</td>\n",
       "      <td>335.019153</td>\n",
       "      <td>6.168301</td>\n",
       "      <td>5929.329204</td>\n",
       "    </tr>\n",
       "  </tbody>\n",
       "</table>\n",
       "<p>9200 rows × 8 columns</p>\n",
       "</div>"
      ],
      "text/plain": [
       "                                     0           0          1             2  \\\n",
       "0     70e3737a24b69110028c01798c59d365    0.060156   0.047512     24.489900   \n",
       "1     4ba265962cfb21cf95d71d9764100aa0    0.011389   0.007745      2.449950   \n",
       "2     b08dc2cc47d955166f23c0549bb79361    0.281137   0.140222     67.420600   \n",
       "3     13dbbec7c590b51c0af830a1e75fe86a    0.250074   0.133071     36.120100   \n",
       "4     dd9bc7abdf9ac35c262ef8b1780033e2    0.129607   0.125356     34.708700   \n",
       "...                                ...         ...        ...           ...   \n",
       "1835  0253e7c57f6d106983427f71da6ba4ae    0.002405   0.000049      1.817910   \n",
       "1836  1c9ccd70b93a2f8aa94b91e742d25a8f    0.010710   0.000000     14.370044   \n",
       "1837  7248313342e5843324cb37f12d913edc    0.011852   0.000000      6.169298   \n",
       "1838  49f1d37766ee34d702ede384779989bb    0.002714   0.000000      1.611350   \n",
       "1839  76c7ebe5b577e0cbf4ff59f137c45bfd  100.893363  71.338069  16356.750000   \n",
       "\n",
       "               3           4         5            6  \n",
       "0       6046.630    9.948725  2.456370     0.589694  \n",
       "1        345.707   32.944084  4.648667     0.476432  \n",
       "2       2065.900  136.084723  4.169904    12.808097  \n",
       "3       1989.480  125.698324  6.923411    13.835169  \n",
       "4       2886.430   44.902313  3.734147     3.913786  \n",
       "...          ...         ...       ...          ...  \n",
       "1835     689.696    3.486407  1.322706     0.200000  \n",
       "1836    3707.510    2.888800  0.000000     0.700000  \n",
       "1837     347.754   34.081319  0.000000     0.800000  \n",
       "1838     913.404    2.971643  1.684495     0.100000  \n",
       "1839  301157.000  335.019153  6.168301  5929.329204  \n",
       "\n",
       "[9200 rows x 8 columns]"
      ]
     },
     "execution_count": 31,
     "metadata": {},
     "output_type": "execute_result"
    }
   ],
   "source": [
    "data"
   ]
  },
  {
   "cell_type": "code",
   "execution_count": 32,
   "metadata": {},
   "outputs": [],
   "source": [
    "data.columns = columnas"
   ]
  },
  {
   "cell_type": "code",
   "execution_count": 33,
   "metadata": {},
   "outputs": [
    {
     "data": {
      "text/html": [
       "<div>\n",
       "<style scoped>\n",
       "    .dataframe tbody tr th:only-of-type {\n",
       "        vertical-align: middle;\n",
       "    }\n",
       "\n",
       "    .dataframe tbody tr th {\n",
       "        vertical-align: top;\n",
       "    }\n",
       "\n",
       "    .dataframe thead th {\n",
       "        text-align: right;\n",
       "    }\n",
       "</style>\n",
       "<table border=\"1\" class=\"dataframe\">\n",
       "  <thead>\n",
       "    <tr style=\"text-align: right;\">\n",
       "      <th></th>\n",
       "      <th>Id_hash</th>\n",
       "      <th>Energy_consumption</th>\n",
       "      <th>Energy_production</th>\n",
       "      <th>GDP</th>\n",
       "      <th>Population</th>\n",
       "      <th>Energy_intensity_per_capita</th>\n",
       "      <th>Energy_intensity_by_GDP</th>\n",
       "      <th>CO2_emission</th>\n",
       "    </tr>\n",
       "  </thead>\n",
       "  <tbody>\n",
       "    <tr>\n",
       "      <th>0</th>\n",
       "      <td>70e3737a24b69110028c01798c59d365</td>\n",
       "      <td>0.060156</td>\n",
       "      <td>0.047512</td>\n",
       "      <td>24.489900</td>\n",
       "      <td>6046.630</td>\n",
       "      <td>9.948725</td>\n",
       "      <td>2.456370</td>\n",
       "      <td>0.589694</td>\n",
       "    </tr>\n",
       "    <tr>\n",
       "      <th>1</th>\n",
       "      <td>4ba265962cfb21cf95d71d9764100aa0</td>\n",
       "      <td>0.011389</td>\n",
       "      <td>0.007745</td>\n",
       "      <td>2.449950</td>\n",
       "      <td>345.707</td>\n",
       "      <td>32.944084</td>\n",
       "      <td>4.648667</td>\n",
       "      <td>0.476432</td>\n",
       "    </tr>\n",
       "    <tr>\n",
       "      <th>2</th>\n",
       "      <td>b08dc2cc47d955166f23c0549bb79361</td>\n",
       "      <td>0.281137</td>\n",
       "      <td>0.140222</td>\n",
       "      <td>67.420600</td>\n",
       "      <td>2065.900</td>\n",
       "      <td>136.084723</td>\n",
       "      <td>4.169904</td>\n",
       "      <td>12.808097</td>\n",
       "    </tr>\n",
       "    <tr>\n",
       "      <th>3</th>\n",
       "      <td>13dbbec7c590b51c0af830a1e75fe86a</td>\n",
       "      <td>0.250074</td>\n",
       "      <td>0.133071</td>\n",
       "      <td>36.120100</td>\n",
       "      <td>1989.480</td>\n",
       "      <td>125.698324</td>\n",
       "      <td>6.923411</td>\n",
       "      <td>13.835169</td>\n",
       "    </tr>\n",
       "    <tr>\n",
       "      <th>4</th>\n",
       "      <td>dd9bc7abdf9ac35c262ef8b1780033e2</td>\n",
       "      <td>0.129607</td>\n",
       "      <td>0.125356</td>\n",
       "      <td>34.708700</td>\n",
       "      <td>2886.430</td>\n",
       "      <td>44.902313</td>\n",
       "      <td>3.734147</td>\n",
       "      <td>3.913786</td>\n",
       "    </tr>\n",
       "    <tr>\n",
       "      <th>...</th>\n",
       "      <td>...</td>\n",
       "      <td>...</td>\n",
       "      <td>...</td>\n",
       "      <td>...</td>\n",
       "      <td>...</td>\n",
       "      <td>...</td>\n",
       "      <td>...</td>\n",
       "      <td>...</td>\n",
       "    </tr>\n",
       "    <tr>\n",
       "      <th>1835</th>\n",
       "      <td>0253e7c57f6d106983427f71da6ba4ae</td>\n",
       "      <td>0.002405</td>\n",
       "      <td>0.000049</td>\n",
       "      <td>1.817910</td>\n",
       "      <td>689.696</td>\n",
       "      <td>3.486407</td>\n",
       "      <td>1.322706</td>\n",
       "      <td>0.200000</td>\n",
       "    </tr>\n",
       "    <tr>\n",
       "      <th>1836</th>\n",
       "      <td>1c9ccd70b93a2f8aa94b91e742d25a8f</td>\n",
       "      <td>0.010710</td>\n",
       "      <td>0.000000</td>\n",
       "      <td>14.370044</td>\n",
       "      <td>3707.510</td>\n",
       "      <td>2.888800</td>\n",
       "      <td>0.000000</td>\n",
       "      <td>0.700000</td>\n",
       "    </tr>\n",
       "    <tr>\n",
       "      <th>1837</th>\n",
       "      <td>7248313342e5843324cb37f12d913edc</td>\n",
       "      <td>0.011852</td>\n",
       "      <td>0.000000</td>\n",
       "      <td>6.169298</td>\n",
       "      <td>347.754</td>\n",
       "      <td>34.081319</td>\n",
       "      <td>0.000000</td>\n",
       "      <td>0.800000</td>\n",
       "    </tr>\n",
       "    <tr>\n",
       "      <th>1838</th>\n",
       "      <td>49f1d37766ee34d702ede384779989bb</td>\n",
       "      <td>0.002714</td>\n",
       "      <td>0.000000</td>\n",
       "      <td>1.611350</td>\n",
       "      <td>913.404</td>\n",
       "      <td>2.971643</td>\n",
       "      <td>1.684495</td>\n",
       "      <td>0.100000</td>\n",
       "    </tr>\n",
       "    <tr>\n",
       "      <th>1839</th>\n",
       "      <td>76c7ebe5b577e0cbf4ff59f137c45bfd</td>\n",
       "      <td>100.893363</td>\n",
       "      <td>71.338069</td>\n",
       "      <td>16356.750000</td>\n",
       "      <td>301157.000</td>\n",
       "      <td>335.019153</td>\n",
       "      <td>6.168301</td>\n",
       "      <td>5929.329204</td>\n",
       "    </tr>\n",
       "  </tbody>\n",
       "</table>\n",
       "<p>9200 rows × 8 columns</p>\n",
       "</div>"
      ],
      "text/plain": [
       "                               Id_hash  Energy_consumption  Energy_production  \\\n",
       "0     70e3737a24b69110028c01798c59d365            0.060156           0.047512   \n",
       "1     4ba265962cfb21cf95d71d9764100aa0            0.011389           0.007745   \n",
       "2     b08dc2cc47d955166f23c0549bb79361            0.281137           0.140222   \n",
       "3     13dbbec7c590b51c0af830a1e75fe86a            0.250074           0.133071   \n",
       "4     dd9bc7abdf9ac35c262ef8b1780033e2            0.129607           0.125356   \n",
       "...                                ...                 ...                ...   \n",
       "1835  0253e7c57f6d106983427f71da6ba4ae            0.002405           0.000049   \n",
       "1836  1c9ccd70b93a2f8aa94b91e742d25a8f            0.010710           0.000000   \n",
       "1837  7248313342e5843324cb37f12d913edc            0.011852           0.000000   \n",
       "1838  49f1d37766ee34d702ede384779989bb            0.002714           0.000000   \n",
       "1839  76c7ebe5b577e0cbf4ff59f137c45bfd          100.893363          71.338069   \n",
       "\n",
       "               GDP  Population  Energy_intensity_per_capita  \\\n",
       "0        24.489900    6046.630                     9.948725   \n",
       "1         2.449950     345.707                    32.944084   \n",
       "2        67.420600    2065.900                   136.084723   \n",
       "3        36.120100    1989.480                   125.698324   \n",
       "4        34.708700    2886.430                    44.902313   \n",
       "...            ...         ...                          ...   \n",
       "1835      1.817910     689.696                     3.486407   \n",
       "1836     14.370044    3707.510                     2.888800   \n",
       "1837      6.169298     347.754                    34.081319   \n",
       "1838      1.611350     913.404                     2.971643   \n",
       "1839  16356.750000  301157.000                   335.019153   \n",
       "\n",
       "      Energy_intensity_by_GDP  CO2_emission  \n",
       "0                    2.456370      0.589694  \n",
       "1                    4.648667      0.476432  \n",
       "2                    4.169904     12.808097  \n",
       "3                    6.923411     13.835169  \n",
       "4                    3.734147      3.913786  \n",
       "...                       ...           ...  \n",
       "1835                 1.322706      0.200000  \n",
       "1836                 0.000000      0.700000  \n",
       "1837                 0.000000      0.800000  \n",
       "1838                 1.684495      0.100000  \n",
       "1839                 6.168301   5929.329204  \n",
       "\n",
       "[9200 rows x 8 columns]"
      ]
     },
     "execution_count": 33,
     "metadata": {},
     "output_type": "execute_result"
    }
   ],
   "source": [
    "data"
   ]
  },
  {
   "cell_type": "code",
   "execution_count": 34,
   "metadata": {},
   "outputs": [],
   "source": [
    "data = norcampo(data)"
   ]
  },
  {
   "cell_type": "code",
   "execution_count": 35,
   "metadata": {},
   "outputs": [
    {
     "data": {
      "text/html": [
       "<div>\n",
       "<style scoped>\n",
       "    .dataframe tbody tr th:only-of-type {\n",
       "        vertical-align: middle;\n",
       "    }\n",
       "\n",
       "    .dataframe tbody tr th {\n",
       "        vertical-align: top;\n",
       "    }\n",
       "\n",
       "    .dataframe thead th {\n",
       "        text-align: right;\n",
       "    }\n",
       "</style>\n",
       "<table border=\"1\" class=\"dataframe\">\n",
       "  <thead>\n",
       "    <tr style=\"text-align: right;\">\n",
       "      <th></th>\n",
       "      <th>Id_hash</th>\n",
       "      <th>Energy_consumption</th>\n",
       "      <th>Energy_production</th>\n",
       "      <th>GDP</th>\n",
       "      <th>Population</th>\n",
       "      <th>Energy_intensity_per_capita</th>\n",
       "      <th>Energy_intensity_by_GDP</th>\n",
       "      <th>CO2_emission</th>\n",
       "      <th>Energy_consumption TWh</th>\n",
       "      <th>Energy_production TWh</th>\n",
       "      <th>Energy_intensity_per_capita TWh</th>\n",
       "      <th>Energy_intensity_by_GDP TWh</th>\n",
       "    </tr>\n",
       "  </thead>\n",
       "  <tbody>\n",
       "    <tr>\n",
       "      <th>0</th>\n",
       "      <td>70e3737a24b69110028c01798c59d365</td>\n",
       "      <td>0.060156</td>\n",
       "      <td>0.047512</td>\n",
       "      <td>24.489900</td>\n",
       "      <td>6046.630</td>\n",
       "      <td>9.948725</td>\n",
       "      <td>2.456370</td>\n",
       "      <td>0.589694</td>\n",
       "      <td>1.763079e-14</td>\n",
       "      <td>1.392484e-14</td>\n",
       "      <td>2.915805e-12</td>\n",
       "      <td>7.199209e-13</td>\n",
       "    </tr>\n",
       "    <tr>\n",
       "      <th>1</th>\n",
       "      <td>4ba265962cfb21cf95d71d9764100aa0</td>\n",
       "      <td>0.011389</td>\n",
       "      <td>0.007745</td>\n",
       "      <td>2.449950</td>\n",
       "      <td>345.707</td>\n",
       "      <td>32.944084</td>\n",
       "      <td>4.648667</td>\n",
       "      <td>0.476432</td>\n",
       "      <td>3.337925e-15</td>\n",
       "      <td>2.270017e-15</td>\n",
       "      <td>9.655359e-12</td>\n",
       "      <td>1.362446e-12</td>\n",
       "    </tr>\n",
       "    <tr>\n",
       "      <th>2</th>\n",
       "      <td>b08dc2cc47d955166f23c0549bb79361</td>\n",
       "      <td>0.281137</td>\n",
       "      <td>0.140222</td>\n",
       "      <td>67.420600</td>\n",
       "      <td>2065.900</td>\n",
       "      <td>136.084723</td>\n",
       "      <td>4.169904</td>\n",
       "      <td>12.808097</td>\n",
       "      <td>8.239667e-14</td>\n",
       "      <td>4.109671e-14</td>\n",
       "      <td>3.988415e-11</td>\n",
       "      <td>1.222129e-12</td>\n",
       "    </tr>\n",
       "    <tr>\n",
       "      <th>3</th>\n",
       "      <td>13dbbec7c590b51c0af830a1e75fe86a</td>\n",
       "      <td>0.250074</td>\n",
       "      <td>0.133071</td>\n",
       "      <td>36.120100</td>\n",
       "      <td>1989.480</td>\n",
       "      <td>125.698324</td>\n",
       "      <td>6.923411</td>\n",
       "      <td>13.835169</td>\n",
       "      <td>7.329259e-14</td>\n",
       "      <td>3.900079e-14</td>\n",
       "      <td>3.684007e-11</td>\n",
       "      <td>2.029136e-12</td>\n",
       "    </tr>\n",
       "    <tr>\n",
       "      <th>4</th>\n",
       "      <td>dd9bc7abdf9ac35c262ef8b1780033e2</td>\n",
       "      <td>0.129607</td>\n",
       "      <td>0.125356</td>\n",
       "      <td>34.708700</td>\n",
       "      <td>2886.430</td>\n",
       "      <td>44.902313</td>\n",
       "      <td>3.734147</td>\n",
       "      <td>3.913786</td>\n",
       "      <td>3.798575e-14</td>\n",
       "      <td>3.673981e-14</td>\n",
       "      <td>1.316012e-11</td>\n",
       "      <td>1.094416e-12</td>\n",
       "    </tr>\n",
       "    <tr>\n",
       "      <th>...</th>\n",
       "      <td>...</td>\n",
       "      <td>...</td>\n",
       "      <td>...</td>\n",
       "      <td>...</td>\n",
       "      <td>...</td>\n",
       "      <td>...</td>\n",
       "      <td>...</td>\n",
       "      <td>...</td>\n",
       "      <td>...</td>\n",
       "      <td>...</td>\n",
       "      <td>...</td>\n",
       "      <td>...</td>\n",
       "    </tr>\n",
       "    <tr>\n",
       "      <th>1835</th>\n",
       "      <td>0253e7c57f6d106983427f71da6ba4ae</td>\n",
       "      <td>0.002405</td>\n",
       "      <td>0.000049</td>\n",
       "      <td>1.817910</td>\n",
       "      <td>689.696</td>\n",
       "      <td>3.486407</td>\n",
       "      <td>1.322706</td>\n",
       "      <td>0.200000</td>\n",
       "      <td>7.047365e-16</td>\n",
       "      <td>1.429660e-17</td>\n",
       "      <td>1.021807e-12</td>\n",
       "      <td>3.876630e-13</td>\n",
       "    </tr>\n",
       "    <tr>\n",
       "      <th>1836</th>\n",
       "      <td>1c9ccd70b93a2f8aa94b91e742d25a8f</td>\n",
       "      <td>0.010710</td>\n",
       "      <td>0.000000</td>\n",
       "      <td>14.370044</td>\n",
       "      <td>3707.510</td>\n",
       "      <td>2.888800</td>\n",
       "      <td>0.000000</td>\n",
       "      <td>0.700000</td>\n",
       "      <td>3.138997e-15</td>\n",
       "      <td>0.000000e+00</td>\n",
       "      <td>8.466590e-13</td>\n",
       "      <td>0.000000e+00</td>\n",
       "    </tr>\n",
       "    <tr>\n",
       "      <th>1837</th>\n",
       "      <td>7248313342e5843324cb37f12d913edc</td>\n",
       "      <td>0.011852</td>\n",
       "      <td>0.000000</td>\n",
       "      <td>6.169298</td>\n",
       "      <td>347.754</td>\n",
       "      <td>34.081319</td>\n",
       "      <td>0.000000</td>\n",
       "      <td>0.800000</td>\n",
       "      <td>3.473598e-15</td>\n",
       "      <td>0.000000e+00</td>\n",
       "      <td>9.988663e-12</td>\n",
       "      <td>0.000000e+00</td>\n",
       "    </tr>\n",
       "    <tr>\n",
       "      <th>1838</th>\n",
       "      <td>49f1d37766ee34d702ede384779989bb</td>\n",
       "      <td>0.002714</td>\n",
       "      <td>0.000000</td>\n",
       "      <td>1.611350</td>\n",
       "      <td>913.404</td>\n",
       "      <td>2.971643</td>\n",
       "      <td>1.684495</td>\n",
       "      <td>0.100000</td>\n",
       "      <td>7.955188e-16</td>\n",
       "      <td>0.000000e+00</td>\n",
       "      <td>8.709386e-13</td>\n",
       "      <td>4.936971e-13</td>\n",
       "    </tr>\n",
       "    <tr>\n",
       "      <th>1839</th>\n",
       "      <td>76c7ebe5b577e0cbf4ff59f137c45bfd</td>\n",
       "      <td>100.893363</td>\n",
       "      <td>71.338069</td>\n",
       "      <td>16356.750000</td>\n",
       "      <td>301157.000</td>\n",
       "      <td>335.019153</td>\n",
       "      <td>6.168301</td>\n",
       "      <td>5929.329204</td>\n",
       "      <td>2.957015e-11</td>\n",
       "      <td>2.090799e-11</td>\n",
       "      <td>9.818850e-11</td>\n",
       "      <td>1.807826e-12</td>\n",
       "    </tr>\n",
       "  </tbody>\n",
       "</table>\n",
       "<p>9200 rows × 12 columns</p>\n",
       "</div>"
      ],
      "text/plain": [
       "                               Id_hash  Energy_consumption  Energy_production  \\\n",
       "0     70e3737a24b69110028c01798c59d365            0.060156           0.047512   \n",
       "1     4ba265962cfb21cf95d71d9764100aa0            0.011389           0.007745   \n",
       "2     b08dc2cc47d955166f23c0549bb79361            0.281137           0.140222   \n",
       "3     13dbbec7c590b51c0af830a1e75fe86a            0.250074           0.133071   \n",
       "4     dd9bc7abdf9ac35c262ef8b1780033e2            0.129607           0.125356   \n",
       "...                                ...                 ...                ...   \n",
       "1835  0253e7c57f6d106983427f71da6ba4ae            0.002405           0.000049   \n",
       "1836  1c9ccd70b93a2f8aa94b91e742d25a8f            0.010710           0.000000   \n",
       "1837  7248313342e5843324cb37f12d913edc            0.011852           0.000000   \n",
       "1838  49f1d37766ee34d702ede384779989bb            0.002714           0.000000   \n",
       "1839  76c7ebe5b577e0cbf4ff59f137c45bfd          100.893363          71.338069   \n",
       "\n",
       "               GDP  Population  Energy_intensity_per_capita  \\\n",
       "0        24.489900    6046.630                     9.948725   \n",
       "1         2.449950     345.707                    32.944084   \n",
       "2        67.420600    2065.900                   136.084723   \n",
       "3        36.120100    1989.480                   125.698324   \n",
       "4        34.708700    2886.430                    44.902313   \n",
       "...            ...         ...                          ...   \n",
       "1835      1.817910     689.696                     3.486407   \n",
       "1836     14.370044    3707.510                     2.888800   \n",
       "1837      6.169298     347.754                    34.081319   \n",
       "1838      1.611350     913.404                     2.971643   \n",
       "1839  16356.750000  301157.000                   335.019153   \n",
       "\n",
       "      Energy_intensity_by_GDP  CO2_emission  Energy_consumption TWh  \\\n",
       "0                    2.456370      0.589694            1.763079e-14   \n",
       "1                    4.648667      0.476432            3.337925e-15   \n",
       "2                    4.169904     12.808097            8.239667e-14   \n",
       "3                    6.923411     13.835169            7.329259e-14   \n",
       "4                    3.734147      3.913786            3.798575e-14   \n",
       "...                       ...           ...                     ...   \n",
       "1835                 1.322706      0.200000            7.047365e-16   \n",
       "1836                 0.000000      0.700000            3.138997e-15   \n",
       "1837                 0.000000      0.800000            3.473598e-15   \n",
       "1838                 1.684495      0.100000            7.955188e-16   \n",
       "1839                 6.168301   5929.329204            2.957015e-11   \n",
       "\n",
       "      Energy_production TWh  Energy_intensity_per_capita TWh  \\\n",
       "0              1.392484e-14                     2.915805e-12   \n",
       "1              2.270017e-15                     9.655359e-12   \n",
       "2              4.109671e-14                     3.988415e-11   \n",
       "3              3.900079e-14                     3.684007e-11   \n",
       "4              3.673981e-14                     1.316012e-11   \n",
       "...                     ...                              ...   \n",
       "1835           1.429660e-17                     1.021807e-12   \n",
       "1836           0.000000e+00                     8.466590e-13   \n",
       "1837           0.000000e+00                     9.988663e-12   \n",
       "1838           0.000000e+00                     8.709386e-13   \n",
       "1839           2.090799e-11                     9.818850e-11   \n",
       "\n",
       "      Energy_intensity_by_GDP TWh  \n",
       "0                    7.199209e-13  \n",
       "1                    1.362446e-12  \n",
       "2                    1.222129e-12  \n",
       "3                    2.029136e-12  \n",
       "4                    1.094416e-12  \n",
       "...                           ...  \n",
       "1835                 3.876630e-13  \n",
       "1836                 0.000000e+00  \n",
       "1837                 0.000000e+00  \n",
       "1838                 4.936971e-13  \n",
       "1839                 1.807826e-12  \n",
       "\n",
       "[9200 rows x 12 columns]"
      ]
     },
     "execution_count": 35,
     "metadata": {},
     "output_type": "execute_result"
    }
   ],
   "source": [
    "data"
   ]
  },
  {
   "cell_type": "code",
   "execution_count": 36,
   "metadata": {},
   "outputs": [],
   "source": [
    "co = ['Id_hash', 'Energy_consumption TWh', 'Energy_production TWh', 'Energy_intensity_per_capita TWh', 'Energy_intensity_by_GDP TWh', 'CO2_emission']"
   ]
  },
  {
   "cell_type": "code",
   "execution_count": 37,
   "metadata": {},
   "outputs": [],
   "source": [
    "df_fin = pd.merge(data_fin[['Id_hash', 'Country', 'Energy_type', 'Year']], data[co], on=['Id_hash'], how='left')"
   ]
  },
  {
   "cell_type": "code",
   "execution_count": 38,
   "metadata": {},
   "outputs": [
    {
     "data": {
      "text/html": [
       "<div>\n",
       "<style scoped>\n",
       "    .dataframe tbody tr th:only-of-type {\n",
       "        vertical-align: middle;\n",
       "    }\n",
       "\n",
       "    .dataframe tbody tr th {\n",
       "        vertical-align: top;\n",
       "    }\n",
       "\n",
       "    .dataframe thead th {\n",
       "        text-align: right;\n",
       "    }\n",
       "</style>\n",
       "<table border=\"1\" class=\"dataframe\">\n",
       "  <thead>\n",
       "    <tr style=\"text-align: right;\">\n",
       "      <th></th>\n",
       "      <th>Id_hash</th>\n",
       "      <th>Country</th>\n",
       "      <th>Energy_type</th>\n",
       "      <th>Year</th>\n",
       "      <th>Energy_consumption TWh</th>\n",
       "      <th>Energy_production TWh</th>\n",
       "      <th>Energy_intensity_per_capita TWh</th>\n",
       "      <th>Energy_intensity_by_GDP TWh</th>\n",
       "      <th>CO2_emission</th>\n",
       "    </tr>\n",
       "  </thead>\n",
       "  <tbody>\n",
       "    <tr>\n",
       "      <th>0</th>\n",
       "      <td>2ecafd051f51dfb0f62b8ea2180c2590</td>\n",
       "      <td>Afghanistan</td>\n",
       "      <td>all_energy_types</td>\n",
       "      <td>1980</td>\n",
       "      <td>7.791095e-15</td>\n",
       "      <td>2.126646e-14</td>\n",
       "      <td>5.833186e-13</td>\n",
       "      <td>0.0</td>\n",
       "      <td>1.122767</td>\n",
       "    </tr>\n",
       "    <tr>\n",
       "      <th>1</th>\n",
       "      <td>3bce3ee1ec02d4da99a91a238fca3cd0</td>\n",
       "      <td>Albania</td>\n",
       "      <td>all_energy_types</td>\n",
       "      <td>1980</td>\n",
       "      <td>4.776724e-14</td>\n",
       "      <td>4.559250e-14</td>\n",
       "      <td>1.780566e-11</td>\n",
       "      <td>0.0</td>\n",
       "      <td>10.216290</td>\n",
       "    </tr>\n",
       "    <tr>\n",
       "      <th>2</th>\n",
       "      <td>3a0432f7cf6e15e3493e5e061a2acad0</td>\n",
       "      <td>Algeria</td>\n",
       "      <td>all_energy_types</td>\n",
       "      <td>1980</td>\n",
       "      <td>2.288087e-13</td>\n",
       "      <td>8.215174e-13</td>\n",
       "      <td>1.190366e-11</td>\n",
       "      <td>0.0</td>\n",
       "      <td>111.010523</td>\n",
       "    </tr>\n",
       "    <tr>\n",
       "      <th>3</th>\n",
       "      <td>fbbe8dcba0b3ef5aed7328916301e503</td>\n",
       "      <td>American Samoa</td>\n",
       "      <td>all_energy_types</td>\n",
       "      <td>1980</td>\n",
       "      <td>1.727172e-15</td>\n",
       "      <td>0.000000e+00</td>\n",
       "      <td>5.290610e-11</td>\n",
       "      <td>0.0</td>\n",
       "      <td>0.426731</td>\n",
       "    </tr>\n",
       "    <tr>\n",
       "      <th>4</th>\n",
       "      <td>292a7d7b0907c5eca7e35d3825f09b0b</td>\n",
       "      <td>Angola</td>\n",
       "      <td>all_energy_types</td>\n",
       "      <td>1980</td>\n",
       "      <td>1.710614e-14</td>\n",
       "      <td>9.821162e-14</td>\n",
       "      <td>2.050779e-12</td>\n",
       "      <td>0.0</td>\n",
       "      <td>2.466803</td>\n",
       "    </tr>\n",
       "    <tr>\n",
       "      <th>5</th>\n",
       "      <td>e23dd669832a239454637e4be1dcf502</td>\n",
       "      <td>Antarctica</td>\n",
       "      <td>all_energy_types</td>\n",
       "      <td>1980</td>\n",
       "      <td>6.248388e-16</td>\n",
       "      <td>0.000000e+00</td>\n",
       "      <td>0.000000e+00</td>\n",
       "      <td>0.0</td>\n",
       "      <td>0.180000</td>\n",
       "    </tr>\n",
       "    <tr>\n",
       "      <th>6</th>\n",
       "      <td>5b90a78a960923b15bc9ef44dfd19d06</td>\n",
       "      <td>Antigua and Barbuda</td>\n",
       "      <td>all_energy_types</td>\n",
       "      <td>1980</td>\n",
       "      <td>1.701306e-15</td>\n",
       "      <td>0.000000e+00</td>\n",
       "      <td>0.000000e+00</td>\n",
       "      <td>0.0</td>\n",
       "      <td>0.380000</td>\n",
       "    </tr>\n",
       "  </tbody>\n",
       "</table>\n",
       "</div>"
      ],
      "text/plain": [
       "                            Id_hash              Country       Energy_type  \\\n",
       "0  2ecafd051f51dfb0f62b8ea2180c2590          Afghanistan  all_energy_types   \n",
       "1  3bce3ee1ec02d4da99a91a238fca3cd0              Albania  all_energy_types   \n",
       "2  3a0432f7cf6e15e3493e5e061a2acad0              Algeria  all_energy_types   \n",
       "3  fbbe8dcba0b3ef5aed7328916301e503       American Samoa  all_energy_types   \n",
       "4  292a7d7b0907c5eca7e35d3825f09b0b               Angola  all_energy_types   \n",
       "5  e23dd669832a239454637e4be1dcf502           Antarctica  all_energy_types   \n",
       "6  5b90a78a960923b15bc9ef44dfd19d06  Antigua and Barbuda  all_energy_types   \n",
       "\n",
       "   Year  Energy_consumption TWh  Energy_production TWh  \\\n",
       "0  1980            7.791095e-15           2.126646e-14   \n",
       "1  1980            4.776724e-14           4.559250e-14   \n",
       "2  1980            2.288087e-13           8.215174e-13   \n",
       "3  1980            1.727172e-15           0.000000e+00   \n",
       "4  1980            1.710614e-14           9.821162e-14   \n",
       "5  1980            6.248388e-16           0.000000e+00   \n",
       "6  1980            1.701306e-15           0.000000e+00   \n",
       "\n",
       "   Energy_intensity_per_capita TWh  Energy_intensity_by_GDP TWh  CO2_emission  \n",
       "0                     5.833186e-13                          0.0      1.122767  \n",
       "1                     1.780566e-11                          0.0     10.216290  \n",
       "2                     1.190366e-11                          0.0    111.010523  \n",
       "3                     5.290610e-11                          0.0      0.426731  \n",
       "4                     2.050779e-12                          0.0      2.466803  \n",
       "5                     0.000000e+00                          0.0      0.180000  \n",
       "6                     0.000000e+00                          0.0      0.380000  "
      ]
     },
     "execution_count": 38,
     "metadata": {},
     "output_type": "execute_result"
    }
   ],
   "source": [
    "df_fin.head(7)"
   ]
  },
  {
   "cell_type": "code",
   "execution_count": 39,
   "metadata": {},
   "outputs": [],
   "source": [
    "pruebas = df_fin.iloc[:,2:]"
   ]
  },
  {
   "cell_type": "code",
   "execution_count": 40,
   "metadata": {},
   "outputs": [
    {
     "data": {
      "text/html": [
       "<div>\n",
       "<style scoped>\n",
       "    .dataframe tbody tr th:only-of-type {\n",
       "        vertical-align: middle;\n",
       "    }\n",
       "\n",
       "    .dataframe tbody tr th {\n",
       "        vertical-align: top;\n",
       "    }\n",
       "\n",
       "    .dataframe thead th {\n",
       "        text-align: right;\n",
       "    }\n",
       "</style>\n",
       "<table border=\"1\" class=\"dataframe\">\n",
       "  <thead>\n",
       "    <tr style=\"text-align: right;\">\n",
       "      <th></th>\n",
       "      <th>Energy_type</th>\n",
       "      <th>Year</th>\n",
       "      <th>Energy_consumption TWh</th>\n",
       "      <th>Energy_production TWh</th>\n",
       "      <th>Energy_intensity_per_capita TWh</th>\n",
       "      <th>Energy_intensity_by_GDP TWh</th>\n",
       "      <th>CO2_emission</th>\n",
       "    </tr>\n",
       "  </thead>\n",
       "  <tbody>\n",
       "    <tr>\n",
       "      <th>0</th>\n",
       "      <td>all_energy_types</td>\n",
       "      <td>1980</td>\n",
       "      <td>7.791095e-15</td>\n",
       "      <td>2.126646e-14</td>\n",
       "      <td>5.833186e-13</td>\n",
       "      <td>0.000000e+00</td>\n",
       "      <td>1.122767</td>\n",
       "    </tr>\n",
       "    <tr>\n",
       "      <th>1</th>\n",
       "      <td>all_energy_types</td>\n",
       "      <td>1980</td>\n",
       "      <td>4.776724e-14</td>\n",
       "      <td>4.559250e-14</td>\n",
       "      <td>1.780566e-11</td>\n",
       "      <td>0.000000e+00</td>\n",
       "      <td>10.216290</td>\n",
       "    </tr>\n",
       "    <tr>\n",
       "      <th>2</th>\n",
       "      <td>all_energy_types</td>\n",
       "      <td>1980</td>\n",
       "      <td>2.288087e-13</td>\n",
       "      <td>8.215174e-13</td>\n",
       "      <td>1.190366e-11</td>\n",
       "      <td>0.000000e+00</td>\n",
       "      <td>111.010523</td>\n",
       "    </tr>\n",
       "    <tr>\n",
       "      <th>3</th>\n",
       "      <td>all_energy_types</td>\n",
       "      <td>1980</td>\n",
       "      <td>1.727172e-15</td>\n",
       "      <td>0.000000e+00</td>\n",
       "      <td>5.290610e-11</td>\n",
       "      <td>0.000000e+00</td>\n",
       "      <td>0.426731</td>\n",
       "    </tr>\n",
       "    <tr>\n",
       "      <th>4</th>\n",
       "      <td>all_energy_types</td>\n",
       "      <td>1980</td>\n",
       "      <td>1.710614e-14</td>\n",
       "      <td>9.821162e-14</td>\n",
       "      <td>2.050779e-12</td>\n",
       "      <td>0.000000e+00</td>\n",
       "      <td>2.466803</td>\n",
       "    </tr>\n",
       "    <tr>\n",
       "      <th>...</th>\n",
       "      <td>...</td>\n",
       "      <td>...</td>\n",
       "      <td>...</td>\n",
       "      <td>...</td>\n",
       "      <td>...</td>\n",
       "      <td>...</td>\n",
       "      <td>...</td>\n",
       "    </tr>\n",
       "    <tr>\n",
       "      <th>9195</th>\n",
       "      <td>all_energy_types</td>\n",
       "      <td>2019</td>\n",
       "      <td>5.696379e-15</td>\n",
       "      <td>0.000000e+00</td>\n",
       "      <td>0.000000e+00</td>\n",
       "      <td>0.000000e+00</td>\n",
       "      <td>1.273787</td>\n",
       "    </tr>\n",
       "    <tr>\n",
       "      <th>9196</th>\n",
       "      <td>all_energy_types</td>\n",
       "      <td>2019</td>\n",
       "      <td>1.087953e-15</td>\n",
       "      <td>0.000000e+00</td>\n",
       "      <td>0.000000e+00</td>\n",
       "      <td>0.000000e+00</td>\n",
       "      <td>0.263038</td>\n",
       "    </tr>\n",
       "    <tr>\n",
       "      <th>9197</th>\n",
       "      <td>all_energy_types</td>\n",
       "      <td>2019</td>\n",
       "      <td>4.660600e-14</td>\n",
       "      <td>3.906011e-14</td>\n",
       "      <td>1.598165e-12</td>\n",
       "      <td>8.779703e-13</td>\n",
       "      <td>8.292505</td>\n",
       "    </tr>\n",
       "    <tr>\n",
       "      <th>9198</th>\n",
       "      <td>all_energy_types</td>\n",
       "      <td>2019</td>\n",
       "      <td>6.069653e-14</td>\n",
       "      <td>4.337743e-14</td>\n",
       "      <td>3.395828e-12</td>\n",
       "      <td>2.455541e-13</td>\n",
       "      <td>7.096290</td>\n",
       "    </tr>\n",
       "    <tr>\n",
       "      <th>9199</th>\n",
       "      <td>all_energy_types</td>\n",
       "      <td>2019</td>\n",
       "      <td>4.942872e-14</td>\n",
       "      <td>4.204637e-14</td>\n",
       "      <td>3.373007e-12</td>\n",
       "      <td>1.313881e-12</td>\n",
       "      <td>8.964759</td>\n",
       "    </tr>\n",
       "  </tbody>\n",
       "</table>\n",
       "<p>9200 rows × 7 columns</p>\n",
       "</div>"
      ],
      "text/plain": [
       "           Energy_type  Year  Energy_consumption TWh  Energy_production TWh  \\\n",
       "0     all_energy_types  1980            7.791095e-15           2.126646e-14   \n",
       "1     all_energy_types  1980            4.776724e-14           4.559250e-14   \n",
       "2     all_energy_types  1980            2.288087e-13           8.215174e-13   \n",
       "3     all_energy_types  1980            1.727172e-15           0.000000e+00   \n",
       "4     all_energy_types  1980            1.710614e-14           9.821162e-14   \n",
       "...                ...   ...                     ...                    ...   \n",
       "9195  all_energy_types  2019            5.696379e-15           0.000000e+00   \n",
       "9196  all_energy_types  2019            1.087953e-15           0.000000e+00   \n",
       "9197  all_energy_types  2019            4.660600e-14           3.906011e-14   \n",
       "9198  all_energy_types  2019            6.069653e-14           4.337743e-14   \n",
       "9199  all_energy_types  2019            4.942872e-14           4.204637e-14   \n",
       "\n",
       "      Energy_intensity_per_capita TWh  Energy_intensity_by_GDP TWh  \\\n",
       "0                        5.833186e-13                 0.000000e+00   \n",
       "1                        1.780566e-11                 0.000000e+00   \n",
       "2                        1.190366e-11                 0.000000e+00   \n",
       "3                        5.290610e-11                 0.000000e+00   \n",
       "4                        2.050779e-12                 0.000000e+00   \n",
       "...                               ...                          ...   \n",
       "9195                     0.000000e+00                 0.000000e+00   \n",
       "9196                     0.000000e+00                 0.000000e+00   \n",
       "9197                     1.598165e-12                 8.779703e-13   \n",
       "9198                     3.395828e-12                 2.455541e-13   \n",
       "9199                     3.373007e-12                 1.313881e-12   \n",
       "\n",
       "      CO2_emission  \n",
       "0         1.122767  \n",
       "1        10.216290  \n",
       "2       111.010523  \n",
       "3         0.426731  \n",
       "4         2.466803  \n",
       "...            ...  \n",
       "9195      1.273787  \n",
       "9196      0.263038  \n",
       "9197      8.292505  \n",
       "9198      7.096290  \n",
       "9199      8.964759  \n",
       "\n",
       "[9200 rows x 7 columns]"
      ]
     },
     "execution_count": 40,
     "metadata": {},
     "output_type": "execute_result"
    }
   ],
   "source": [
    "pruebas"
   ]
  },
  {
   "cell_type": "code",
   "execution_count": 41,
   "metadata": {},
   "outputs": [
    {
     "data": {
      "image/png": "[encoded data removed]",
      "text/plain": [
       "<Figure size 1944x648 with 1 Axes>"
      ]
     },
     "metadata": {
      "needs_background": "light"
     },
     "output_type": "display_data"
    }
   ],
   "source": [
    "plt.figure(figsize=(27,9))\n",
    "sns.barplot(data=df_fin, x=\"Year\", y=\"CO2_emission\", palette='pastel')\n",
    "plt.title('Emiciones de CO2')\n",
    "plt.xlabel('Fechas de sucesos')\n",
    "plt.ylabel('Emicion Co2 GWth')\n",
    "plt.show()"
   ]
  },
  {
   "cell_type": "code",
   "execution_count": 42,
   "metadata": {},
   "outputs": [],
   "source": [
    "agrup = pruebas.groupby('Year')['CO2_emission'].sum()"
   ]
  },
  {
   "cell_type": "code",
   "execution_count": 43,
   "metadata": {},
   "outputs": [],
   "source": [
    "agrup = agrup.reset_index()"
   ]
  },
  {
   "cell_type": "code",
   "execution_count": 44,
   "metadata": {},
   "outputs": [
    {
     "data": {
      "image/png": "[encoded data removed]",
      "text/plain": [
       "<Figure size 1944x648 with 1 Axes>"
      ]
     },
     "metadata": {
      "needs_background": "light"
     },
     "output_type": "display_data"
    }
   ],
   "source": [
    "plt.figure(figsize=(27,9))\n",
    "sns.lineplot(data=agrup, x='Year', y='CO2_emission', palette='pastel')\n",
    "\n",
    "plt.title('Relación entre falta de personal médico y decesos, 2021')\n",
    "plt.xlabel('Fecha')\n",
    "plt.ylabel('Total Personal/Desesos')\n",
    "plt.legend(['Falta personal', 'Deceso covid'], loc='upper right')\n",
    "plt.show()"
   ]
  },
  {
   "cell_type": "code",
   "execution_count": 46,
   "metadata": {},
   "outputs": [
    {
     "data": {
      "text/html": [
       "<div>\n",
       "<style scoped>\n",
       "    .dataframe tbody tr th:only-of-type {\n",
       "        vertical-align: middle;\n",
       "    }\n",
       "\n",
       "    .dataframe tbody tr th {\n",
       "        vertical-align: top;\n",
       "    }\n",
       "\n",
       "    .dataframe thead th {\n",
       "        text-align: right;\n",
       "    }\n",
       "</style>\n",
       "<table border=\"1\" class=\"dataframe\">\n",
       "  <thead>\n",
       "    <tr style=\"text-align: right;\">\n",
       "      <th></th>\n",
       "      <th>Id_hash</th>\n",
       "      <th>Country</th>\n",
       "      <th>Energy_type</th>\n",
       "      <th>Year</th>\n",
       "      <th>Energy_consumption TWh</th>\n",
       "      <th>Energy_production TWh</th>\n",
       "      <th>Energy_intensity_per_capita TWh</th>\n",
       "      <th>Energy_intensity_by_GDP TWh</th>\n",
       "      <th>CO2_emission</th>\n",
       "    </tr>\n",
       "  </thead>\n",
       "  <tbody>\n",
       "    <tr>\n",
       "      <th>0</th>\n",
       "      <td>2ecafd051f51dfb0f62b8ea2180c2590</td>\n",
       "      <td>Afghanistan</td>\n",
       "      <td>all_energy_types</td>\n",
       "      <td>1980</td>\n",
       "      <td>7.791095e-15</td>\n",
       "      <td>2.126646e-14</td>\n",
       "      <td>5.833186e-13</td>\n",
       "      <td>0.000000e+00</td>\n",
       "      <td>1.122767</td>\n",
       "    </tr>\n",
       "    <tr>\n",
       "      <th>1</th>\n",
       "      <td>3bce3ee1ec02d4da99a91a238fca3cd0</td>\n",
       "      <td>Albania</td>\n",
       "      <td>all_energy_types</td>\n",
       "      <td>1980</td>\n",
       "      <td>4.776724e-14</td>\n",
       "      <td>4.559250e-14</td>\n",
       "      <td>1.780566e-11</td>\n",
       "      <td>0.000000e+00</td>\n",
       "      <td>10.216290</td>\n",
       "    </tr>\n",
       "    <tr>\n",
       "      <th>2</th>\n",
       "      <td>3a0432f7cf6e15e3493e5e061a2acad0</td>\n",
       "      <td>Algeria</td>\n",
       "      <td>all_energy_types</td>\n",
       "      <td>1980</td>\n",
       "      <td>2.288087e-13</td>\n",
       "      <td>8.215174e-13</td>\n",
       "      <td>1.190366e-11</td>\n",
       "      <td>0.000000e+00</td>\n",
       "      <td>111.010523</td>\n",
       "    </tr>\n",
       "    <tr>\n",
       "      <th>3</th>\n",
       "      <td>fbbe8dcba0b3ef5aed7328916301e503</td>\n",
       "      <td>American Samoa</td>\n",
       "      <td>all_energy_types</td>\n",
       "      <td>1980</td>\n",
       "      <td>1.727172e-15</td>\n",
       "      <td>0.000000e+00</td>\n",
       "      <td>5.290610e-11</td>\n",
       "      <td>0.000000e+00</td>\n",
       "      <td>0.426731</td>\n",
       "    </tr>\n",
       "    <tr>\n",
       "      <th>4</th>\n",
       "      <td>292a7d7b0907c5eca7e35d3825f09b0b</td>\n",
       "      <td>Angola</td>\n",
       "      <td>all_energy_types</td>\n",
       "      <td>1980</td>\n",
       "      <td>1.710614e-14</td>\n",
       "      <td>9.821162e-14</td>\n",
       "      <td>2.050779e-12</td>\n",
       "      <td>0.000000e+00</td>\n",
       "      <td>2.466803</td>\n",
       "    </tr>\n",
       "    <tr>\n",
       "      <th>...</th>\n",
       "      <td>...</td>\n",
       "      <td>...</td>\n",
       "      <td>...</td>\n",
       "      <td>...</td>\n",
       "      <td>...</td>\n",
       "      <td>...</td>\n",
       "      <td>...</td>\n",
       "      <td>...</td>\n",
       "      <td>...</td>\n",
       "    </tr>\n",
       "    <tr>\n",
       "      <th>9195</th>\n",
       "      <td>245124a1c823dc26c546284c073a60fb</td>\n",
       "      <td>Wake Island</td>\n",
       "      <td>all_energy_types</td>\n",
       "      <td>2019</td>\n",
       "      <td>5.696379e-15</td>\n",
       "      <td>0.000000e+00</td>\n",
       "      <td>0.000000e+00</td>\n",
       "      <td>0.000000e+00</td>\n",
       "      <td>1.273787</td>\n",
       "    </tr>\n",
       "    <tr>\n",
       "      <th>9196</th>\n",
       "      <td>4b6bd0969e31290698ac477e04e3a7cc</td>\n",
       "      <td>Western Sahara</td>\n",
       "      <td>all_energy_types</td>\n",
       "      <td>2019</td>\n",
       "      <td>1.087953e-15</td>\n",
       "      <td>0.000000e+00</td>\n",
       "      <td>0.000000e+00</td>\n",
       "      <td>0.000000e+00</td>\n",
       "      <td>0.263038</td>\n",
       "    </tr>\n",
       "    <tr>\n",
       "      <th>9197</th>\n",
       "      <td>5cdac236da06100ca5ed65f07395268e</td>\n",
       "      <td>Yemen</td>\n",
       "      <td>all_energy_types</td>\n",
       "      <td>2019</td>\n",
       "      <td>4.660600e-14</td>\n",
       "      <td>3.906011e-14</td>\n",
       "      <td>1.598165e-12</td>\n",
       "      <td>8.779703e-13</td>\n",
       "      <td>8.292505</td>\n",
       "    </tr>\n",
       "    <tr>\n",
       "      <th>9198</th>\n",
       "      <td>9bfb0677f9a1f98458fe74f88825dc4f</td>\n",
       "      <td>Zambia</td>\n",
       "      <td>all_energy_types</td>\n",
       "      <td>2019</td>\n",
       "      <td>6.069653e-14</td>\n",
       "      <td>4.337743e-14</td>\n",
       "      <td>3.395828e-12</td>\n",
       "      <td>2.455541e-13</td>\n",
       "      <td>7.096290</td>\n",
       "    </tr>\n",
       "    <tr>\n",
       "      <th>9199</th>\n",
       "      <td>3997c7c7530d0771409d285a6e1c265a</td>\n",
       "      <td>Zimbabwe</td>\n",
       "      <td>all_energy_types</td>\n",
       "      <td>2019</td>\n",
       "      <td>4.942872e-14</td>\n",
       "      <td>4.204637e-14</td>\n",
       "      <td>3.373007e-12</td>\n",
       "      <td>1.313881e-12</td>\n",
       "      <td>8.964759</td>\n",
       "    </tr>\n",
       "  </tbody>\n",
       "</table>\n",
       "<p>9200 rows × 9 columns</p>\n",
       "</div>"
      ],
      "text/plain": [
       "                               Id_hash         Country       Energy_type  \\\n",
       "0     2ecafd051f51dfb0f62b8ea2180c2590     Afghanistan  all_energy_types   \n",
       "1     3bce3ee1ec02d4da99a91a238fca3cd0         Albania  all_energy_types   \n",
       "2     3a0432f7cf6e15e3493e5e061a2acad0         Algeria  all_energy_types   \n",
       "3     fbbe8dcba0b3ef5aed7328916301e503  American Samoa  all_energy_types   \n",
       "4     292a7d7b0907c5eca7e35d3825f09b0b          Angola  all_energy_types   \n",
       "...                                ...             ...               ...   \n",
       "9195  245124a1c823dc26c546284c073a60fb     Wake Island  all_energy_types   \n",
       "9196  4b6bd0969e31290698ac477e04e3a7cc  Western Sahara  all_energy_types   \n",
       "9197  5cdac236da06100ca5ed65f07395268e           Yemen  all_energy_types   \n",
       "9198  9bfb0677f9a1f98458fe74f88825dc4f          Zambia  all_energy_types   \n",
       "9199  3997c7c7530d0771409d285a6e1c265a        Zimbabwe  all_energy_types   \n",
       "\n",
       "      Year  Energy_consumption TWh  Energy_production TWh  \\\n",
       "0     1980            7.791095e-15           2.126646e-14   \n",
       "1     1980            4.776724e-14           4.559250e-14   \n",
       "2     1980            2.288087e-13           8.215174e-13   \n",
       "3     1980            1.727172e-15           0.000000e+00   \n",
       "4     1980            1.710614e-14           9.821162e-14   \n",
       "...    ...                     ...                    ...   \n",
       "9195  2019            5.696379e-15           0.000000e+00   \n",
       "9196  2019            1.087953e-15           0.000000e+00   \n",
       "9197  2019            4.660600e-14           3.906011e-14   \n",
       "9198  2019            6.069653e-14           4.337743e-14   \n",
       "9199  2019            4.942872e-14           4.204637e-14   \n",
       "\n",
       "      Energy_intensity_per_capita TWh  Energy_intensity_by_GDP TWh  \\\n",
       "0                        5.833186e-13                 0.000000e+00   \n",
       "1                        1.780566e-11                 0.000000e+00   \n",
       "2                        1.190366e-11                 0.000000e+00   \n",
       "3                        5.290610e-11                 0.000000e+00   \n",
       "4                        2.050779e-12                 0.000000e+00   \n",
       "...                               ...                          ...   \n",
       "9195                     0.000000e+00                 0.000000e+00   \n",
       "9196                     0.000000e+00                 0.000000e+00   \n",
       "9197                     1.598165e-12                 8.779703e-13   \n",
       "9198                     3.395828e-12                 2.455541e-13   \n",
       "9199                     3.373007e-12                 1.313881e-12   \n",
       "\n",
       "      CO2_emission  \n",
       "0         1.122767  \n",
       "1        10.216290  \n",
       "2       111.010523  \n",
       "3         0.426731  \n",
       "4         2.466803  \n",
       "...            ...  \n",
       "9195      1.273787  \n",
       "9196      0.263038  \n",
       "9197      8.292505  \n",
       "9198      7.096290  \n",
       "9199      8.964759  \n",
       "\n",
       "[9200 rows x 9 columns]"
      ]
     },
     "execution_count": 46,
     "metadata": {},
     "output_type": "execute_result"
    }
   ],
   "source": [
    "df_fin"
   ]
  },
  {
   "cell_type": "code",
   "execution_count": 54,
   "metadata": {},
   "outputs": [
    {
     "name": "stderr",
     "output_type": "stream",
     "text": [
      "C:\\Users\\Admin\\AppData\\Local\\Temp\\ipykernel_14596\\2901821495.py:1: FutureWarning:\n",
      "\n",
      "Indexing with multiple keys (implicitly converted to a tuple of keys) will be deprecated, use a list instead.\n",
      "\n"
     ]
    }
   ],
   "source": [
    "df_fin_or = df_fin.groupby('Year')['Energy_consumption TWh', 'Energy_production TWh'].sum()"
   ]
  },
  {
   "cell_type": "code",
   "execution_count": 55,
   "metadata": {},
   "outputs": [
    {
     "data": {
      "application/vnd.plotly.v1+json": {
       "config": {
        "linkText": "Export to plot.ly",
        "plotlyServerURL": "https://plot.ly",
        "showLink": false
       },
       "data": [
        {
         "name": "Energy_consumption TWh",
         "type": "scatter",
         "x": [
          1980,
          1981,
          1982,
          1983,
          1984,
          1985,
          1986,
          1987,
          1988,
          1989,
          1990,
          1991,
          1992,
          1993,
          1994,
          1995,
          1996,
          1997,
          1998,
          1999,
          2000,
          2001,
          2002,
          2003,
          2004,
          2005,
          2006,
          2007,
          2008,
          2009,
          2010,
          2011,
          2012,
          2013,
          2014,
          2015,
          2016,
          2017,
          2018,
          2019
         ],
         "y": [
          1.0431812979021798e-10,
          1.0329269956716086e-10,
          1.0337771730322026e-10,
          1.0456192701316102e-10,
          1.0851935365398586e-10,
          1.109205208964885e-10,
          1.1232377512862175e-10,
          1.1544479526221796e-10,
          1.1975221150190067e-10,
          1.2144959715206495e-10,
          1.215148712595937e-10,
          1.2674028836351618e-10,
          1.2927609895643358e-10,
          1.1212269810811909e-10,
          1.1229778862854514e-10,
          1.15182184643114e-10,
          1.1806250102610892e-10,
          1.1782671849192152e-10,
          1.1845157243808193e-10,
          1.2056205974547546e-10,
          1.2428093381721986e-10,
          1.251137708057994e-10,
          1.2767840985286816e-10,
          1.313598048142068e-10,
          1.378625918911286e-10,
          1.421427690689851e-10,
          1.45641511027005e-10,
          1.4970216511456706e-10,
          1.5109742558864538e-10,
          1.497143903274537e-10,
          1.5899439770930408e-10,
          1.6302858860432574e-10,
          1.6570603709165075e-10,
          1.6848791492263263e-10,
          1.6996440720590104e-10,
          1.7031577869745806e-10,
          1.717314905845407e-10,
          1.7526097052758818e-10,
          1.7922778354625863e-10,
          1.801961034866901e-10
         ]
        },
        {
         "name": "Energy_production TWh",
         "type": "scatter",
         "x": [
          1980,
          1981,
          1982,
          1983,
          1984,
          1985,
          1986,
          1987,
          1988,
          1989,
          1990,
          1991,
          1992,
          1993,
          1994,
          1995,
          1996,
          1997,
          1998,
          1999,
          2000,
          2001,
          2002,
          2003,
          2004,
          2005,
          2006,
          2007,
          2008,
          2009,
          2010,
          2011,
          2012,
          2013,
          2014,
          2015,
          2016,
          2017,
          2018,
          2019
         ],
         "y": [
          1.0531397494664177e-10,
          1.0383406451119052e-10,
          1.0349197582218772e-10,
          1.0434956092217403e-10,
          1.090020716856721e-10,
          1.1121287118341352e-10,
          1.1365139388366569e-10,
          1.1590580767589863e-10,
          1.202833874657383e-10,
          1.222163479787713e-10,
          1.2276231327075266e-10,
          1.259725209542858e-10,
          1.3245482839070668e-10,
          1.1239441535665913e-10,
          1.1263068995396427e-10,
          1.1494683501615639e-10,
          1.1763655967497088e-10,
          1.1839317345943706e-10,
          1.1970905650384901e-10,
          1.196637068314513e-10,
          1.2353734531793098e-10,
          1.2520558813875245e-10,
          1.2573639072432351e-10,
          1.2978199806296602e-10,
          1.3632225903455562e-10,
          1.4097502260046622e-10,
          1.4386822059714067e-10,
          1.465646299164192e-10,
          1.4978590279818494e-10,
          1.4911816726659724e-10,
          1.5664717798332568e-10,
          1.6117713550525056e-10,
          1.6415989299573975e-10,
          1.6645882254408156e-10,
          1.6914161529539677e-10,
          1.7067357605594487e-10,
          1.6950768623813978e-10,
          1.7351266234388457e-10,
          1.8010219197592868e-10,
          1.8326169934449356e-10
         ]
        }
       ],
       "layout": {
        "template": {
         "data": {
          "bar": [
           {
            "error_x": {
             "color": "#2a3f5f"
            },
            "error_y": {
             "color": "#2a3f5f"
            },
            "marker": {
             "line": {
              "color": "#E5ECF6",
              "width": 0.5
             },
             "pattern": {
              "fillmode": "overlay",
              "size": 10,
              "solidity": 0.2
             }
            },
            "type": "bar"
           }
          ],
          "barpolar": [
           {
            "marker": {
             "line": {
              "color": "#E5ECF6",
              "width": 0.5
             },
             "pattern": {
              "fillmode": "overlay",
              "size": 10,
              "solidity": 0.2
             }
            },
            "type": "barpolar"
           }
          ],
          "carpet": [
           {
            "aaxis": {
             "endlinecolor": "#2a3f5f",
             "gridcolor": "white",
             "linecolor": "white",
             "minorgridcolor": "white",
             "startlinecolor": "#2a3f5f"
            },
            "baxis": {
             "endlinecolor": "#2a3f5f",
             "gridcolor": "white",
             "linecolor": "white",
             "minorgridcolor": "white",
             "startlinecolor": "#2a3f5f"
            },
            "type": "carpet"
           }
          ],
          "choropleth": [
           {
            "colorbar": {
             "outlinewidth": 0,
             "ticks": ""
            },
            "type": "choropleth"
           }
          ],
          "contour": [
           {
            "colorbar": {
             "outlinewidth": 0,
             "ticks": ""
            },
            "colorscale": [
             [
              0,
              "#0d0887"
             ],
             [
              0.1111111111111111,
              "#46039f"
             ],
             [
              0.2222222222222222,
              "#7201a8"
             ],
             [
              0.3333333333333333,
              "#9c179e"
             ],
             [
              0.4444444444444444,
              "#bd3786"
             ],
             [
              0.5555555555555556,
              "#d8576b"
             ],
             [
              0.6666666666666666,
              "#ed7953"
             ],
             [
              0.7777777777777778,
              "#fb9f3a"
             ],
             [
              0.8888888888888888,
              "#fdca26"
             ],
             [
              1,
              "#f0f921"
             ]
            ],
            "type": "contour"
           }
          ],
          "contourcarpet": [
           {
            "colorbar": {
             "outlinewidth": 0,
             "ticks": ""
            },
            "type": "contourcarpet"
           }
          ],
          "heatmap": [
           {
            "colorbar": {
             "outlinewidth": 0,
             "ticks": ""
            },
            "colorscale": [
             [
              0,
              "#0d0887"
             ],
             [
              0.1111111111111111,
              "#46039f"
             ],
             [
              0.2222222222222222,
              "#7201a8"
             ],
             [
              0.3333333333333333,
              "#9c179e"
             ],
             [
              0.4444444444444444,
              "#bd3786"
             ],
             [
              0.5555555555555556,
              "#d8576b"
             ],
             [
              0.6666666666666666,
              "#ed7953"
             ],
             [
              0.7777777777777778,
              "#fb9f3a"
             ],
             [
              0.8888888888888888,
              "#fdca26"
             ],
             [
              1,
              "#f0f921"
             ]
            ],
            "type": "heatmap"
           }
          ],
          "heatmapgl": [
           {
            "colorbar": {
             "outlinewidth": 0,
             "ticks": ""
            },
            "colorscale": [
             [
              0,
              "#0d0887"
             ],
             [
              0.1111111111111111,
              "#46039f"
             ],
             [
              0.2222222222222222,
              "#7201a8"
             ],
             [
              0.3333333333333333,
              "#9c179e"
             ],
             [
              0.4444444444444444,
              "#bd3786"
             ],
             [
              0.5555555555555556,
              "#d8576b"
             ],
             [
              0.6666666666666666,
              "#ed7953"
             ],
             [
              0.7777777777777778,
              "#fb9f3a"
             ],
             [
              0.8888888888888888,
              "#fdca26"
             ],
             [
              1,
              "#f0f921"
             ]
            ],
            "type": "heatmapgl"
           }
          ],
          "histogram": [
           {
            "marker": {
             "pattern": {
              "fillmode": "overlay",
              "size": 10,
              "solidity": 0.2
             }
            },
            "type": "histogram"
           }
          ],
          "histogram2d": [
           {
            "colorbar": {
             "outlinewidth": 0,
             "ticks": ""
            },
            "colorscale": [
             [
              0,
              "#0d0887"
             ],
             [
              0.1111111111111111,
              "#46039f"
             ],
             [
              0.2222222222222222,
              "#7201a8"
             ],
             [
              0.3333333333333333,
              "#9c179e"
             ],
             [
              0.4444444444444444,
              "#bd3786"
             ],
             [
              0.5555555555555556,
              "#d8576b"
             ],
             [
              0.6666666666666666,
              "#ed7953"
             ],
             [
              0.7777777777777778,
              "#fb9f3a"
             ],
             [
              0.8888888888888888,
              "#fdca26"
             ],
             [
              1,
              "#f0f921"
             ]
            ],
            "type": "histogram2d"
           }
          ],
          "histogram2dcontour": [
           {
            "colorbar": {
             "outlinewidth": 0,
             "ticks": ""
            },
            "colorscale": [
             [
              0,
              "#0d0887"
             ],
             [
              0.1111111111111111,
              "#46039f"
             ],
             [
              0.2222222222222222,
              "#7201a8"
             ],
             [
              0.3333333333333333,
              "#9c179e"
             ],
             [
              0.4444444444444444,
              "#bd3786"
             ],
             [
              0.5555555555555556,
              "#d8576b"
             ],
             [
              0.6666666666666666,
              "#ed7953"
             ],
             [
              0.7777777777777778,
              "#fb9f3a"
             ],
             [
              0.8888888888888888,
              "#fdca26"
             ],
             [
              1,
              "#f0f921"
             ]
            ],
            "type": "histogram2dcontour"
           }
          ],
          "mesh3d": [
           {
            "colorbar": {
             "outlinewidth": 0,
             "ticks": ""
            },
            "type": "mesh3d"
           }
          ],
          "parcoords": [
           {
            "line": {
             "colorbar": {
              "outlinewidth": 0,
              "ticks": ""
             }
            },
            "type": "parcoords"
           }
          ],
          "pie": [
           {
            "automargin": true,
            "type": "pie"
           }
          ],
          "scatter": [
           {
            "fillpattern": {
             "fillmode": "overlay",
             "size": 10,
             "solidity": 0.2
            },
            "type": "scatter"
           }
          ],
          "scatter3d": [
           {
            "line": {
             "colorbar": {
              "outlinewidth": 0,
              "ticks": ""
             }
            },
            "marker": {
             "colorbar": {
              "outlinewidth": 0,
              "ticks": ""
             }
            },
            "type": "scatter3d"
           }
          ],
          "scattercarpet": [
           {
            "marker": {
             "colorbar": {
              "outlinewidth": 0,
              "ticks": ""
             }
            },
            "type": "scattercarpet"
           }
          ],
          "scattergeo": [
           {
            "marker": {
             "colorbar": {
              "outlinewidth": 0,
              "ticks": ""
             }
            },
            "type": "scattergeo"
           }
          ],
          "scattergl": [
           {
            "marker": {
             "colorbar": {
              "outlinewidth": 0,
              "ticks": ""
             }
            },
            "type": "scattergl"
           }
          ],
          "scattermapbox": [
           {
            "marker": {
             "colorbar": {
              "outlinewidth": 0,
              "ticks": ""
             }
            },
            "type": "scattermapbox"
           }
          ],
          "scatterpolar": [
           {
            "marker": {
             "colorbar": {
              "outlinewidth": 0,
              "ticks": ""
             }
            },
            "type": "scatterpolar"
           }
          ],
          "scatterpolargl": [
           {
            "marker": {
             "colorbar": {
              "outlinewidth": 0,
              "ticks": ""
             }
            },
            "type": "scatterpolargl"
           }
          ],
          "scatterternary": [
           {
            "marker": {
             "colorbar": {
              "outlinewidth": 0,
              "ticks": ""
             }
            },
            "type": "scatterternary"
           }
          ],
          "surface": [
           {
            "colorbar": {
             "outlinewidth": 0,
             "ticks": ""
            },
            "colorscale": [
             [
              0,
              "#0d0887"
             ],
             [
              0.1111111111111111,
              "#46039f"
             ],
             [
              0.2222222222222222,
              "#7201a8"
             ],
             [
              0.3333333333333333,
              "#9c179e"
             ],
             [
              0.4444444444444444,
              "#bd3786"
             ],
             [
              0.5555555555555556,
              "#d8576b"
             ],
             [
              0.6666666666666666,
              "#ed7953"
             ],
             [
              0.7777777777777778,
              "#fb9f3a"
             ],
             [
              0.8888888888888888,
              "#fdca26"
             ],
             [
              1,
              "#f0f921"
             ]
            ],
            "type": "surface"
           }
          ],
          "table": [
           {
            "cells": {
             "fill": {
              "color": "#EBF0F8"
             },
             "line": {
              "color": "white"
             }
            },
            "header": {
             "fill": {
              "color": "#C8D4E3"
             },
             "line": {
              "color": "white"
             }
            },
            "type": "table"
           }
          ]
         },
         "layout": {
          "annotationdefaults": {
           "arrowcolor": "#2a3f5f",
           "arrowhead": 0,
           "arrowwidth": 1
          },
          "autotypenumbers": "strict",
          "coloraxis": {
           "colorbar": {
            "outlinewidth": 0,
            "ticks": ""
           }
          },
          "colorscale": {
           "diverging": [
            [
             0,
             "#8e0152"
            ],
            [
             0.1,
             "#c51b7d"
            ],
            [
             0.2,
             "#de77ae"
            ],
            [
             0.3,
             "#f1b6da"
            ],
            [
             0.4,
             "#fde0ef"
            ],
            [
             0.5,
             "#f7f7f7"
            ],
            [
             0.6,
             "#e6f5d0"
            ],
            [
             0.7,
             "#b8e186"
            ],
            [
             0.8,
             "#7fbc41"
            ],
            [
             0.9,
             "#4d9221"
            ],
            [
             1,
             "#276419"
            ]
           ],
           "sequential": [
            [
             0,
             "#0d0887"
            ],
            [
             0.1111111111111111,
             "#46039f"
            ],
            [
             0.2222222222222222,
             "#7201a8"
            ],
            [
             0.3333333333333333,
             "#9c179e"
            ],
            [
             0.4444444444444444,
             "#bd3786"
            ],
            [
             0.5555555555555556,
             "#d8576b"
            ],
            [
             0.6666666666666666,
             "#ed7953"
            ],
            [
             0.7777777777777778,
             "#fb9f3a"
            ],
            [
             0.8888888888888888,
             "#fdca26"
            ],
            [
             1,
             "#f0f921"
            ]
           ],
           "sequentialminus": [
            [
             0,
             "#0d0887"
            ],
            [
             0.1111111111111111,
             "#46039f"
            ],
            [
             0.2222222222222222,
             "#7201a8"
            ],
            [
             0.3333333333333333,
             "#9c179e"
            ],
            [
             0.4444444444444444,
             "#bd3786"
            ],
            [
             0.5555555555555556,
             "#d8576b"
            ],
            [
             0.6666666666666666,
             "#ed7953"
            ],
            [
             0.7777777777777778,
             "#fb9f3a"
            ],
            [
             0.8888888888888888,
             "#fdca26"
            ],
            [
             1,
             "#f0f921"
            ]
           ]
          },
          "colorway": [
           "#636efa",
           "#EF553B",
           "#00cc96",
           "#ab63fa",
           "#FFA15A",
           "#19d3f3",
           "#FF6692",
           "#B6E880",
           "#FF97FF",
           "#FECB52"
          ],
          "font": {
           "color": "#2a3f5f"
          },
          "geo": {
           "bgcolor": "white",
           "lakecolor": "white",
           "landcolor": "#E5ECF6",
           "showlakes": true,
           "showland": true,
           "subunitcolor": "white"
          },
          "hoverlabel": {
           "align": "left"
          },
          "hovermode": "closest",
          "mapbox": {
           "style": "light"
          },
          "paper_bgcolor": "white",
          "plot_bgcolor": "#E5ECF6",
          "polar": {
           "angularaxis": {
            "gridcolor": "white",
            "linecolor": "white",
            "ticks": ""
           },
           "bgcolor": "#E5ECF6",
           "radialaxis": {
            "gridcolor": "white",
            "linecolor": "white",
            "ticks": ""
           }
          },
          "scene": {
           "xaxis": {
            "backgroundcolor": "#E5ECF6",
            "gridcolor": "white",
            "gridwidth": 2,
            "linecolor": "white",
            "showbackground": true,
            "ticks": "",
            "zerolinecolor": "white"
           },
           "yaxis": {
            "backgroundcolor": "#E5ECF6",
            "gridcolor": "white",
            "gridwidth": 2,
            "linecolor": "white",
            "showbackground": true,
            "ticks": "",
            "zerolinecolor": "white"
           },
           "zaxis": {
            "backgroundcolor": "#E5ECF6",
            "gridcolor": "white",
            "gridwidth": 2,
            "linecolor": "white",
            "showbackground": true,
            "ticks": "",
            "zerolinecolor": "white"
           }
          },
          "shapedefaults": {
           "line": {
            "color": "#2a3f5f"
           }
          },
          "ternary": {
           "aaxis": {
            "gridcolor": "white",
            "linecolor": "white",
            "ticks": ""
           },
           "baxis": {
            "gridcolor": "white",
            "linecolor": "white",
            "ticks": ""
           },
           "bgcolor": "#E5ECF6",
           "caxis": {
            "gridcolor": "white",
            "linecolor": "white",
            "ticks": ""
           }
          },
          "title": {
           "x": 0.05
          },
          "xaxis": {
           "automargin": true,
           "gridcolor": "white",
           "linecolor": "white",
           "ticks": "",
           "title": {
            "standoff": 15
           },
           "zerolinecolor": "white",
           "zerolinewidth": 2
          },
          "yaxis": {
           "automargin": true,
           "gridcolor": "white",
           "linecolor": "white",
           "ticks": "",
           "title": {
            "standoff": 15
           },
           "zerolinecolor": "white",
           "zerolinewidth": 2
          }
         }
        }
       }
      }
     },
     "metadata": {},
     "output_type": "display_data"
    }
   ],
   "source": [
    "import plotly.offline as py\n",
    "col=['Energy_consumption', 'Energy_production',\n",
    "                 'Energy_intensity_per_capita']\n",
    "py.iplot([{\n",
    "    'x':df_fin_or.index,\n",
    "    'y':df_fin_or[col],\n",
    "    'name': col\n",
    "} for col in  df_fin_or.columns], filename='cufflinks/multiple-lines-on-same-chart')"
   ]
  },
  {
   "cell_type": "code",
   "execution_count": 57,
   "metadata": {},
   "outputs": [],
   "source": [
    "gdp = df_fin.groupby('Year')['Energy_intensity_by_GDP TWh'].sum()"
   ]
  },
  {
   "cell_type": "code",
   "execution_count": 63,
   "metadata": {},
   "outputs": [],
   "source": [
    "gdp = pd.DataFrame(gdp)"
   ]
  },
  {
   "cell_type": "code",
   "execution_count": 65,
   "metadata": {},
   "outputs": [
    {
     "data": {
      "application/vnd.plotly.v1+json": {
       "config": {
        "linkText": "Export to plot.ly",
        "plotlyServerURL": "https://plot.ly",
        "showLink": false
       },
       "data": [
        {
         "name": "Energy_intensity_by_GDP TWh",
         "type": "scatter",
         "x": [
          1980,
          1981,
          1982,
          1983,
          1984,
          1985,
          1986,
          1987,
          1988,
          1989,
          1990,
          1991,
          1992,
          1993,
          1994,
          1995,
          1996,
          1997,
          1998,
          1999,
          2000,
          2001,
          2002,
          2003,
          2004,
          2005,
          2006,
          2007,
          2008,
          2009,
          2010,
          2011,
          2012,
          2013,
          2014,
          2015,
          2016,
          2017,
          2018,
          2019
         ],
         "y": [
          1.279020238079972e-10,
          1.2003808770248814e-10,
          1.194127357025835e-10,
          1.203506273656108e-10,
          1.168033305070649e-10,
          1.166779566915613e-10,
          1.1505775353855597e-10,
          1.1631413643848809e-10,
          2.351101390640308e-10,
          2.390857239471164e-10,
          2.4344213193465966e-10,
          2.4715558135412843e-10,
          3.509270837940649e-10,
          3.526182854845983e-10,
          3.134558646780581e-10,
          3.18797765606467e-10,
          3.125180551134546e-10,
          3.038616048411623e-10,
          2.9752582807119264e-10,
          2.9345456990845586e-10,
          2.9367177162601417e-10,
          2.893129798131749e-10,
          2.9792390405855795e-10,
          2.941592473692084e-10,
          2.8827616105018036e-10,
          2.840318594596623e-10,
          2.796474424556579e-10,
          2.681367282270456e-10,
          2.616936570274453e-10,
          2.598714990366598e-10,
          2.609885991890025e-10,
          2.521587556249915e-10,
          2.50070051336435e-10,
          2.4430578485322905e-10,
          2.410138640406036e-10,
          2.393357265746434e-10,
          2.393873924899035e-10,
          2.3609988467859395e-10,
          2.341081727824925e-10,
          2.291000465816123e-10
         ]
        }
       ],
       "layout": {
        "template": {
         "data": {
          "bar": [
           {
            "error_x": {
             "color": "#2a3f5f"
            },
            "error_y": {
             "color": "#2a3f5f"
            },
            "marker": {
             "line": {
              "color": "#E5ECF6",
              "width": 0.5
             },
             "pattern": {
              "fillmode": "overlay",
              "size": 10,
              "solidity": 0.2
             }
            },
            "type": "bar"
           }
          ],
          "barpolar": [
           {
            "marker": {
             "line": {
              "color": "#E5ECF6",
              "width": 0.5
             },
             "pattern": {
              "fillmode": "overlay",
              "size": 10,
              "solidity": 0.2
             }
            },
            "type": "barpolar"
           }
          ],
          "carpet": [
           {
            "aaxis": {
             "endlinecolor": "#2a3f5f",
             "gridcolor": "white",
             "linecolor": "white",
             "minorgridcolor": "white",
             "startlinecolor": "#2a3f5f"
            },
            "baxis": {
             "endlinecolor": "#2a3f5f",
             "gridcolor": "white",
             "linecolor": "white",
             "minorgridcolor": "white",
             "startlinecolor": "#2a3f5f"
            },
            "type": "carpet"
           }
          ],
          "choropleth": [
           {
            "colorbar": {
             "outlinewidth": 0,
             "ticks": ""
            },
            "type": "choropleth"
           }
          ],
          "contour": [
           {
            "colorbar": {
             "outlinewidth": 0,
             "ticks": ""
            },
            "colorscale": [
             [
              0,
              "#0d0887"
             ],
             [
              0.1111111111111111,
              "#46039f"
             ],
             [
              0.2222222222222222,
              "#7201a8"
             ],
             [
              0.3333333333333333,
              "#9c179e"
             ],
             [
              0.4444444444444444,
              "#bd3786"
             ],
             [
              0.5555555555555556,
              "#d8576b"
             ],
             [
              0.6666666666666666,
              "#ed7953"
             ],
             [
              0.7777777777777778,
              "#fb9f3a"
             ],
             [
              0.8888888888888888,
              "#fdca26"
             ],
             [
              1,
              "#f0f921"
             ]
            ],
            "type": "contour"
           }
          ],
          "contourcarpet": [
           {
            "colorbar": {
             "outlinewidth": 0,
             "ticks": ""
            },
            "type": "contourcarpet"
           }
          ],
          "heatmap": [
           {
            "colorbar": {
             "outlinewidth": 0,
             "ticks": ""
            },
            "colorscale": [
             [
              0,
              "#0d0887"
             ],
             [
              0.1111111111111111,
              "#46039f"
             ],
             [
              0.2222222222222222,
              "#7201a8"
             ],
             [
              0.3333333333333333,
              "#9c179e"
             ],
             [
              0.4444444444444444,
              "#bd3786"
             ],
             [
              0.5555555555555556,
              "#d8576b"
             ],
             [
              0.6666666666666666,
              "#ed7953"
             ],
             [
              0.7777777777777778,
              "#fb9f3a"
             ],
             [
              0.8888888888888888,
              "#fdca26"
             ],
             [
              1,
              "#f0f921"
             ]
            ],
            "type": "heatmap"
           }
          ],
          "heatmapgl": [
           {
            "colorbar": {
             "outlinewidth": 0,
             "ticks": ""
            },
            "colorscale": [
             [
              0,
              "#0d0887"
             ],
             [
              0.1111111111111111,
              "#46039f"
             ],
             [
              0.2222222222222222,
              "#7201a8"
             ],
             [
              0.3333333333333333,
              "#9c179e"
             ],
             [
              0.4444444444444444,
              "#bd3786"
             ],
             [
              0.5555555555555556,
              "#d8576b"
             ],
             [
              0.6666666666666666,
              "#ed7953"
             ],
             [
              0.7777777777777778,
              "#fb9f3a"
             ],
             [
              0.8888888888888888,
              "#fdca26"
             ],
             [
              1,
              "#f0f921"
             ]
            ],
            "type": "heatmapgl"
           }
          ],
          "histogram": [
           {
            "marker": {
             "pattern": {
              "fillmode": "overlay",
              "size": 10,
              "solidity": 0.2
             }
            },
            "type": "histogram"
           }
          ],
          "histogram2d": [
           {
            "colorbar": {
             "outlinewidth": 0,
             "ticks": ""
            },
            "colorscale": [
             [
              0,
              "#0d0887"
             ],
             [
              0.1111111111111111,
              "#46039f"
             ],
             [
              0.2222222222222222,
              "#7201a8"
             ],
             [
              0.3333333333333333,
              "#9c179e"
             ],
             [
              0.4444444444444444,
              "#bd3786"
             ],
             [
              0.5555555555555556,
              "#d8576b"
             ],
             [
              0.6666666666666666,
              "#ed7953"
             ],
             [
              0.7777777777777778,
              "#fb9f3a"
             ],
             [
              0.8888888888888888,
              "#fdca26"
             ],
             [
              1,
              "#f0f921"
             ]
            ],
            "type": "histogram2d"
           }
          ],
          "histogram2dcontour": [
           {
            "colorbar": {
             "outlinewidth": 0,
             "ticks": ""
            },
            "colorscale": [
             [
              0,
              "#0d0887"
             ],
             [
              0.1111111111111111,
              "#46039f"
             ],
             [
              0.2222222222222222,
              "#7201a8"
             ],
             [
              0.3333333333333333,
              "#9c179e"
             ],
             [
              0.4444444444444444,
              "#bd3786"
             ],
             [
              0.5555555555555556,
              "#d8576b"
             ],
             [
              0.6666666666666666,
              "#ed7953"
             ],
             [
              0.7777777777777778,
              "#fb9f3a"
             ],
             [
              0.8888888888888888,
              "#fdca26"
             ],
             [
              1,
              "#f0f921"
             ]
            ],
            "type": "histogram2dcontour"
           }
          ],
          "mesh3d": [
           {
            "colorbar": {
             "outlinewidth": 0,
             "ticks": ""
            },
            "type": "mesh3d"
           }
          ],
          "parcoords": [
           {
            "line": {
             "colorbar": {
              "outlinewidth": 0,
              "ticks": ""
             }
            },
            "type": "parcoords"
           }
          ],
          "pie": [
           {
            "automargin": true,
            "type": "pie"
           }
          ],
          "scatter": [
           {
            "fillpattern": {
             "fillmode": "overlay",
             "size": 10,
             "solidity": 0.2
            },
            "type": "scatter"
           }
          ],
          "scatter3d": [
           {
            "line": {
             "colorbar": {
              "outlinewidth": 0,
              "ticks": ""
             }
            },
            "marker": {
             "colorbar": {
              "outlinewidth": 0,
              "ticks": ""
             }
            },
            "type": "scatter3d"
           }
          ],
          "scattercarpet": [
           {
            "marker": {
             "colorbar": {
              "outlinewidth": 0,
              "ticks": ""
             }
            },
            "type": "scattercarpet"
           }
          ],
          "scattergeo": [
           {
            "marker": {
             "colorbar": {
              "outlinewidth": 0,
              "ticks": ""
             }
            },
            "type": "scattergeo"
           }
          ],
          "scattergl": [
           {
            "marker": {
             "colorbar": {
              "outlinewidth": 0,
              "ticks": ""
             }
            },
            "type": "scattergl"
           }
          ],
          "scattermapbox": [
           {
            "marker": {
             "colorbar": {
              "outlinewidth": 0,
              "ticks": ""
             }
            },
            "type": "scattermapbox"
           }
          ],
          "scatterpolar": [
           {
            "marker": {
             "colorbar": {
              "outlinewidth": 0,
              "ticks": ""
             }
            },
            "type": "scatterpolar"
           }
          ],
          "scatterpolargl": [
           {
            "marker": {
             "colorbar": {
              "outlinewidth": 0,
              "ticks": ""
             }
            },
            "type": "scatterpolargl"
           }
          ],
          "scatterternary": [
           {
            "marker": {
             "colorbar": {
              "outlinewidth": 0,
              "ticks": ""
             }
            },
            "type": "scatterternary"
           }
          ],
          "surface": [
           {
            "colorbar": {
             "outlinewidth": 0,
             "ticks": ""
            },
            "colorscale": [
             [
              0,
              "#0d0887"
             ],
             [
              0.1111111111111111,
              "#46039f"
             ],
             [
              0.2222222222222222,
              "#7201a8"
             ],
             [
              0.3333333333333333,
              "#9c179e"
             ],
             [
              0.4444444444444444,
              "#bd3786"
             ],
             [
              0.5555555555555556,
              "#d8576b"
             ],
             [
              0.6666666666666666,
              "#ed7953"
             ],
             [
              0.7777777777777778,
              "#fb9f3a"
             ],
             [
              0.8888888888888888,
              "#fdca26"
             ],
             [
              1,
              "#f0f921"
             ]
            ],
            "type": "surface"
           }
          ],
          "table": [
           {
            "cells": {
             "fill": {
              "color": "#EBF0F8"
             },
             "line": {
              "color": "white"
             }
            },
            "header": {
             "fill": {
              "color": "#C8D4E3"
             },
             "line": {
              "color": "white"
             }
            },
            "type": "table"
           }
          ]
         },
         "layout": {
          "annotationdefaults": {
           "arrowcolor": "#2a3f5f",
           "arrowhead": 0,
           "arrowwidth": 1
          },
          "autotypenumbers": "strict",
          "coloraxis": {
           "colorbar": {
            "outlinewidth": 0,
            "ticks": ""
           }
          },
          "colorscale": {
           "diverging": [
            [
             0,
             "#8e0152"
            ],
            [
             0.1,
             "#c51b7d"
            ],
            [
             0.2,
             "#de77ae"
            ],
            [
             0.3,
             "#f1b6da"
            ],
            [
             0.4,
             "#fde0ef"
            ],
            [
             0.5,
             "#f7f7f7"
            ],
            [
             0.6,
             "#e6f5d0"
            ],
            [
             0.7,
             "#b8e186"
            ],
            [
             0.8,
             "#7fbc41"
            ],
            [
             0.9,
             "#4d9221"
            ],
            [
             1,
             "#276419"
            ]
           ],
           "sequential": [
            [
             0,
             "#0d0887"
            ],
            [
             0.1111111111111111,
             "#46039f"
            ],
            [
             0.2222222222222222,
             "#7201a8"
            ],
            [
             0.3333333333333333,
             "#9c179e"
            ],
            [
             0.4444444444444444,
             "#bd3786"
            ],
            [
             0.5555555555555556,
             "#d8576b"
            ],
            [
             0.6666666666666666,
             "#ed7953"
            ],
            [
             0.7777777777777778,
             "#fb9f3a"
            ],
            [
             0.8888888888888888,
             "#fdca26"
            ],
            [
             1,
             "#f0f921"
            ]
           ],
           "sequentialminus": [
            [
             0,
             "#0d0887"
            ],
            [
             0.1111111111111111,
             "#46039f"
            ],
            [
             0.2222222222222222,
             "#7201a8"
            ],
            [
             0.3333333333333333,
             "#9c179e"
            ],
            [
             0.4444444444444444,
             "#bd3786"
            ],
            [
             0.5555555555555556,
             "#d8576b"
            ],
            [
             0.6666666666666666,
             "#ed7953"
            ],
            [
             0.7777777777777778,
             "#fb9f3a"
            ],
            [
             0.8888888888888888,
             "#fdca26"
            ],
            [
             1,
             "#f0f921"
            ]
           ]
          },
          "colorway": [
           "#636efa",
           "#EF553B",
           "#00cc96",
           "#ab63fa",
           "#FFA15A",
           "#19d3f3",
           "#FF6692",
           "#B6E880",
           "#FF97FF",
           "#FECB52"
          ],
          "font": {
           "color": "#2a3f5f"
          },
          "geo": {
           "bgcolor": "white",
           "lakecolor": "white",
           "landcolor": "#E5ECF6",
           "showlakes": true,
           "showland": true,
           "subunitcolor": "white"
          },
          "hoverlabel": {
           "align": "left"
          },
          "hovermode": "closest",
          "mapbox": {
           "style": "light"
          },
          "paper_bgcolor": "white",
          "plot_bgcolor": "#E5ECF6",
          "polar": {
           "angularaxis": {
            "gridcolor": "white",
            "linecolor": "white",
            "ticks": ""
           },
           "bgcolor": "#E5ECF6",
           "radialaxis": {
            "gridcolor": "white",
            "linecolor": "white",
            "ticks": ""
           }
          },
          "scene": {
           "xaxis": {
            "backgroundcolor": "#E5ECF6",
            "gridcolor": "white",
            "gridwidth": 2,
            "linecolor": "white",
            "showbackground": true,
            "ticks": "",
            "zerolinecolor": "white"
           },
           "yaxis": {
            "backgroundcolor": "#E5ECF6",
            "gridcolor": "white",
            "gridwidth": 2,
            "linecolor": "white",
            "showbackground": true,
            "ticks": "",
            "zerolinecolor": "white"
           },
           "zaxis": {
            "backgroundcolor": "#E5ECF6",
            "gridcolor": "white",
            "gridwidth": 2,
            "linecolor": "white",
            "showbackground": true,
            "ticks": "",
            "zerolinecolor": "white"
           }
          },
          "shapedefaults": {
           "line": {
            "color": "#2a3f5f"
           }
          },
          "ternary": {
           "aaxis": {
            "gridcolor": "white",
            "linecolor": "white",
            "ticks": ""
           },
           "baxis": {
            "gridcolor": "white",
            "linecolor": "white",
            "ticks": ""
           },
           "bgcolor": "#E5ECF6",
           "caxis": {
            "gridcolor": "white",
            "linecolor": "white",
            "ticks": ""
           }
          },
          "title": {
           "x": 0.05
          },
          "xaxis": {
           "automargin": true,
           "gridcolor": "white",
           "linecolor": "white",
           "ticks": "",
           "title": {
            "standoff": 15
           },
           "zerolinecolor": "white",
           "zerolinewidth": 2
          },
          "yaxis": {
           "automargin": true,
           "gridcolor": "white",
           "linecolor": "white",
           "ticks": "",
           "title": {
            "standoff": 15
           },
           "zerolinecolor": "white",
           "zerolinewidth": 2
          }
         }
        }
       }
      }
     },
     "metadata": {},
     "output_type": "display_data"
    }
   ],
   "source": [
    "import plotly.offline as py\n",
    "col=['Energy_intensity_by_GDP Twh']\n",
    "py.iplot([{\n",
    "    'x':gdp.index,\n",
    "    'y':gdp[col],\n",
    "    'name': col\n",
    "} for col in  gdp.columns], filename='cufflinks/multiple-lines-on-same-chart')"
   ]
  },
  {
   "cell_type": "code",
   "execution_count": null,
   "metadata": {},
   "outputs": [],
   "source": [
    "import plotly.graph_objects as go"
   ]
  },
  {
   "cell_type": "code",
   "execution_count": null,
   "metadata": {},
   "outputs": [],
   "source": [
    "def linealPlot(df_new):\n",
    "    #df_new = df_new[(df_new[\"País\"] == \"World\") & (df_new[\"Tipo_Energia\"] == \"all_energy_types\")]\n",
    "    #df_new = df_new[[\"País\", \"Year\", \"CO2_emission\"]]\n",
    "    fig= go.Figure(data=[\n",
    "        go.Scatter(\n",
    "        x=df_new['Year'],\n",
    "        y=df_new['CO2_emission'],\n",
    "        mode='lines', \n",
    "        name='Emisiones Co2',\n",
    "        line=dict(color='cyan')\n",
    "        )\n",
    "    ])\n",
    "    fig.update_layout(\n",
    "        height=300, width=1000,\n",
    "        plot_bgcolor='black',\n",
    "        paper_bgcolor= 'black',\n",
    "        font_color='#cee3e1',\n",
    "        legend=dict(\n",
    "            x=0.05,\n",
    "            y=1,\n",
    "            title_font_family=\"Times New Roman\",\n",
    "            font=dict(\n",
    "                family=\"Courier\",\n",
    "                size=12,\n",
    "                color=\"LightSteelBlue\"\n",
    "            ),\n",
    "            bgcolor=\"Black\",\n",
    "            bordercolor=\"LightSteelBlue\",\n",
    "            borderwidth=1\n",
    "        ),\n",
    "        xaxis=dict(showgrid=False,showline=True,linecolor='rgb(255,255,255)'),\n",
    "        yaxis=dict(showgrid=False),\n",
    "        margin=dict(l=10,r=10,b=10,t=10)\n",
    "    )\n",
    "    return fig"
   ]
  },
  {
   "cell_type": "code",
   "execution_count": null,
   "metadata": {},
   "outputs": [
    {
     "data": {
      "application/vnd.plotly.v1+json": {
       "config": {
        "plotlyServerURL": "https://plot.ly"
       },
       "data": [
        {
         "line": {
          "color": "cyan"
         },
         "mode": "lines",
         "name": "Emisiones Co2",
         "type": "scatter",
         "x": [
          1980,
          1981,
          1982,
          1983,
          1984,
          1985,
          1986,
          1987,
          1988,
          1989,
          1990,
          1991,
          1992,
          1993,
          1994,
          1995,
          1996,
          1997,
          1998,
          1999,
          2000,
          2001,
          2002,
          2003,
          2004,
          2005,
          2006,
          2007,
          2008,
          2009,
          2010,
          2011,
          2012,
          2013,
          2014,
          2015,
          2016,
          2017,
          2018,
          2019
         ],
         "y": [
          22515.526116635836,
          22793.185797360635,
          22418.625375365635,
          22375.213749678634,
          22569.723620910634,
          23693.758773844635,
          23991.071222362873,
          24474.732453435274,
          25255.051963711634,
          25933.753458307634,
          26123.37627712867,
          26711.924835475507,
          28035.119811446162,
          23464.211634268562,
          23427.125357985362,
          23599.088544713362,
          24086.90581862736,
          24449.035770388,
          24519.204518049,
          24558.518267017,
          24901.270204357,
          25664.434807695998,
          25869.462943066,
          26294.617044309434,
          27448.309372527638,
          28880.823099002635,
          29760.14460596551,
          30783.193333560273,
          31110.312698729507,
          31818.25378914891,
          31644.630085436907,
          33542.10822629991,
          34529.28558795815,
          35318.367243404544,
          35734.856744598546,
          35789.21254793854,
          35646.55808845454,
          35467.333199294546,
          35897.85327249655,
          36479.885993029544
         ]
        }
       ],
       "layout": {
        "font": {
         "color": "#cee3e1"
        },
        "height": 300,
        "legend": {
         "bgcolor": "Black",
         "bordercolor": "LightSteelBlue",
         "borderwidth": 1,
         "font": {
          "color": "LightSteelBlue",
          "family": "Courier",
          "size": 12
         },
         "title": {
          "font": {
           "family": "Times New Roman"
          }
         },
         "x": 0.05,
         "y": 1
        },
        "margin": {
         "b": 10,
         "l": 10,
         "r": 10,
         "t": 10
        },
        "paper_bgcolor": "black",
        "plot_bgcolor": "black",
        "template": {
         "data": {
          "bar": [
           {
            "error_x": {
             "color": "#2a3f5f"
            },
            "error_y": {
             "color": "#2a3f5f"
            },
            "marker": {
             "line": {
              "color": "#E5ECF6",
              "width": 0.5
             },
             "pattern": {
              "fillmode": "overlay",
              "size": 10,
              "solidity": 0.2
             }
            },
            "type": "bar"
           }
          ],
          "barpolar": [
           {
            "marker": {
             "line": {
              "color": "#E5ECF6",
              "width": 0.5
             },
             "pattern": {
              "fillmode": "overlay",
              "size": 10,
              "solidity": 0.2
             }
            },
            "type": "barpolar"
           }
          ],
          "carpet": [
           {
            "aaxis": {
             "endlinecolor": "#2a3f5f",
             "gridcolor": "white",
             "linecolor": "white",
             "minorgridcolor": "white",
             "startlinecolor": "#2a3f5f"
            },
            "baxis": {
             "endlinecolor": "#2a3f5f",
             "gridcolor": "white",
             "linecolor": "white",
             "minorgridcolor": "white",
             "startlinecolor": "#2a3f5f"
            },
            "type": "carpet"
           }
          ],
          "choropleth": [
           {
            "colorbar": {
             "outlinewidth": 0,
             "ticks": ""
            },
            "type": "choropleth"
           }
          ],
          "contour": [
           {
            "colorbar": {
             "outlinewidth": 0,
             "ticks": ""
            },
            "colorscale": [
             [
              0,
              "#0d0887"
             ],
             [
              0.1111111111111111,
              "#46039f"
             ],
             [
              0.2222222222222222,
              "#7201a8"
             ],
             [
              0.3333333333333333,
              "#9c179e"
             ],
             [
              0.4444444444444444,
              "#bd3786"
             ],
             [
              0.5555555555555556,
              "#d8576b"
             ],
             [
              0.6666666666666666,
              "#ed7953"
             ],
             [
              0.7777777777777778,
              "#fb9f3a"
             ],
             [
              0.8888888888888888,
              "#fdca26"
             ],
             [
              1,
              "#f0f921"
             ]
            ],
            "type": "contour"
           }
          ],
          "contourcarpet": [
           {
            "colorbar": {
             "outlinewidth": 0,
             "ticks": ""
            },
            "type": "contourcarpet"
           }
          ],
          "heatmap": [
           {
            "colorbar": {
             "outlinewidth": 0,
             "ticks": ""
            },
            "colorscale": [
             [
              0,
              "#0d0887"
             ],
             [
              0.1111111111111111,
              "#46039f"
             ],
             [
              0.2222222222222222,
              "#7201a8"
             ],
             [
              0.3333333333333333,
              "#9c179e"
             ],
             [
              0.4444444444444444,
              "#bd3786"
             ],
             [
              0.5555555555555556,
              "#d8576b"
             ],
             [
              0.6666666666666666,
              "#ed7953"
             ],
             [
              0.7777777777777778,
              "#fb9f3a"
             ],
             [
              0.8888888888888888,
              "#fdca26"
             ],
             [
              1,
              "#f0f921"
             ]
            ],
            "type": "heatmap"
           }
          ],
          "heatmapgl": [
           {
            "colorbar": {
             "outlinewidth": 0,
             "ticks": ""
            },
            "colorscale": [
             [
              0,
              "#0d0887"
             ],
             [
              0.1111111111111111,
              "#46039f"
             ],
             [
              0.2222222222222222,
              "#7201a8"
             ],
             [
              0.3333333333333333,
              "#9c179e"
             ],
             [
              0.4444444444444444,
              "#bd3786"
             ],
             [
              0.5555555555555556,
              "#d8576b"
             ],
             [
              0.6666666666666666,
              "#ed7953"
             ],
             [
              0.7777777777777778,
              "#fb9f3a"
             ],
             [
              0.8888888888888888,
              "#fdca26"
             ],
             [
              1,
              "#f0f921"
             ]
            ],
            "type": "heatmapgl"
           }
          ],
          "histogram": [
           {
            "marker": {
             "pattern": {
              "fillmode": "overlay",
              "size": 10,
              "solidity": 0.2
             }
            },
            "type": "histogram"
           }
          ],
          "histogram2d": [
           {
            "colorbar": {
             "outlinewidth": 0,
             "ticks": ""
            },
            "colorscale": [
             [
              0,
              "#0d0887"
             ],
             [
              0.1111111111111111,
              "#46039f"
             ],
             [
              0.2222222222222222,
              "#7201a8"
             ],
             [
              0.3333333333333333,
              "#9c179e"
             ],
             [
              0.4444444444444444,
              "#bd3786"
             ],
             [
              0.5555555555555556,
              "#d8576b"
             ],
             [
              0.6666666666666666,
              "#ed7953"
             ],
             [
              0.7777777777777778,
              "#fb9f3a"
             ],
             [
              0.8888888888888888,
              "#fdca26"
             ],
             [
              1,
              "#f0f921"
             ]
            ],
            "type": "histogram2d"
           }
          ],
          "histogram2dcontour": [
           {
            "colorbar": {
             "outlinewidth": 0,
             "ticks": ""
            },
            "colorscale": [
             [
              0,
              "#0d0887"
             ],
             [
              0.1111111111111111,
              "#46039f"
             ],
             [
              0.2222222222222222,
              "#7201a8"
             ],
             [
              0.3333333333333333,
              "#9c179e"
             ],
             [
              0.4444444444444444,
              "#bd3786"
             ],
             [
              0.5555555555555556,
              "#d8576b"
             ],
             [
              0.6666666666666666,
              "#ed7953"
             ],
             [
              0.7777777777777778,
              "#fb9f3a"
             ],
             [
              0.8888888888888888,
              "#fdca26"
             ],
             [
              1,
              "#f0f921"
             ]
            ],
            "type": "histogram2dcontour"
           }
          ],
          "mesh3d": [
           {
            "colorbar": {
             "outlinewidth": 0,
             "ticks": ""
            },
            "type": "mesh3d"
           }
          ],
          "parcoords": [
           {
            "line": {
             "colorbar": {
              "outlinewidth": 0,
              "ticks": ""
             }
            },
            "type": "parcoords"
           }
          ],
          "pie": [
           {
            "automargin": true,
            "type": "pie"
           }
          ],
          "scatter": [
           {
            "fillpattern": {
             "fillmode": "overlay",
             "size": 10,
             "solidity": 0.2
            },
            "type": "scatter"
           }
          ],
          "scatter3d": [
           {
            "line": {
             "colorbar": {
              "outlinewidth": 0,
              "ticks": ""
             }
            },
            "marker": {
             "colorbar": {
              "outlinewidth": 0,
              "ticks": ""
             }
            },
            "type": "scatter3d"
           }
          ],
          "scattercarpet": [
           {
            "marker": {
             "colorbar": {
              "outlinewidth": 0,
              "ticks": ""
             }
            },
            "type": "scattercarpet"
           }
          ],
          "scattergeo": [
           {
            "marker": {
             "colorbar": {
              "outlinewidth": 0,
              "ticks": ""
             }
            },
            "type": "scattergeo"
           }
          ],
          "scattergl": [
           {
            "marker": {
             "colorbar": {
              "outlinewidth": 0,
              "ticks": ""
             }
            },
            "type": "scattergl"
           }
          ],
          "scattermapbox": [
           {
            "marker": {
             "colorbar": {
              "outlinewidth": 0,
              "ticks": ""
             }
            },
            "type": "scattermapbox"
           }
          ],
          "scatterpolar": [
           {
            "marker": {
             "colorbar": {
              "outlinewidth": 0,
              "ticks": ""
             }
            },
            "type": "scatterpolar"
           }
          ],
          "scatterpolargl": [
           {
            "marker": {
             "colorbar": {
              "outlinewidth": 0,
              "ticks": ""
             }
            },
            "type": "scatterpolargl"
           }
          ],
          "scatterternary": [
           {
            "marker": {
             "colorbar": {
              "outlinewidth": 0,
              "ticks": ""
             }
            },
            "type": "scatterternary"
           }
          ],
          "surface": [
           {
            "colorbar": {
             "outlinewidth": 0,
             "ticks": ""
            },
            "colorscale": [
             [
              0,
              "#0d0887"
             ],
             [
              0.1111111111111111,
              "#46039f"
             ],
             [
              0.2222222222222222,
              "#7201a8"
             ],
             [
              0.3333333333333333,
              "#9c179e"
             ],
             [
              0.4444444444444444,
              "#bd3786"
             ],
             [
              0.5555555555555556,
              "#d8576b"
             ],
             [
              0.6666666666666666,
              "#ed7953"
             ],
             [
              0.7777777777777778,
              "#fb9f3a"
             ],
             [
              0.8888888888888888,
              "#fdca26"
             ],
             [
              1,
              "#f0f921"
             ]
            ],
            "type": "surface"
           }
          ],
          "table": [
           {
            "cells": {
             "fill": {
              "color": "#EBF0F8"
             },
             "line": {
              "color": "white"
             }
            },
            "header": {
             "fill": {
              "color": "#C8D4E3"
             },
             "line": {
              "color": "white"
             }
            },
            "type": "table"
           }
          ]
         },
         "layout": {
          "annotationdefaults": {
           "arrowcolor": "#2a3f5f",
           "arrowhead": 0,
           "arrowwidth": 1
          },
          "autotypenumbers": "strict",
          "coloraxis": {
           "colorbar": {
            "outlinewidth": 0,
            "ticks": ""
           }
          },
          "colorscale": {
           "diverging": [
            [
             0,
             "#8e0152"
            ],
            [
             0.1,
             "#c51b7d"
            ],
            [
             0.2,
             "#de77ae"
            ],
            [
             0.3,
             "#f1b6da"
            ],
            [
             0.4,
             "#fde0ef"
            ],
            [
             0.5,
             "#f7f7f7"
            ],
            [
             0.6,
             "#e6f5d0"
            ],
            [
             0.7,
             "#b8e186"
            ],
            [
             0.8,
             "#7fbc41"
            ],
            [
             0.9,
             "#4d9221"
            ],
            [
             1,
             "#276419"
            ]
           ],
           "sequential": [
            [
             0,
             "#0d0887"
            ],
            [
             0.1111111111111111,
             "#46039f"
            ],
            [
             0.2222222222222222,
             "#7201a8"
            ],
            [
             0.3333333333333333,
             "#9c179e"
            ],
            [
             0.4444444444444444,
             "#bd3786"
            ],
            [
             0.5555555555555556,
             "#d8576b"
            ],
            [
             0.6666666666666666,
             "#ed7953"
            ],
            [
             0.7777777777777778,
             "#fb9f3a"
            ],
            [
             0.8888888888888888,
             "#fdca26"
            ],
            [
             1,
             "#f0f921"
            ]
           ],
           "sequentialminus": [
            [
             0,
             "#0d0887"
            ],
            [
             0.1111111111111111,
             "#46039f"
            ],
            [
             0.2222222222222222,
             "#7201a8"
            ],
            [
             0.3333333333333333,
             "#9c179e"
            ],
            [
             0.4444444444444444,
             "#bd3786"
            ],
            [
             0.5555555555555556,
             "#d8576b"
            ],
            [
             0.6666666666666666,
             "#ed7953"
            ],
            [
             0.7777777777777778,
             "#fb9f3a"
            ],
            [
             0.8888888888888888,
             "#fdca26"
            ],
            [
             1,
             "#f0f921"
            ]
           ]
          },
          "colorway": [
           "#636efa",
           "#EF553B",
           "#00cc96",
           "#ab63fa",
           "#FFA15A",
           "#19d3f3",
           "#FF6692",
           "#B6E880",
           "#FF97FF",
           "#FECB52"
          ],
          "font": {
           "color": "#2a3f5f"
          },
          "geo": {
           "bgcolor": "white",
           "lakecolor": "white",
           "landcolor": "#E5ECF6",
           "showlakes": true,
           "showland": true,
           "subunitcolor": "white"
          },
          "hoverlabel": {
           "align": "left"
          },
          "hovermode": "closest",
          "mapbox": {
           "style": "light"
          },
          "paper_bgcolor": "white",
          "plot_bgcolor": "#E5ECF6",
          "polar": {
           "angularaxis": {
            "gridcolor": "white",
            "linecolor": "white",
            "ticks": ""
           },
           "bgcolor": "#E5ECF6",
           "radialaxis": {
            "gridcolor": "white",
            "linecolor": "white",
            "ticks": ""
           }
          },
          "scene": {
           "xaxis": {
            "backgroundcolor": "#E5ECF6",
            "gridcolor": "white",
            "gridwidth": 2,
            "linecolor": "white",
            "showbackground": true,
            "ticks": "",
            "zerolinecolor": "white"
           },
           "yaxis": {
            "backgroundcolor": "#E5ECF6",
            "gridcolor": "white",
            "gridwidth": 2,
            "linecolor": "white",
            "showbackground": true,
            "ticks": "",
            "zerolinecolor": "white"
           },
           "zaxis": {
            "backgroundcolor": "#E5ECF6",
            "gridcolor": "white",
            "gridwidth": 2,
            "linecolor": "white",
            "showbackground": true,
            "ticks": "",
            "zerolinecolor": "white"
           }
          },
          "shapedefaults": {
           "line": {
            "color": "#2a3f5f"
           }
          },
          "ternary": {
           "aaxis": {
            "gridcolor": "white",
            "linecolor": "white",
            "ticks": ""
           },
           "baxis": {
            "gridcolor": "white",
            "linecolor": "white",
            "ticks": ""
           },
           "bgcolor": "#E5ECF6",
           "caxis": {
            "gridcolor": "white",
            "linecolor": "white",
            "ticks": ""
           }
          },
          "title": {
           "x": 0.05
          },
          "xaxis": {
           "automargin": true,
           "gridcolor": "white",
           "linecolor": "white",
           "ticks": "",
           "title": {
            "standoff": 15
           },
           "zerolinecolor": "white",
           "zerolinewidth": 2
          },
          "yaxis": {
           "automargin": true,
           "gridcolor": "white",
           "linecolor": "white",
           "ticks": "",
           "title": {
            "standoff": 15
           },
           "zerolinecolor": "white",
           "zerolinewidth": 2
          }
         }
        },
        "width": 1000,
        "xaxis": {
         "linecolor": "rgb(255,255,255)",
         "showgrid": false,
         "showline": true
        },
        "yaxis": {
         "showgrid": false
        }
       }
      }
     },
     "metadata": {},
     "output_type": "display_data"
    }
   ],
   "source": [
    "linealPlot(agrup)"
   ]
  },
  {
   "cell_type": "code",
   "execution_count": null,
   "metadata": {},
   "outputs": [
    {
     "data": {
      "text/html": [
       "<div>\n",
       "<style scoped>\n",
       "    .dataframe tbody tr th:only-of-type {\n",
       "        vertical-align: middle;\n",
       "    }\n",
       "\n",
       "    .dataframe tbody tr th {\n",
       "        vertical-align: top;\n",
       "    }\n",
       "\n",
       "    .dataframe thead th {\n",
       "        text-align: right;\n",
       "    }\n",
       "</style>\n",
       "<table border=\"1\" class=\"dataframe\">\n",
       "  <thead>\n",
       "    <tr style=\"text-align: right;\">\n",
       "      <th></th>\n",
       "      <th>Year</th>\n",
       "      <th>CO2_emission</th>\n",
       "    </tr>\n",
       "  </thead>\n",
       "  <tbody>\n",
       "    <tr>\n",
       "      <th>0</th>\n",
       "      <td>1980</td>\n",
       "      <td>22515.526117</td>\n",
       "    </tr>\n",
       "    <tr>\n",
       "      <th>1</th>\n",
       "      <td>1981</td>\n",
       "      <td>22793.185797</td>\n",
       "    </tr>\n",
       "    <tr>\n",
       "      <th>2</th>\n",
       "      <td>1982</td>\n",
       "      <td>22418.625375</td>\n",
       "    </tr>\n",
       "    <tr>\n",
       "      <th>3</th>\n",
       "      <td>1983</td>\n",
       "      <td>22375.213750</td>\n",
       "    </tr>\n",
       "    <tr>\n",
       "      <th>4</th>\n",
       "      <td>1984</td>\n",
       "      <td>22569.723621</td>\n",
       "    </tr>\n",
       "    <tr>\n",
       "      <th>5</th>\n",
       "      <td>1985</td>\n",
       "      <td>23693.758774</td>\n",
       "    </tr>\n",
       "    <tr>\n",
       "      <th>6</th>\n",
       "      <td>1986</td>\n",
       "      <td>23991.071222</td>\n",
       "    </tr>\n",
       "    <tr>\n",
       "      <th>7</th>\n",
       "      <td>1987</td>\n",
       "      <td>24474.732453</td>\n",
       "    </tr>\n",
       "    <tr>\n",
       "      <th>8</th>\n",
       "      <td>1988</td>\n",
       "      <td>25255.051964</td>\n",
       "    </tr>\n",
       "    <tr>\n",
       "      <th>9</th>\n",
       "      <td>1989</td>\n",
       "      <td>25933.753458</td>\n",
       "    </tr>\n",
       "    <tr>\n",
       "      <th>10</th>\n",
       "      <td>1990</td>\n",
       "      <td>26123.376277</td>\n",
       "    </tr>\n",
       "    <tr>\n",
       "      <th>11</th>\n",
       "      <td>1991</td>\n",
       "      <td>26711.924835</td>\n",
       "    </tr>\n",
       "    <tr>\n",
       "      <th>12</th>\n",
       "      <td>1992</td>\n",
       "      <td>28035.119811</td>\n",
       "    </tr>\n",
       "    <tr>\n",
       "      <th>13</th>\n",
       "      <td>1993</td>\n",
       "      <td>23464.211634</td>\n",
       "    </tr>\n",
       "    <tr>\n",
       "      <th>14</th>\n",
       "      <td>1994</td>\n",
       "      <td>23427.125358</td>\n",
       "    </tr>\n",
       "    <tr>\n",
       "      <th>15</th>\n",
       "      <td>1995</td>\n",
       "      <td>23599.088545</td>\n",
       "    </tr>\n",
       "    <tr>\n",
       "      <th>16</th>\n",
       "      <td>1996</td>\n",
       "      <td>24086.905819</td>\n",
       "    </tr>\n",
       "    <tr>\n",
       "      <th>17</th>\n",
       "      <td>1997</td>\n",
       "      <td>24449.035770</td>\n",
       "    </tr>\n",
       "    <tr>\n",
       "      <th>18</th>\n",
       "      <td>1998</td>\n",
       "      <td>24519.204518</td>\n",
       "    </tr>\n",
       "    <tr>\n",
       "      <th>19</th>\n",
       "      <td>1999</td>\n",
       "      <td>24558.518267</td>\n",
       "    </tr>\n",
       "    <tr>\n",
       "      <th>20</th>\n",
       "      <td>2000</td>\n",
       "      <td>24901.270204</td>\n",
       "    </tr>\n",
       "    <tr>\n",
       "      <th>21</th>\n",
       "      <td>2001</td>\n",
       "      <td>25664.434808</td>\n",
       "    </tr>\n",
       "    <tr>\n",
       "      <th>22</th>\n",
       "      <td>2002</td>\n",
       "      <td>25869.462943</td>\n",
       "    </tr>\n",
       "    <tr>\n",
       "      <th>23</th>\n",
       "      <td>2003</td>\n",
       "      <td>26294.617044</td>\n",
       "    </tr>\n",
       "    <tr>\n",
       "      <th>24</th>\n",
       "      <td>2004</td>\n",
       "      <td>27448.309373</td>\n",
       "    </tr>\n",
       "    <tr>\n",
       "      <th>25</th>\n",
       "      <td>2005</td>\n",
       "      <td>28880.823099</td>\n",
       "    </tr>\n",
       "    <tr>\n",
       "      <th>26</th>\n",
       "      <td>2006</td>\n",
       "      <td>29760.144606</td>\n",
       "    </tr>\n",
       "    <tr>\n",
       "      <th>27</th>\n",
       "      <td>2007</td>\n",
       "      <td>30783.193334</td>\n",
       "    </tr>\n",
       "    <tr>\n",
       "      <th>28</th>\n",
       "      <td>2008</td>\n",
       "      <td>31110.312699</td>\n",
       "    </tr>\n",
       "    <tr>\n",
       "      <th>29</th>\n",
       "      <td>2009</td>\n",
       "      <td>31818.253789</td>\n",
       "    </tr>\n",
       "    <tr>\n",
       "      <th>30</th>\n",
       "      <td>2010</td>\n",
       "      <td>31644.630085</td>\n",
       "    </tr>\n",
       "    <tr>\n",
       "      <th>31</th>\n",
       "      <td>2011</td>\n",
       "      <td>33542.108226</td>\n",
       "    </tr>\n",
       "    <tr>\n",
       "      <th>32</th>\n",
       "      <td>2012</td>\n",
       "      <td>34529.285588</td>\n",
       "    </tr>\n",
       "    <tr>\n",
       "      <th>33</th>\n",
       "      <td>2013</td>\n",
       "      <td>35318.367243</td>\n",
       "    </tr>\n",
       "    <tr>\n",
       "      <th>34</th>\n",
       "      <td>2014</td>\n",
       "      <td>35734.856745</td>\n",
       "    </tr>\n",
       "    <tr>\n",
       "      <th>35</th>\n",
       "      <td>2015</td>\n",
       "      <td>35789.212548</td>\n",
       "    </tr>\n",
       "    <tr>\n",
       "      <th>36</th>\n",
       "      <td>2016</td>\n",
       "      <td>35646.558088</td>\n",
       "    </tr>\n",
       "    <tr>\n",
       "      <th>37</th>\n",
       "      <td>2017</td>\n",
       "      <td>35467.333199</td>\n",
       "    </tr>\n",
       "    <tr>\n",
       "      <th>38</th>\n",
       "      <td>2018</td>\n",
       "      <td>35897.853272</td>\n",
       "    </tr>\n",
       "    <tr>\n",
       "      <th>39</th>\n",
       "      <td>2019</td>\n",
       "      <td>36479.885993</td>\n",
       "    </tr>\n",
       "  </tbody>\n",
       "</table>\n",
       "</div>"
      ],
      "text/plain": [
       "    Year  CO2_emission\n",
       "0   1980  22515.526117\n",
       "1   1981  22793.185797\n",
       "2   1982  22418.625375\n",
       "3   1983  22375.213750\n",
       "4   1984  22569.723621\n",
       "5   1985  23693.758774\n",
       "6   1986  23991.071222\n",
       "7   1987  24474.732453\n",
       "8   1988  25255.051964\n",
       "9   1989  25933.753458\n",
       "10  1990  26123.376277\n",
       "11  1991  26711.924835\n",
       "12  1992  28035.119811\n",
       "13  1993  23464.211634\n",
       "14  1994  23427.125358\n",
       "15  1995  23599.088545\n",
       "16  1996  24086.905819\n",
       "17  1997  24449.035770\n",
       "18  1998  24519.204518\n",
       "19  1999  24558.518267\n",
       "20  2000  24901.270204\n",
       "21  2001  25664.434808\n",
       "22  2002  25869.462943\n",
       "23  2003  26294.617044\n",
       "24  2004  27448.309373\n",
       "25  2005  28880.823099\n",
       "26  2006  29760.144606\n",
       "27  2007  30783.193334\n",
       "28  2008  31110.312699\n",
       "29  2009  31818.253789\n",
       "30  2010  31644.630085\n",
       "31  2011  33542.108226\n",
       "32  2012  34529.285588\n",
       "33  2013  35318.367243\n",
       "34  2014  35734.856745\n",
       "35  2015  35789.212548\n",
       "36  2016  35646.558088\n",
       "37  2017  35467.333199\n",
       "38  2018  35897.853272\n",
       "39  2019  36479.885993"
      ]
     },
     "execution_count": 587,
     "metadata": {},
     "output_type": "execute_result"
    }
   ],
   "source": [
    "agrup"
   ]
  },
  {
   "cell_type": "code",
   "execution_count": null,
   "metadata": {},
   "outputs": [],
   "source": [
    "import folium\n",
    "\n",
    "\n",
    "m = folium.Map(location=[40.965, -5.664])"
   ]
  },
  {
   "cell_type": "code",
   "execution_count": null,
   "metadata": {},
   "outputs": [
    {
     "data": {
      "text/html": [
       "<div style=\"width:100%;\"><div style=\"position:relative;width:100%;height:0;padding-bottom:60%;\"><span style=\"color:#565656\">Make this Notebook Trusted to load map: File -> Trust Notebook</span><iframe srcdoc=\"&lt;!DOCTYPE html&gt;\n",
       "&lt;head&gt;    \n",
       "    &lt;meta http-equiv=&quot;content-type&quot; content=&quot;text/html; charset=UTF-8&quot; /&gt;\n",
       "    \n",
       "        &lt;script&gt;\n",
       "            L_NO_TOUCH = false;\n",
       "            L_DISABLE_3D = false;\n",
       "        &lt;/script&gt;\n",
       "    \n",
       "    &lt;style&gt;html, body {width: 100%;height: 100%;margin: 0;padding: 0;}&lt;/style&gt;\n",
       "    &lt;style&gt;#map {position:absolute;top:0;bottom:0;right:0;left:0;}&lt;/style&gt;\n",
       "    &lt;script src=&quot;https://cdn.jsdelivr.net/npm/leaflet@1.6.0/dist/leaflet.js&quot;&gt;&lt;/script&gt;\n",
       "    &lt;script src=&quot;https://code.jquery.com/jquery-1.12.4.min.js&quot;&gt;&lt;/script&gt;\n",
       "    &lt;script src=&quot;https://maxcdn.bootstrapcdn.com/bootstrap/3.2.0/js/bootstrap.min.js&quot;&gt;&lt;/script&gt;\n",
       "    &lt;script src=&quot;https://cdnjs.cloudflare.com/ajax/libs/Leaflet.awesome-markers/2.0.2/leaflet.awesome-markers.js&quot;&gt;&lt;/script&gt;\n",
       "    &lt;link rel=&quot;stylesheet&quot; href=&quot;https://cdn.jsdelivr.net/npm/leaflet@1.6.0/dist/leaflet.css&quot;/&gt;\n",
       "    &lt;link rel=&quot;stylesheet&quot; href=&quot;https://maxcdn.bootstrapcdn.com/bootstrap/3.2.0/css/bootstrap.min.css&quot;/&gt;\n",
       "    &lt;link rel=&quot;stylesheet&quot; href=&quot;https://maxcdn.bootstrapcdn.com/bootstrap/3.2.0/css/bootstrap-theme.min.css&quot;/&gt;\n",
       "    &lt;link rel=&quot;stylesheet&quot; href=&quot;https://maxcdn.bootstrapcdn.com/font-awesome/4.6.3/css/font-awesome.min.css&quot;/&gt;\n",
       "    &lt;link rel=&quot;stylesheet&quot; href=&quot;https://cdnjs.cloudflare.com/ajax/libs/Leaflet.awesome-markers/2.0.2/leaflet.awesome-markers.css&quot;/&gt;\n",
       "    &lt;link rel=&quot;stylesheet&quot; href=&quot;https://cdn.jsdelivr.net/gh/python-visualization/folium/folium/templates/leaflet.awesome.rotate.min.css&quot;/&gt;\n",
       "    \n",
       "            &lt;meta name=&quot;viewport&quot; content=&quot;width=device-width,\n",
       "                initial-scale=1.0, maximum-scale=1.0, user-scalable=no&quot; /&gt;\n",
       "            &lt;style&gt;\n",
       "                #map_046b825a86a059e49a981a770a94d38b {\n",
       "                    position: relative;\n",
       "                    width: 100.0%;\n",
       "                    height: 100.0%;\n",
       "                    left: 0.0%;\n",
       "                    top: 0.0%;\n",
       "                }\n",
       "            &lt;/style&gt;\n",
       "        \n",
       "&lt;/head&gt;\n",
       "&lt;body&gt;    \n",
       "    \n",
       "            &lt;div class=&quot;folium-map&quot; id=&quot;map_046b825a86a059e49a981a770a94d38b&quot; &gt;&lt;/div&gt;\n",
       "        \n",
       "&lt;/body&gt;\n",
       "&lt;script&gt;    \n",
       "    \n",
       "            var map_046b825a86a059e49a981a770a94d38b = L.map(\n",
       "                &quot;map_046b825a86a059e49a981a770a94d38b&quot;,\n",
       "                {\n",
       "                    center: [40.965, -5.664],\n",
       "                    crs: L.CRS.EPSG3857,\n",
       "                    zoom: 10,\n",
       "                    zoomControl: true,\n",
       "                    preferCanvas: false,\n",
       "                }\n",
       "            );\n",
       "\n",
       "            \n",
       "\n",
       "        \n",
       "    \n",
       "            var tile_layer_54a047411783eab4a734755179b20756 = L.tileLayer(\n",
       "                &quot;https://{s}.tile.openstreetmap.org/{z}/{x}/{y}.png&quot;,\n",
       "                {&quot;attribution&quot;: &quot;Data by \\u0026copy; \\u003ca href=\\&quot;http://openstreetmap.org\\&quot;\\u003eOpenStreetMap\\u003c/a\\u003e, under \\u003ca href=\\&quot;http://www.openstreetmap.org/copyright\\&quot;\\u003eODbL\\u003c/a\\u003e.&quot;, &quot;detectRetina&quot;: false, &quot;maxNativeZoom&quot;: 18, &quot;maxZoom&quot;: 18, &quot;minZoom&quot;: 0, &quot;noWrap&quot;: false, &quot;opacity&quot;: 1, &quot;subdomains&quot;: &quot;abc&quot;, &quot;tms&quot;: false}\n",
       "            ).addTo(map_046b825a86a059e49a981a770a94d38b);\n",
       "        \n",
       "&lt;/script&gt;\" style=\"position:absolute;width:100%;height:100%;left:0;top:0;border:none !important;\" allowfullscreen webkitallowfullscreen mozallowfullscreen></iframe></div></div>"
      ],
      "text/plain": [
       "<folium.folium.Map at 0x1dd84c2be50>"
      ]
     },
     "execution_count": 589,
     "metadata": {},
     "output_type": "execute_result"
    }
   ],
   "source": [
    "m"
   ]
  }
 ],
 "metadata": {
  "kernelspec": {
   "display_name": "Python 3.10.4 64-bit",
   "language": "python",
   "name": "python3"
  },
  "language_info": {
   "codemirror_mode": {
    "name": "ipython",
    "version": 3
   },
   "file_extension": ".py",
   "mimetype": "text/x-python",
   "name": "python",
   "nbconvert_exporter": "python",
   "pygments_lexer": "ipython3",
   "version": "3.10.4"
  },
  "orig_nbformat": 4,
  "vscode": {
   "interpreter": {
    "hash": "a42ccb73e7d9bfdf27e036f1d2b8b681e55fc0743cc5586bc2474d4a60f4b886"
   }
  }
 },
 "nbformat": 4,
 "nbformat_minor": 2
}
