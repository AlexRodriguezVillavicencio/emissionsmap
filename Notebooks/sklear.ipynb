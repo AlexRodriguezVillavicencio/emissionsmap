{
 "cells": [
  {
   "cell_type": "code",
   "execution_count": 218,
   "metadata": {},
   "outputs": [],
   "source": [
    "import numpy as np\n",
    "import matplotlib.pyplot as plt\n",
    "import matplotlib.colors\n",
    "from mpl_toolkits.mplot3d import axes3d\n",
    "import sklearn.datasets as dt\n",
    "from sklearn.neighbors import KernelDensity\n",
    "import pandas as pd\n",
    "import seaborn as sns\n",
    "from IPython.display import clear_output\n",
    "import datetime\n",
    "import hashlib\n",
    "sns.set()"
   ]
  },
  {
   "cell_type": "code",
   "execution_count": 519,
   "metadata": {},
   "outputs": [],
   "source": [
    "def norcampo (df):\n",
    "    \n",
    "    for i in df.columns:\n",
    "        if i == \"Energy_type\":\n",
    "            df.rename(columns={i:\"Combustible\"}, inplace=True)\n",
    "        elif \"Energ\" in i:\n",
    "            nom = i + \" \" + \"TWh\"\n",
    "            df[nom] = df[i] / 3.412e+12\n",
    "\n",
    "    return df"
   ]
  },
  {
   "cell_type": "code",
   "execution_count": 520,
   "metadata": {},
   "outputs": [],
   "source": [
    "datos = pd.read_csv('D:\\emissionsmap\\documentation\\data\\energyco2.csv', sep=',', low_memory=False, encoding='utf-8')"
   ]
  },
  {
   "cell_type": "code",
   "execution_count": 521,
   "metadata": {},
   "outputs": [],
   "source": [
    "datosWorld = datos[(datos['Energy_type'] == 'all_energy_types') & (datos['Country'] != 'World')]\n",
    "datosCountry = datos[(datos['Energy_type'] == 'all_energy_types') & (datos['Country'] == 'World')]"
   ]
  },
  {
   "cell_type": "code",
   "execution_count": 522,
   "metadata": {},
   "outputs": [
    {
     "name": "stderr",
     "output_type": "stream",
     "text": [
      "C:\\Users\\Admin\\AppData\\Local\\Temp\\ipykernel_36288\\1383027141.py:1: SettingWithCopyWarning:\n",
      "\n",
      "\n",
      "A value is trying to be set on a copy of a slice from a DataFrame\n",
      "\n",
      "See the caveats in the documentation: https://pandas.pydata.org/pandas-docs/stable/user_guide/indexing.html#returning-a-view-versus-a-copy\n",
      "\n"
     ]
    }
   ],
   "source": [
    "datosWorld.drop(columns={'Unnamed: 0'}, inplace=True)\n",
    "#datosCountry.drop(columns={'Unnamed: 0'}, inplace=True)"
   ]
  },
  {
   "cell_type": "code",
   "execution_count": 523,
   "metadata": {},
   "outputs": [
    {
     "data": {
      "text/plain": [
       "Country                           0\n",
       "Energy_type                       0\n",
       "Year                              0\n",
       "Energy_consumption              647\n",
       "Energy_production               647\n",
       "GDP                            2569\n",
       "Population                     1571\n",
       "Energy_intensity_per_capita     847\n",
       "Energy_intensity_by_GDP         847\n",
       "CO2_emission                    869\n",
       "dtype: int64"
      ]
     },
     "execution_count": 523,
     "metadata": {},
     "output_type": "execute_result"
    }
   ],
   "source": [
    "datosWorld.isnull().sum() # cantidad de datos faltantes en cada columna"
   ]
  },
  {
   "cell_type": "code",
   "execution_count": 425,
   "metadata": {},
   "outputs": [
    {
     "data": {
      "text/plain": [
       "53137"
      ]
     },
     "execution_count": 425,
     "metadata": {},
     "output_type": "execute_result"
    }
   ],
   "source": [
    "datosWorld.isnull().sum().sum() #total de datos faltantes"
   ]
  },
  {
   "cell_type": "code",
   "execution_count": 524,
   "metadata": {},
   "outputs": [
    {
     "name": "stdout",
     "output_type": "stream",
     "text": [
      "<class 'pandas.core.frame.DataFrame'>\n",
      "Int64Index: 9200 entries, 6 to 55434\n",
      "Data columns (total 10 columns):\n",
      " #   Column                       Non-Null Count  Dtype  \n",
      "---  ------                       --------------  -----  \n",
      " 0   Country                      9200 non-null   object \n",
      " 1   Energy_type                  9200 non-null   object \n",
      " 2   Year                         9200 non-null   int64  \n",
      " 3   Energy_consumption           8553 non-null   float64\n",
      " 4   Energy_production            8553 non-null   float64\n",
      " 5   GDP                          6631 non-null   float64\n",
      " 6   Population                   7629 non-null   float64\n",
      " 7   Energy_intensity_per_capita  8353 non-null   float64\n",
      " 8   Energy_intensity_by_GDP      8353 non-null   float64\n",
      " 9   CO2_emission                 8331 non-null   float64\n",
      "dtypes: float64(7), int64(1), object(2)\n",
      "memory usage: 790.6+ KB\n"
     ]
    }
   ],
   "source": [
    "datosWorld.info()"
   ]
  },
  {
   "cell_type": "code",
   "execution_count": 525,
   "metadata": {},
   "outputs": [
    {
     "name": "stderr",
     "output_type": "stream",
     "text": [
      "C:\\Users\\Admin\\AppData\\Local\\Temp\\ipykernel_36288\\2450735850.py:1: SettingWithCopyWarning:\n",
      "\n",
      "\n",
      "A value is trying to be set on a copy of a slice from a DataFrame.\n",
      "Try using .loc[row_indexer,col_indexer] = value instead\n",
      "\n",
      "See the caveats in the documentation: https://pandas.pydata.org/pandas-docs/stable/user_guide/indexing.html#returning-a-view-versus-a-copy\n",
      "\n",
      "C:\\Users\\Admin\\AppData\\Local\\Temp\\ipykernel_36288\\2450735850.py:2: SettingWithCopyWarning:\n",
      "\n",
      "\n",
      "A value is trying to be set on a copy of a slice from a DataFrame.\n",
      "Try using .loc[row_indexer,col_indexer] = value instead\n",
      "\n",
      "See the caveats in the documentation: https://pandas.pydata.org/pandas-docs/stable/user_guide/indexing.html#returning-a-view-versus-a-copy\n",
      "\n"
     ]
    }
   ],
   "source": [
    "datosWorld['Id']  = datosWorld['Year'].apply(lambda x: str(x))\n",
    "datosWorld['Id_fin'] = datosWorld['Id'] + datosWorld['Country']"
   ]
  },
  {
   "cell_type": "code",
   "execution_count": 526,
   "metadata": {},
   "outputs": [
    {
     "name": "stderr",
     "output_type": "stream",
     "text": [
      "C:\\Users\\Admin\\AppData\\Local\\Temp\\ipykernel_36288\\518957544.py:1: SettingWithCopyWarning:\n",
      "\n",
      "\n",
      "A value is trying to be set on a copy of a slice from a DataFrame.\n",
      "Try using .loc[row_indexer,col_indexer] = value instead\n",
      "\n",
      "See the caveats in the documentation: https://pandas.pydata.org/pandas-docs/stable/user_guide/indexing.html#returning-a-view-versus-a-copy\n",
      "\n"
     ]
    }
   ],
   "source": [
    "datosWorld['Id_hash'] = datosWorld['Id_fin'].apply(lambda x: hashlib.md5(x.encode()).hexdigest())"
   ]
  },
  {
   "cell_type": "code",
   "execution_count": 527,
   "metadata": {},
   "outputs": [],
   "source": [
    "col = datosWorld.pop(\"Id_hash\")\n",
    "datosWorld.insert(3, col.name, col)\n"
   ]
  },
  {
   "cell_type": "code",
   "execution_count": 528,
   "metadata": {},
   "outputs": [],
   "source": [
    "datosWorld = datosWorld.drop(columns=['Id', 'Id_fin'])\n",
    "data_fin = datosWorld"
   ]
  },
  {
   "cell_type": "code",
   "execution_count": 529,
   "metadata": {},
   "outputs": [],
   "source": [
    "datosWorld = datosWorld.drop(columns=['Country', 'Energy_type', 'Year'])"
   ]
  },
  {
   "cell_type": "code",
   "execution_count": 530,
   "metadata": {},
   "outputs": [],
   "source": [
    "datosWorld.reset_index(inplace=True, drop=True)"
   ]
  },
  {
   "cell_type": "code",
   "execution_count": 531,
   "metadata": {},
   "outputs": [
    {
     "data": {
      "text/html": [
       "<div>\n",
       "<style scoped>\n",
       "    .dataframe tbody tr th:only-of-type {\n",
       "        vertical-align: middle;\n",
       "    }\n",
       "\n",
       "    .dataframe tbody tr th {\n",
       "        vertical-align: top;\n",
       "    }\n",
       "\n",
       "    .dataframe thead th {\n",
       "        text-align: right;\n",
       "    }\n",
       "</style>\n",
       "<table border=\"1\" class=\"dataframe\">\n",
       "  <thead>\n",
       "    <tr style=\"text-align: right;\">\n",
       "      <th></th>\n",
       "      <th>Id_hash</th>\n",
       "      <th>Energy_consumption</th>\n",
       "      <th>Energy_production</th>\n",
       "      <th>GDP</th>\n",
       "      <th>Population</th>\n",
       "      <th>Energy_intensity_per_capita</th>\n",
       "      <th>Energy_intensity_by_GDP</th>\n",
       "      <th>CO2_emission</th>\n",
       "    </tr>\n",
       "  </thead>\n",
       "  <tbody>\n",
       "    <tr>\n",
       "      <th>0</th>\n",
       "      <td>2ecafd051f51dfb0f62b8ea2180c2590</td>\n",
       "      <td>0.026583</td>\n",
       "      <td>0.072561</td>\n",
       "      <td>NaN</td>\n",
       "      <td>13356.500</td>\n",
       "      <td>1.990283</td>\n",
       "      <td>0.000000</td>\n",
       "      <td>NaN</td>\n",
       "    </tr>\n",
       "    <tr>\n",
       "      <th>1</th>\n",
       "      <td>3bce3ee1ec02d4da99a91a238fca3cd0</td>\n",
       "      <td>0.162982</td>\n",
       "      <td>0.155562</td>\n",
       "      <td>NaN</td>\n",
       "      <td>2682.700</td>\n",
       "      <td>60.752906</td>\n",
       "      <td>0.000000</td>\n",
       "      <td>NaN</td>\n",
       "    </tr>\n",
       "    <tr>\n",
       "      <th>2</th>\n",
       "      <td>3a0432f7cf6e15e3493e5e061a2acad0</td>\n",
       "      <td>0.780695</td>\n",
       "      <td>2.803017</td>\n",
       "      <td>NaN</td>\n",
       "      <td>19221.700</td>\n",
       "      <td>40.615303</td>\n",
       "      <td>0.000000</td>\n",
       "      <td>NaN</td>\n",
       "    </tr>\n",
       "    <tr>\n",
       "      <th>3</th>\n",
       "      <td>fbbe8dcba0b3ef5aed7328916301e503</td>\n",
       "      <td>0.005893</td>\n",
       "      <td>0.000000</td>\n",
       "      <td>NaN</td>\n",
       "      <td>32.646</td>\n",
       "      <td>180.515604</td>\n",
       "      <td>0.000000</td>\n",
       "      <td>NaN</td>\n",
       "    </tr>\n",
       "    <tr>\n",
       "      <th>4</th>\n",
       "      <td>292a7d7b0907c5eca7e35d3825f09b0b</td>\n",
       "      <td>0.058366</td>\n",
       "      <td>0.335098</td>\n",
       "      <td>NaN</td>\n",
       "      <td>8341.290</td>\n",
       "      <td>6.997257</td>\n",
       "      <td>0.000000</td>\n",
       "      <td>NaN</td>\n",
       "    </tr>\n",
       "    <tr>\n",
       "      <th>...</th>\n",
       "      <td>...</td>\n",
       "      <td>...</td>\n",
       "      <td>...</td>\n",
       "      <td>...</td>\n",
       "      <td>...</td>\n",
       "      <td>...</td>\n",
       "      <td>...</td>\n",
       "      <td>...</td>\n",
       "    </tr>\n",
       "    <tr>\n",
       "      <th>9195</th>\n",
       "      <td>245124a1c823dc26c546284c073a60fb</td>\n",
       "      <td>0.019436</td>\n",
       "      <td>0.000000</td>\n",
       "      <td>NaN</td>\n",
       "      <td>NaN</td>\n",
       "      <td>0.000000</td>\n",
       "      <td>0.000000</td>\n",
       "      <td>1.273787</td>\n",
       "    </tr>\n",
       "    <tr>\n",
       "      <th>9196</th>\n",
       "      <td>4b6bd0969e31290698ac477e04e3a7cc</td>\n",
       "      <td>0.003712</td>\n",
       "      <td>0.000000</td>\n",
       "      <td>NaN</td>\n",
       "      <td>NaN</td>\n",
       "      <td>0.000000</td>\n",
       "      <td>0.000000</td>\n",
       "      <td>0.263038</td>\n",
       "    </tr>\n",
       "    <tr>\n",
       "      <th>9197</th>\n",
       "      <td>5cdac236da06100ca5ed65f07395268e</td>\n",
       "      <td>0.159020</td>\n",
       "      <td>0.133273</td>\n",
       "      <td>53.0838</td>\n",
       "      <td>29162.200</td>\n",
       "      <td>5.452938</td>\n",
       "      <td>2.995635</td>\n",
       "      <td>8.292505</td>\n",
       "    </tr>\n",
       "    <tr>\n",
       "      <th>9198</th>\n",
       "      <td>9bfb0677f9a1f98458fe74f88825dc4f</td>\n",
       "      <td>0.207097</td>\n",
       "      <td>0.148004</td>\n",
       "      <td>247.1819</td>\n",
       "      <td>17873.850</td>\n",
       "      <td>11.586567</td>\n",
       "      <td>0.837831</td>\n",
       "      <td>7.096290</td>\n",
       "    </tr>\n",
       "    <tr>\n",
       "      <th>9199</th>\n",
       "      <td>3997c7c7530d0771409d285a6e1c265a</td>\n",
       "      <td>0.168651</td>\n",
       "      <td>0.143462</td>\n",
       "      <td>37.6204</td>\n",
       "      <td>14654.200</td>\n",
       "      <td>11.508701</td>\n",
       "      <td>4.482962</td>\n",
       "      <td>8.964759</td>\n",
       "    </tr>\n",
       "  </tbody>\n",
       "</table>\n",
       "<p>9200 rows × 8 columns</p>\n",
       "</div>"
      ],
      "text/plain": [
       "                               Id_hash  Energy_consumption  Energy_production  \\\n",
       "0     2ecafd051f51dfb0f62b8ea2180c2590            0.026583           0.072561   \n",
       "1     3bce3ee1ec02d4da99a91a238fca3cd0            0.162982           0.155562   \n",
       "2     3a0432f7cf6e15e3493e5e061a2acad0            0.780695           2.803017   \n",
       "3     fbbe8dcba0b3ef5aed7328916301e503            0.005893           0.000000   \n",
       "4     292a7d7b0907c5eca7e35d3825f09b0b            0.058366           0.335098   \n",
       "...                                ...                 ...                ...   \n",
       "9195  245124a1c823dc26c546284c073a60fb            0.019436           0.000000   \n",
       "9196  4b6bd0969e31290698ac477e04e3a7cc            0.003712           0.000000   \n",
       "9197  5cdac236da06100ca5ed65f07395268e            0.159020           0.133273   \n",
       "9198  9bfb0677f9a1f98458fe74f88825dc4f            0.207097           0.148004   \n",
       "9199  3997c7c7530d0771409d285a6e1c265a            0.168651           0.143462   \n",
       "\n",
       "           GDP  Population  Energy_intensity_per_capita  \\\n",
       "0          NaN   13356.500                     1.990283   \n",
       "1          NaN    2682.700                    60.752906   \n",
       "2          NaN   19221.700                    40.615303   \n",
       "3          NaN      32.646                   180.515604   \n",
       "4          NaN    8341.290                     6.997257   \n",
       "...        ...         ...                          ...   \n",
       "9195       NaN         NaN                     0.000000   \n",
       "9196       NaN         NaN                     0.000000   \n",
       "9197   53.0838   29162.200                     5.452938   \n",
       "9198  247.1819   17873.850                    11.586567   \n",
       "9199   37.6204   14654.200                    11.508701   \n",
       "\n",
       "      Energy_intensity_by_GDP  CO2_emission  \n",
       "0                    0.000000           NaN  \n",
       "1                    0.000000           NaN  \n",
       "2                    0.000000           NaN  \n",
       "3                    0.000000           NaN  \n",
       "4                    0.000000           NaN  \n",
       "...                       ...           ...  \n",
       "9195                 0.000000      1.273787  \n",
       "9196                 0.000000      0.263038  \n",
       "9197                 2.995635      8.292505  \n",
       "9198                 0.837831      7.096290  \n",
       "9199                 4.482962      8.964759  \n",
       "\n",
       "[9200 rows x 8 columns]"
      ]
     },
     "execution_count": 531,
     "metadata": {},
     "output_type": "execute_result"
    }
   ],
   "source": [
    "datosWorld"
   ]
  },
  {
   "cell_type": "code",
   "execution_count": 532,
   "metadata": {},
   "outputs": [],
   "source": [
    "columnas = datosWorld.columns"
   ]
  },
  {
   "cell_type": "code",
   "execution_count": 533,
   "metadata": {},
   "outputs": [],
   "source": [
    "#conjunto de variables de entrada\n",
    "X = datosWorld.iloc[:,1:].values"
   ]
  },
  {
   "cell_type": "code",
   "execution_count": 534,
   "metadata": {},
   "outputs": [
    {
     "data": {
      "text/plain": [
       "array([[2.65832167e-02, 7.25611561e-02,            nan, ...,\n",
       "        1.99028313e+00, 0.00000000e+00,            nan],\n",
       "       [1.62981822e-01, 1.55561620e-01,            nan, ...,\n",
       "        6.07529063e+01, 0.00000000e+00,            nan],\n",
       "       [7.80695167e-01, 2.80301736e+00,            nan, ...,\n",
       "        4.06153029e+01, 0.00000000e+00,            nan],\n",
       "       ...,\n",
       "       [1.59019669e-01, 1.33273097e-01, 5.30838000e+01, ...,\n",
       "        5.45293802e+00, 2.99563462e+00, 8.29250523e+00],\n",
       "       [2.07096557e-01, 1.48003794e-01, 2.47181900e+02, ...,\n",
       "        1.15865668e+01, 8.37830589e-01, 7.09628982e+00],\n",
       "       [1.68650809e-01, 1.43462207e-01, 3.76204000e+01, ...,\n",
       "        1.15087012e+01, 4.48296160e+00, 8.96475902e+00]])"
      ]
     },
     "execution_count": 534,
     "metadata": {},
     "output_type": "execute_result"
    }
   ],
   "source": [
    "X"
   ]
  },
  {
   "cell_type": "code",
   "execution_count": 535,
   "metadata": {},
   "outputs": [],
   "source": [
    "Y = datosWorld.iloc[:,0].values"
   ]
  },
  {
   "cell_type": "code",
   "execution_count": 536,
   "metadata": {},
   "outputs": [
    {
     "data": {
      "text/plain": [
       "array(['2ecafd051f51dfb0f62b8ea2180c2590',\n",
       "       '3bce3ee1ec02d4da99a91a238fca3cd0',\n",
       "       '3a0432f7cf6e15e3493e5e061a2acad0', ...,\n",
       "       '5cdac236da06100ca5ed65f07395268e',\n",
       "       '9bfb0677f9a1f98458fe74f88825dc4f',\n",
       "       '3997c7c7530d0771409d285a6e1c265a'], dtype=object)"
      ]
     },
     "execution_count": 536,
     "metadata": {},
     "output_type": "execute_result"
    }
   ],
   "source": [
    "Y"
   ]
  },
  {
   "cell_type": "code",
   "execution_count": 537,
   "metadata": {},
   "outputs": [],
   "source": [
    "from sklearn.model_selection import train_test_split"
   ]
  },
  {
   "cell_type": "code",
   "execution_count": 538,
   "metadata": {},
   "outputs": [],
   "source": [
    "X_train, X_test, Y_train, Y_test = train_test_split(X, Y, test_size=0.20)"
   ]
  },
  {
   "cell_type": "code",
   "execution_count": 539,
   "metadata": {},
   "outputs": [],
   "source": [
    "from sklearn.impute import KNNImputer"
   ]
  },
  {
   "cell_type": "code",
   "execution_count": 540,
   "metadata": {},
   "outputs": [],
   "source": [
    "imputer = KNNImputer(n_neighbors=5, weights='uniform', metric='nan_euclidean')"
   ]
  },
  {
   "cell_type": "code",
   "execution_count": 541,
   "metadata": {},
   "outputs": [],
   "source": [
    "X_train = imputer.fit_transform(X_train)\n",
    "X_test = imputer.transform(X_test)"
   ]
  },
  {
   "cell_type": "code",
   "execution_count": 542,
   "metadata": {},
   "outputs": [],
   "source": [
    "X_train = pd.DataFrame(X_train)\n",
    "X_test = pd.DataFrame(X_test)\n",
    "Y_train = pd.DataFrame(Y_train)\n",
    "Y_test = pd.DataFrame(Y_test)"
   ]
  },
  {
   "cell_type": "code",
   "execution_count": 543,
   "metadata": {},
   "outputs": [],
   "source": [
    "X = pd.concat([X_train, X_test], axis=0)\n",
    "Y = pd.concat([Y_train, Y_test], axis=0)"
   ]
  },
  {
   "cell_type": "code",
   "execution_count": 544,
   "metadata": {},
   "outputs": [
    {
     "data": {
      "text/html": [
       "<div>\n",
       "<style scoped>\n",
       "    .dataframe tbody tr th:only-of-type {\n",
       "        vertical-align: middle;\n",
       "    }\n",
       "\n",
       "    .dataframe tbody tr th {\n",
       "        vertical-align: top;\n",
       "    }\n",
       "\n",
       "    .dataframe thead th {\n",
       "        text-align: right;\n",
       "    }\n",
       "</style>\n",
       "<table border=\"1\" class=\"dataframe\">\n",
       "  <thead>\n",
       "    <tr style=\"text-align: right;\">\n",
       "      <th></th>\n",
       "      <th>0</th>\n",
       "      <th>1</th>\n",
       "      <th>2</th>\n",
       "      <th>3</th>\n",
       "      <th>4</th>\n",
       "      <th>5</th>\n",
       "      <th>6</th>\n",
       "    </tr>\n",
       "  </thead>\n",
       "  <tbody>\n",
       "    <tr>\n",
       "      <th>0</th>\n",
       "      <td>0.003967</td>\n",
       "      <td>0.000761</td>\n",
       "      <td>17.169400</td>\n",
       "      <td>2646.840000</td>\n",
       "      <td>1.498947</td>\n",
       "      <td>0.000000</td>\n",
       "      <td>0.200000</td>\n",
       "    </tr>\n",
       "    <tr>\n",
       "      <th>1</th>\n",
       "      <td>0.383425</td>\n",
       "      <td>0.062433</td>\n",
       "      <td>100.479000</td>\n",
       "      <td>3968.490000</td>\n",
       "      <td>96.617375</td>\n",
       "      <td>3.815972</td>\n",
       "      <td>22.365397</td>\n",
       "    </tr>\n",
       "    <tr>\n",
       "      <th>2</th>\n",
       "      <td>0.000000</td>\n",
       "      <td>0.000000</td>\n",
       "      <td>0.932800</td>\n",
       "      <td>47.859600</td>\n",
       "      <td>0.000000</td>\n",
       "      <td>0.000000</td>\n",
       "      <td>0.000000</td>\n",
       "    </tr>\n",
       "    <tr>\n",
       "      <th>3</th>\n",
       "      <td>0.000190</td>\n",
       "      <td>0.000000</td>\n",
       "      <td>0.932800</td>\n",
       "      <td>52.261800</td>\n",
       "      <td>0.000000</td>\n",
       "      <td>0.000000</td>\n",
       "      <td>0.000000</td>\n",
       "    </tr>\n",
       "    <tr>\n",
       "      <th>4</th>\n",
       "      <td>0.119894</td>\n",
       "      <td>0.055378</td>\n",
       "      <td>34.339300</td>\n",
       "      <td>3068.710000</td>\n",
       "      <td>39.069808</td>\n",
       "      <td>3.491449</td>\n",
       "      <td>4.000000</td>\n",
       "    </tr>\n",
       "    <tr>\n",
       "      <th>...</th>\n",
       "      <td>...</td>\n",
       "      <td>...</td>\n",
       "      <td>...</td>\n",
       "      <td>...</td>\n",
       "      <td>...</td>\n",
       "      <td>...</td>\n",
       "      <td>...</td>\n",
       "    </tr>\n",
       "    <tr>\n",
       "      <th>1835</th>\n",
       "      <td>2.077570</td>\n",
       "      <td>2.061800</td>\n",
       "      <td>430.594028</td>\n",
       "      <td>32147.702614</td>\n",
       "      <td>71.615361</td>\n",
       "      <td>3.673935</td>\n",
       "      <td>127.850356</td>\n",
       "    </tr>\n",
       "    <tr>\n",
       "      <th>1836</th>\n",
       "      <td>0.211891</td>\n",
       "      <td>0.036892</td>\n",
       "      <td>129.705000</td>\n",
       "      <td>40901.770000</td>\n",
       "      <td>5.180492</td>\n",
       "      <td>1.633640</td>\n",
       "      <td>11.349061</td>\n",
       "    </tr>\n",
       "    <tr>\n",
       "      <th>1837</th>\n",
       "      <td>0.127084</td>\n",
       "      <td>0.730810</td>\n",
       "      <td>25.420600</td>\n",
       "      <td>383.902000</td>\n",
       "      <td>331.032704</td>\n",
       "      <td>4.999257</td>\n",
       "      <td>10.533826</td>\n",
       "    </tr>\n",
       "    <tr>\n",
       "      <th>1838</th>\n",
       "      <td>0.004542</td>\n",
       "      <td>0.001282</td>\n",
       "      <td>5.352720</td>\n",
       "      <td>6704.120000</td>\n",
       "      <td>0.677464</td>\n",
       "      <td>0.848504</td>\n",
       "      <td>0.400000</td>\n",
       "    </tr>\n",
       "    <tr>\n",
       "      <th>1839</th>\n",
       "      <td>0.157487</td>\n",
       "      <td>0.137243</td>\n",
       "      <td>10.106300</td>\n",
       "      <td>2443.260000</td>\n",
       "      <td>64.457808</td>\n",
       "      <td>15.583070</td>\n",
       "      <td>13.391785</td>\n",
       "    </tr>\n",
       "  </tbody>\n",
       "</table>\n",
       "<p>9200 rows × 7 columns</p>\n",
       "</div>"
      ],
      "text/plain": [
       "             0         1           2             3           4          5  \\\n",
       "0     0.003967  0.000761   17.169400   2646.840000    1.498947   0.000000   \n",
       "1     0.383425  0.062433  100.479000   3968.490000   96.617375   3.815972   \n",
       "2     0.000000  0.000000    0.932800     47.859600    0.000000   0.000000   \n",
       "3     0.000190  0.000000    0.932800     52.261800    0.000000   0.000000   \n",
       "4     0.119894  0.055378   34.339300   3068.710000   39.069808   3.491449   \n",
       "...        ...       ...         ...           ...         ...        ...   \n",
       "1835  2.077570  2.061800  430.594028  32147.702614   71.615361   3.673935   \n",
       "1836  0.211891  0.036892  129.705000  40901.770000    5.180492   1.633640   \n",
       "1837  0.127084  0.730810   25.420600    383.902000  331.032704   4.999257   \n",
       "1838  0.004542  0.001282    5.352720   6704.120000    0.677464   0.848504   \n",
       "1839  0.157487  0.137243   10.106300   2443.260000   64.457808  15.583070   \n",
       "\n",
       "               6  \n",
       "0       0.200000  \n",
       "1      22.365397  \n",
       "2       0.000000  \n",
       "3       0.000000  \n",
       "4       4.000000  \n",
       "...          ...  \n",
       "1835  127.850356  \n",
       "1836   11.349061  \n",
       "1837   10.533826  \n",
       "1838    0.400000  \n",
       "1839   13.391785  \n",
       "\n",
       "[9200 rows x 7 columns]"
      ]
     },
     "execution_count": 544,
     "metadata": {},
     "output_type": "execute_result"
    }
   ],
   "source": [
    "X"
   ]
  },
  {
   "cell_type": "code",
   "execution_count": 545,
   "metadata": {},
   "outputs": [
    {
     "data": {
      "text/html": [
       "<div>\n",
       "<style scoped>\n",
       "    .dataframe tbody tr th:only-of-type {\n",
       "        vertical-align: middle;\n",
       "    }\n",
       "\n",
       "    .dataframe tbody tr th {\n",
       "        vertical-align: top;\n",
       "    }\n",
       "\n",
       "    .dataframe thead th {\n",
       "        text-align: right;\n",
       "    }\n",
       "</style>\n",
       "<table border=\"1\" class=\"dataframe\">\n",
       "  <thead>\n",
       "    <tr style=\"text-align: right;\">\n",
       "      <th></th>\n",
       "      <th>0</th>\n",
       "    </tr>\n",
       "  </thead>\n",
       "  <tbody>\n",
       "    <tr>\n",
       "      <th>0</th>\n",
       "      <td>ed3d61f418228be108b367c9134c8dc8</td>\n",
       "    </tr>\n",
       "    <tr>\n",
       "      <th>1</th>\n",
       "      <td>b3df49aa9d3cbeb908454aeb3fc7f3d0</td>\n",
       "    </tr>\n",
       "    <tr>\n",
       "      <th>2</th>\n",
       "      <td>21c812d8a1f07852231c3d3bdcd67474</td>\n",
       "    </tr>\n",
       "    <tr>\n",
       "      <th>3</th>\n",
       "      <td>a6049a5ab1190c55e1cbaebfe9cfec64</td>\n",
       "    </tr>\n",
       "    <tr>\n",
       "      <th>4</th>\n",
       "      <td>e91afe34bcccc0f79dd27546cbd8eed8</td>\n",
       "    </tr>\n",
       "    <tr>\n",
       "      <th>...</th>\n",
       "      <td>...</td>\n",
       "    </tr>\n",
       "    <tr>\n",
       "      <th>1835</th>\n",
       "      <td>00d917a6eb845b24cda53c74ba3883a9</td>\n",
       "    </tr>\n",
       "    <tr>\n",
       "      <th>1836</th>\n",
       "      <td>2e558ee3b383b85932b39f0fc77bffea</td>\n",
       "    </tr>\n",
       "    <tr>\n",
       "      <th>1837</th>\n",
       "      <td>d1c0b57519573805d8e345efcd9d37af</td>\n",
       "    </tr>\n",
       "    <tr>\n",
       "      <th>1838</th>\n",
       "      <td>abea3c0b659bda471a7d140c457e8ace</td>\n",
       "    </tr>\n",
       "    <tr>\n",
       "      <th>1839</th>\n",
       "      <td>0263c2f16dc3419dc6d1754b3679a7f0</td>\n",
       "    </tr>\n",
       "  </tbody>\n",
       "</table>\n",
       "<p>9200 rows × 1 columns</p>\n",
       "</div>"
      ],
      "text/plain": [
       "                                     0\n",
       "0     ed3d61f418228be108b367c9134c8dc8\n",
       "1     b3df49aa9d3cbeb908454aeb3fc7f3d0\n",
       "2     21c812d8a1f07852231c3d3bdcd67474\n",
       "3     a6049a5ab1190c55e1cbaebfe9cfec64\n",
       "4     e91afe34bcccc0f79dd27546cbd8eed8\n",
       "...                                ...\n",
       "1835  00d917a6eb845b24cda53c74ba3883a9\n",
       "1836  2e558ee3b383b85932b39f0fc77bffea\n",
       "1837  d1c0b57519573805d8e345efcd9d37af\n",
       "1838  abea3c0b659bda471a7d140c457e8ace\n",
       "1839  0263c2f16dc3419dc6d1754b3679a7f0\n",
       "\n",
       "[9200 rows x 1 columns]"
      ]
     },
     "execution_count": 545,
     "metadata": {},
     "output_type": "execute_result"
    }
   ],
   "source": [
    "Y"
   ]
  },
  {
   "cell_type": "code",
   "execution_count": 546,
   "metadata": {},
   "outputs": [],
   "source": [
    "data = pd.concat([Y, X], axis=1)"
   ]
  },
  {
   "cell_type": "code",
   "execution_count": 547,
   "metadata": {},
   "outputs": [
    {
     "data": {
      "text/html": [
       "<div>\n",
       "<style scoped>\n",
       "    .dataframe tbody tr th:only-of-type {\n",
       "        vertical-align: middle;\n",
       "    }\n",
       "\n",
       "    .dataframe tbody tr th {\n",
       "        vertical-align: top;\n",
       "    }\n",
       "\n",
       "    .dataframe thead th {\n",
       "        text-align: right;\n",
       "    }\n",
       "</style>\n",
       "<table border=\"1\" class=\"dataframe\">\n",
       "  <thead>\n",
       "    <tr style=\"text-align: right;\">\n",
       "      <th></th>\n",
       "      <th>0</th>\n",
       "      <th>0</th>\n",
       "      <th>1</th>\n",
       "      <th>2</th>\n",
       "      <th>3</th>\n",
       "      <th>4</th>\n",
       "      <th>5</th>\n",
       "      <th>6</th>\n",
       "    </tr>\n",
       "  </thead>\n",
       "  <tbody>\n",
       "    <tr>\n",
       "      <th>0</th>\n",
       "      <td>ed3d61f418228be108b367c9134c8dc8</td>\n",
       "      <td>0.003967</td>\n",
       "      <td>0.000761</td>\n",
       "      <td>17.169400</td>\n",
       "      <td>2646.840000</td>\n",
       "      <td>1.498947</td>\n",
       "      <td>0.000000</td>\n",
       "      <td>0.200000</td>\n",
       "    </tr>\n",
       "    <tr>\n",
       "      <th>1</th>\n",
       "      <td>b3df49aa9d3cbeb908454aeb3fc7f3d0</td>\n",
       "      <td>0.383425</td>\n",
       "      <td>0.062433</td>\n",
       "      <td>100.479000</td>\n",
       "      <td>3968.490000</td>\n",
       "      <td>96.617375</td>\n",
       "      <td>3.815972</td>\n",
       "      <td>22.365397</td>\n",
       "    </tr>\n",
       "    <tr>\n",
       "      <th>2</th>\n",
       "      <td>21c812d8a1f07852231c3d3bdcd67474</td>\n",
       "      <td>0.000000</td>\n",
       "      <td>0.000000</td>\n",
       "      <td>0.932800</td>\n",
       "      <td>47.859600</td>\n",
       "      <td>0.000000</td>\n",
       "      <td>0.000000</td>\n",
       "      <td>0.000000</td>\n",
       "    </tr>\n",
       "    <tr>\n",
       "      <th>3</th>\n",
       "      <td>a6049a5ab1190c55e1cbaebfe9cfec64</td>\n",
       "      <td>0.000190</td>\n",
       "      <td>0.000000</td>\n",
       "      <td>0.932800</td>\n",
       "      <td>52.261800</td>\n",
       "      <td>0.000000</td>\n",
       "      <td>0.000000</td>\n",
       "      <td>0.000000</td>\n",
       "    </tr>\n",
       "    <tr>\n",
       "      <th>4</th>\n",
       "      <td>e91afe34bcccc0f79dd27546cbd8eed8</td>\n",
       "      <td>0.119894</td>\n",
       "      <td>0.055378</td>\n",
       "      <td>34.339300</td>\n",
       "      <td>3068.710000</td>\n",
       "      <td>39.069808</td>\n",
       "      <td>3.491449</td>\n",
       "      <td>4.000000</td>\n",
       "    </tr>\n",
       "    <tr>\n",
       "      <th>...</th>\n",
       "      <td>...</td>\n",
       "      <td>...</td>\n",
       "      <td>...</td>\n",
       "      <td>...</td>\n",
       "      <td>...</td>\n",
       "      <td>...</td>\n",
       "      <td>...</td>\n",
       "      <td>...</td>\n",
       "    </tr>\n",
       "    <tr>\n",
       "      <th>1835</th>\n",
       "      <td>00d917a6eb845b24cda53c74ba3883a9</td>\n",
       "      <td>2.077570</td>\n",
       "      <td>2.061800</td>\n",
       "      <td>430.594028</td>\n",
       "      <td>32147.702614</td>\n",
       "      <td>71.615361</td>\n",
       "      <td>3.673935</td>\n",
       "      <td>127.850356</td>\n",
       "    </tr>\n",
       "    <tr>\n",
       "      <th>1836</th>\n",
       "      <td>2e558ee3b383b85932b39f0fc77bffea</td>\n",
       "      <td>0.211891</td>\n",
       "      <td>0.036892</td>\n",
       "      <td>129.705000</td>\n",
       "      <td>40901.770000</td>\n",
       "      <td>5.180492</td>\n",
       "      <td>1.633640</td>\n",
       "      <td>11.349061</td>\n",
       "    </tr>\n",
       "    <tr>\n",
       "      <th>1837</th>\n",
       "      <td>d1c0b57519573805d8e345efcd9d37af</td>\n",
       "      <td>0.127084</td>\n",
       "      <td>0.730810</td>\n",
       "      <td>25.420600</td>\n",
       "      <td>383.902000</td>\n",
       "      <td>331.032704</td>\n",
       "      <td>4.999257</td>\n",
       "      <td>10.533826</td>\n",
       "    </tr>\n",
       "    <tr>\n",
       "      <th>1838</th>\n",
       "      <td>abea3c0b659bda471a7d140c457e8ace</td>\n",
       "      <td>0.004542</td>\n",
       "      <td>0.001282</td>\n",
       "      <td>5.352720</td>\n",
       "      <td>6704.120000</td>\n",
       "      <td>0.677464</td>\n",
       "      <td>0.848504</td>\n",
       "      <td>0.400000</td>\n",
       "    </tr>\n",
       "    <tr>\n",
       "      <th>1839</th>\n",
       "      <td>0263c2f16dc3419dc6d1754b3679a7f0</td>\n",
       "      <td>0.157487</td>\n",
       "      <td>0.137243</td>\n",
       "      <td>10.106300</td>\n",
       "      <td>2443.260000</td>\n",
       "      <td>64.457808</td>\n",
       "      <td>15.583070</td>\n",
       "      <td>13.391785</td>\n",
       "    </tr>\n",
       "  </tbody>\n",
       "</table>\n",
       "<p>9200 rows × 8 columns</p>\n",
       "</div>"
      ],
      "text/plain": [
       "                                     0         0         1           2  \\\n",
       "0     ed3d61f418228be108b367c9134c8dc8  0.003967  0.000761   17.169400   \n",
       "1     b3df49aa9d3cbeb908454aeb3fc7f3d0  0.383425  0.062433  100.479000   \n",
       "2     21c812d8a1f07852231c3d3bdcd67474  0.000000  0.000000    0.932800   \n",
       "3     a6049a5ab1190c55e1cbaebfe9cfec64  0.000190  0.000000    0.932800   \n",
       "4     e91afe34bcccc0f79dd27546cbd8eed8  0.119894  0.055378   34.339300   \n",
       "...                                ...       ...       ...         ...   \n",
       "1835  00d917a6eb845b24cda53c74ba3883a9  2.077570  2.061800  430.594028   \n",
       "1836  2e558ee3b383b85932b39f0fc77bffea  0.211891  0.036892  129.705000   \n",
       "1837  d1c0b57519573805d8e345efcd9d37af  0.127084  0.730810   25.420600   \n",
       "1838  abea3c0b659bda471a7d140c457e8ace  0.004542  0.001282    5.352720   \n",
       "1839  0263c2f16dc3419dc6d1754b3679a7f0  0.157487  0.137243   10.106300   \n",
       "\n",
       "                 3           4          5           6  \n",
       "0      2646.840000    1.498947   0.000000    0.200000  \n",
       "1      3968.490000   96.617375   3.815972   22.365397  \n",
       "2        47.859600    0.000000   0.000000    0.000000  \n",
       "3        52.261800    0.000000   0.000000    0.000000  \n",
       "4      3068.710000   39.069808   3.491449    4.000000  \n",
       "...            ...         ...        ...         ...  \n",
       "1835  32147.702614   71.615361   3.673935  127.850356  \n",
       "1836  40901.770000    5.180492   1.633640   11.349061  \n",
       "1837    383.902000  331.032704   4.999257   10.533826  \n",
       "1838   6704.120000    0.677464   0.848504    0.400000  \n",
       "1839   2443.260000   64.457808  15.583070   13.391785  \n",
       "\n",
       "[9200 rows x 8 columns]"
      ]
     },
     "execution_count": 547,
     "metadata": {},
     "output_type": "execute_result"
    }
   ],
   "source": [
    "data"
   ]
  },
  {
   "cell_type": "code",
   "execution_count": 548,
   "metadata": {},
   "outputs": [],
   "source": [
    "data.columns = columnas"
   ]
  },
  {
   "cell_type": "code",
   "execution_count": 549,
   "metadata": {},
   "outputs": [
    {
     "data": {
      "text/html": [
       "<div>\n",
       "<style scoped>\n",
       "    .dataframe tbody tr th:only-of-type {\n",
       "        vertical-align: middle;\n",
       "    }\n",
       "\n",
       "    .dataframe tbody tr th {\n",
       "        vertical-align: top;\n",
       "    }\n",
       "\n",
       "    .dataframe thead th {\n",
       "        text-align: right;\n",
       "    }\n",
       "</style>\n",
       "<table border=\"1\" class=\"dataframe\">\n",
       "  <thead>\n",
       "    <tr style=\"text-align: right;\">\n",
       "      <th></th>\n",
       "      <th>Id_hash</th>\n",
       "      <th>Energy_consumption</th>\n",
       "      <th>Energy_production</th>\n",
       "      <th>GDP</th>\n",
       "      <th>Population</th>\n",
       "      <th>Energy_intensity_per_capita</th>\n",
       "      <th>Energy_intensity_by_GDP</th>\n",
       "      <th>CO2_emission</th>\n",
       "    </tr>\n",
       "  </thead>\n",
       "  <tbody>\n",
       "    <tr>\n",
       "      <th>0</th>\n",
       "      <td>ed3d61f418228be108b367c9134c8dc8</td>\n",
       "      <td>0.003967</td>\n",
       "      <td>0.000761</td>\n",
       "      <td>17.169400</td>\n",
       "      <td>2646.840000</td>\n",
       "      <td>1.498947</td>\n",
       "      <td>0.000000</td>\n",
       "      <td>0.200000</td>\n",
       "    </tr>\n",
       "    <tr>\n",
       "      <th>1</th>\n",
       "      <td>b3df49aa9d3cbeb908454aeb3fc7f3d0</td>\n",
       "      <td>0.383425</td>\n",
       "      <td>0.062433</td>\n",
       "      <td>100.479000</td>\n",
       "      <td>3968.490000</td>\n",
       "      <td>96.617375</td>\n",
       "      <td>3.815972</td>\n",
       "      <td>22.365397</td>\n",
       "    </tr>\n",
       "    <tr>\n",
       "      <th>2</th>\n",
       "      <td>21c812d8a1f07852231c3d3bdcd67474</td>\n",
       "      <td>0.000000</td>\n",
       "      <td>0.000000</td>\n",
       "      <td>0.932800</td>\n",
       "      <td>47.859600</td>\n",
       "      <td>0.000000</td>\n",
       "      <td>0.000000</td>\n",
       "      <td>0.000000</td>\n",
       "    </tr>\n",
       "    <tr>\n",
       "      <th>3</th>\n",
       "      <td>a6049a5ab1190c55e1cbaebfe9cfec64</td>\n",
       "      <td>0.000190</td>\n",
       "      <td>0.000000</td>\n",
       "      <td>0.932800</td>\n",
       "      <td>52.261800</td>\n",
       "      <td>0.000000</td>\n",
       "      <td>0.000000</td>\n",
       "      <td>0.000000</td>\n",
       "    </tr>\n",
       "    <tr>\n",
       "      <th>4</th>\n",
       "      <td>e91afe34bcccc0f79dd27546cbd8eed8</td>\n",
       "      <td>0.119894</td>\n",
       "      <td>0.055378</td>\n",
       "      <td>34.339300</td>\n",
       "      <td>3068.710000</td>\n",
       "      <td>39.069808</td>\n",
       "      <td>3.491449</td>\n",
       "      <td>4.000000</td>\n",
       "    </tr>\n",
       "    <tr>\n",
       "      <th>...</th>\n",
       "      <td>...</td>\n",
       "      <td>...</td>\n",
       "      <td>...</td>\n",
       "      <td>...</td>\n",
       "      <td>...</td>\n",
       "      <td>...</td>\n",
       "      <td>...</td>\n",
       "      <td>...</td>\n",
       "    </tr>\n",
       "    <tr>\n",
       "      <th>1835</th>\n",
       "      <td>00d917a6eb845b24cda53c74ba3883a9</td>\n",
       "      <td>2.077570</td>\n",
       "      <td>2.061800</td>\n",
       "      <td>430.594028</td>\n",
       "      <td>32147.702614</td>\n",
       "      <td>71.615361</td>\n",
       "      <td>3.673935</td>\n",
       "      <td>127.850356</td>\n",
       "    </tr>\n",
       "    <tr>\n",
       "      <th>1836</th>\n",
       "      <td>2e558ee3b383b85932b39f0fc77bffea</td>\n",
       "      <td>0.211891</td>\n",
       "      <td>0.036892</td>\n",
       "      <td>129.705000</td>\n",
       "      <td>40901.770000</td>\n",
       "      <td>5.180492</td>\n",
       "      <td>1.633640</td>\n",
       "      <td>11.349061</td>\n",
       "    </tr>\n",
       "    <tr>\n",
       "      <th>1837</th>\n",
       "      <td>d1c0b57519573805d8e345efcd9d37af</td>\n",
       "      <td>0.127084</td>\n",
       "      <td>0.730810</td>\n",
       "      <td>25.420600</td>\n",
       "      <td>383.902000</td>\n",
       "      <td>331.032704</td>\n",
       "      <td>4.999257</td>\n",
       "      <td>10.533826</td>\n",
       "    </tr>\n",
       "    <tr>\n",
       "      <th>1838</th>\n",
       "      <td>abea3c0b659bda471a7d140c457e8ace</td>\n",
       "      <td>0.004542</td>\n",
       "      <td>0.001282</td>\n",
       "      <td>5.352720</td>\n",
       "      <td>6704.120000</td>\n",
       "      <td>0.677464</td>\n",
       "      <td>0.848504</td>\n",
       "      <td>0.400000</td>\n",
       "    </tr>\n",
       "    <tr>\n",
       "      <th>1839</th>\n",
       "      <td>0263c2f16dc3419dc6d1754b3679a7f0</td>\n",
       "      <td>0.157487</td>\n",
       "      <td>0.137243</td>\n",
       "      <td>10.106300</td>\n",
       "      <td>2443.260000</td>\n",
       "      <td>64.457808</td>\n",
       "      <td>15.583070</td>\n",
       "      <td>13.391785</td>\n",
       "    </tr>\n",
       "  </tbody>\n",
       "</table>\n",
       "<p>9200 rows × 8 columns</p>\n",
       "</div>"
      ],
      "text/plain": [
       "                               Id_hash  Energy_consumption  Energy_production  \\\n",
       "0     ed3d61f418228be108b367c9134c8dc8            0.003967           0.000761   \n",
       "1     b3df49aa9d3cbeb908454aeb3fc7f3d0            0.383425           0.062433   \n",
       "2     21c812d8a1f07852231c3d3bdcd67474            0.000000           0.000000   \n",
       "3     a6049a5ab1190c55e1cbaebfe9cfec64            0.000190           0.000000   \n",
       "4     e91afe34bcccc0f79dd27546cbd8eed8            0.119894           0.055378   \n",
       "...                                ...                 ...                ...   \n",
       "1835  00d917a6eb845b24cda53c74ba3883a9            2.077570           2.061800   \n",
       "1836  2e558ee3b383b85932b39f0fc77bffea            0.211891           0.036892   \n",
       "1837  d1c0b57519573805d8e345efcd9d37af            0.127084           0.730810   \n",
       "1838  abea3c0b659bda471a7d140c457e8ace            0.004542           0.001282   \n",
       "1839  0263c2f16dc3419dc6d1754b3679a7f0            0.157487           0.137243   \n",
       "\n",
       "             GDP    Population  Energy_intensity_per_capita  \\\n",
       "0      17.169400   2646.840000                     1.498947   \n",
       "1     100.479000   3968.490000                    96.617375   \n",
       "2       0.932800     47.859600                     0.000000   \n",
       "3       0.932800     52.261800                     0.000000   \n",
       "4      34.339300   3068.710000                    39.069808   \n",
       "...          ...           ...                          ...   \n",
       "1835  430.594028  32147.702614                    71.615361   \n",
       "1836  129.705000  40901.770000                     5.180492   \n",
       "1837   25.420600    383.902000                   331.032704   \n",
       "1838    5.352720   6704.120000                     0.677464   \n",
       "1839   10.106300   2443.260000                    64.457808   \n",
       "\n",
       "      Energy_intensity_by_GDP  CO2_emission  \n",
       "0                    0.000000      0.200000  \n",
       "1                    3.815972     22.365397  \n",
       "2                    0.000000      0.000000  \n",
       "3                    0.000000      0.000000  \n",
       "4                    3.491449      4.000000  \n",
       "...                       ...           ...  \n",
       "1835                 3.673935    127.850356  \n",
       "1836                 1.633640     11.349061  \n",
       "1837                 4.999257     10.533826  \n",
       "1838                 0.848504      0.400000  \n",
       "1839                15.583070     13.391785  \n",
       "\n",
       "[9200 rows x 8 columns]"
      ]
     },
     "execution_count": 549,
     "metadata": {},
     "output_type": "execute_result"
    }
   ],
   "source": [
    "data"
   ]
  },
  {
   "cell_type": "code",
   "execution_count": 550,
   "metadata": {},
   "outputs": [],
   "source": [
    "data = norcampo(data)"
   ]
  },
  {
   "cell_type": "code",
   "execution_count": 556,
   "metadata": {},
   "outputs": [
    {
     "data": {
      "text/html": [
       "<div>\n",
       "<style scoped>\n",
       "    .dataframe tbody tr th:only-of-type {\n",
       "        vertical-align: middle;\n",
       "    }\n",
       "\n",
       "    .dataframe tbody tr th {\n",
       "        vertical-align: top;\n",
       "    }\n",
       "\n",
       "    .dataframe thead th {\n",
       "        text-align: right;\n",
       "    }\n",
       "</style>\n",
       "<table border=\"1\" class=\"dataframe\">\n",
       "  <thead>\n",
       "    <tr style=\"text-align: right;\">\n",
       "      <th></th>\n",
       "      <th>Id_hash</th>\n",
       "      <th>Energy_consumption</th>\n",
       "      <th>Energy_production</th>\n",
       "      <th>GDP</th>\n",
       "      <th>Population</th>\n",
       "      <th>Energy_intensity_per_capita</th>\n",
       "      <th>Energy_intensity_by_GDP</th>\n",
       "      <th>CO2_emission</th>\n",
       "      <th>Energy_consumption TWh</th>\n",
       "      <th>Energy_production TWh</th>\n",
       "      <th>Energy_intensity_per_capita TWh</th>\n",
       "      <th>Energy_intensity_by_GDP TWh</th>\n",
       "    </tr>\n",
       "  </thead>\n",
       "  <tbody>\n",
       "    <tr>\n",
       "      <th>0</th>\n",
       "      <td>ed3d61f418228be108b367c9134c8dc8</td>\n",
       "      <td>0.003967</td>\n",
       "      <td>0.000761</td>\n",
       "      <td>17.169400</td>\n",
       "      <td>2646.840000</td>\n",
       "      <td>1.498947</td>\n",
       "      <td>0.000000</td>\n",
       "      <td>0.200000</td>\n",
       "      <td>1.162800e-15</td>\n",
       "      <td>2.229153e-16</td>\n",
       "      <td>4.393162e-13</td>\n",
       "      <td>0.000000e+00</td>\n",
       "    </tr>\n",
       "    <tr>\n",
       "      <th>1</th>\n",
       "      <td>b3df49aa9d3cbeb908454aeb3fc7f3d0</td>\n",
       "      <td>0.383425</td>\n",
       "      <td>0.062433</td>\n",
       "      <td>100.479000</td>\n",
       "      <td>3968.490000</td>\n",
       "      <td>96.617375</td>\n",
       "      <td>3.815972</td>\n",
       "      <td>22.365397</td>\n",
       "      <td>1.123755e-13</td>\n",
       "      <td>1.829805e-14</td>\n",
       "      <td>2.831693e-11</td>\n",
       "      <td>1.118398e-12</td>\n",
       "    </tr>\n",
       "    <tr>\n",
       "      <th>2</th>\n",
       "      <td>21c812d8a1f07852231c3d3bdcd67474</td>\n",
       "      <td>0.000000</td>\n",
       "      <td>0.000000</td>\n",
       "      <td>0.932800</td>\n",
       "      <td>47.859600</td>\n",
       "      <td>0.000000</td>\n",
       "      <td>0.000000</td>\n",
       "      <td>0.000000</td>\n",
       "      <td>0.000000e+00</td>\n",
       "      <td>0.000000e+00</td>\n",
       "      <td>0.000000e+00</td>\n",
       "      <td>0.000000e+00</td>\n",
       "    </tr>\n",
       "    <tr>\n",
       "      <th>3</th>\n",
       "      <td>a6049a5ab1190c55e1cbaebfe9cfec64</td>\n",
       "      <td>0.000190</td>\n",
       "      <td>0.000000</td>\n",
       "      <td>0.932800</td>\n",
       "      <td>52.261800</td>\n",
       "      <td>0.000000</td>\n",
       "      <td>0.000000</td>\n",
       "      <td>0.000000</td>\n",
       "      <td>5.557301e-17</td>\n",
       "      <td>0.000000e+00</td>\n",
       "      <td>0.000000e+00</td>\n",
       "      <td>0.000000e+00</td>\n",
       "    </tr>\n",
       "    <tr>\n",
       "      <th>4</th>\n",
       "      <td>e91afe34bcccc0f79dd27546cbd8eed8</td>\n",
       "      <td>0.119894</td>\n",
       "      <td>0.055378</td>\n",
       "      <td>34.339300</td>\n",
       "      <td>3068.710000</td>\n",
       "      <td>39.069808</td>\n",
       "      <td>3.491449</td>\n",
       "      <td>4.000000</td>\n",
       "      <td>3.513890e-14</td>\n",
       "      <td>1.623034e-14</td>\n",
       "      <td>1.145071e-11</td>\n",
       "      <td>1.023285e-12</td>\n",
       "    </tr>\n",
       "    <tr>\n",
       "      <th>...</th>\n",
       "      <td>...</td>\n",
       "      <td>...</td>\n",
       "      <td>...</td>\n",
       "      <td>...</td>\n",
       "      <td>...</td>\n",
       "      <td>...</td>\n",
       "      <td>...</td>\n",
       "      <td>...</td>\n",
       "      <td>...</td>\n",
       "      <td>...</td>\n",
       "      <td>...</td>\n",
       "      <td>...</td>\n",
       "    </tr>\n",
       "    <tr>\n",
       "      <th>1835</th>\n",
       "      <td>00d917a6eb845b24cda53c74ba3883a9</td>\n",
       "      <td>2.077570</td>\n",
       "      <td>2.061800</td>\n",
       "      <td>430.594028</td>\n",
       "      <td>32147.702614</td>\n",
       "      <td>71.615361</td>\n",
       "      <td>3.673935</td>\n",
       "      <td>127.850356</td>\n",
       "      <td>6.089008e-13</td>\n",
       "      <td>6.042790e-13</td>\n",
       "      <td>2.098926e-11</td>\n",
       "      <td>1.076769e-12</td>\n",
       "    </tr>\n",
       "    <tr>\n",
       "      <th>1836</th>\n",
       "      <td>2e558ee3b383b85932b39f0fc77bffea</td>\n",
       "      <td>0.211891</td>\n",
       "      <td>0.036892</td>\n",
       "      <td>129.705000</td>\n",
       "      <td>40901.770000</td>\n",
       "      <td>5.180492</td>\n",
       "      <td>1.633640</td>\n",
       "      <td>11.349061</td>\n",
       "      <td>6.210179e-14</td>\n",
       "      <td>1.081243e-14</td>\n",
       "      <td>1.518315e-12</td>\n",
       "      <td>4.787925e-13</td>\n",
       "    </tr>\n",
       "    <tr>\n",
       "      <th>1837</th>\n",
       "      <td>d1c0b57519573805d8e345efcd9d37af</td>\n",
       "      <td>0.127084</td>\n",
       "      <td>0.730810</td>\n",
       "      <td>25.420600</td>\n",
       "      <td>383.902000</td>\n",
       "      <td>331.032704</td>\n",
       "      <td>4.999257</td>\n",
       "      <td>10.533826</td>\n",
       "      <td>3.724622e-14</td>\n",
       "      <td>2.141882e-13</td>\n",
       "      <td>9.702014e-11</td>\n",
       "      <td>1.465198e-12</td>\n",
       "    </tr>\n",
       "    <tr>\n",
       "      <th>1838</th>\n",
       "      <td>abea3c0b659bda471a7d140c457e8ace</td>\n",
       "      <td>0.004542</td>\n",
       "      <td>0.001282</td>\n",
       "      <td>5.352720</td>\n",
       "      <td>6704.120000</td>\n",
       "      <td>0.677464</td>\n",
       "      <td>0.848504</td>\n",
       "      <td>0.400000</td>\n",
       "      <td>1.331126e-15</td>\n",
       "      <td>3.756735e-16</td>\n",
       "      <td>1.985534e-13</td>\n",
       "      <td>2.486822e-13</td>\n",
       "    </tr>\n",
       "    <tr>\n",
       "      <th>1839</th>\n",
       "      <td>0263c2f16dc3419dc6d1754b3679a7f0</td>\n",
       "      <td>0.157487</td>\n",
       "      <td>0.137243</td>\n",
       "      <td>10.106300</td>\n",
       "      <td>2443.260000</td>\n",
       "      <td>64.457808</td>\n",
       "      <td>15.583070</td>\n",
       "      <td>13.391785</td>\n",
       "      <td>4.615685e-14</td>\n",
       "      <td>4.022367e-14</td>\n",
       "      <td>1.889150e-11</td>\n",
       "      <td>4.567137e-12</td>\n",
       "    </tr>\n",
       "  </tbody>\n",
       "</table>\n",
       "<p>9200 rows × 12 columns</p>\n",
       "</div>"
      ],
      "text/plain": [
       "                               Id_hash  Energy_consumption  Energy_production  \\\n",
       "0     ed3d61f418228be108b367c9134c8dc8            0.003967           0.000761   \n",
       "1     b3df49aa9d3cbeb908454aeb3fc7f3d0            0.383425           0.062433   \n",
       "2     21c812d8a1f07852231c3d3bdcd67474            0.000000           0.000000   \n",
       "3     a6049a5ab1190c55e1cbaebfe9cfec64            0.000190           0.000000   \n",
       "4     e91afe34bcccc0f79dd27546cbd8eed8            0.119894           0.055378   \n",
       "...                                ...                 ...                ...   \n",
       "1835  00d917a6eb845b24cda53c74ba3883a9            2.077570           2.061800   \n",
       "1836  2e558ee3b383b85932b39f0fc77bffea            0.211891           0.036892   \n",
       "1837  d1c0b57519573805d8e345efcd9d37af            0.127084           0.730810   \n",
       "1838  abea3c0b659bda471a7d140c457e8ace            0.004542           0.001282   \n",
       "1839  0263c2f16dc3419dc6d1754b3679a7f0            0.157487           0.137243   \n",
       "\n",
       "             GDP    Population  Energy_intensity_per_capita  \\\n",
       "0      17.169400   2646.840000                     1.498947   \n",
       "1     100.479000   3968.490000                    96.617375   \n",
       "2       0.932800     47.859600                     0.000000   \n",
       "3       0.932800     52.261800                     0.000000   \n",
       "4      34.339300   3068.710000                    39.069808   \n",
       "...          ...           ...                          ...   \n",
       "1835  430.594028  32147.702614                    71.615361   \n",
       "1836  129.705000  40901.770000                     5.180492   \n",
       "1837   25.420600    383.902000                   331.032704   \n",
       "1838    5.352720   6704.120000                     0.677464   \n",
       "1839   10.106300   2443.260000                    64.457808   \n",
       "\n",
       "      Energy_intensity_by_GDP  CO2_emission  Energy_consumption TWh  \\\n",
       "0                    0.000000      0.200000            1.162800e-15   \n",
       "1                    3.815972     22.365397            1.123755e-13   \n",
       "2                    0.000000      0.000000            0.000000e+00   \n",
       "3                    0.000000      0.000000            5.557301e-17   \n",
       "4                    3.491449      4.000000            3.513890e-14   \n",
       "...                       ...           ...                     ...   \n",
       "1835                 3.673935    127.850356            6.089008e-13   \n",
       "1836                 1.633640     11.349061            6.210179e-14   \n",
       "1837                 4.999257     10.533826            3.724622e-14   \n",
       "1838                 0.848504      0.400000            1.331126e-15   \n",
       "1839                15.583070     13.391785            4.615685e-14   \n",
       "\n",
       "      Energy_production TWh  Energy_intensity_per_capita TWh  \\\n",
       "0              2.229153e-16                     4.393162e-13   \n",
       "1              1.829805e-14                     2.831693e-11   \n",
       "2              0.000000e+00                     0.000000e+00   \n",
       "3              0.000000e+00                     0.000000e+00   \n",
       "4              1.623034e-14                     1.145071e-11   \n",
       "...                     ...                              ...   \n",
       "1835           6.042790e-13                     2.098926e-11   \n",
       "1836           1.081243e-14                     1.518315e-12   \n",
       "1837           2.141882e-13                     9.702014e-11   \n",
       "1838           3.756735e-16                     1.985534e-13   \n",
       "1839           4.022367e-14                     1.889150e-11   \n",
       "\n",
       "      Energy_intensity_by_GDP TWh  \n",
       "0                    0.000000e+00  \n",
       "1                    1.118398e-12  \n",
       "2                    0.000000e+00  \n",
       "3                    0.000000e+00  \n",
       "4                    1.023285e-12  \n",
       "...                           ...  \n",
       "1835                 1.076769e-12  \n",
       "1836                 4.787925e-13  \n",
       "1837                 1.465198e-12  \n",
       "1838                 2.486822e-13  \n",
       "1839                 4.567137e-12  \n",
       "\n",
       "[9200 rows x 12 columns]"
      ]
     },
     "execution_count": 556,
     "metadata": {},
     "output_type": "execute_result"
    }
   ],
   "source": [
    "data"
   ]
  },
  {
   "cell_type": "code",
   "execution_count": 562,
   "metadata": {},
   "outputs": [],
   "source": [
    "co = ['Id_hash', 'Energy_consumption TWh', 'Energy_production TWh', 'Energy_intensity_per_capita TWh', 'Energy_intensity_by_GDP TWh', 'CO2_emission']"
   ]
  },
  {
   "cell_type": "code",
   "execution_count": 563,
   "metadata": {},
   "outputs": [],
   "source": [
    "df_fin = pd.merge(data_fin[['Id_hash', 'Country', 'Energy_type', 'Year']], data[co], on=['Id_hash'], how='left')"
   ]
  },
  {
   "cell_type": "code",
   "execution_count": 564,
   "metadata": {},
   "outputs": [
    {
     "data": {
      "text/html": [
       "<div>\n",
       "<style scoped>\n",
       "    .dataframe tbody tr th:only-of-type {\n",
       "        vertical-align: middle;\n",
       "    }\n",
       "\n",
       "    .dataframe tbody tr th {\n",
       "        vertical-align: top;\n",
       "    }\n",
       "\n",
       "    .dataframe thead th {\n",
       "        text-align: right;\n",
       "    }\n",
       "</style>\n",
       "<table border=\"1\" class=\"dataframe\">\n",
       "  <thead>\n",
       "    <tr style=\"text-align: right;\">\n",
       "      <th></th>\n",
       "      <th>Id_hash</th>\n",
       "      <th>Country</th>\n",
       "      <th>Energy_type</th>\n",
       "      <th>Year</th>\n",
       "      <th>Energy_consumption TWh</th>\n",
       "      <th>Energy_production TWh</th>\n",
       "      <th>Energy_intensity_per_capita TWh</th>\n",
       "      <th>Energy_intensity_by_GDP TWh</th>\n",
       "      <th>CO2_emission</th>\n",
       "    </tr>\n",
       "  </thead>\n",
       "  <tbody>\n",
       "    <tr>\n",
       "      <th>0</th>\n",
       "      <td>2ecafd051f51dfb0f62b8ea2180c2590</td>\n",
       "      <td>Afghanistan</td>\n",
       "      <td>all_energy_types</td>\n",
       "      <td>1980</td>\n",
       "      <td>7.791095e-15</td>\n",
       "      <td>2.126646e-14</td>\n",
       "      <td>5.833186e-13</td>\n",
       "      <td>0.0</td>\n",
       "      <td>1.008605</td>\n",
       "    </tr>\n",
       "    <tr>\n",
       "      <th>1</th>\n",
       "      <td>3bce3ee1ec02d4da99a91a238fca3cd0</td>\n",
       "      <td>Albania</td>\n",
       "      <td>all_energy_types</td>\n",
       "      <td>1980</td>\n",
       "      <td>4.776724e-14</td>\n",
       "      <td>4.559250e-14</td>\n",
       "      <td>1.780566e-11</td>\n",
       "      <td>0.0</td>\n",
       "      <td>10.470181</td>\n",
       "    </tr>\n",
       "    <tr>\n",
       "      <th>2</th>\n",
       "      <td>3a0432f7cf6e15e3493e5e061a2acad0</td>\n",
       "      <td>Algeria</td>\n",
       "      <td>all_energy_types</td>\n",
       "      <td>1980</td>\n",
       "      <td>2.288087e-13</td>\n",
       "      <td>8.215174e-13</td>\n",
       "      <td>1.190366e-11</td>\n",
       "      <td>0.0</td>\n",
       "      <td>80.293368</td>\n",
       "    </tr>\n",
       "    <tr>\n",
       "      <th>3</th>\n",
       "      <td>fbbe8dcba0b3ef5aed7328916301e503</td>\n",
       "      <td>American Samoa</td>\n",
       "      <td>all_energy_types</td>\n",
       "      <td>1980</td>\n",
       "      <td>1.727172e-15</td>\n",
       "      <td>0.000000e+00</td>\n",
       "      <td>5.290610e-11</td>\n",
       "      <td>0.0</td>\n",
       "      <td>0.454541</td>\n",
       "    </tr>\n",
       "    <tr>\n",
       "      <th>4</th>\n",
       "      <td>292a7d7b0907c5eca7e35d3825f09b0b</td>\n",
       "      <td>Angola</td>\n",
       "      <td>all_energy_types</td>\n",
       "      <td>1980</td>\n",
       "      <td>1.710614e-14</td>\n",
       "      <td>9.821162e-14</td>\n",
       "      <td>2.050779e-12</td>\n",
       "      <td>0.0</td>\n",
       "      <td>1.937452</td>\n",
       "    </tr>\n",
       "    <tr>\n",
       "      <th>5</th>\n",
       "      <td>e23dd669832a239454637e4be1dcf502</td>\n",
       "      <td>Antarctica</td>\n",
       "      <td>all_energy_types</td>\n",
       "      <td>1980</td>\n",
       "      <td>6.248388e-16</td>\n",
       "      <td>0.000000e+00</td>\n",
       "      <td>0.000000e+00</td>\n",
       "      <td>0.0</td>\n",
       "      <td>0.160000</td>\n",
       "    </tr>\n",
       "    <tr>\n",
       "      <th>6</th>\n",
       "      <td>5b90a78a960923b15bc9ef44dfd19d06</td>\n",
       "      <td>Antigua and Barbuda</td>\n",
       "      <td>all_energy_types</td>\n",
       "      <td>1980</td>\n",
       "      <td>1.701306e-15</td>\n",
       "      <td>0.000000e+00</td>\n",
       "      <td>0.000000e+00</td>\n",
       "      <td>0.0</td>\n",
       "      <td>0.380000</td>\n",
       "    </tr>\n",
       "  </tbody>\n",
       "</table>\n",
       "</div>"
      ],
      "text/plain": [
       "                            Id_hash              Country       Energy_type  \\\n",
       "0  2ecafd051f51dfb0f62b8ea2180c2590          Afghanistan  all_energy_types   \n",
       "1  3bce3ee1ec02d4da99a91a238fca3cd0              Albania  all_energy_types   \n",
       "2  3a0432f7cf6e15e3493e5e061a2acad0              Algeria  all_energy_types   \n",
       "3  fbbe8dcba0b3ef5aed7328916301e503       American Samoa  all_energy_types   \n",
       "4  292a7d7b0907c5eca7e35d3825f09b0b               Angola  all_energy_types   \n",
       "5  e23dd669832a239454637e4be1dcf502           Antarctica  all_energy_types   \n",
       "6  5b90a78a960923b15bc9ef44dfd19d06  Antigua and Barbuda  all_energy_types   \n",
       "\n",
       "   Year  Energy_consumption TWh  Energy_production TWh  \\\n",
       "0  1980            7.791095e-15           2.126646e-14   \n",
       "1  1980            4.776724e-14           4.559250e-14   \n",
       "2  1980            2.288087e-13           8.215174e-13   \n",
       "3  1980            1.727172e-15           0.000000e+00   \n",
       "4  1980            1.710614e-14           9.821162e-14   \n",
       "5  1980            6.248388e-16           0.000000e+00   \n",
       "6  1980            1.701306e-15           0.000000e+00   \n",
       "\n",
       "   Energy_intensity_per_capita TWh  Energy_intensity_by_GDP TWh  CO2_emission  \n",
       "0                     5.833186e-13                          0.0      1.008605  \n",
       "1                     1.780566e-11                          0.0     10.470181  \n",
       "2                     1.190366e-11                          0.0     80.293368  \n",
       "3                     5.290610e-11                          0.0      0.454541  \n",
       "4                     2.050779e-12                          0.0      1.937452  \n",
       "5                     0.000000e+00                          0.0      0.160000  \n",
       "6                     0.000000e+00                          0.0      0.380000  "
      ]
     },
     "execution_count": 564,
     "metadata": {},
     "output_type": "execute_result"
    }
   ],
   "source": [
    "df_fin.head(7)"
   ]
  },
  {
   "cell_type": "code",
   "execution_count": 571,
   "metadata": {},
   "outputs": [],
   "source": [
    "pruebas = df_fin.iloc[:,2:]"
   ]
  },
  {
   "cell_type": "code",
   "execution_count": 572,
   "metadata": {},
   "outputs": [
    {
     "data": {
      "text/html": [
       "<div>\n",
       "<style scoped>\n",
       "    .dataframe tbody tr th:only-of-type {\n",
       "        vertical-align: middle;\n",
       "    }\n",
       "\n",
       "    .dataframe tbody tr th {\n",
       "        vertical-align: top;\n",
       "    }\n",
       "\n",
       "    .dataframe thead th {\n",
       "        text-align: right;\n",
       "    }\n",
       "</style>\n",
       "<table border=\"1\" class=\"dataframe\">\n",
       "  <thead>\n",
       "    <tr style=\"text-align: right;\">\n",
       "      <th></th>\n",
       "      <th>Energy_type</th>\n",
       "      <th>Year</th>\n",
       "      <th>Energy_consumption TWh</th>\n",
       "      <th>Energy_production TWh</th>\n",
       "      <th>Energy_intensity_per_capita TWh</th>\n",
       "      <th>Energy_intensity_by_GDP TWh</th>\n",
       "      <th>CO2_emission</th>\n",
       "    </tr>\n",
       "  </thead>\n",
       "  <tbody>\n",
       "    <tr>\n",
       "      <th>0</th>\n",
       "      <td>all_energy_types</td>\n",
       "      <td>1980</td>\n",
       "      <td>7.791095e-15</td>\n",
       "      <td>2.126646e-14</td>\n",
       "      <td>5.833186e-13</td>\n",
       "      <td>0.000000e+00</td>\n",
       "      <td>1.008605</td>\n",
       "    </tr>\n",
       "    <tr>\n",
       "      <th>1</th>\n",
       "      <td>all_energy_types</td>\n",
       "      <td>1980</td>\n",
       "      <td>4.776724e-14</td>\n",
       "      <td>4.559250e-14</td>\n",
       "      <td>1.780566e-11</td>\n",
       "      <td>0.000000e+00</td>\n",
       "      <td>10.470181</td>\n",
       "    </tr>\n",
       "    <tr>\n",
       "      <th>2</th>\n",
       "      <td>all_energy_types</td>\n",
       "      <td>1980</td>\n",
       "      <td>2.288087e-13</td>\n",
       "      <td>8.215174e-13</td>\n",
       "      <td>1.190366e-11</td>\n",
       "      <td>0.000000e+00</td>\n",
       "      <td>80.293368</td>\n",
       "    </tr>\n",
       "    <tr>\n",
       "      <th>3</th>\n",
       "      <td>all_energy_types</td>\n",
       "      <td>1980</td>\n",
       "      <td>1.727172e-15</td>\n",
       "      <td>0.000000e+00</td>\n",
       "      <td>5.290610e-11</td>\n",
       "      <td>0.000000e+00</td>\n",
       "      <td>0.454541</td>\n",
       "    </tr>\n",
       "    <tr>\n",
       "      <th>4</th>\n",
       "      <td>all_energy_types</td>\n",
       "      <td>1980</td>\n",
       "      <td>1.710614e-14</td>\n",
       "      <td>9.821162e-14</td>\n",
       "      <td>2.050779e-12</td>\n",
       "      <td>0.000000e+00</td>\n",
       "      <td>1.937452</td>\n",
       "    </tr>\n",
       "    <tr>\n",
       "      <th>...</th>\n",
       "      <td>...</td>\n",
       "      <td>...</td>\n",
       "      <td>...</td>\n",
       "      <td>...</td>\n",
       "      <td>...</td>\n",
       "      <td>...</td>\n",
       "      <td>...</td>\n",
       "    </tr>\n",
       "    <tr>\n",
       "      <th>9195</th>\n",
       "      <td>all_energy_types</td>\n",
       "      <td>2019</td>\n",
       "      <td>5.696379e-15</td>\n",
       "      <td>0.000000e+00</td>\n",
       "      <td>0.000000e+00</td>\n",
       "      <td>0.000000e+00</td>\n",
       "      <td>1.273787</td>\n",
       "    </tr>\n",
       "    <tr>\n",
       "      <th>9196</th>\n",
       "      <td>all_energy_types</td>\n",
       "      <td>2019</td>\n",
       "      <td>1.087953e-15</td>\n",
       "      <td>0.000000e+00</td>\n",
       "      <td>0.000000e+00</td>\n",
       "      <td>0.000000e+00</td>\n",
       "      <td>0.263038</td>\n",
       "    </tr>\n",
       "    <tr>\n",
       "      <th>9197</th>\n",
       "      <td>all_energy_types</td>\n",
       "      <td>2019</td>\n",
       "      <td>4.660600e-14</td>\n",
       "      <td>3.906011e-14</td>\n",
       "      <td>1.598165e-12</td>\n",
       "      <td>8.779703e-13</td>\n",
       "      <td>8.292505</td>\n",
       "    </tr>\n",
       "    <tr>\n",
       "      <th>9198</th>\n",
       "      <td>all_energy_types</td>\n",
       "      <td>2019</td>\n",
       "      <td>6.069653e-14</td>\n",
       "      <td>4.337743e-14</td>\n",
       "      <td>3.395828e-12</td>\n",
       "      <td>2.455541e-13</td>\n",
       "      <td>7.096290</td>\n",
       "    </tr>\n",
       "    <tr>\n",
       "      <th>9199</th>\n",
       "      <td>all_energy_types</td>\n",
       "      <td>2019</td>\n",
       "      <td>4.942872e-14</td>\n",
       "      <td>4.204637e-14</td>\n",
       "      <td>3.373007e-12</td>\n",
       "      <td>1.313881e-12</td>\n",
       "      <td>8.964759</td>\n",
       "    </tr>\n",
       "  </tbody>\n",
       "</table>\n",
       "<p>9200 rows × 7 columns</p>\n",
       "</div>"
      ],
      "text/plain": [
       "           Energy_type  Year  Energy_consumption TWh  Energy_production TWh  \\\n",
       "0     all_energy_types  1980            7.791095e-15           2.126646e-14   \n",
       "1     all_energy_types  1980            4.776724e-14           4.559250e-14   \n",
       "2     all_energy_types  1980            2.288087e-13           8.215174e-13   \n",
       "3     all_energy_types  1980            1.727172e-15           0.000000e+00   \n",
       "4     all_energy_types  1980            1.710614e-14           9.821162e-14   \n",
       "...                ...   ...                     ...                    ...   \n",
       "9195  all_energy_types  2019            5.696379e-15           0.000000e+00   \n",
       "9196  all_energy_types  2019            1.087953e-15           0.000000e+00   \n",
       "9197  all_energy_types  2019            4.660600e-14           3.906011e-14   \n",
       "9198  all_energy_types  2019            6.069653e-14           4.337743e-14   \n",
       "9199  all_energy_types  2019            4.942872e-14           4.204637e-14   \n",
       "\n",
       "      Energy_intensity_per_capita TWh  Energy_intensity_by_GDP TWh  \\\n",
       "0                        5.833186e-13                 0.000000e+00   \n",
       "1                        1.780566e-11                 0.000000e+00   \n",
       "2                        1.190366e-11                 0.000000e+00   \n",
       "3                        5.290610e-11                 0.000000e+00   \n",
       "4                        2.050779e-12                 0.000000e+00   \n",
       "...                               ...                          ...   \n",
       "9195                     0.000000e+00                 0.000000e+00   \n",
       "9196                     0.000000e+00                 0.000000e+00   \n",
       "9197                     1.598165e-12                 8.779703e-13   \n",
       "9198                     3.395828e-12                 2.455541e-13   \n",
       "9199                     3.373007e-12                 1.313881e-12   \n",
       "\n",
       "      CO2_emission  \n",
       "0         1.008605  \n",
       "1        10.470181  \n",
       "2        80.293368  \n",
       "3         0.454541  \n",
       "4         1.937452  \n",
       "...            ...  \n",
       "9195      1.273787  \n",
       "9196      0.263038  \n",
       "9197      8.292505  \n",
       "9198      7.096290  \n",
       "9199      8.964759  \n",
       "\n",
       "[9200 rows x 7 columns]"
      ]
     },
     "execution_count": 572,
     "metadata": {},
     "output_type": "execute_result"
    }
   ],
   "source": [
    "pruebas"
   ]
  },
  {
   "cell_type": "code",
   "execution_count": 473,
   "metadata": {},
   "outputs": [
    {
     "data": {
      "image/png": "[encoded data removed]",
      "text/plain": [
       "<Figure size 1944x648 with 1 Axes>"
      ]
     },
     "metadata": {
      "needs_background": "light"
     },
     "output_type": "display_data"
    }
   ],
   "source": [
    "plt.figure(figsize=(27,9))\n",
    "sns.barplot(data=df_fin, x=\"Year\", y=\"CO2_emission\", palette='pastel')\n",
    "plt.title('Emiciones de CO2')\n",
    "plt.xlabel('Fechas de sucesos')\n",
    "plt.ylabel('Emicion Co2 GWth')\n",
    "plt.show()"
   ]
  },
  {
   "cell_type": "code",
   "execution_count": 581,
   "metadata": {},
   "outputs": [],
   "source": [
    "agrup = pruebas.groupby('Year')['CO2_emission'].sum()"
   ]
  },
  {
   "cell_type": "code",
   "execution_count": 582,
   "metadata": {},
   "outputs": [],
   "source": [
    "agrup = agrup.reset_index()"
   ]
  },
  {
   "cell_type": "code",
   "execution_count": 583,
   "metadata": {},
   "outputs": [
    {
     "data": {
      "image/png": "[encoded data removed]",
      "text/plain": [
       "<Figure size 1944x648 with 1 Axes>"
      ]
     },
     "metadata": {
      "needs_background": "light"
     },
     "output_type": "display_data"
    }
   ],
   "source": [
    "plt.figure(figsize=(27,9))\n",
    "sns.lineplot(data=agrup, x='Year', y='CO2_emission', palette='pastel')\n",
    "\n",
    "plt.title('Relación entre falta de personal médico y decesos, 2021')\n",
    "plt.xlabel('Fecha')\n",
    "plt.ylabel('Total Personal/Desesos')\n",
    "plt.legend(['Falta personal', 'Deceso covid'], loc='upper right')\n",
    "plt.show()"
   ]
  },
  {
   "cell_type": "code",
   "execution_count": 508,
   "metadata": {},
   "outputs": [
    {
     "name": "stderr",
     "output_type": "stream",
     "text": [
      "C:\\Users\\Admin\\AppData\\Local\\Temp\\ipykernel_36288\\708972765.py:1: FutureWarning:\n",
      "\n",
      "Indexing with multiple keys (implicitly converted to a tuple of keys) will be deprecated, use a list instead.\n",
      "\n"
     ]
    }
   ],
   "source": [
    "df_fin_or = df_fin.groupby('Year')['Energy_consumption', 'Energy_production', 'Energy_intensity_per_capita', 'CO2_emission'].sum()"
   ]
  },
  {
   "cell_type": "code",
   "execution_count": 510,
   "metadata": {},
   "outputs": [
    {
     "data": {
      "application/vnd.plotly.v1+json": {
       "config": {
        "linkText": "Export to plot.ly",
        "plotlyServerURL": "https://plot.ly",
        "showLink": false
       },
       "data": [
        {
         "name": "Energy_consumption",
         "type": "scatter",
         "x": [
          1980,
          1981,
          1982,
          1983,
          1984,
          1985,
          1986,
          1987,
          1988,
          1989,
          1990,
          1991,
          1992,
          1993,
          1994,
          1995,
          1996,
          1997,
          1998,
          1999,
          2000,
          2001,
          2002,
          2003,
          2004,
          2005,
          2006,
          2007,
          2008,
          2009,
          2010,
          2011,
          2012,
          2013,
          2014,
          2015,
          2016,
          2017,
          2018,
          2019
         ],
         "y": [
          1802.7631641796615,
          1772.7234673788018,
          1773.6437422674774,
          1793.5752560261628,
          1855.0383636530619,
          1891.1154383079902,
          1910.5817370412828,
          1971.0624444364153,
          2059.339446130742,
          2083.204887451859,
          2092.8500338362246,
          2170.529919838557,
          2278.2769908655873,
          1970.4677359282523,
          1965.9978733608366,
          2020.6626518778642,
          2076.0466721183425,
          2078.00274453458,
          2081.6149388952304,
          2127.205134635191,
          2193.0416723522303,
          2203.844731302794,
          2251.5152008651953,
          2317.3688114286883,
          2435.1004522610974,
          2505.528955314963,
          2571.1649904185397,
          2655.453709612553,
          2678.288386920847,
          2648.906100649064,
          2820.025968658165,
          2882.322811681238,
          2937.3987057036966,
          2971.048223898522,
          2999.761839368873,
          3006.7845844541453,
          3034.8539607618795,
          3082.5973007207886,
          3163.629564237217,
          3180.7523956549885
         ]
        },
        {
         "name": "Energy_production",
         "type": "scatter",
         "x": [
          1980,
          1981,
          1982,
          1983,
          1984,
          1985,
          1986,
          1987,
          1988,
          1989,
          1990,
          1991,
          1992,
          1993,
          1994,
          1995,
          1996,
          1997,
          1998,
          1999,
          2000,
          2001,
          2002,
          2003,
          2004,
          2005,
          2006,
          2007,
          2008,
          2009,
          2010,
          2011,
          2012,
          2013,
          2014,
          2015,
          2016,
          2017,
          2018,
          2019
         ],
         "y": [
          1862.0572892155328,
          1784.4740860174636,
          1776.4527045238924,
          1808.3005524152134,
          1886.5697322410338,
          1910.570393910604,
          1959.8116467150903,
          1994.3741072223447,
          2097.336765127957,
          2112.4920073190774,
          2127.978233554161,
          2155.3227988442713,
          2298.936989767865,
          2001.3752948016981,
          2001.1369085988047,
          2061.399430014335,
          2124.818564085437,
          2127.7660508666695,
          2154.9588840811834,
          2155.261189937547,
          2215.3422469158163,
          2238.555078893423,
          2242.280970920074,
          2318.257854328956,
          2440.599264364509,
          2508.8992236179356,
          2556.6379280223796,
          2630.088447542014,
          2701.253236079688,
          2690.4000703149895,
          2830.1525242821267,
          2890.2958574520308,
          2971.3268893250506,
          2963.9648979241856,
          3009.9918862275254,
          3048.781156544274,
          3044.4877103474723,
          3075.512524149023,
          3217.343884366137,
          3257.9889928822736
         ]
        },
        {
         "name": "Energy_intensity_per_capita",
         "type": "scatter",
         "x": [
          1980,
          1981,
          1982,
          1983,
          1984,
          1985,
          1986,
          1987,
          1988,
          1989,
          1990,
          1991,
          1992,
          1993,
          1994,
          1995,
          1996,
          1997,
          1998,
          1999,
          2000,
          2001,
          2002,
          2003,
          2004,
          2005,
          2006,
          2007,
          2008,
          2009,
          2010,
          2011,
          2012,
          2013,
          2014,
          2015,
          2016,
          2017,
          2018,
          2019
         ],
         "y": [
          323984.96024941927,
          319787.09414848575,
          314745.24070539104,
          306140.00742933335,
          296124.872809036,
          299709.0568016865,
          301788.20865449,
          313716.4326723668,
          327127.03735492995,
          339490.18141353875,
          337602.4455216267,
          349087.4110427482,
          386150.0791134065,
          394951.15159697103,
          396682.5665849248,
          397334.65387264336,
          399754.742088159,
          406930.0585645279,
          406267.1668622121,
          404979.476643307,
          424682.98387045704,
          423932.60395849746,
          429981.6257115712,
          431598.14956509956,
          440626.37048722524,
          450786.142649927,
          458233.9900534127,
          456284.48682292487,
          453110.12700519396,
          434933.4515673206,
          444960.8330442001,
          436419.33662197547,
          443070.95578868105,
          438288.49546834436,
          434702.87760476384,
          435593.6168626486,
          437522.83264863904,
          442085.2097577298,
          441977.10982504766,
          441033.6504945813
         ]
        },
        {
         "name": "CO2_emission",
         "type": "scatter",
         "x": [
          1980,
          1981,
          1982,
          1983,
          1984,
          1985,
          1986,
          1987,
          1988,
          1989,
          1990,
          1991,
          1992,
          1993,
          1994,
          1995,
          1996,
          1997,
          1998,
          1999,
          2000,
          2001,
          2002,
          2003,
          2004,
          2005,
          2006,
          2007,
          2008,
          2009,
          2010,
          2011,
          2012,
          2013,
          2014,
          2015,
          2016,
          2017,
          2018,
          2019
         ],
         "y": [
          56450.637891097445,
          104553.43136338756,
          102680.67512136807,
          102462.67075758388,
          103435.83543965885,
          109056.34211380975,
          110834.39050073571,
          113253.99156055017,
          116863.47715365536,
          120256.34568177948,
          121501.05261438726,
          123728.47100624315,
          122393.09224299448,
          113272.09524143921,
          113600.08329058962,
          114464.8992242338,
          116903.98559380579,
          119007.44731089221,
          119359.69104919286,
          119556.25979403981,
          121270.01948071586,
          125085.84249743116,
          126110.98317428559,
          128530.84791871886,
          134299.42727983906,
          141461.99591222344,
          146293.50735536424,
          151268.05904331018,
          153184.1399655117,
          156737.57327953324,
          155869.4547609501,
          165356.84546524583,
          170581.93930520923,
          174532.35250907857,
          176614.8000150456,
          176886.5790317386,
          176173.30673435808,
          175277.18228847766,
          177429.78265449943,
          180341.2723076716
         ]
        }
       ],
       "layout": {
        "template": {
         "data": {
          "bar": [
           {
            "error_x": {
             "color": "#2a3f5f"
            },
            "error_y": {
             "color": "#2a3f5f"
            },
            "marker": {
             "line": {
              "color": "#E5ECF6",
              "width": 0.5
             },
             "pattern": {
              "fillmode": "overlay",
              "size": 10,
              "solidity": 0.2
             }
            },
            "type": "bar"
           }
          ],
          "barpolar": [
           {
            "marker": {
             "line": {
              "color": "#E5ECF6",
              "width": 0.5
             },
             "pattern": {
              "fillmode": "overlay",
              "size": 10,
              "solidity": 0.2
             }
            },
            "type": "barpolar"
           }
          ],
          "carpet": [
           {
            "aaxis": {
             "endlinecolor": "#2a3f5f",
             "gridcolor": "white",
             "linecolor": "white",
             "minorgridcolor": "white",
             "startlinecolor": "#2a3f5f"
            },
            "baxis": {
             "endlinecolor": "#2a3f5f",
             "gridcolor": "white",
             "linecolor": "white",
             "minorgridcolor": "white",
             "startlinecolor": "#2a3f5f"
            },
            "type": "carpet"
           }
          ],
          "choropleth": [
           {
            "colorbar": {
             "outlinewidth": 0,
             "ticks": ""
            },
            "type": "choropleth"
           }
          ],
          "contour": [
           {
            "colorbar": {
             "outlinewidth": 0,
             "ticks": ""
            },
            "colorscale": [
             [
              0,
              "#0d0887"
             ],
             [
              0.1111111111111111,
              "#46039f"
             ],
             [
              0.2222222222222222,
              "#7201a8"
             ],
             [
              0.3333333333333333,
              "#9c179e"
             ],
             [
              0.4444444444444444,
              "#bd3786"
             ],
             [
              0.5555555555555556,
              "#d8576b"
             ],
             [
              0.6666666666666666,
              "#ed7953"
             ],
             [
              0.7777777777777778,
              "#fb9f3a"
             ],
             [
              0.8888888888888888,
              "#fdca26"
             ],
             [
              1,
              "#f0f921"
             ]
            ],
            "type": "contour"
           }
          ],
          "contourcarpet": [
           {
            "colorbar": {
             "outlinewidth": 0,
             "ticks": ""
            },
            "type": "contourcarpet"
           }
          ],
          "heatmap": [
           {
            "colorbar": {
             "outlinewidth": 0,
             "ticks": ""
            },
            "colorscale": [
             [
              0,
              "#0d0887"
             ],
             [
              0.1111111111111111,
              "#46039f"
             ],
             [
              0.2222222222222222,
              "#7201a8"
             ],
             [
              0.3333333333333333,
              "#9c179e"
             ],
             [
              0.4444444444444444,
              "#bd3786"
             ],
             [
              0.5555555555555556,
              "#d8576b"
             ],
             [
              0.6666666666666666,
              "#ed7953"
             ],
             [
              0.7777777777777778,
              "#fb9f3a"
             ],
             [
              0.8888888888888888,
              "#fdca26"
             ],
             [
              1,
              "#f0f921"
             ]
            ],
            "type": "heatmap"
           }
          ],
          "heatmapgl": [
           {
            "colorbar": {
             "outlinewidth": 0,
             "ticks": ""
            },
            "colorscale": [
             [
              0,
              "#0d0887"
             ],
             [
              0.1111111111111111,
              "#46039f"
             ],
             [
              0.2222222222222222,
              "#7201a8"
             ],
             [
              0.3333333333333333,
              "#9c179e"
             ],
             [
              0.4444444444444444,
              "#bd3786"
             ],
             [
              0.5555555555555556,
              "#d8576b"
             ],
             [
              0.6666666666666666,
              "#ed7953"
             ],
             [
              0.7777777777777778,
              "#fb9f3a"
             ],
             [
              0.8888888888888888,
              "#fdca26"
             ],
             [
              1,
              "#f0f921"
             ]
            ],
            "type": "heatmapgl"
           }
          ],
          "histogram": [
           {
            "marker": {
             "pattern": {
              "fillmode": "overlay",
              "size": 10,
              "solidity": 0.2
             }
            },
            "type": "histogram"
           }
          ],
          "histogram2d": [
           {
            "colorbar": {
             "outlinewidth": 0,
             "ticks": ""
            },
            "colorscale": [
             [
              0,
              "#0d0887"
             ],
             [
              0.1111111111111111,
              "#46039f"
             ],
             [
              0.2222222222222222,
              "#7201a8"
             ],
             [
              0.3333333333333333,
              "#9c179e"
             ],
             [
              0.4444444444444444,
              "#bd3786"
             ],
             [
              0.5555555555555556,
              "#d8576b"
             ],
             [
              0.6666666666666666,
              "#ed7953"
             ],
             [
              0.7777777777777778,
              "#fb9f3a"
             ],
             [
              0.8888888888888888,
              "#fdca26"
             ],
             [
              1,
              "#f0f921"
             ]
            ],
            "type": "histogram2d"
           }
          ],
          "histogram2dcontour": [
           {
            "colorbar": {
             "outlinewidth": 0,
             "ticks": ""
            },
            "colorscale": [
             [
              0,
              "#0d0887"
             ],
             [
              0.1111111111111111,
              "#46039f"
             ],
             [
              0.2222222222222222,
              "#7201a8"
             ],
             [
              0.3333333333333333,
              "#9c179e"
             ],
             [
              0.4444444444444444,
              "#bd3786"
             ],
             [
              0.5555555555555556,
              "#d8576b"
             ],
             [
              0.6666666666666666,
              "#ed7953"
             ],
             [
              0.7777777777777778,
              "#fb9f3a"
             ],
             [
              0.8888888888888888,
              "#fdca26"
             ],
             [
              1,
              "#f0f921"
             ]
            ],
            "type": "histogram2dcontour"
           }
          ],
          "mesh3d": [
           {
            "colorbar": {
             "outlinewidth": 0,
             "ticks": ""
            },
            "type": "mesh3d"
           }
          ],
          "parcoords": [
           {
            "line": {
             "colorbar": {
              "outlinewidth": 0,
              "ticks": ""
             }
            },
            "type": "parcoords"
           }
          ],
          "pie": [
           {
            "automargin": true,
            "type": "pie"
           }
          ],
          "scatter": [
           {
            "fillpattern": {
             "fillmode": "overlay",
             "size": 10,
             "solidity": 0.2
            },
            "type": "scatter"
           }
          ],
          "scatter3d": [
           {
            "line": {
             "colorbar": {
              "outlinewidth": 0,
              "ticks": ""
             }
            },
            "marker": {
             "colorbar": {
              "outlinewidth": 0,
              "ticks": ""
             }
            },
            "type": "scatter3d"
           }
          ],
          "scattercarpet": [
           {
            "marker": {
             "colorbar": {
              "outlinewidth": 0,
              "ticks": ""
             }
            },
            "type": "scattercarpet"
           }
          ],
          "scattergeo": [
           {
            "marker": {
             "colorbar": {
              "outlinewidth": 0,
              "ticks": ""
             }
            },
            "type": "scattergeo"
           }
          ],
          "scattergl": [
           {
            "marker": {
             "colorbar": {
              "outlinewidth": 0,
              "ticks": ""
             }
            },
            "type": "scattergl"
           }
          ],
          "scattermapbox": [
           {
            "marker": {
             "colorbar": {
              "outlinewidth": 0,
              "ticks": ""
             }
            },
            "type": "scattermapbox"
           }
          ],
          "scatterpolar": [
           {
            "marker": {
             "colorbar": {
              "outlinewidth": 0,
              "ticks": ""
             }
            },
            "type": "scatterpolar"
           }
          ],
          "scatterpolargl": [
           {
            "marker": {
             "colorbar": {
              "outlinewidth": 0,
              "ticks": ""
             }
            },
            "type": "scatterpolargl"
           }
          ],
          "scatterternary": [
           {
            "marker": {
             "colorbar": {
              "outlinewidth": 0,
              "ticks": ""
             }
            },
            "type": "scatterternary"
           }
          ],
          "surface": [
           {
            "colorbar": {
             "outlinewidth": 0,
             "ticks": ""
            },
            "colorscale": [
             [
              0,
              "#0d0887"
             ],
             [
              0.1111111111111111,
              "#46039f"
             ],
             [
              0.2222222222222222,
              "#7201a8"
             ],
             [
              0.3333333333333333,
              "#9c179e"
             ],
             [
              0.4444444444444444,
              "#bd3786"
             ],
             [
              0.5555555555555556,
              "#d8576b"
             ],
             [
              0.6666666666666666,
              "#ed7953"
             ],
             [
              0.7777777777777778,
              "#fb9f3a"
             ],
             [
              0.8888888888888888,
              "#fdca26"
             ],
             [
              1,
              "#f0f921"
             ]
            ],
            "type": "surface"
           }
          ],
          "table": [
           {
            "cells": {
             "fill": {
              "color": "#EBF0F8"
             },
             "line": {
              "color": "white"
             }
            },
            "header": {
             "fill": {
              "color": "#C8D4E3"
             },
             "line": {
              "color": "white"
             }
            },
            "type": "table"
           }
          ]
         },
         "layout": {
          "annotationdefaults": {
           "arrowcolor": "#2a3f5f",
           "arrowhead": 0,
           "arrowwidth": 1
          },
          "autotypenumbers": "strict",
          "coloraxis": {
           "colorbar": {
            "outlinewidth": 0,
            "ticks": ""
           }
          },
          "colorscale": {
           "diverging": [
            [
             0,
             "#8e0152"
            ],
            [
             0.1,
             "#c51b7d"
            ],
            [
             0.2,
             "#de77ae"
            ],
            [
             0.3,
             "#f1b6da"
            ],
            [
             0.4,
             "#fde0ef"
            ],
            [
             0.5,
             "#f7f7f7"
            ],
            [
             0.6,
             "#e6f5d0"
            ],
            [
             0.7,
             "#b8e186"
            ],
            [
             0.8,
             "#7fbc41"
            ],
            [
             0.9,
             "#4d9221"
            ],
            [
             1,
             "#276419"
            ]
           ],
           "sequential": [
            [
             0,
             "#0d0887"
            ],
            [
             0.1111111111111111,
             "#46039f"
            ],
            [
             0.2222222222222222,
             "#7201a8"
            ],
            [
             0.3333333333333333,
             "#9c179e"
            ],
            [
             0.4444444444444444,
             "#bd3786"
            ],
            [
             0.5555555555555556,
             "#d8576b"
            ],
            [
             0.6666666666666666,
             "#ed7953"
            ],
            [
             0.7777777777777778,
             "#fb9f3a"
            ],
            [
             0.8888888888888888,
             "#fdca26"
            ],
            [
             1,
             "#f0f921"
            ]
           ],
           "sequentialminus": [
            [
             0,
             "#0d0887"
            ],
            [
             0.1111111111111111,
             "#46039f"
            ],
            [
             0.2222222222222222,
             "#7201a8"
            ],
            [
             0.3333333333333333,
             "#9c179e"
            ],
            [
             0.4444444444444444,
             "#bd3786"
            ],
            [
             0.5555555555555556,
             "#d8576b"
            ],
            [
             0.6666666666666666,
             "#ed7953"
            ],
            [
             0.7777777777777778,
             "#fb9f3a"
            ],
            [
             0.8888888888888888,
             "#fdca26"
            ],
            [
             1,
             "#f0f921"
            ]
           ]
          },
          "colorway": [
           "#636efa",
           "#EF553B",
           "#00cc96",
           "#ab63fa",
           "#FFA15A",
           "#19d3f3",
           "#FF6692",
           "#B6E880",
           "#FF97FF",
           "#FECB52"
          ],
          "font": {
           "color": "#2a3f5f"
          },
          "geo": {
           "bgcolor": "white",
           "lakecolor": "white",
           "landcolor": "#E5ECF6",
           "showlakes": true,
           "showland": true,
           "subunitcolor": "white"
          },
          "hoverlabel": {
           "align": "left"
          },
          "hovermode": "closest",
          "mapbox": {
           "style": "light"
          },
          "paper_bgcolor": "white",
          "plot_bgcolor": "#E5ECF6",
          "polar": {
           "angularaxis": {
            "gridcolor": "white",
            "linecolor": "white",
            "ticks": ""
           },
           "bgcolor": "#E5ECF6",
           "radialaxis": {
            "gridcolor": "white",
            "linecolor": "white",
            "ticks": ""
           }
          },
          "scene": {
           "xaxis": {
            "backgroundcolor": "#E5ECF6",
            "gridcolor": "white",
            "gridwidth": 2,
            "linecolor": "white",
            "showbackground": true,
            "ticks": "",
            "zerolinecolor": "white"
           },
           "yaxis": {
            "backgroundcolor": "#E5ECF6",
            "gridcolor": "white",
            "gridwidth": 2,
            "linecolor": "white",
            "showbackground": true,
            "ticks": "",
            "zerolinecolor": "white"
           },
           "zaxis": {
            "backgroundcolor": "#E5ECF6",
            "gridcolor": "white",
            "gridwidth": 2,
            "linecolor": "white",
            "showbackground": true,
            "ticks": "",
            "zerolinecolor": "white"
           }
          },
          "shapedefaults": {
           "line": {
            "color": "#2a3f5f"
           }
          },
          "ternary": {
           "aaxis": {
            "gridcolor": "white",
            "linecolor": "white",
            "ticks": ""
           },
           "baxis": {
            "gridcolor": "white",
            "linecolor": "white",
            "ticks": ""
           },
           "bgcolor": "#E5ECF6",
           "caxis": {
            "gridcolor": "white",
            "linecolor": "white",
            "ticks": ""
           }
          },
          "title": {
           "x": 0.05
          },
          "xaxis": {
           "automargin": true,
           "gridcolor": "white",
           "linecolor": "white",
           "ticks": "",
           "title": {
            "standoff": 15
           },
           "zerolinecolor": "white",
           "zerolinewidth": 2
          },
          "yaxis": {
           "automargin": true,
           "gridcolor": "white",
           "linecolor": "white",
           "ticks": "",
           "title": {
            "standoff": 15
           },
           "zerolinecolor": "white",
           "zerolinewidth": 2
          }
         }
        }
       }
      }
     },
     "metadata": {},
     "output_type": "display_data"
    }
   ],
   "source": [
    "import plotly.offline as py\n",
    "col=['Energy_consumption', 'Energy_production',\n",
    "                 'Energy_intensity_per_capita', 'CO2_emission']\n",
    "py.iplot([{\n",
    "    'x':df_fin_or.index,\n",
    "    'y':df_fin_or[col],\n",
    "    'name': col\n",
    "} for col in  df_fin_or.columns], filename='cufflinks/multiple-lines-on-same-chart')"
   ]
  },
  {
   "cell_type": "code",
   "execution_count": 584,
   "metadata": {},
   "outputs": [],
   "source": [
    "import plotly.graph_objects as go"
   ]
  },
  {
   "cell_type": "code",
   "execution_count": 585,
   "metadata": {},
   "outputs": [],
   "source": [
    "def linealPlot(df_new):\n",
    "    #df_new = df_new[(df_new[\"País\"] == \"World\") & (df_new[\"Tipo_Energia\"] == \"all_energy_types\")]\n",
    "    #df_new = df_new[[\"País\", \"Year\", \"CO2_emission\"]]\n",
    "    fig= go.Figure(data=[\n",
    "        go.Scatter(\n",
    "        x=df_new['Year'],\n",
    "        y=df_new['CO2_emission'],\n",
    "        mode='lines', \n",
    "        name='Emisiones Co2',\n",
    "        line=dict(color='cyan')\n",
    "        )\n",
    "    ])\n",
    "    fig.update_layout(\n",
    "        height=300, width=1000,\n",
    "        plot_bgcolor='black',\n",
    "        paper_bgcolor= 'black',\n",
    "        font_color='#cee3e1',\n",
    "        legend=dict(\n",
    "            x=0.05,\n",
    "            y=1,\n",
    "            title_font_family=\"Times New Roman\",\n",
    "            font=dict(\n",
    "                family=\"Courier\",\n",
    "                size=12,\n",
    "                color=\"LightSteelBlue\"\n",
    "            ),\n",
    "            bgcolor=\"Black\",\n",
    "            bordercolor=\"LightSteelBlue\",\n",
    "            borderwidth=1\n",
    "        ),\n",
    "        xaxis=dict(showgrid=False,showline=True,linecolor='rgb(255,255,255)'),\n",
    "        yaxis=dict(showgrid=False),\n",
    "        margin=dict(l=10,r=10,b=10,t=10)\n",
    "    )\n",
    "    return fig"
   ]
  },
  {
   "cell_type": "code",
   "execution_count": 586,
   "metadata": {},
   "outputs": [
    {
     "data": {
      "application/vnd.plotly.v1+json": {
       "config": {
        "plotlyServerURL": "https://plot.ly"
       },
       "data": [
        {
         "line": {
          "color": "cyan"
         },
         "mode": "lines",
         "name": "Emisiones Co2",
         "type": "scatter",
         "x": [
          1980,
          1981,
          1982,
          1983,
          1984,
          1985,
          1986,
          1987,
          1988,
          1989,
          1990,
          1991,
          1992,
          1993,
          1994,
          1995,
          1996,
          1997,
          1998,
          1999,
          2000,
          2001,
          2002,
          2003,
          2004,
          2005,
          2006,
          2007,
          2008,
          2009,
          2010,
          2011,
          2012,
          2013,
          2014,
          2015,
          2016,
          2017,
          2018,
          2019
         ],
         "y": [
          22515.526116635836,
          22793.185797360635,
          22418.625375365635,
          22375.213749678634,
          22569.723620910634,
          23693.758773844635,
          23991.071222362873,
          24474.732453435274,
          25255.051963711634,
          25933.753458307634,
          26123.37627712867,
          26711.924835475507,
          28035.119811446162,
          23464.211634268562,
          23427.125357985362,
          23599.088544713362,
          24086.90581862736,
          24449.035770388,
          24519.204518049,
          24558.518267017,
          24901.270204357,
          25664.434807695998,
          25869.462943066,
          26294.617044309434,
          27448.309372527638,
          28880.823099002635,
          29760.14460596551,
          30783.193333560273,
          31110.312698729507,
          31818.25378914891,
          31644.630085436907,
          33542.10822629991,
          34529.28558795815,
          35318.367243404544,
          35734.856744598546,
          35789.21254793854,
          35646.55808845454,
          35467.333199294546,
          35897.85327249655,
          36479.885993029544
         ]
        }
       ],
       "layout": {
        "font": {
         "color": "#cee3e1"
        },
        "height": 300,
        "legend": {
         "bgcolor": "Black",
         "bordercolor": "LightSteelBlue",
         "borderwidth": 1,
         "font": {
          "color": "LightSteelBlue",
          "family": "Courier",
          "size": 12
         },
         "title": {
          "font": {
           "family": "Times New Roman"
          }
         },
         "x": 0.05,
         "y": 1
        },
        "margin": {
         "b": 10,
         "l": 10,
         "r": 10,
         "t": 10
        },
        "paper_bgcolor": "black",
        "plot_bgcolor": "black",
        "template": {
         "data": {
          "bar": [
           {
            "error_x": {
             "color": "#2a3f5f"
            },
            "error_y": {
             "color": "#2a3f5f"
            },
            "marker": {
             "line": {
              "color": "#E5ECF6",
              "width": 0.5
             },
             "pattern": {
              "fillmode": "overlay",
              "size": 10,
              "solidity": 0.2
             }
            },
            "type": "bar"
           }
          ],
          "barpolar": [
           {
            "marker": {
             "line": {
              "color": "#E5ECF6",
              "width": 0.5
             },
             "pattern": {
              "fillmode": "overlay",
              "size": 10,
              "solidity": 0.2
             }
            },
            "type": "barpolar"
           }
          ],
          "carpet": [
           {
            "aaxis": {
             "endlinecolor": "#2a3f5f",
             "gridcolor": "white",
             "linecolor": "white",
             "minorgridcolor": "white",
             "startlinecolor": "#2a3f5f"
            },
            "baxis": {
             "endlinecolor": "#2a3f5f",
             "gridcolor": "white",
             "linecolor": "white",
             "minorgridcolor": "white",
             "startlinecolor": "#2a3f5f"
            },
            "type": "carpet"
           }
          ],
          "choropleth": [
           {
            "colorbar": {
             "outlinewidth": 0,
             "ticks": ""
            },
            "type": "choropleth"
           }
          ],
          "contour": [
           {
            "colorbar": {
             "outlinewidth": 0,
             "ticks": ""
            },
            "colorscale": [
             [
              0,
              "#0d0887"
             ],
             [
              0.1111111111111111,
              "#46039f"
             ],
             [
              0.2222222222222222,
              "#7201a8"
             ],
             [
              0.3333333333333333,
              "#9c179e"
             ],
             [
              0.4444444444444444,
              "#bd3786"
             ],
             [
              0.5555555555555556,
              "#d8576b"
             ],
             [
              0.6666666666666666,
              "#ed7953"
             ],
             [
              0.7777777777777778,
              "#fb9f3a"
             ],
             [
              0.8888888888888888,
              "#fdca26"
             ],
             [
              1,
              "#f0f921"
             ]
            ],
            "type": "contour"
           }
          ],
          "contourcarpet": [
           {
            "colorbar": {
             "outlinewidth": 0,
             "ticks": ""
            },
            "type": "contourcarpet"
           }
          ],
          "heatmap": [
           {
            "colorbar": {
             "outlinewidth": 0,
             "ticks": ""
            },
            "colorscale": [
             [
              0,
              "#0d0887"
             ],
             [
              0.1111111111111111,
              "#46039f"
             ],
             [
              0.2222222222222222,
              "#7201a8"
             ],
             [
              0.3333333333333333,
              "#9c179e"
             ],
             [
              0.4444444444444444,
              "#bd3786"
             ],
             [
              0.5555555555555556,
              "#d8576b"
             ],
             [
              0.6666666666666666,
              "#ed7953"
             ],
             [
              0.7777777777777778,
              "#fb9f3a"
             ],
             [
              0.8888888888888888,
              "#fdca26"
             ],
             [
              1,
              "#f0f921"
             ]
            ],
            "type": "heatmap"
           }
          ],
          "heatmapgl": [
           {
            "colorbar": {
             "outlinewidth": 0,
             "ticks": ""
            },
            "colorscale": [
             [
              0,
              "#0d0887"
             ],
             [
              0.1111111111111111,
              "#46039f"
             ],
             [
              0.2222222222222222,
              "#7201a8"
             ],
             [
              0.3333333333333333,
              "#9c179e"
             ],
             [
              0.4444444444444444,
              "#bd3786"
             ],
             [
              0.5555555555555556,
              "#d8576b"
             ],
             [
              0.6666666666666666,
              "#ed7953"
             ],
             [
              0.7777777777777778,
              "#fb9f3a"
             ],
             [
              0.8888888888888888,
              "#fdca26"
             ],
             [
              1,
              "#f0f921"
             ]
            ],
            "type": "heatmapgl"
           }
          ],
          "histogram": [
           {
            "marker": {
             "pattern": {
              "fillmode": "overlay",
              "size": 10,
              "solidity": 0.2
             }
            },
            "type": "histogram"
           }
          ],
          "histogram2d": [
           {
            "colorbar": {
             "outlinewidth": 0,
             "ticks": ""
            },
            "colorscale": [
             [
              0,
              "#0d0887"
             ],
             [
              0.1111111111111111,
              "#46039f"
             ],
             [
              0.2222222222222222,
              "#7201a8"
             ],
             [
              0.3333333333333333,
              "#9c179e"
             ],
             [
              0.4444444444444444,
              "#bd3786"
             ],
             [
              0.5555555555555556,
              "#d8576b"
             ],
             [
              0.6666666666666666,
              "#ed7953"
             ],
             [
              0.7777777777777778,
              "#fb9f3a"
             ],
             [
              0.8888888888888888,
              "#fdca26"
             ],
             [
              1,
              "#f0f921"
             ]
            ],
            "type": "histogram2d"
           }
          ],
          "histogram2dcontour": [
           {
            "colorbar": {
             "outlinewidth": 0,
             "ticks": ""
            },
            "colorscale": [
             [
              0,
              "#0d0887"
             ],
             [
              0.1111111111111111,
              "#46039f"
             ],
             [
              0.2222222222222222,
              "#7201a8"
             ],
             [
              0.3333333333333333,
              "#9c179e"
             ],
             [
              0.4444444444444444,
              "#bd3786"
             ],
             [
              0.5555555555555556,
              "#d8576b"
             ],
             [
              0.6666666666666666,
              "#ed7953"
             ],
             [
              0.7777777777777778,
              "#fb9f3a"
             ],
             [
              0.8888888888888888,
              "#fdca26"
             ],
             [
              1,
              "#f0f921"
             ]
            ],
            "type": "histogram2dcontour"
           }
          ],
          "mesh3d": [
           {
            "colorbar": {
             "outlinewidth": 0,
             "ticks": ""
            },
            "type": "mesh3d"
           }
          ],
          "parcoords": [
           {
            "line": {
             "colorbar": {
              "outlinewidth": 0,
              "ticks": ""
             }
            },
            "type": "parcoords"
           }
          ],
          "pie": [
           {
            "automargin": true,
            "type": "pie"
           }
          ],
          "scatter": [
           {
            "fillpattern": {
             "fillmode": "overlay",
             "size": 10,
             "solidity": 0.2
            },
            "type": "scatter"
           }
          ],
          "scatter3d": [
           {
            "line": {
             "colorbar": {
              "outlinewidth": 0,
              "ticks": ""
             }
            },
            "marker": {
             "colorbar": {
              "outlinewidth": 0,
              "ticks": ""
             }
            },
            "type": "scatter3d"
           }
          ],
          "scattercarpet": [
           {
            "marker": {
             "colorbar": {
              "outlinewidth": 0,
              "ticks": ""
             }
            },
            "type": "scattercarpet"
           }
          ],
          "scattergeo": [
           {
            "marker": {
             "colorbar": {
              "outlinewidth": 0,
              "ticks": ""
             }
            },
            "type": "scattergeo"
           }
          ],
          "scattergl": [
           {
            "marker": {
             "colorbar": {
              "outlinewidth": 0,
              "ticks": ""
             }
            },
            "type": "scattergl"
           }
          ],
          "scattermapbox": [
           {
            "marker": {
             "colorbar": {
              "outlinewidth": 0,
              "ticks": ""
             }
            },
            "type": "scattermapbox"
           }
          ],
          "scatterpolar": [
           {
            "marker": {
             "colorbar": {
              "outlinewidth": 0,
              "ticks": ""
             }
            },
            "type": "scatterpolar"
           }
          ],
          "scatterpolargl": [
           {
            "marker": {
             "colorbar": {
              "outlinewidth": 0,
              "ticks": ""
             }
            },
            "type": "scatterpolargl"
           }
          ],
          "scatterternary": [
           {
            "marker": {
             "colorbar": {
              "outlinewidth": 0,
              "ticks": ""
             }
            },
            "type": "scatterternary"
           }
          ],
          "surface": [
           {
            "colorbar": {
             "outlinewidth": 0,
             "ticks": ""
            },
            "colorscale": [
             [
              0,
              "#0d0887"
             ],
             [
              0.1111111111111111,
              "#46039f"
             ],
             [
              0.2222222222222222,
              "#7201a8"
             ],
             [
              0.3333333333333333,
              "#9c179e"
             ],
             [
              0.4444444444444444,
              "#bd3786"
             ],
             [
              0.5555555555555556,
              "#d8576b"
             ],
             [
              0.6666666666666666,
              "#ed7953"
             ],
             [
              0.7777777777777778,
              "#fb9f3a"
             ],
             [
              0.8888888888888888,
              "#fdca26"
             ],
             [
              1,
              "#f0f921"
             ]
            ],
            "type": "surface"
           }
          ],
          "table": [
           {
            "cells": {
             "fill": {
              "color": "#EBF0F8"
             },
             "line": {
              "color": "white"
             }
            },
            "header": {
             "fill": {
              "color": "#C8D4E3"
             },
             "line": {
              "color": "white"
             }
            },
            "type": "table"
           }
          ]
         },
         "layout": {
          "annotationdefaults": {
           "arrowcolor": "#2a3f5f",
           "arrowhead": 0,
           "arrowwidth": 1
          },
          "autotypenumbers": "strict",
          "coloraxis": {
           "colorbar": {
            "outlinewidth": 0,
            "ticks": ""
           }
          },
          "colorscale": {
           "diverging": [
            [
             0,
             "#8e0152"
            ],
            [
             0.1,
             "#c51b7d"
            ],
            [
             0.2,
             "#de77ae"
            ],
            [
             0.3,
             "#f1b6da"
            ],
            [
             0.4,
             "#fde0ef"
            ],
            [
             0.5,
             "#f7f7f7"
            ],
            [
             0.6,
             "#e6f5d0"
            ],
            [
             0.7,
             "#b8e186"
            ],
            [
             0.8,
             "#7fbc41"
            ],
            [
             0.9,
             "#4d9221"
            ],
            [
             1,
             "#276419"
            ]
           ],
           "sequential": [
            [
             0,
             "#0d0887"
            ],
            [
             0.1111111111111111,
             "#46039f"
            ],
            [
             0.2222222222222222,
             "#7201a8"
            ],
            [
             0.3333333333333333,
             "#9c179e"
            ],
            [
             0.4444444444444444,
             "#bd3786"
            ],
            [
             0.5555555555555556,
             "#d8576b"
            ],
            [
             0.6666666666666666,
             "#ed7953"
            ],
            [
             0.7777777777777778,
             "#fb9f3a"
            ],
            [
             0.8888888888888888,
             "#fdca26"
            ],
            [
             1,
             "#f0f921"
            ]
           ],
           "sequentialminus": [
            [
             0,
             "#0d0887"
            ],
            [
             0.1111111111111111,
             "#46039f"
            ],
            [
             0.2222222222222222,
             "#7201a8"
            ],
            [
             0.3333333333333333,
             "#9c179e"
            ],
            [
             0.4444444444444444,
             "#bd3786"
            ],
            [
             0.5555555555555556,
             "#d8576b"
            ],
            [
             0.6666666666666666,
             "#ed7953"
            ],
            [
             0.7777777777777778,
             "#fb9f3a"
            ],
            [
             0.8888888888888888,
             "#fdca26"
            ],
            [
             1,
             "#f0f921"
            ]
           ]
          },
          "colorway": [
           "#636efa",
           "#EF553B",
           "#00cc96",
           "#ab63fa",
           "#FFA15A",
           "#19d3f3",
           "#FF6692",
           "#B6E880",
           "#FF97FF",
           "#FECB52"
          ],
          "font": {
           "color": "#2a3f5f"
          },
          "geo": {
           "bgcolor": "white",
           "lakecolor": "white",
           "landcolor": "#E5ECF6",
           "showlakes": true,
           "showland": true,
           "subunitcolor": "white"
          },
          "hoverlabel": {
           "align": "left"
          },
          "hovermode": "closest",
          "mapbox": {
           "style": "light"
          },
          "paper_bgcolor": "white",
          "plot_bgcolor": "#E5ECF6",
          "polar": {
           "angularaxis": {
            "gridcolor": "white",
            "linecolor": "white",
            "ticks": ""
           },
           "bgcolor": "#E5ECF6",
           "radialaxis": {
            "gridcolor": "white",
            "linecolor": "white",
            "ticks": ""
           }
          },
          "scene": {
           "xaxis": {
            "backgroundcolor": "#E5ECF6",
            "gridcolor": "white",
            "gridwidth": 2,
            "linecolor": "white",
            "showbackground": true,
            "ticks": "",
            "zerolinecolor": "white"
           },
           "yaxis": {
            "backgroundcolor": "#E5ECF6",
            "gridcolor": "white",
            "gridwidth": 2,
            "linecolor": "white",
            "showbackground": true,
            "ticks": "",
            "zerolinecolor": "white"
           },
           "zaxis": {
            "backgroundcolor": "#E5ECF6",
            "gridcolor": "white",
            "gridwidth": 2,
            "linecolor": "white",
            "showbackground": true,
            "ticks": "",
            "zerolinecolor": "white"
           }
          },
          "shapedefaults": {
           "line": {
            "color": "#2a3f5f"
           }
          },
          "ternary": {
           "aaxis": {
            "gridcolor": "white",
            "linecolor": "white",
            "ticks": ""
           },
           "baxis": {
            "gridcolor": "white",
            "linecolor": "white",
            "ticks": ""
           },
           "bgcolor": "#E5ECF6",
           "caxis": {
            "gridcolor": "white",
            "linecolor": "white",
            "ticks": ""
           }
          },
          "title": {
           "x": 0.05
          },
          "xaxis": {
           "automargin": true,
           "gridcolor": "white",
           "linecolor": "white",
           "ticks": "",
           "title": {
            "standoff": 15
           },
           "zerolinecolor": "white",
           "zerolinewidth": 2
          },
          "yaxis": {
           "automargin": true,
           "gridcolor": "white",
           "linecolor": "white",
           "ticks": "",
           "title": {
            "standoff": 15
           },
           "zerolinecolor": "white",
           "zerolinewidth": 2
          }
         }
        },
        "width": 1000,
        "xaxis": {
         "linecolor": "rgb(255,255,255)",
         "showgrid": false,
         "showline": true
        },
        "yaxis": {
         "showgrid": false
        }
       }
      }
     },
     "metadata": {},
     "output_type": "display_data"
    }
   ],
   "source": [
    "linealPlot(agrup)"
   ]
  },
  {
   "cell_type": "code",
   "execution_count": 587,
   "metadata": {},
   "outputs": [
    {
     "data": {
      "text/html": [
       "<div>\n",
       "<style scoped>\n",
       "    .dataframe tbody tr th:only-of-type {\n",
       "        vertical-align: middle;\n",
       "    }\n",
       "\n",
       "    .dataframe tbody tr th {\n",
       "        vertical-align: top;\n",
       "    }\n",
       "\n",
       "    .dataframe thead th {\n",
       "        text-align: right;\n",
       "    }\n",
       "</style>\n",
       "<table border=\"1\" class=\"dataframe\">\n",
       "  <thead>\n",
       "    <tr style=\"text-align: right;\">\n",
       "      <th></th>\n",
       "      <th>Year</th>\n",
       "      <th>CO2_emission</th>\n",
       "    </tr>\n",
       "  </thead>\n",
       "  <tbody>\n",
       "    <tr>\n",
       "      <th>0</th>\n",
       "      <td>1980</td>\n",
       "      <td>22515.526117</td>\n",
       "    </tr>\n",
       "    <tr>\n",
       "      <th>1</th>\n",
       "      <td>1981</td>\n",
       "      <td>22793.185797</td>\n",
       "    </tr>\n",
       "    <tr>\n",
       "      <th>2</th>\n",
       "      <td>1982</td>\n",
       "      <td>22418.625375</td>\n",
       "    </tr>\n",
       "    <tr>\n",
       "      <th>3</th>\n",
       "      <td>1983</td>\n",
       "      <td>22375.213750</td>\n",
       "    </tr>\n",
       "    <tr>\n",
       "      <th>4</th>\n",
       "      <td>1984</td>\n",
       "      <td>22569.723621</td>\n",
       "    </tr>\n",
       "    <tr>\n",
       "      <th>5</th>\n",
       "      <td>1985</td>\n",
       "      <td>23693.758774</td>\n",
       "    </tr>\n",
       "    <tr>\n",
       "      <th>6</th>\n",
       "      <td>1986</td>\n",
       "      <td>23991.071222</td>\n",
       "    </tr>\n",
       "    <tr>\n",
       "      <th>7</th>\n",
       "      <td>1987</td>\n",
       "      <td>24474.732453</td>\n",
       "    </tr>\n",
       "    <tr>\n",
       "      <th>8</th>\n",
       "      <td>1988</td>\n",
       "      <td>25255.051964</td>\n",
       "    </tr>\n",
       "    <tr>\n",
       "      <th>9</th>\n",
       "      <td>1989</td>\n",
       "      <td>25933.753458</td>\n",
       "    </tr>\n",
       "    <tr>\n",
       "      <th>10</th>\n",
       "      <td>1990</td>\n",
       "      <td>26123.376277</td>\n",
       "    </tr>\n",
       "    <tr>\n",
       "      <th>11</th>\n",
       "      <td>1991</td>\n",
       "      <td>26711.924835</td>\n",
       "    </tr>\n",
       "    <tr>\n",
       "      <th>12</th>\n",
       "      <td>1992</td>\n",
       "      <td>28035.119811</td>\n",
       "    </tr>\n",
       "    <tr>\n",
       "      <th>13</th>\n",
       "      <td>1993</td>\n",
       "      <td>23464.211634</td>\n",
       "    </tr>\n",
       "    <tr>\n",
       "      <th>14</th>\n",
       "      <td>1994</td>\n",
       "      <td>23427.125358</td>\n",
       "    </tr>\n",
       "    <tr>\n",
       "      <th>15</th>\n",
       "      <td>1995</td>\n",
       "      <td>23599.088545</td>\n",
       "    </tr>\n",
       "    <tr>\n",
       "      <th>16</th>\n",
       "      <td>1996</td>\n",
       "      <td>24086.905819</td>\n",
       "    </tr>\n",
       "    <tr>\n",
       "      <th>17</th>\n",
       "      <td>1997</td>\n",
       "      <td>24449.035770</td>\n",
       "    </tr>\n",
       "    <tr>\n",
       "      <th>18</th>\n",
       "      <td>1998</td>\n",
       "      <td>24519.204518</td>\n",
       "    </tr>\n",
       "    <tr>\n",
       "      <th>19</th>\n",
       "      <td>1999</td>\n",
       "      <td>24558.518267</td>\n",
       "    </tr>\n",
       "    <tr>\n",
       "      <th>20</th>\n",
       "      <td>2000</td>\n",
       "      <td>24901.270204</td>\n",
       "    </tr>\n",
       "    <tr>\n",
       "      <th>21</th>\n",
       "      <td>2001</td>\n",
       "      <td>25664.434808</td>\n",
       "    </tr>\n",
       "    <tr>\n",
       "      <th>22</th>\n",
       "      <td>2002</td>\n",
       "      <td>25869.462943</td>\n",
       "    </tr>\n",
       "    <tr>\n",
       "      <th>23</th>\n",
       "      <td>2003</td>\n",
       "      <td>26294.617044</td>\n",
       "    </tr>\n",
       "    <tr>\n",
       "      <th>24</th>\n",
       "      <td>2004</td>\n",
       "      <td>27448.309373</td>\n",
       "    </tr>\n",
       "    <tr>\n",
       "      <th>25</th>\n",
       "      <td>2005</td>\n",
       "      <td>28880.823099</td>\n",
       "    </tr>\n",
       "    <tr>\n",
       "      <th>26</th>\n",
       "      <td>2006</td>\n",
       "      <td>29760.144606</td>\n",
       "    </tr>\n",
       "    <tr>\n",
       "      <th>27</th>\n",
       "      <td>2007</td>\n",
       "      <td>30783.193334</td>\n",
       "    </tr>\n",
       "    <tr>\n",
       "      <th>28</th>\n",
       "      <td>2008</td>\n",
       "      <td>31110.312699</td>\n",
       "    </tr>\n",
       "    <tr>\n",
       "      <th>29</th>\n",
       "      <td>2009</td>\n",
       "      <td>31818.253789</td>\n",
       "    </tr>\n",
       "    <tr>\n",
       "      <th>30</th>\n",
       "      <td>2010</td>\n",
       "      <td>31644.630085</td>\n",
       "    </tr>\n",
       "    <tr>\n",
       "      <th>31</th>\n",
       "      <td>2011</td>\n",
       "      <td>33542.108226</td>\n",
       "    </tr>\n",
       "    <tr>\n",
       "      <th>32</th>\n",
       "      <td>2012</td>\n",
       "      <td>34529.285588</td>\n",
       "    </tr>\n",
       "    <tr>\n",
       "      <th>33</th>\n",
       "      <td>2013</td>\n",
       "      <td>35318.367243</td>\n",
       "    </tr>\n",
       "    <tr>\n",
       "      <th>34</th>\n",
       "      <td>2014</td>\n",
       "      <td>35734.856745</td>\n",
       "    </tr>\n",
       "    <tr>\n",
       "      <th>35</th>\n",
       "      <td>2015</td>\n",
       "      <td>35789.212548</td>\n",
       "    </tr>\n",
       "    <tr>\n",
       "      <th>36</th>\n",
       "      <td>2016</td>\n",
       "      <td>35646.558088</td>\n",
       "    </tr>\n",
       "    <tr>\n",
       "      <th>37</th>\n",
       "      <td>2017</td>\n",
       "      <td>35467.333199</td>\n",
       "    </tr>\n",
       "    <tr>\n",
       "      <th>38</th>\n",
       "      <td>2018</td>\n",
       "      <td>35897.853272</td>\n",
       "    </tr>\n",
       "    <tr>\n",
       "      <th>39</th>\n",
       "      <td>2019</td>\n",
       "      <td>36479.885993</td>\n",
       "    </tr>\n",
       "  </tbody>\n",
       "</table>\n",
       "</div>"
      ],
      "text/plain": [
       "    Year  CO2_emission\n",
       "0   1980  22515.526117\n",
       "1   1981  22793.185797\n",
       "2   1982  22418.625375\n",
       "3   1983  22375.213750\n",
       "4   1984  22569.723621\n",
       "5   1985  23693.758774\n",
       "6   1986  23991.071222\n",
       "7   1987  24474.732453\n",
       "8   1988  25255.051964\n",
       "9   1989  25933.753458\n",
       "10  1990  26123.376277\n",
       "11  1991  26711.924835\n",
       "12  1992  28035.119811\n",
       "13  1993  23464.211634\n",
       "14  1994  23427.125358\n",
       "15  1995  23599.088545\n",
       "16  1996  24086.905819\n",
       "17  1997  24449.035770\n",
       "18  1998  24519.204518\n",
       "19  1999  24558.518267\n",
       "20  2000  24901.270204\n",
       "21  2001  25664.434808\n",
       "22  2002  25869.462943\n",
       "23  2003  26294.617044\n",
       "24  2004  27448.309373\n",
       "25  2005  28880.823099\n",
       "26  2006  29760.144606\n",
       "27  2007  30783.193334\n",
       "28  2008  31110.312699\n",
       "29  2009  31818.253789\n",
       "30  2010  31644.630085\n",
       "31  2011  33542.108226\n",
       "32  2012  34529.285588\n",
       "33  2013  35318.367243\n",
       "34  2014  35734.856745\n",
       "35  2015  35789.212548\n",
       "36  2016  35646.558088\n",
       "37  2017  35467.333199\n",
       "38  2018  35897.853272\n",
       "39  2019  36479.885993"
      ]
     },
     "execution_count": 587,
     "metadata": {},
     "output_type": "execute_result"
    }
   ],
   "source": [
    "agrup"
   ]
  },
  {
   "cell_type": "code",
   "execution_count": 588,
   "metadata": {},
   "outputs": [],
   "source": [
    "import folium\n",
    "\n",
    "\n",
    "m = folium.Map(location=[40.965, -5.664])"
   ]
  },
  {
   "cell_type": "code",
   "execution_count": 589,
   "metadata": {},
   "outputs": [
    {
     "data": {
      "text/html": [
       "<div style=\"width:100%;\"><div style=\"position:relative;width:100%;height:0;padding-bottom:60%;\"><span style=\"color:#565656\">Make this Notebook Trusted to load map: File -> Trust Notebook</span><iframe srcdoc=\"&lt;!DOCTYPE html&gt;\n",
       "&lt;head&gt;    \n",
       "    &lt;meta http-equiv=&quot;content-type&quot; content=&quot;text/html; charset=UTF-8&quot; /&gt;\n",
       "    \n",
       "        &lt;script&gt;\n",
       "            L_NO_TOUCH = false;\n",
       "            L_DISABLE_3D = false;\n",
       "        &lt;/script&gt;\n",
       "    \n",
       "    &lt;style&gt;html, body {width: 100%;height: 100%;margin: 0;padding: 0;}&lt;/style&gt;\n",
       "    &lt;style&gt;#map {position:absolute;top:0;bottom:0;right:0;left:0;}&lt;/style&gt;\n",
       "    &lt;script src=&quot;https://cdn.jsdelivr.net/npm/leaflet@1.6.0/dist/leaflet.js&quot;&gt;&lt;/script&gt;\n",
       "    &lt;script src=&quot;https://code.jquery.com/jquery-1.12.4.min.js&quot;&gt;&lt;/script&gt;\n",
       "    &lt;script src=&quot;https://maxcdn.bootstrapcdn.com/bootstrap/3.2.0/js/bootstrap.min.js&quot;&gt;&lt;/script&gt;\n",
       "    &lt;script src=&quot;https://cdnjs.cloudflare.com/ajax/libs/Leaflet.awesome-markers/2.0.2/leaflet.awesome-markers.js&quot;&gt;&lt;/script&gt;\n",
       "    &lt;link rel=&quot;stylesheet&quot; href=&quot;https://cdn.jsdelivr.net/npm/leaflet@1.6.0/dist/leaflet.css&quot;/&gt;\n",
       "    &lt;link rel=&quot;stylesheet&quot; href=&quot;https://maxcdn.bootstrapcdn.com/bootstrap/3.2.0/css/bootstrap.min.css&quot;/&gt;\n",
       "    &lt;link rel=&quot;stylesheet&quot; href=&quot;https://maxcdn.bootstrapcdn.com/bootstrap/3.2.0/css/bootstrap-theme.min.css&quot;/&gt;\n",
       "    &lt;link rel=&quot;stylesheet&quot; href=&quot;https://maxcdn.bootstrapcdn.com/font-awesome/4.6.3/css/font-awesome.min.css&quot;/&gt;\n",
       "    &lt;link rel=&quot;stylesheet&quot; href=&quot;https://cdnjs.cloudflare.com/ajax/libs/Leaflet.awesome-markers/2.0.2/leaflet.awesome-markers.css&quot;/&gt;\n",
       "    &lt;link rel=&quot;stylesheet&quot; href=&quot;https://cdn.jsdelivr.net/gh/python-visualization/folium/folium/templates/leaflet.awesome.rotate.min.css&quot;/&gt;\n",
       "    \n",
       "            &lt;meta name=&quot;viewport&quot; content=&quot;width=device-width,\n",
       "                initial-scale=1.0, maximum-scale=1.0, user-scalable=no&quot; /&gt;\n",
       "            &lt;style&gt;\n",
       "                #map_046b825a86a059e49a981a770a94d38b {\n",
       "                    position: relative;\n",
       "                    width: 100.0%;\n",
       "                    height: 100.0%;\n",
       "                    left: 0.0%;\n",
       "                    top: 0.0%;\n",
       "                }\n",
       "            &lt;/style&gt;\n",
       "        \n",
       "&lt;/head&gt;\n",
       "&lt;body&gt;    \n",
       "    \n",
       "            &lt;div class=&quot;folium-map&quot; id=&quot;map_046b825a86a059e49a981a770a94d38b&quot; &gt;&lt;/div&gt;\n",
       "        \n",
       "&lt;/body&gt;\n",
       "&lt;script&gt;    \n",
       "    \n",
       "            var map_046b825a86a059e49a981a770a94d38b = L.map(\n",
       "                &quot;map_046b825a86a059e49a981a770a94d38b&quot;,\n",
       "                {\n",
       "                    center: [40.965, -5.664],\n",
       "                    crs: L.CRS.EPSG3857,\n",
       "                    zoom: 10,\n",
       "                    zoomControl: true,\n",
       "                    preferCanvas: false,\n",
       "                }\n",
       "            );\n",
       "\n",
       "            \n",
       "\n",
       "        \n",
       "    \n",
       "            var tile_layer_54a047411783eab4a734755179b20756 = L.tileLayer(\n",
       "                &quot;https://{s}.tile.openstreetmap.org/{z}/{x}/{y}.png&quot;,\n",
       "                {&quot;attribution&quot;: &quot;Data by \\u0026copy; \\u003ca href=\\&quot;http://openstreetmap.org\\&quot;\\u003eOpenStreetMap\\u003c/a\\u003e, under \\u003ca href=\\&quot;http://www.openstreetmap.org/copyright\\&quot;\\u003eODbL\\u003c/a\\u003e.&quot;, &quot;detectRetina&quot;: false, &quot;maxNativeZoom&quot;: 18, &quot;maxZoom&quot;: 18, &quot;minZoom&quot;: 0, &quot;noWrap&quot;: false, &quot;opacity&quot;: 1, &quot;subdomains&quot;: &quot;abc&quot;, &quot;tms&quot;: false}\n",
       "            ).addTo(map_046b825a86a059e49a981a770a94d38b);\n",
       "        \n",
       "&lt;/script&gt;\" style=\"position:absolute;width:100%;height:100%;left:0;top:0;border:none !important;\" allowfullscreen webkitallowfullscreen mozallowfullscreen></iframe></div></div>"
      ],
      "text/plain": [
       "<folium.folium.Map at 0x1dd84c2be50>"
      ]
     },
     "execution_count": 589,
     "metadata": {},
     "output_type": "execute_result"
    }
   ],
   "source": [
    "m"
   ]
  }
 ],
 "metadata": {
  "kernelspec": {
   "display_name": "Python 3.10.4 64-bit",
   "language": "python",
   "name": "python3"
  },
  "language_info": {
   "codemirror_mode": {
    "name": "ipython",
    "version": 3
   },
   "file_extension": ".py",
   "mimetype": "text/x-python",
   "name": "python",
   "nbconvert_exporter": "python",
   "pygments_lexer": "ipython3",
   "version": "3.10.4"
  },
  "orig_nbformat": 4,
  "vscode": {
   "interpreter": {
    "hash": "a42ccb73e7d9bfdf27e036f1d2b8b681e55fc0743cc5586bc2474d4a60f4b886"
   }
  }
 },
 "nbformat": 4,
 "nbformat_minor": 2
}
