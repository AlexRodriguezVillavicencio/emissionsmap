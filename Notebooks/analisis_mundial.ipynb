{
 "cells": [
  {
   "cell_type": "code",
   "execution_count": 1,
   "metadata": {},
   "outputs": [],
   "source": [
    "import pandas as pd\n",
    "import numpy as np\n",
    "import matplotlib.pyplot as plt\n",
    "import seaborn as sns\n",
    "import plotly.express as px\n",
    "import plotly.graph_objects as go\n",
    "from plotly.subplots import make_subplots\n",
    "\n",
    "from googletrans import Translator\n",
    "from pathlib import Path\n",
    "import csv\n",
    "import os"
   ]
  },
  {
   "cell_type": "code",
   "execution_count": 3,
   "metadata": {},
   "outputs": [],
   "source": [
    "df01 = pd.read_csv('D:\\emissionsmap\\documentation\\data\\huella_biocapacidad.csv')"
   ]
  },
  {
   "cell_type": "code",
   "execution_count": 40,
   "metadata": {},
   "outputs": [],
   "source": [
    "df02 = pd.read_csv('D:\\emissionsmap\\documentation\\data\\Temperatura_anomalia.csv', sep=';', low_memory=False, encoding='utf-8')"
   ]
  },
  {
   "cell_type": "code",
   "execution_count": 114,
   "metadata": {},
   "outputs": [],
   "source": [
    "df03 = pd.read_csv(r'D:\\emissionsmap\\SubirData\\Normalizados\\Normal_primary_sub_energy_source.csv')"
   ]
  },
  {
   "cell_type": "code",
   "execution_count": 116,
   "metadata": {},
   "outputs": [],
   "source": [
    "df04 = pd.read_csv('D:\\emissionsmap\\documentation\\data\\gases.csv')"
   ]
  },
  {
   "cell_type": "code",
   "execution_count": 29,
   "metadata": {},
   "outputs": [
    {
     "data": {
      "text/html": [
       "<div>\n",
       "<style scoped>\n",
       "    .dataframe tbody tr th:only-of-type {\n",
       "        vertical-align: middle;\n",
       "    }\n",
       "\n",
       "    .dataframe tbody tr th {\n",
       "        vertical-align: top;\n",
       "    }\n",
       "\n",
       "    .dataframe thead th {\n",
       "        text-align: right;\n",
       "    }\n",
       "</style>\n",
       "<table border=\"1\" class=\"dataframe\">\n",
       "  <thead>\n",
       "    <tr style=\"text-align: right;\">\n",
       "      <th></th>\n",
       "      <th>Año</th>\n",
       "      <th>Poblacion</th>\n",
       "      <th>Biocapacidad PerCap</th>\n",
       "      <th>Huella Ecologica PerCap</th>\n",
       "      <th>Tierra</th>\n",
       "      <th>IdAño</th>\n",
       "    </tr>\n",
       "  </thead>\n",
       "  <tbody>\n",
       "    <tr>\n",
       "      <th>0</th>\n",
       "      <td>1961</td>\n",
       "      <td>3091840000</td>\n",
       "      <td>3.15</td>\n",
       "      <td>2.28</td>\n",
       "      <td>0.72381</td>\n",
       "      <td>f106b7f99d2cb30c3db1c3cc0fde9ccb</td>\n",
       "    </tr>\n",
       "    <tr>\n",
       "      <th>1</th>\n",
       "      <td>1962</td>\n",
       "      <td>3150419968</td>\n",
       "      <td>3.11</td>\n",
       "      <td>2.30</td>\n",
       "      <td>0.73955</td>\n",
       "      <td>95f6870ff3dcd442254e334a9033d349</td>\n",
       "    </tr>\n",
       "  </tbody>\n",
       "</table>\n",
       "</div>"
      ],
      "text/plain": [
       "    Año   Poblacion  Biocapacidad PerCap  Huella Ecologica PerCap   Tierra  \\\n",
       "0  1961  3091840000                 3.15                     2.28  0.72381   \n",
       "1  1962  3150419968                 3.11                     2.30  0.73955   \n",
       "\n",
       "                              IdAño  \n",
       "0  f106b7f99d2cb30c3db1c3cc0fde9ccb  \n",
       "1  95f6870ff3dcd442254e334a9033d349  "
      ]
     },
     "execution_count": 29,
     "metadata": {},
     "output_type": "execute_result"
    }
   ],
   "source": [
    "df01.head(2)"
   ]
  },
  {
   "cell_type": "code",
   "execution_count": 41,
   "metadata": {},
   "outputs": [
    {
     "data": {
      "text/html": [
       "<div>\n",
       "<style scoped>\n",
       "    .dataframe tbody tr th:only-of-type {\n",
       "        vertical-align: middle;\n",
       "    }\n",
       "\n",
       "    .dataframe tbody tr th {\n",
       "        vertical-align: top;\n",
       "    }\n",
       "\n",
       "    .dataframe thead th {\n",
       "        text-align: right;\n",
       "    }\n",
       "</style>\n",
       "<table border=\"1\" class=\"dataframe\">\n",
       "  <thead>\n",
       "    <tr style=\"text-align: right;\">\n",
       "      <th></th>\n",
       "      <th>Entidad</th>\n",
       "      <th>Año</th>\n",
       "      <th>Anomalia de la temperatura media del promedio de 1961 a 1990</th>\n",
       "      <th>Limite superior (95% CI)</th>\n",
       "      <th>Limite inferior (95% CI)</th>\n",
       "    </tr>\n",
       "  </thead>\n",
       "  <tbody>\n",
       "    <tr>\n",
       "      <th>0</th>\n",
       "      <td>Global</td>\n",
       "      <td>1850</td>\n",
       "      <td>-0.373</td>\n",
       "      <td>-0.339</td>\n",
       "      <td>-0.425</td>\n",
       "    </tr>\n",
       "    <tr>\n",
       "      <th>1</th>\n",
       "      <td>Global</td>\n",
       "      <td>1851</td>\n",
       "      <td>-0.218</td>\n",
       "      <td>-0.184</td>\n",
       "      <td>-0.274</td>\n",
       "    </tr>\n",
       "  </tbody>\n",
       "</table>\n",
       "</div>"
      ],
      "text/plain": [
       "  Entidad   Año  Anomalia de la temperatura media del promedio de 1961 a 1990  \\\n",
       "0  Global  1850                                             -0.373              \n",
       "1  Global  1851                                             -0.218              \n",
       "\n",
       "   Limite superior (95% CI)  Limite inferior (95% CI)  \n",
       "0                    -0.339                    -0.425  \n",
       "1                    -0.184                    -0.274  "
      ]
     },
     "execution_count": 41,
     "metadata": {},
     "output_type": "execute_result"
    }
   ],
   "source": [
    "df02.head(2)"
   ]
  },
  {
   "cell_type": "code",
   "execution_count": 88,
   "metadata": {},
   "outputs": [
    {
     "data": {
      "text/html": [
       "<div>\n",
       "<style scoped>\n",
       "    .dataframe tbody tr th:only-of-type {\n",
       "        vertical-align: middle;\n",
       "    }\n",
       "\n",
       "    .dataframe tbody tr th {\n",
       "        vertical-align: top;\n",
       "    }\n",
       "\n",
       "    .dataframe thead th {\n",
       "        text-align: right;\n",
       "    }\n",
       "</style>\n",
       "<table border=\"1\" class=\"dataframe\">\n",
       "  <thead>\n",
       "    <tr style=\"text-align: right;\">\n",
       "      <th></th>\n",
       "      <th>year</th>\n",
       "      <th>Dif_co2</th>\n",
       "    </tr>\n",
       "  </thead>\n",
       "  <tbody>\n",
       "    <tr>\n",
       "      <th>24</th>\n",
       "      <td>1959</td>\n",
       "      <td>NaN</td>\n",
       "    </tr>\n",
       "    <tr>\n",
       "      <th>25</th>\n",
       "      <td>1960</td>\n",
       "      <td>0.93</td>\n",
       "    </tr>\n",
       "    <tr>\n",
       "      <th>26</th>\n",
       "      <td>1961</td>\n",
       "      <td>0.73</td>\n",
       "    </tr>\n",
       "    <tr>\n",
       "      <th>27</th>\n",
       "      <td>1962</td>\n",
       "      <td>0.81</td>\n",
       "    </tr>\n",
       "    <tr>\n",
       "      <th>28</th>\n",
       "      <td>1963</td>\n",
       "      <td>0.54</td>\n",
       "    </tr>\n",
       "  </tbody>\n",
       "</table>\n",
       "</div>"
      ],
      "text/plain": [
       "    year  Dif_co2\n",
       "24  1959      NaN\n",
       "25  1960     0.93\n",
       "26  1961     0.73\n",
       "27  1962     0.81\n",
       "28  1963     0.54"
      ]
     },
     "execution_count": 88,
     "metadata": {},
     "output_type": "execute_result"
    }
   ],
   "source": [
    "df04.head(5)"
   ]
  },
  {
   "cell_type": "code",
   "execution_count": 63,
   "metadata": {},
   "outputs": [],
   "source": [
    "df04 = df04.sort_values('year')"
   ]
  },
  {
   "cell_type": "code",
   "execution_count": 64,
   "metadata": {},
   "outputs": [],
   "source": [
    "df04['Dif_co2'] = df04['Media co2'].diff()"
   ]
  },
  {
   "cell_type": "code",
   "execution_count": 65,
   "metadata": {},
   "outputs": [],
   "source": [
    "df04 = df04[['year', 'Dif_co2']]"
   ]
  },
  {
   "cell_type": "code",
   "execution_count": 67,
   "metadata": {},
   "outputs": [],
   "source": [
    "df02 = df02[['Año', 'Anomalia de la temperatura media del promedio de 1961 a 1990']]"
   ]
  },
  {
   "cell_type": "code",
   "execution_count": 69,
   "metadata": {},
   "outputs": [],
   "source": [
    "df02.rename(columns={'Año':'year'}, inplace=True)"
   ]
  },
  {
   "cell_type": "code",
   "execution_count": 75,
   "metadata": {},
   "outputs": [],
   "source": [
    "df_n = pd.merge(df02, df04[['year' ,'Dif_co2']], on=['year'], how='left')"
   ]
  },
  {
   "cell_type": "code",
   "execution_count": 78,
   "metadata": {},
   "outputs": [],
   "source": [
    "df_n = df_n[df_n['year'] >= 1960]"
   ]
  },
  {
   "cell_type": "code",
   "execution_count": 80,
   "metadata": {},
   "outputs": [
    {
     "data": {
      "text/plain": [
       "Index(['year', 'Anomalia de la temperatura media del promedio de 1961 a 1990',\n",
       "       'Dif_co2'],\n",
       "      dtype='object')"
      ]
     },
     "execution_count": 80,
     "metadata": {},
     "output_type": "execute_result"
    }
   ],
   "source": [
    "df_n = pd.merge(df02, df01[[]])"
   ]
  },
  {
   "cell_type": "code",
   "execution_count": 101,
   "metadata": {},
   "outputs": [],
   "source": [
    "df01.rename(columns={'Año':'year'}, inplace=True)"
   ]
  },
  {
   "cell_type": "code",
   "execution_count": 121,
   "metadata": {},
   "outputs": [],
   "source": [
    "df01['dif_huel'], df01['dif_biocap'] = df01['Huella Ecologica PerCap'].diff(), df01['Biocapacidad PerCap'].diff()"
   ]
  },
  {
   "cell_type": "code",
   "execution_count": 122,
   "metadata": {},
   "outputs": [],
   "source": [
    "df_pr = pd.merge(df_n, df01[['year','Huella Ecologica PerCap', 'Biocapacidad PerCap']], on=['year'], how='left')"
   ]
  },
  {
   "cell_type": "code",
   "execution_count": 123,
   "metadata": {},
   "outputs": [],
   "source": [
    "df_pr.set_index('year', inplace=True)"
   ]
  },
  {
   "cell_type": "code",
   "execution_count": 111,
   "metadata": {},
   "outputs": [],
   "source": [
    "df_pr.fillna(0, inplace=True)"
   ]
  },
  {
   "cell_type": "code",
   "execution_count": 119,
   "metadata": {},
   "outputs": [],
   "source": [
    "df_pru = df_n.set_index('year')"
   ]
  },
  {
   "cell_type": "code",
   "execution_count": 86,
   "metadata": {},
   "outputs": [
    {
     "data": {
      "application/vnd.plotly.v1+json": {
       "config": {
        "linkText": "Export to plot.ly",
        "plotlyServerURL": "https://plot.ly",
        "showLink": false
       },
       "data": [
        {
         "name": "Anomalia de la temperatura media del promedio de 1961 a 1990",
         "type": "scatter",
         "x": [
          1960,
          1961,
          1962,
          1963,
          1964,
          1965,
          1966,
          1967,
          1968,
          1969,
          1970,
          1971,
          1972,
          1973,
          1974,
          1975,
          1976,
          1977,
          1978,
          1979,
          1980,
          1981,
          1982,
          1983,
          1984,
          1985,
          1986,
          1987,
          1988,
          1989,
          1990,
          1991,
          1992,
          1993,
          1994,
          1995,
          1996,
          1997,
          1998,
          1999,
          2000,
          2001,
          2002,
          2003,
          2004,
          2005,
          2006,
          2007,
          2008,
          2009,
          2010,
          2011,
          2012,
          2013,
          2014,
          2015,
          2016,
          2017,
          2018,
          2019
         ],
         "y": [
          -0.049,
          0.038,
          0.014,
          0.048,
          -0.223,
          -0.14,
          -0.068,
          -0.074,
          -0.113,
          0.032,
          -0.027,
          -0.186,
          -0.065,
          0.062,
          -0.214,
          -0.149,
          -0.241,
          0.047,
          -0.062,
          0.057,
          0.092,
          0.14,
          0.011,
          0.194,
          -0.014,
          -0.03,
          0.045,
          0.192,
          0.198,
          0.118,
          0.296,
          0.254,
          0.105,
          0.148,
          0.208,
          0.325,
          0.183,
          0.39,
          0.539,
          0.306,
          0.294,
          0.441,
          0.496,
          0.505,
          0.447,
          0.545,
          0.506,
          0.491,
          0.395,
          0.506,
          0.56,
          0.425,
          0.47,
          0.514,
          0.579,
          0.763,
          0.797,
          0.677,
          0.597,
          0.736
         ]
        },
        {
         "name": "Dif_co2",
         "type": "scatter",
         "x": [
          1960,
          1961,
          1962,
          1963,
          1964,
          1965,
          1966,
          1967,
          1968,
          1969,
          1970,
          1971,
          1972,
          1973,
          1974,
          1975,
          1976,
          1977,
          1978,
          1979,
          1980,
          1981,
          1982,
          1983,
          1984,
          1985,
          1986,
          1987,
          1988,
          1989,
          1990,
          1991,
          1992,
          1993,
          1994,
          1995,
          1996,
          1997,
          1998,
          1999,
          2000,
          2001,
          2002,
          2003,
          2004,
          2005,
          2006,
          2007,
          2008,
          2009,
          2010,
          2011,
          2012,
          2013,
          2014,
          2015,
          2016,
          2017,
          2018,
          2019
         ],
         "y": [
          0.9300000000000068,
          0.7299999999999613,
          0.8100000000000023,
          0.5400000000000205,
          0.6299999999999955,
          0.4200000000000159,
          1.329999999999984,
          0.8100000000000023,
          0.8700000000000045,
          1.5699999999999932,
          1.0600000000000023,
          0.6399999999999864,
          1.1399999999999864,
          2.2200000000000273,
          0.5099999999999909,
          0.9300000000000068,
          0.9099999999999682,
          1.8100000000000023,
          1.57000000000005,
          1.42999999999995,
          1.920000000000016,
          1.3600000000000136,
          1.3600000000000136,
          1.669999999999959,
          1.7000000000000455,
          1.5,
          1.259999999999991,
          1.6999999999999886,
          2.3799999999999955,
          1.509999999999991,
          1.25,
          1.25,
          0.8400000000000318,
          0.6699999999999591,
          1.75,
          2.0100000000000477,
          1.7699999999999818,
          1.1399999999999864,
          2.9599999999999795,
          1.7000000000000455,
          1.169999999999959,
          1.6100000000000136,
          2.1299999999999955,
          2.5300000000000296,
          1.7199999999999704,
          2.2800000000000296,
          2.109999999999957,
          1.9300000000000068,
          1.8100000000000023,
          1.8100000000000023,
          2.4600000000000364,
          1.75,
          2.2099999999999795,
          2.680000000000007,
          2.069999999999993,
          2.1999999999999886,
          3.400000000000034,
          2.349999999999966,
          1.9600000000000364,
          2.9399999999999977
         ]
        }
       ],
       "layout": {
        "template": {
         "data": {
          "bar": [
           {
            "error_x": {
             "color": "#2a3f5f"
            },
            "error_y": {
             "color": "#2a3f5f"
            },
            "marker": {
             "line": {
              "color": "#E5ECF6",
              "width": 0.5
             },
             "pattern": {
              "fillmode": "overlay",
              "size": 10,
              "solidity": 0.2
             }
            },
            "type": "bar"
           }
          ],
          "barpolar": [
           {
            "marker": {
             "line": {
              "color": "#E5ECF6",
              "width": 0.5
             },
             "pattern": {
              "fillmode": "overlay",
              "size": 10,
              "solidity": 0.2
             }
            },
            "type": "barpolar"
           }
          ],
          "carpet": [
           {
            "aaxis": {
             "endlinecolor": "#2a3f5f",
             "gridcolor": "white",
             "linecolor": "white",
             "minorgridcolor": "white",
             "startlinecolor": "#2a3f5f"
            },
            "baxis": {
             "endlinecolor": "#2a3f5f",
             "gridcolor": "white",
             "linecolor": "white",
             "minorgridcolor": "white",
             "startlinecolor": "#2a3f5f"
            },
            "type": "carpet"
           }
          ],
          "choropleth": [
           {
            "colorbar": {
             "outlinewidth": 0,
             "ticks": ""
            },
            "type": "choropleth"
           }
          ],
          "contour": [
           {
            "colorbar": {
             "outlinewidth": 0,
             "ticks": ""
            },
            "colorscale": [
             [
              0,
              "#0d0887"
             ],
             [
              0.1111111111111111,
              "#46039f"
             ],
             [
              0.2222222222222222,
              "#7201a8"
             ],
             [
              0.3333333333333333,
              "#9c179e"
             ],
             [
              0.4444444444444444,
              "#bd3786"
             ],
             [
              0.5555555555555556,
              "#d8576b"
             ],
             [
              0.6666666666666666,
              "#ed7953"
             ],
             [
              0.7777777777777778,
              "#fb9f3a"
             ],
             [
              0.8888888888888888,
              "#fdca26"
             ],
             [
              1,
              "#f0f921"
             ]
            ],
            "type": "contour"
           }
          ],
          "contourcarpet": [
           {
            "colorbar": {
             "outlinewidth": 0,
             "ticks": ""
            },
            "type": "contourcarpet"
           }
          ],
          "heatmap": [
           {
            "colorbar": {
             "outlinewidth": 0,
             "ticks": ""
            },
            "colorscale": [
             [
              0,
              "#0d0887"
             ],
             [
              0.1111111111111111,
              "#46039f"
             ],
             [
              0.2222222222222222,
              "#7201a8"
             ],
             [
              0.3333333333333333,
              "#9c179e"
             ],
             [
              0.4444444444444444,
              "#bd3786"
             ],
             [
              0.5555555555555556,
              "#d8576b"
             ],
             [
              0.6666666666666666,
              "#ed7953"
             ],
             [
              0.7777777777777778,
              "#fb9f3a"
             ],
             [
              0.8888888888888888,
              "#fdca26"
             ],
             [
              1,
              "#f0f921"
             ]
            ],
            "type": "heatmap"
           }
          ],
          "heatmapgl": [
           {
            "colorbar": {
             "outlinewidth": 0,
             "ticks": ""
            },
            "colorscale": [
             [
              0,
              "#0d0887"
             ],
             [
              0.1111111111111111,
              "#46039f"
             ],
             [
              0.2222222222222222,
              "#7201a8"
             ],
             [
              0.3333333333333333,
              "#9c179e"
             ],
             [
              0.4444444444444444,
              "#bd3786"
             ],
             [
              0.5555555555555556,
              "#d8576b"
             ],
             [
              0.6666666666666666,
              "#ed7953"
             ],
             [
              0.7777777777777778,
              "#fb9f3a"
             ],
             [
              0.8888888888888888,
              "#fdca26"
             ],
             [
              1,
              "#f0f921"
             ]
            ],
            "type": "heatmapgl"
           }
          ],
          "histogram": [
           {
            "marker": {
             "pattern": {
              "fillmode": "overlay",
              "size": 10,
              "solidity": 0.2
             }
            },
            "type": "histogram"
           }
          ],
          "histogram2d": [
           {
            "colorbar": {
             "outlinewidth": 0,
             "ticks": ""
            },
            "colorscale": [
             [
              0,
              "#0d0887"
             ],
             [
              0.1111111111111111,
              "#46039f"
             ],
             [
              0.2222222222222222,
              "#7201a8"
             ],
             [
              0.3333333333333333,
              "#9c179e"
             ],
             [
              0.4444444444444444,
              "#bd3786"
             ],
             [
              0.5555555555555556,
              "#d8576b"
             ],
             [
              0.6666666666666666,
              "#ed7953"
             ],
             [
              0.7777777777777778,
              "#fb9f3a"
             ],
             [
              0.8888888888888888,
              "#fdca26"
             ],
             [
              1,
              "#f0f921"
             ]
            ],
            "type": "histogram2d"
           }
          ],
          "histogram2dcontour": [
           {
            "colorbar": {
             "outlinewidth": 0,
             "ticks": ""
            },
            "colorscale": [
             [
              0,
              "#0d0887"
             ],
             [
              0.1111111111111111,
              "#46039f"
             ],
             [
              0.2222222222222222,
              "#7201a8"
             ],
             [
              0.3333333333333333,
              "#9c179e"
             ],
             [
              0.4444444444444444,
              "#bd3786"
             ],
             [
              0.5555555555555556,
              "#d8576b"
             ],
             [
              0.6666666666666666,
              "#ed7953"
             ],
             [
              0.7777777777777778,
              "#fb9f3a"
             ],
             [
              0.8888888888888888,
              "#fdca26"
             ],
             [
              1,
              "#f0f921"
             ]
            ],
            "type": "histogram2dcontour"
           }
          ],
          "mesh3d": [
           {
            "colorbar": {
             "outlinewidth": 0,
             "ticks": ""
            },
            "type": "mesh3d"
           }
          ],
          "parcoords": [
           {
            "line": {
             "colorbar": {
              "outlinewidth": 0,
              "ticks": ""
             }
            },
            "type": "parcoords"
           }
          ],
          "pie": [
           {
            "automargin": true,
            "type": "pie"
           }
          ],
          "scatter": [
           {
            "fillpattern": {
             "fillmode": "overlay",
             "size": 10,
             "solidity": 0.2
            },
            "type": "scatter"
           }
          ],
          "scatter3d": [
           {
            "line": {
             "colorbar": {
              "outlinewidth": 0,
              "ticks": ""
             }
            },
            "marker": {
             "colorbar": {
              "outlinewidth": 0,
              "ticks": ""
             }
            },
            "type": "scatter3d"
           }
          ],
          "scattercarpet": [
           {
            "marker": {
             "colorbar": {
              "outlinewidth": 0,
              "ticks": ""
             }
            },
            "type": "scattercarpet"
           }
          ],
          "scattergeo": [
           {
            "marker": {
             "colorbar": {
              "outlinewidth": 0,
              "ticks": ""
             }
            },
            "type": "scattergeo"
           }
          ],
          "scattergl": [
           {
            "marker": {
             "colorbar": {
              "outlinewidth": 0,
              "ticks": ""
             }
            },
            "type": "scattergl"
           }
          ],
          "scattermapbox": [
           {
            "marker": {
             "colorbar": {
              "outlinewidth": 0,
              "ticks": ""
             }
            },
            "type": "scattermapbox"
           }
          ],
          "scatterpolar": [
           {
            "marker": {
             "colorbar": {
              "outlinewidth": 0,
              "ticks": ""
             }
            },
            "type": "scatterpolar"
           }
          ],
          "scatterpolargl": [
           {
            "marker": {
             "colorbar": {
              "outlinewidth": 0,
              "ticks": ""
             }
            },
            "type": "scatterpolargl"
           }
          ],
          "scatterternary": [
           {
            "marker": {
             "colorbar": {
              "outlinewidth": 0,
              "ticks": ""
             }
            },
            "type": "scatterternary"
           }
          ],
          "surface": [
           {
            "colorbar": {
             "outlinewidth": 0,
             "ticks": ""
            },
            "colorscale": [
             [
              0,
              "#0d0887"
             ],
             [
              0.1111111111111111,
              "#46039f"
             ],
             [
              0.2222222222222222,
              "#7201a8"
             ],
             [
              0.3333333333333333,
              "#9c179e"
             ],
             [
              0.4444444444444444,
              "#bd3786"
             ],
             [
              0.5555555555555556,
              "#d8576b"
             ],
             [
              0.6666666666666666,
              "#ed7953"
             ],
             [
              0.7777777777777778,
              "#fb9f3a"
             ],
             [
              0.8888888888888888,
              "#fdca26"
             ],
             [
              1,
              "#f0f921"
             ]
            ],
            "type": "surface"
           }
          ],
          "table": [
           {
            "cells": {
             "fill": {
              "color": "#EBF0F8"
             },
             "line": {
              "color": "white"
             }
            },
            "header": {
             "fill": {
              "color": "#C8D4E3"
             },
             "line": {
              "color": "white"
             }
            },
            "type": "table"
           }
          ]
         },
         "layout": {
          "annotationdefaults": {
           "arrowcolor": "#2a3f5f",
           "arrowhead": 0,
           "arrowwidth": 1
          },
          "autotypenumbers": "strict",
          "coloraxis": {
           "colorbar": {
            "outlinewidth": 0,
            "ticks": ""
           }
          },
          "colorscale": {
           "diverging": [
            [
             0,
             "#8e0152"
            ],
            [
             0.1,
             "#c51b7d"
            ],
            [
             0.2,
             "#de77ae"
            ],
            [
             0.3,
             "#f1b6da"
            ],
            [
             0.4,
             "#fde0ef"
            ],
            [
             0.5,
             "#f7f7f7"
            ],
            [
             0.6,
             "#e6f5d0"
            ],
            [
             0.7,
             "#b8e186"
            ],
            [
             0.8,
             "#7fbc41"
            ],
            [
             0.9,
             "#4d9221"
            ],
            [
             1,
             "#276419"
            ]
           ],
           "sequential": [
            [
             0,
             "#0d0887"
            ],
            [
             0.1111111111111111,
             "#46039f"
            ],
            [
             0.2222222222222222,
             "#7201a8"
            ],
            [
             0.3333333333333333,
             "#9c179e"
            ],
            [
             0.4444444444444444,
             "#bd3786"
            ],
            [
             0.5555555555555556,
             "#d8576b"
            ],
            [
             0.6666666666666666,
             "#ed7953"
            ],
            [
             0.7777777777777778,
             "#fb9f3a"
            ],
            [
             0.8888888888888888,
             "#fdca26"
            ],
            [
             1,
             "#f0f921"
            ]
           ],
           "sequentialminus": [
            [
             0,
             "#0d0887"
            ],
            [
             0.1111111111111111,
             "#46039f"
            ],
            [
             0.2222222222222222,
             "#7201a8"
            ],
            [
             0.3333333333333333,
             "#9c179e"
            ],
            [
             0.4444444444444444,
             "#bd3786"
            ],
            [
             0.5555555555555556,
             "#d8576b"
            ],
            [
             0.6666666666666666,
             "#ed7953"
            ],
            [
             0.7777777777777778,
             "#fb9f3a"
            ],
            [
             0.8888888888888888,
             "#fdca26"
            ],
            [
             1,
             "#f0f921"
            ]
           ]
          },
          "colorway": [
           "#636efa",
           "#EF553B",
           "#00cc96",
           "#ab63fa",
           "#FFA15A",
           "#19d3f3",
           "#FF6692",
           "#B6E880",
           "#FF97FF",
           "#FECB52"
          ],
          "font": {
           "color": "#2a3f5f"
          },
          "geo": {
           "bgcolor": "white",
           "lakecolor": "white",
           "landcolor": "#E5ECF6",
           "showlakes": true,
           "showland": true,
           "subunitcolor": "white"
          },
          "hoverlabel": {
           "align": "left"
          },
          "hovermode": "closest",
          "mapbox": {
           "style": "light"
          },
          "paper_bgcolor": "white",
          "plot_bgcolor": "#E5ECF6",
          "polar": {
           "angularaxis": {
            "gridcolor": "white",
            "linecolor": "white",
            "ticks": ""
           },
           "bgcolor": "#E5ECF6",
           "radialaxis": {
            "gridcolor": "white",
            "linecolor": "white",
            "ticks": ""
           }
          },
          "scene": {
           "xaxis": {
            "backgroundcolor": "#E5ECF6",
            "gridcolor": "white",
            "gridwidth": 2,
            "linecolor": "white",
            "showbackground": true,
            "ticks": "",
            "zerolinecolor": "white"
           },
           "yaxis": {
            "backgroundcolor": "#E5ECF6",
            "gridcolor": "white",
            "gridwidth": 2,
            "linecolor": "white",
            "showbackground": true,
            "ticks": "",
            "zerolinecolor": "white"
           },
           "zaxis": {
            "backgroundcolor": "#E5ECF6",
            "gridcolor": "white",
            "gridwidth": 2,
            "linecolor": "white",
            "showbackground": true,
            "ticks": "",
            "zerolinecolor": "white"
           }
          },
          "shapedefaults": {
           "line": {
            "color": "#2a3f5f"
           }
          },
          "ternary": {
           "aaxis": {
            "gridcolor": "white",
            "linecolor": "white",
            "ticks": ""
           },
           "baxis": {
            "gridcolor": "white",
            "linecolor": "white",
            "ticks": ""
           },
           "bgcolor": "#E5ECF6",
           "caxis": {
            "gridcolor": "white",
            "linecolor": "white",
            "ticks": ""
           }
          },
          "title": {
           "x": 0.05
          },
          "xaxis": {
           "automargin": true,
           "gridcolor": "white",
           "linecolor": "white",
           "ticks": "",
           "title": {
            "standoff": 15
           },
           "zerolinecolor": "white",
           "zerolinewidth": 2
          },
          "yaxis": {
           "automargin": true,
           "gridcolor": "white",
           "linecolor": "white",
           "ticks": "",
           "title": {
            "standoff": 15
           },
           "zerolinecolor": "white",
           "zerolinewidth": 2
          }
         }
        }
       }
      }
     },
     "metadata": {},
     "output_type": "display_data"
    }
   ],
   "source": [
    "import plotly.offline as py\n",
    "col=['Anomalia de la temperatura media del promedio de 1961 a 1990', 'Dif_co2']\n",
    "py.iplot([{\n",
    "    'x':df_pru.index,\n",
    "    'y':df_pru[col],\n",
    "    'name': col\n",
    "} for col in  df_pru.columns], filename='cufflinks/multiple-lines-on-same-chart')"
   ]
  },
  {
   "cell_type": "code",
   "execution_count": 129,
   "metadata": {},
   "outputs": [],
   "source": [
    "df_pr2 = df_pr[['Huella Ecologica PerCap', 'Biocapacidad PerCap']]"
   ]
  },
  {
   "cell_type": "code",
   "execution_count": 130,
   "metadata": {},
   "outputs": [
    {
     "data": {
      "application/vnd.plotly.v1+json": {
       "config": {
        "linkText": "Export to plot.ly",
        "plotlyServerURL": "https://plot.ly",
        "showLink": false
       },
       "data": [
        {
         "name": "Huella Ecologica PerCap",
         "type": "scatter",
         "x": [
          1960,
          1961,
          1962,
          1963,
          1964,
          1965,
          1966,
          1967,
          1968,
          1969,
          1970,
          1971,
          1972,
          1973,
          1974,
          1975,
          1976,
          1977,
          1978,
          1979,
          1980,
          1981,
          1982,
          1983,
          1984,
          1985,
          1986,
          1987,
          1988,
          1989,
          1990,
          1991,
          1992,
          1993,
          1994,
          1995,
          1996,
          1997,
          1998,
          1999,
          2000,
          2001,
          2002,
          2003,
          2004,
          2005,
          2006,
          2007,
          2008,
          2009,
          2010,
          2011,
          2012,
          2013,
          2014,
          2015,
          2016,
          2017,
          2018,
          2019
         ],
         "y": [
          null,
          2.28,
          2.3,
          2.35,
          2.4,
          2.43,
          2.49,
          2.5,
          2.55,
          2.6,
          2.7,
          2.73,
          2.75,
          2.84,
          2.76,
          2.7,
          2.77,
          2.78,
          2.8,
          2.82,
          2.72,
          2.64,
          2.58,
          2.53,
          2.59,
          2.58,
          2.58,
          2.6,
          2.61,
          2.63,
          2.63,
          2.57,
          2.55,
          2.51,
          2.51,
          2.52,
          2.54,
          2.54,
          2.51,
          2.49,
          2.51,
          2.51,
          2.51,
          2.57,
          2.66,
          2.7,
          2.74,
          2.78,
          2.77,
          2.69,
          2.81,
          2.84,
          2.78,
          2.81,
          2.77,
          2.73,
          2.69,
          2.76,
          2.77,
          2.73
         ]
        },
        {
         "name": "Biocapacidad PerCap",
         "type": "scatter",
         "x": [
          1960,
          1961,
          1962,
          1963,
          1964,
          1965,
          1966,
          1967,
          1968,
          1969,
          1970,
          1971,
          1972,
          1973,
          1974,
          1975,
          1976,
          1977,
          1978,
          1979,
          1980,
          1981,
          1982,
          1983,
          1984,
          1985,
          1986,
          1987,
          1988,
          1989,
          1990,
          1991,
          1992,
          1993,
          1994,
          1995,
          1996,
          1997,
          1998,
          1999,
          2000,
          2001,
          2002,
          2003,
          2004,
          2005,
          2006,
          2007,
          2008,
          2009,
          2010,
          2011,
          2012,
          2013,
          2014,
          2015,
          2016,
          2017,
          2018,
          2019
         ],
         "y": [
          null,
          3.15,
          3.11,
          3.05,
          3,
          2.95,
          2.92,
          2.87,
          2.82,
          2.77,
          2.72,
          2.69,
          2.62,
          2.6,
          2.54,
          2.5,
          2.46,
          2.42,
          2.41,
          2.36,
          2.32,
          2.3,
          2.28,
          2.23,
          2.23,
          2.2,
          2.17,
          2.14,
          2.08,
          2.07,
          2.06,
          2.01,
          2.01,
          1.97,
          1.96,
          1.92,
          1.92,
          1.9,
          1.89,
          1.87,
          1.84,
          1.83,
          1.81,
          1.79,
          1.78,
          1.76,
          1.74,
          1.73,
          1.73,
          1.7,
          1.69,
          1.68,
          1.64,
          1.65,
          1.64,
          1.62,
          1.61,
          1.61,
          1.58,
          1.56
         ]
        }
       ],
       "layout": {
        "template": {
         "data": {
          "bar": [
           {
            "error_x": {
             "color": "#2a3f5f"
            },
            "error_y": {
             "color": "#2a3f5f"
            },
            "marker": {
             "line": {
              "color": "#E5ECF6",
              "width": 0.5
             },
             "pattern": {
              "fillmode": "overlay",
              "size": 10,
              "solidity": 0.2
             }
            },
            "type": "bar"
           }
          ],
          "barpolar": [
           {
            "marker": {
             "line": {
              "color": "#E5ECF6",
              "width": 0.5
             },
             "pattern": {
              "fillmode": "overlay",
              "size": 10,
              "solidity": 0.2
             }
            },
            "type": "barpolar"
           }
          ],
          "carpet": [
           {
            "aaxis": {
             "endlinecolor": "#2a3f5f",
             "gridcolor": "white",
             "linecolor": "white",
             "minorgridcolor": "white",
             "startlinecolor": "#2a3f5f"
            },
            "baxis": {
             "endlinecolor": "#2a3f5f",
             "gridcolor": "white",
             "linecolor": "white",
             "minorgridcolor": "white",
             "startlinecolor": "#2a3f5f"
            },
            "type": "carpet"
           }
          ],
          "choropleth": [
           {
            "colorbar": {
             "outlinewidth": 0,
             "ticks": ""
            },
            "type": "choropleth"
           }
          ],
          "contour": [
           {
            "colorbar": {
             "outlinewidth": 0,
             "ticks": ""
            },
            "colorscale": [
             [
              0,
              "#0d0887"
             ],
             [
              0.1111111111111111,
              "#46039f"
             ],
             [
              0.2222222222222222,
              "#7201a8"
             ],
             [
              0.3333333333333333,
              "#9c179e"
             ],
             [
              0.4444444444444444,
              "#bd3786"
             ],
             [
              0.5555555555555556,
              "#d8576b"
             ],
             [
              0.6666666666666666,
              "#ed7953"
             ],
             [
              0.7777777777777778,
              "#fb9f3a"
             ],
             [
              0.8888888888888888,
              "#fdca26"
             ],
             [
              1,
              "#f0f921"
             ]
            ],
            "type": "contour"
           }
          ],
          "contourcarpet": [
           {
            "colorbar": {
             "outlinewidth": 0,
             "ticks": ""
            },
            "type": "contourcarpet"
           }
          ],
          "heatmap": [
           {
            "colorbar": {
             "outlinewidth": 0,
             "ticks": ""
            },
            "colorscale": [
             [
              0,
              "#0d0887"
             ],
             [
              0.1111111111111111,
              "#46039f"
             ],
             [
              0.2222222222222222,
              "#7201a8"
             ],
             [
              0.3333333333333333,
              "#9c179e"
             ],
             [
              0.4444444444444444,
              "#bd3786"
             ],
             [
              0.5555555555555556,
              "#d8576b"
             ],
             [
              0.6666666666666666,
              "#ed7953"
             ],
             [
              0.7777777777777778,
              "#fb9f3a"
             ],
             [
              0.8888888888888888,
              "#fdca26"
             ],
             [
              1,
              "#f0f921"
             ]
            ],
            "type": "heatmap"
           }
          ],
          "heatmapgl": [
           {
            "colorbar": {
             "outlinewidth": 0,
             "ticks": ""
            },
            "colorscale": [
             [
              0,
              "#0d0887"
             ],
             [
              0.1111111111111111,
              "#46039f"
             ],
             [
              0.2222222222222222,
              "#7201a8"
             ],
             [
              0.3333333333333333,
              "#9c179e"
             ],
             [
              0.4444444444444444,
              "#bd3786"
             ],
             [
              0.5555555555555556,
              "#d8576b"
             ],
             [
              0.6666666666666666,
              "#ed7953"
             ],
             [
              0.7777777777777778,
              "#fb9f3a"
             ],
             [
              0.8888888888888888,
              "#fdca26"
             ],
             [
              1,
              "#f0f921"
             ]
            ],
            "type": "heatmapgl"
           }
          ],
          "histogram": [
           {
            "marker": {
             "pattern": {
              "fillmode": "overlay",
              "size": 10,
              "solidity": 0.2
             }
            },
            "type": "histogram"
           }
          ],
          "histogram2d": [
           {
            "colorbar": {
             "outlinewidth": 0,
             "ticks": ""
            },
            "colorscale": [
             [
              0,
              "#0d0887"
             ],
             [
              0.1111111111111111,
              "#46039f"
             ],
             [
              0.2222222222222222,
              "#7201a8"
             ],
             [
              0.3333333333333333,
              "#9c179e"
             ],
             [
              0.4444444444444444,
              "#bd3786"
             ],
             [
              0.5555555555555556,
              "#d8576b"
             ],
             [
              0.6666666666666666,
              "#ed7953"
             ],
             [
              0.7777777777777778,
              "#fb9f3a"
             ],
             [
              0.8888888888888888,
              "#fdca26"
             ],
             [
              1,
              "#f0f921"
             ]
            ],
            "type": "histogram2d"
           }
          ],
          "histogram2dcontour": [
           {
            "colorbar": {
             "outlinewidth": 0,
             "ticks": ""
            },
            "colorscale": [
             [
              0,
              "#0d0887"
             ],
             [
              0.1111111111111111,
              "#46039f"
             ],
             [
              0.2222222222222222,
              "#7201a8"
             ],
             [
              0.3333333333333333,
              "#9c179e"
             ],
             [
              0.4444444444444444,
              "#bd3786"
             ],
             [
              0.5555555555555556,
              "#d8576b"
             ],
             [
              0.6666666666666666,
              "#ed7953"
             ],
             [
              0.7777777777777778,
              "#fb9f3a"
             ],
             [
              0.8888888888888888,
              "#fdca26"
             ],
             [
              1,
              "#f0f921"
             ]
            ],
            "type": "histogram2dcontour"
           }
          ],
          "mesh3d": [
           {
            "colorbar": {
             "outlinewidth": 0,
             "ticks": ""
            },
            "type": "mesh3d"
           }
          ],
          "parcoords": [
           {
            "line": {
             "colorbar": {
              "outlinewidth": 0,
              "ticks": ""
             }
            },
            "type": "parcoords"
           }
          ],
          "pie": [
           {
            "automargin": true,
            "type": "pie"
           }
          ],
          "scatter": [
           {
            "fillpattern": {
             "fillmode": "overlay",
             "size": 10,
             "solidity": 0.2
            },
            "type": "scatter"
           }
          ],
          "scatter3d": [
           {
            "line": {
             "colorbar": {
              "outlinewidth": 0,
              "ticks": ""
             }
            },
            "marker": {
             "colorbar": {
              "outlinewidth": 0,
              "ticks": ""
             }
            },
            "type": "scatter3d"
           }
          ],
          "scattercarpet": [
           {
            "marker": {
             "colorbar": {
              "outlinewidth": 0,
              "ticks": ""
             }
            },
            "type": "scattercarpet"
           }
          ],
          "scattergeo": [
           {
            "marker": {
             "colorbar": {
              "outlinewidth": 0,
              "ticks": ""
             }
            },
            "type": "scattergeo"
           }
          ],
          "scattergl": [
           {
            "marker": {
             "colorbar": {
              "outlinewidth": 0,
              "ticks": ""
             }
            },
            "type": "scattergl"
           }
          ],
          "scattermapbox": [
           {
            "marker": {
             "colorbar": {
              "outlinewidth": 0,
              "ticks": ""
             }
            },
            "type": "scattermapbox"
           }
          ],
          "scatterpolar": [
           {
            "marker": {
             "colorbar": {
              "outlinewidth": 0,
              "ticks": ""
             }
            },
            "type": "scatterpolar"
           }
          ],
          "scatterpolargl": [
           {
            "marker": {
             "colorbar": {
              "outlinewidth": 0,
              "ticks": ""
             }
            },
            "type": "scatterpolargl"
           }
          ],
          "scatterternary": [
           {
            "marker": {
             "colorbar": {
              "outlinewidth": 0,
              "ticks": ""
             }
            },
            "type": "scatterternary"
           }
          ],
          "surface": [
           {
            "colorbar": {
             "outlinewidth": 0,
             "ticks": ""
            },
            "colorscale": [
             [
              0,
              "#0d0887"
             ],
             [
              0.1111111111111111,
              "#46039f"
             ],
             [
              0.2222222222222222,
              "#7201a8"
             ],
             [
              0.3333333333333333,
              "#9c179e"
             ],
             [
              0.4444444444444444,
              "#bd3786"
             ],
             [
              0.5555555555555556,
              "#d8576b"
             ],
             [
              0.6666666666666666,
              "#ed7953"
             ],
             [
              0.7777777777777778,
              "#fb9f3a"
             ],
             [
              0.8888888888888888,
              "#fdca26"
             ],
             [
              1,
              "#f0f921"
             ]
            ],
            "type": "surface"
           }
          ],
          "table": [
           {
            "cells": {
             "fill": {
              "color": "#EBF0F8"
             },
             "line": {
              "color": "white"
             }
            },
            "header": {
             "fill": {
              "color": "#C8D4E3"
             },
             "line": {
              "color": "white"
             }
            },
            "type": "table"
           }
          ]
         },
         "layout": {
          "annotationdefaults": {
           "arrowcolor": "#2a3f5f",
           "arrowhead": 0,
           "arrowwidth": 1
          },
          "autotypenumbers": "strict",
          "coloraxis": {
           "colorbar": {
            "outlinewidth": 0,
            "ticks": ""
           }
          },
          "colorscale": {
           "diverging": [
            [
             0,
             "#8e0152"
            ],
            [
             0.1,
             "#c51b7d"
            ],
            [
             0.2,
             "#de77ae"
            ],
            [
             0.3,
             "#f1b6da"
            ],
            [
             0.4,
             "#fde0ef"
            ],
            [
             0.5,
             "#f7f7f7"
            ],
            [
             0.6,
             "#e6f5d0"
            ],
            [
             0.7,
             "#b8e186"
            ],
            [
             0.8,
             "#7fbc41"
            ],
            [
             0.9,
             "#4d9221"
            ],
            [
             1,
             "#276419"
            ]
           ],
           "sequential": [
            [
             0,
             "#0d0887"
            ],
            [
             0.1111111111111111,
             "#46039f"
            ],
            [
             0.2222222222222222,
             "#7201a8"
            ],
            [
             0.3333333333333333,
             "#9c179e"
            ],
            [
             0.4444444444444444,
             "#bd3786"
            ],
            [
             0.5555555555555556,
             "#d8576b"
            ],
            [
             0.6666666666666666,
             "#ed7953"
            ],
            [
             0.7777777777777778,
             "#fb9f3a"
            ],
            [
             0.8888888888888888,
             "#fdca26"
            ],
            [
             1,
             "#f0f921"
            ]
           ],
           "sequentialminus": [
            [
             0,
             "#0d0887"
            ],
            [
             0.1111111111111111,
             "#46039f"
            ],
            [
             0.2222222222222222,
             "#7201a8"
            ],
            [
             0.3333333333333333,
             "#9c179e"
            ],
            [
             0.4444444444444444,
             "#bd3786"
            ],
            [
             0.5555555555555556,
             "#d8576b"
            ],
            [
             0.6666666666666666,
             "#ed7953"
            ],
            [
             0.7777777777777778,
             "#fb9f3a"
            ],
            [
             0.8888888888888888,
             "#fdca26"
            ],
            [
             1,
             "#f0f921"
            ]
           ]
          },
          "colorway": [
           "#636efa",
           "#EF553B",
           "#00cc96",
           "#ab63fa",
           "#FFA15A",
           "#19d3f3",
           "#FF6692",
           "#B6E880",
           "#FF97FF",
           "#FECB52"
          ],
          "font": {
           "color": "#2a3f5f"
          },
          "geo": {
           "bgcolor": "white",
           "lakecolor": "white",
           "landcolor": "#E5ECF6",
           "showlakes": true,
           "showland": true,
           "subunitcolor": "white"
          },
          "hoverlabel": {
           "align": "left"
          },
          "hovermode": "closest",
          "mapbox": {
           "style": "light"
          },
          "paper_bgcolor": "white",
          "plot_bgcolor": "#E5ECF6",
          "polar": {
           "angularaxis": {
            "gridcolor": "white",
            "linecolor": "white",
            "ticks": ""
           },
           "bgcolor": "#E5ECF6",
           "radialaxis": {
            "gridcolor": "white",
            "linecolor": "white",
            "ticks": ""
           }
          },
          "scene": {
           "xaxis": {
            "backgroundcolor": "#E5ECF6",
            "gridcolor": "white",
            "gridwidth": 2,
            "linecolor": "white",
            "showbackground": true,
            "ticks": "",
            "zerolinecolor": "white"
           },
           "yaxis": {
            "backgroundcolor": "#E5ECF6",
            "gridcolor": "white",
            "gridwidth": 2,
            "linecolor": "white",
            "showbackground": true,
            "ticks": "",
            "zerolinecolor": "white"
           },
           "zaxis": {
            "backgroundcolor": "#E5ECF6",
            "gridcolor": "white",
            "gridwidth": 2,
            "linecolor": "white",
            "showbackground": true,
            "ticks": "",
            "zerolinecolor": "white"
           }
          },
          "shapedefaults": {
           "line": {
            "color": "#2a3f5f"
           }
          },
          "ternary": {
           "aaxis": {
            "gridcolor": "white",
            "linecolor": "white",
            "ticks": ""
           },
           "baxis": {
            "gridcolor": "white",
            "linecolor": "white",
            "ticks": ""
           },
           "bgcolor": "#E5ECF6",
           "caxis": {
            "gridcolor": "white",
            "linecolor": "white",
            "ticks": ""
           }
          },
          "title": {
           "x": 0.05
          },
          "xaxis": {
           "automargin": true,
           "gridcolor": "white",
           "linecolor": "white",
           "ticks": "",
           "title": {
            "standoff": 15
           },
           "zerolinecolor": "white",
           "zerolinewidth": 2
          },
          "yaxis": {
           "automargin": true,
           "gridcolor": "white",
           "linecolor": "white",
           "ticks": "",
           "title": {
            "standoff": 15
           },
           "zerolinecolor": "white",
           "zerolinewidth": 2
          }
         }
        }
       }
      }
     },
     "metadata": {},
     "output_type": "display_data"
    }
   ],
   "source": [
    "import plotly.offline as py\n",
    "col=['Huella Ecologica PerCap', 'Biocapacidad PerCap']\n",
    "py.iplot([{\n",
    "    'x':df_pr2.index,\n",
    "    'y':df_pr2[col],\n",
    "    'name': col\n",
    "} for col in  df_pr2.columns], filename='cufflinks/multiple-lines-on-same-chart')"
   ]
  },
  {
   "cell_type": "code",
   "execution_count": 124,
   "metadata": {},
   "outputs": [
    {
     "data": {
      "application/vnd.plotly.v1+json": {
       "config": {
        "linkText": "Export to plot.ly",
        "plotlyServerURL": "https://plot.ly",
        "showLink": false
       },
       "data": [
        {
         "name": "Anomalia de la temperatura media del promedio de 1961 a 1990",
         "type": "scatter",
         "x": [
          1960,
          1961,
          1962,
          1963,
          1964,
          1965,
          1966,
          1967,
          1968,
          1969,
          1970,
          1971,
          1972,
          1973,
          1974,
          1975,
          1976,
          1977,
          1978,
          1979,
          1980,
          1981,
          1982,
          1983,
          1984,
          1985,
          1986,
          1987,
          1988,
          1989,
          1990,
          1991,
          1992,
          1993,
          1994,
          1995,
          1996,
          1997,
          1998,
          1999,
          2000,
          2001,
          2002,
          2003,
          2004,
          2005,
          2006,
          2007,
          2008,
          2009,
          2010,
          2011,
          2012,
          2013,
          2014,
          2015,
          2016,
          2017,
          2018,
          2019
         ],
         "y": [
          -0.049,
          0.038,
          0.014,
          0.048,
          -0.223,
          -0.14,
          -0.068,
          -0.074,
          -0.113,
          0.032,
          -0.027,
          -0.186,
          -0.065,
          0.062,
          -0.214,
          -0.149,
          -0.241,
          0.047,
          -0.062,
          0.057,
          0.092,
          0.14,
          0.011,
          0.194,
          -0.014,
          -0.03,
          0.045,
          0.192,
          0.198,
          0.118,
          0.296,
          0.254,
          0.105,
          0.148,
          0.208,
          0.325,
          0.183,
          0.39,
          0.539,
          0.306,
          0.294,
          0.441,
          0.496,
          0.505,
          0.447,
          0.545,
          0.506,
          0.491,
          0.395,
          0.506,
          0.56,
          0.425,
          0.47,
          0.514,
          0.579,
          0.763,
          0.797,
          0.677,
          0.597,
          0.736
         ]
        },
        {
         "name": "Dif_co2",
         "type": "scatter",
         "x": [
          1960,
          1961,
          1962,
          1963,
          1964,
          1965,
          1966,
          1967,
          1968,
          1969,
          1970,
          1971,
          1972,
          1973,
          1974,
          1975,
          1976,
          1977,
          1978,
          1979,
          1980,
          1981,
          1982,
          1983,
          1984,
          1985,
          1986,
          1987,
          1988,
          1989,
          1990,
          1991,
          1992,
          1993,
          1994,
          1995,
          1996,
          1997,
          1998,
          1999,
          2000,
          2001,
          2002,
          2003,
          2004,
          2005,
          2006,
          2007,
          2008,
          2009,
          2010,
          2011,
          2012,
          2013,
          2014,
          2015,
          2016,
          2017,
          2018,
          2019
         ],
         "y": [
          0.9300000000000068,
          0.7299999999999613,
          0.8100000000000023,
          0.5400000000000205,
          0.6299999999999955,
          0.4200000000000159,
          1.329999999999984,
          0.8100000000000023,
          0.8700000000000045,
          1.5699999999999932,
          1.0600000000000023,
          0.6399999999999864,
          1.1399999999999864,
          2.2200000000000273,
          0.5099999999999909,
          0.9300000000000068,
          0.9099999999999682,
          1.8100000000000023,
          1.57000000000005,
          1.42999999999995,
          1.920000000000016,
          1.3600000000000136,
          1.3600000000000136,
          1.669999999999959,
          1.7000000000000455,
          1.5,
          1.259999999999991,
          1.6999999999999886,
          2.3799999999999955,
          1.509999999999991,
          1.25,
          1.25,
          0.8400000000000318,
          0.6699999999999591,
          1.75,
          2.0100000000000477,
          1.7699999999999818,
          1.1399999999999864,
          2.9599999999999795,
          1.7000000000000455,
          1.169999999999959,
          1.6100000000000136,
          2.1299999999999955,
          2.5300000000000296,
          1.7199999999999704,
          2.2800000000000296,
          2.109999999999957,
          1.9300000000000068,
          1.8100000000000023,
          1.8100000000000023,
          2.4600000000000364,
          1.75,
          2.2099999999999795,
          2.680000000000007,
          2.069999999999993,
          2.1999999999999886,
          3.400000000000034,
          2.349999999999966,
          1.9600000000000364,
          2.9399999999999977
         ]
        },
        {
         "name": "Huella Ecologica PerCap",
         "type": "scatter",
         "x": [
          1960,
          1961,
          1962,
          1963,
          1964,
          1965,
          1966,
          1967,
          1968,
          1969,
          1970,
          1971,
          1972,
          1973,
          1974,
          1975,
          1976,
          1977,
          1978,
          1979,
          1980,
          1981,
          1982,
          1983,
          1984,
          1985,
          1986,
          1987,
          1988,
          1989,
          1990,
          1991,
          1992,
          1993,
          1994,
          1995,
          1996,
          1997,
          1998,
          1999,
          2000,
          2001,
          2002,
          2003,
          2004,
          2005,
          2006,
          2007,
          2008,
          2009,
          2010,
          2011,
          2012,
          2013,
          2014,
          2015,
          2016,
          2017,
          2018,
          2019
         ],
         "y": [
          null,
          2.28,
          2.3,
          2.35,
          2.4,
          2.43,
          2.49,
          2.5,
          2.55,
          2.6,
          2.7,
          2.73,
          2.75,
          2.84,
          2.76,
          2.7,
          2.77,
          2.78,
          2.8,
          2.82,
          2.72,
          2.64,
          2.58,
          2.53,
          2.59,
          2.58,
          2.58,
          2.6,
          2.61,
          2.63,
          2.63,
          2.57,
          2.55,
          2.51,
          2.51,
          2.52,
          2.54,
          2.54,
          2.51,
          2.49,
          2.51,
          2.51,
          2.51,
          2.57,
          2.66,
          2.7,
          2.74,
          2.78,
          2.77,
          2.69,
          2.81,
          2.84,
          2.78,
          2.81,
          2.77,
          2.73,
          2.69,
          2.76,
          2.77,
          2.73
         ]
        },
        {
         "name": "Biocapacidad PerCap",
         "type": "scatter",
         "x": [
          1960,
          1961,
          1962,
          1963,
          1964,
          1965,
          1966,
          1967,
          1968,
          1969,
          1970,
          1971,
          1972,
          1973,
          1974,
          1975,
          1976,
          1977,
          1978,
          1979,
          1980,
          1981,
          1982,
          1983,
          1984,
          1985,
          1986,
          1987,
          1988,
          1989,
          1990,
          1991,
          1992,
          1993,
          1994,
          1995,
          1996,
          1997,
          1998,
          1999,
          2000,
          2001,
          2002,
          2003,
          2004,
          2005,
          2006,
          2007,
          2008,
          2009,
          2010,
          2011,
          2012,
          2013,
          2014,
          2015,
          2016,
          2017,
          2018,
          2019
         ],
         "y": [
          null,
          3.15,
          3.11,
          3.05,
          3,
          2.95,
          2.92,
          2.87,
          2.82,
          2.77,
          2.72,
          2.69,
          2.62,
          2.6,
          2.54,
          2.5,
          2.46,
          2.42,
          2.41,
          2.36,
          2.32,
          2.3,
          2.28,
          2.23,
          2.23,
          2.2,
          2.17,
          2.14,
          2.08,
          2.07,
          2.06,
          2.01,
          2.01,
          1.97,
          1.96,
          1.92,
          1.92,
          1.9,
          1.89,
          1.87,
          1.84,
          1.83,
          1.81,
          1.79,
          1.78,
          1.76,
          1.74,
          1.73,
          1.73,
          1.7,
          1.69,
          1.68,
          1.64,
          1.65,
          1.64,
          1.62,
          1.61,
          1.61,
          1.58,
          1.56
         ]
        }
       ],
       "layout": {
        "template": {
         "data": {
          "bar": [
           {
            "error_x": {
             "color": "#2a3f5f"
            },
            "error_y": {
             "color": "#2a3f5f"
            },
            "marker": {
             "line": {
              "color": "#E5ECF6",
              "width": 0.5
             },
             "pattern": {
              "fillmode": "overlay",
              "size": 10,
              "solidity": 0.2
             }
            },
            "type": "bar"
           }
          ],
          "barpolar": [
           {
            "marker": {
             "line": {
              "color": "#E5ECF6",
              "width": 0.5
             },
             "pattern": {
              "fillmode": "overlay",
              "size": 10,
              "solidity": 0.2
             }
            },
            "type": "barpolar"
           }
          ],
          "carpet": [
           {
            "aaxis": {
             "endlinecolor": "#2a3f5f",
             "gridcolor": "white",
             "linecolor": "white",
             "minorgridcolor": "white",
             "startlinecolor": "#2a3f5f"
            },
            "baxis": {
             "endlinecolor": "#2a3f5f",
             "gridcolor": "white",
             "linecolor": "white",
             "minorgridcolor": "white",
             "startlinecolor": "#2a3f5f"
            },
            "type": "carpet"
           }
          ],
          "choropleth": [
           {
            "colorbar": {
             "outlinewidth": 0,
             "ticks": ""
            },
            "type": "choropleth"
           }
          ],
          "contour": [
           {
            "colorbar": {
             "outlinewidth": 0,
             "ticks": ""
            },
            "colorscale": [
             [
              0,
              "#0d0887"
             ],
             [
              0.1111111111111111,
              "#46039f"
             ],
             [
              0.2222222222222222,
              "#7201a8"
             ],
             [
              0.3333333333333333,
              "#9c179e"
             ],
             [
              0.4444444444444444,
              "#bd3786"
             ],
             [
              0.5555555555555556,
              "#d8576b"
             ],
             [
              0.6666666666666666,
              "#ed7953"
             ],
             [
              0.7777777777777778,
              "#fb9f3a"
             ],
             [
              0.8888888888888888,
              "#fdca26"
             ],
             [
              1,
              "#f0f921"
             ]
            ],
            "type": "contour"
           }
          ],
          "contourcarpet": [
           {
            "colorbar": {
             "outlinewidth": 0,
             "ticks": ""
            },
            "type": "contourcarpet"
           }
          ],
          "heatmap": [
           {
            "colorbar": {
             "outlinewidth": 0,
             "ticks": ""
            },
            "colorscale": [
             [
              0,
              "#0d0887"
             ],
             [
              0.1111111111111111,
              "#46039f"
             ],
             [
              0.2222222222222222,
              "#7201a8"
             ],
             [
              0.3333333333333333,
              "#9c179e"
             ],
             [
              0.4444444444444444,
              "#bd3786"
             ],
             [
              0.5555555555555556,
              "#d8576b"
             ],
             [
              0.6666666666666666,
              "#ed7953"
             ],
             [
              0.7777777777777778,
              "#fb9f3a"
             ],
             [
              0.8888888888888888,
              "#fdca26"
             ],
             [
              1,
              "#f0f921"
             ]
            ],
            "type": "heatmap"
           }
          ],
          "heatmapgl": [
           {
            "colorbar": {
             "outlinewidth": 0,
             "ticks": ""
            },
            "colorscale": [
             [
              0,
              "#0d0887"
             ],
             [
              0.1111111111111111,
              "#46039f"
             ],
             [
              0.2222222222222222,
              "#7201a8"
             ],
             [
              0.3333333333333333,
              "#9c179e"
             ],
             [
              0.4444444444444444,
              "#bd3786"
             ],
             [
              0.5555555555555556,
              "#d8576b"
             ],
             [
              0.6666666666666666,
              "#ed7953"
             ],
             [
              0.7777777777777778,
              "#fb9f3a"
             ],
             [
              0.8888888888888888,
              "#fdca26"
             ],
             [
              1,
              "#f0f921"
             ]
            ],
            "type": "heatmapgl"
           }
          ],
          "histogram": [
           {
            "marker": {
             "pattern": {
              "fillmode": "overlay",
              "size": 10,
              "solidity": 0.2
             }
            },
            "type": "histogram"
           }
          ],
          "histogram2d": [
           {
            "colorbar": {
             "outlinewidth": 0,
             "ticks": ""
            },
            "colorscale": [
             [
              0,
              "#0d0887"
             ],
             [
              0.1111111111111111,
              "#46039f"
             ],
             [
              0.2222222222222222,
              "#7201a8"
             ],
             [
              0.3333333333333333,
              "#9c179e"
             ],
             [
              0.4444444444444444,
              "#bd3786"
             ],
             [
              0.5555555555555556,
              "#d8576b"
             ],
             [
              0.6666666666666666,
              "#ed7953"
             ],
             [
              0.7777777777777778,
              "#fb9f3a"
             ],
             [
              0.8888888888888888,
              "#fdca26"
             ],
             [
              1,
              "#f0f921"
             ]
            ],
            "type": "histogram2d"
           }
          ],
          "histogram2dcontour": [
           {
            "colorbar": {
             "outlinewidth": 0,
             "ticks": ""
            },
            "colorscale": [
             [
              0,
              "#0d0887"
             ],
             [
              0.1111111111111111,
              "#46039f"
             ],
             [
              0.2222222222222222,
              "#7201a8"
             ],
             [
              0.3333333333333333,
              "#9c179e"
             ],
             [
              0.4444444444444444,
              "#bd3786"
             ],
             [
              0.5555555555555556,
              "#d8576b"
             ],
             [
              0.6666666666666666,
              "#ed7953"
             ],
             [
              0.7777777777777778,
              "#fb9f3a"
             ],
             [
              0.8888888888888888,
              "#fdca26"
             ],
             [
              1,
              "#f0f921"
             ]
            ],
            "type": "histogram2dcontour"
           }
          ],
          "mesh3d": [
           {
            "colorbar": {
             "outlinewidth": 0,
             "ticks": ""
            },
            "type": "mesh3d"
           }
          ],
          "parcoords": [
           {
            "line": {
             "colorbar": {
              "outlinewidth": 0,
              "ticks": ""
             }
            },
            "type": "parcoords"
           }
          ],
          "pie": [
           {
            "automargin": true,
            "type": "pie"
           }
          ],
          "scatter": [
           {
            "fillpattern": {
             "fillmode": "overlay",
             "size": 10,
             "solidity": 0.2
            },
            "type": "scatter"
           }
          ],
          "scatter3d": [
           {
            "line": {
             "colorbar": {
              "outlinewidth": 0,
              "ticks": ""
             }
            },
            "marker": {
             "colorbar": {
              "outlinewidth": 0,
              "ticks": ""
             }
            },
            "type": "scatter3d"
           }
          ],
          "scattercarpet": [
           {
            "marker": {
             "colorbar": {
              "outlinewidth": 0,
              "ticks": ""
             }
            },
            "type": "scattercarpet"
           }
          ],
          "scattergeo": [
           {
            "marker": {
             "colorbar": {
              "outlinewidth": 0,
              "ticks": ""
             }
            },
            "type": "scattergeo"
           }
          ],
          "scattergl": [
           {
            "marker": {
             "colorbar": {
              "outlinewidth": 0,
              "ticks": ""
             }
            },
            "type": "scattergl"
           }
          ],
          "scattermapbox": [
           {
            "marker": {
             "colorbar": {
              "outlinewidth": 0,
              "ticks": ""
             }
            },
            "type": "scattermapbox"
           }
          ],
          "scatterpolar": [
           {
            "marker": {
             "colorbar": {
              "outlinewidth": 0,
              "ticks": ""
             }
            },
            "type": "scatterpolar"
           }
          ],
          "scatterpolargl": [
           {
            "marker": {
             "colorbar": {
              "outlinewidth": 0,
              "ticks": ""
             }
            },
            "type": "scatterpolargl"
           }
          ],
          "scatterternary": [
           {
            "marker": {
             "colorbar": {
              "outlinewidth": 0,
              "ticks": ""
             }
            },
            "type": "scatterternary"
           }
          ],
          "surface": [
           {
            "colorbar": {
             "outlinewidth": 0,
             "ticks": ""
            },
            "colorscale": [
             [
              0,
              "#0d0887"
             ],
             [
              0.1111111111111111,
              "#46039f"
             ],
             [
              0.2222222222222222,
              "#7201a8"
             ],
             [
              0.3333333333333333,
              "#9c179e"
             ],
             [
              0.4444444444444444,
              "#bd3786"
             ],
             [
              0.5555555555555556,
              "#d8576b"
             ],
             [
              0.6666666666666666,
              "#ed7953"
             ],
             [
              0.7777777777777778,
              "#fb9f3a"
             ],
             [
              0.8888888888888888,
              "#fdca26"
             ],
             [
              1,
              "#f0f921"
             ]
            ],
            "type": "surface"
           }
          ],
          "table": [
           {
            "cells": {
             "fill": {
              "color": "#EBF0F8"
             },
             "line": {
              "color": "white"
             }
            },
            "header": {
             "fill": {
              "color": "#C8D4E3"
             },
             "line": {
              "color": "white"
             }
            },
            "type": "table"
           }
          ]
         },
         "layout": {
          "annotationdefaults": {
           "arrowcolor": "#2a3f5f",
           "arrowhead": 0,
           "arrowwidth": 1
          },
          "autotypenumbers": "strict",
          "coloraxis": {
           "colorbar": {
            "outlinewidth": 0,
            "ticks": ""
           }
          },
          "colorscale": {
           "diverging": [
            [
             0,
             "#8e0152"
            ],
            [
             0.1,
             "#c51b7d"
            ],
            [
             0.2,
             "#de77ae"
            ],
            [
             0.3,
             "#f1b6da"
            ],
            [
             0.4,
             "#fde0ef"
            ],
            [
             0.5,
             "#f7f7f7"
            ],
            [
             0.6,
             "#e6f5d0"
            ],
            [
             0.7,
             "#b8e186"
            ],
            [
             0.8,
             "#7fbc41"
            ],
            [
             0.9,
             "#4d9221"
            ],
            [
             1,
             "#276419"
            ]
           ],
           "sequential": [
            [
             0,
             "#0d0887"
            ],
            [
             0.1111111111111111,
             "#46039f"
            ],
            [
             0.2222222222222222,
             "#7201a8"
            ],
            [
             0.3333333333333333,
             "#9c179e"
            ],
            [
             0.4444444444444444,
             "#bd3786"
            ],
            [
             0.5555555555555556,
             "#d8576b"
            ],
            [
             0.6666666666666666,
             "#ed7953"
            ],
            [
             0.7777777777777778,
             "#fb9f3a"
            ],
            [
             0.8888888888888888,
             "#fdca26"
            ],
            [
             1,
             "#f0f921"
            ]
           ],
           "sequentialminus": [
            [
             0,
             "#0d0887"
            ],
            [
             0.1111111111111111,
             "#46039f"
            ],
            [
             0.2222222222222222,
             "#7201a8"
            ],
            [
             0.3333333333333333,
             "#9c179e"
            ],
            [
             0.4444444444444444,
             "#bd3786"
            ],
            [
             0.5555555555555556,
             "#d8576b"
            ],
            [
             0.6666666666666666,
             "#ed7953"
            ],
            [
             0.7777777777777778,
             "#fb9f3a"
            ],
            [
             0.8888888888888888,
             "#fdca26"
            ],
            [
             1,
             "#f0f921"
            ]
           ]
          },
          "colorway": [
           "#636efa",
           "#EF553B",
           "#00cc96",
           "#ab63fa",
           "#FFA15A",
           "#19d3f3",
           "#FF6692",
           "#B6E880",
           "#FF97FF",
           "#FECB52"
          ],
          "font": {
           "color": "#2a3f5f"
          },
          "geo": {
           "bgcolor": "white",
           "lakecolor": "white",
           "landcolor": "#E5ECF6",
           "showlakes": true,
           "showland": true,
           "subunitcolor": "white"
          },
          "hoverlabel": {
           "align": "left"
          },
          "hovermode": "closest",
          "mapbox": {
           "style": "light"
          },
          "paper_bgcolor": "white",
          "plot_bgcolor": "#E5ECF6",
          "polar": {
           "angularaxis": {
            "gridcolor": "white",
            "linecolor": "white",
            "ticks": ""
           },
           "bgcolor": "#E5ECF6",
           "radialaxis": {
            "gridcolor": "white",
            "linecolor": "white",
            "ticks": ""
           }
          },
          "scene": {
           "xaxis": {
            "backgroundcolor": "#E5ECF6",
            "gridcolor": "white",
            "gridwidth": 2,
            "linecolor": "white",
            "showbackground": true,
            "ticks": "",
            "zerolinecolor": "white"
           },
           "yaxis": {
            "backgroundcolor": "#E5ECF6",
            "gridcolor": "white",
            "gridwidth": 2,
            "linecolor": "white",
            "showbackground": true,
            "ticks": "",
            "zerolinecolor": "white"
           },
           "zaxis": {
            "backgroundcolor": "#E5ECF6",
            "gridcolor": "white",
            "gridwidth": 2,
            "linecolor": "white",
            "showbackground": true,
            "ticks": "",
            "zerolinecolor": "white"
           }
          },
          "shapedefaults": {
           "line": {
            "color": "#2a3f5f"
           }
          },
          "ternary": {
           "aaxis": {
            "gridcolor": "white",
            "linecolor": "white",
            "ticks": ""
           },
           "baxis": {
            "gridcolor": "white",
            "linecolor": "white",
            "ticks": ""
           },
           "bgcolor": "#E5ECF6",
           "caxis": {
            "gridcolor": "white",
            "linecolor": "white",
            "ticks": ""
           }
          },
          "title": {
           "x": 0.05
          },
          "xaxis": {
           "automargin": true,
           "gridcolor": "white",
           "linecolor": "white",
           "ticks": "",
           "title": {
            "standoff": 15
           },
           "zerolinecolor": "white",
           "zerolinewidth": 2
          },
          "yaxis": {
           "automargin": true,
           "gridcolor": "white",
           "linecolor": "white",
           "ticks": "",
           "title": {
            "standoff": 15
           },
           "zerolinecolor": "white",
           "zerolinewidth": 2
          }
         }
        }
       }
      }
     },
     "metadata": {},
     "output_type": "display_data"
    }
   ],
   "source": [
    "import plotly.offline as py\n",
    "col=['Anomalia de la temperatura media del promedio de 1961 a 1990', 'Dif_co2', 'Huella Ecologica PerCap', 'Biocapacidad PerCap']\n",
    "py.iplot([{\n",
    "    'x':df_pr.index,\n",
    "    'y':df_pr[col],\n",
    "    'name': col\n",
    "} for col in  df_pr.columns], filename='cufflinks/multiple-lines-on-same-chart')"
   ]
  },
  {
   "cell_type": "code",
   "execution_count": 126,
   "metadata": {},
   "outputs": [],
   "source": [
    "df05 = pd.read_csv('D:\\emissionsmap\\documentation\\data\\huella_sostenible_por_pais.csv', sep=';')"
   ]
  },
  {
   "cell_type": "code",
   "execution_count": 2,
   "metadata": {},
   "outputs": [],
   "source": [
    "df_06 = pd.read_csv('D:\\emissionsmap\\documentation\\data\\energy.csv')"
   ]
  },
  {
   "cell_type": "code",
   "execution_count": 3,
   "metadata": {},
   "outputs": [],
   "source": [
    "df_06.drop(columns='Unnamed: 0', inplace=True)"
   ]
  },
  {
   "cell_type": "code",
   "execution_count": 303,
   "metadata": {},
   "outputs": [],
   "source": [
    "df_top = df_06[(df_06['Country'] != 'World') & (df_06['Energy_type'] != 'all_energy_types')]"
   ]
  },
  {
   "cell_type": "code",
   "execution_count": 237,
   "metadata": {},
   "outputs": [],
   "source": [
    "top_four = df_06[(df_06['Country'] != 'World') & (df_06['Energy_type'] == 'all_energy_types')]"
   ]
  },
  {
   "cell_type": "code",
   "execution_count": 201,
   "metadata": {},
   "outputs": [],
   "source": [
    "top_four = top_four.groupby('Country')[['Energy_consumption' ,'Energy_production' ,'GDP' , 'Population', 'Energy_intensity_per_capita',\n",
    "                                        'Energy_intensity_by_GDP', 'CO2_emission']].sum()\n",
    "top_four.sort_values('CO2_emission', ascending=False, inplace=True)\n",
    "top_four= top_four.reset_index()\n",
    "df_top = df_top.groupby(['Country', 'Energy_type'])['CO2_emission'].mean()"
   ]
  },
  {
   "cell_type": "code",
   "execution_count": 209,
   "metadata": {},
   "outputs": [],
   "source": [
    "types = ['all_energy_types', 'coal', 'natural_gas', 'petroleum_n_other_liquids', 'nuclear', 'renewables_n_other']\n",
    "top_cinco = top_four['Country'].head(5).to_list()"
   ]
  },
  {
   "cell_type": "code",
   "execution_count": 118,
   "metadata": {},
   "outputs": [],
   "source": [
    "df_ba = pd.read_csv('D:\\emissionsmap\\documentation\\data\\energy.csv')"
   ]
  },
  {
   "cell_type": "code",
   "execution_count": 129,
   "metadata": {},
   "outputs": [],
   "source": [
    "df_ba = df_ba[(df_ba['Country']=='World') & (df_ba['Energy_type']!='all_energy_types')]\n",
    "#df_ba.drop(columns='Unnamed: 0', inplace=True)"
   ]
  },
  {
   "cell_type": "code",
   "execution_count": 131,
   "metadata": {},
   "outputs": [
    {
     "data": {
      "text/html": [
       "<div>\n",
       "<style scoped>\n",
       "    .dataframe tbody tr th:only-of-type {\n",
       "        vertical-align: middle;\n",
       "    }\n",
       "\n",
       "    .dataframe tbody tr th {\n",
       "        vertical-align: top;\n",
       "    }\n",
       "\n",
       "    .dataframe thead th {\n",
       "        text-align: right;\n",
       "    }\n",
       "</style>\n",
       "<table border=\"1\" class=\"dataframe\">\n",
       "  <thead>\n",
       "    <tr style=\"text-align: right;\">\n",
       "      <th></th>\n",
       "      <th>Country</th>\n",
       "      <th>Energy_type</th>\n",
       "      <th>Year</th>\n",
       "      <th>Energy_consumption</th>\n",
       "      <th>Energy_production</th>\n",
       "      <th>GDP</th>\n",
       "      <th>Population</th>\n",
       "      <th>Energy_intensity_per_capita</th>\n",
       "      <th>Energy_intensity_by_GDP</th>\n",
       "      <th>CO2_emission</th>\n",
       "      <th>color</th>\n",
       "    </tr>\n",
       "  </thead>\n",
       "  <tbody>\n",
       "    <tr>\n",
       "      <th>1</th>\n",
       "      <td>World</td>\n",
       "      <td>coal</td>\n",
       "      <td>1980</td>\n",
       "      <td>78.656134</td>\n",
       "      <td>80.114194</td>\n",
       "      <td>27770.910281</td>\n",
       "      <td>4.298127e+06</td>\n",
       "      <td>68.145921</td>\n",
       "      <td>10.547</td>\n",
       "      <td>1409.790188</td>\n",
       "      <td>rgb(116, 255, 70)</td>\n",
       "    </tr>\n",
       "    <tr>\n",
       "      <th>2</th>\n",
       "      <td>World</td>\n",
       "      <td>natural_gas</td>\n",
       "      <td>1980</td>\n",
       "      <td>53.865223</td>\n",
       "      <td>54.761046</td>\n",
       "      <td>27770.910281</td>\n",
       "      <td>4.298127e+06</td>\n",
       "      <td>68.145921</td>\n",
       "      <td>10.547</td>\n",
       "      <td>1081.593377</td>\n",
       "      <td>rgb(250, 162, 57)</td>\n",
       "    </tr>\n",
       "  </tbody>\n",
       "</table>\n",
       "</div>"
      ],
      "text/plain": [
       "  Country  Energy_type  Year  Energy_consumption  Energy_production  \\\n",
       "1   World         coal  1980           78.656134          80.114194   \n",
       "2   World  natural_gas  1980           53.865223          54.761046   \n",
       "\n",
       "            GDP    Population  Energy_intensity_per_capita  \\\n",
       "1  27770.910281  4.298127e+06                    68.145921   \n",
       "2  27770.910281  4.298127e+06                    68.145921   \n",
       "\n",
       "   Energy_intensity_by_GDP  CO2_emission              color  \n",
       "1                   10.547   1409.790188  rgb(116, 255, 70)  \n",
       "2                   10.547   1081.593377  rgb(250, 162, 57)  "
      ]
     },
     "execution_count": 131,
     "metadata": {},
     "output_type": "execute_result"
    }
   ],
   "source": [
    "df_ba.head(2)"
   ]
  },
  {
   "cell_type": "code",
   "execution_count": 113,
   "metadata": {},
   "outputs": [],
   "source": [
    "from raceplotly.plots import barplot"
   ]
  },
  {
   "cell_type": "code",
   "execution_count": 146,
   "metadata": {},
   "outputs": [
    {
     "name": "stderr",
     "output_type": "stream",
     "text": [
      "c:\\Users\\Admin\\AppData\\Local\\Programs\\Python\\Python310\\lib\\site-packages\\raceplotly\\plots.py:295: SettingWithCopyWarning:\n",
      "\n",
      "\n",
      "A value is trying to be set on a copy of a slice from a DataFrame.\n",
      "Try using .loc[row_indexer,col_indexer] = value instead\n",
      "\n",
      "See the caveats in the documentation: https://pandas.pydata.org/pandas-docs/stable/user_guide/indexing.html#returning-a-view-versus-a-copy\n",
      "\n"
     ]
    },
    {
     "data": {
      "application/vnd.plotly.v1+json": {
       "config": {
        "plotlyServerURL": "https://plot.ly"
       },
       "data": [
        {
         "cliponaxis": false,
         "hoverinfo": "all",
         "marker": {
          "color": [
           "rgb(146, 1, 181)",
           "rgb(237, 253, 16)",
           "rgb(28, 83, 127)",
           "rgb(123, 104, 173)",
           "rgb(172, 101, 4)"
          ]
         },
         "orientation": "h",
         "textangle": 0,
         "textposition": "outside",
         "texttemplate": "%{y}<br>%{x:.4s}",
         "type": "bar",
         "x": [
          7.575700462108056,
          20.70234415413618,
          53.865223303,
          78.65613402957176,
          132.06401937163076
         ],
         "y": [
          "nuclear",
          "renewables_n_other",
          "natural_gas",
          "coal",
          "petroleum_n_other_liquids"
         ]
        }
       ],
       "frames": [
        {
         "data": [
          {
           "cliponaxis": false,
           "hoverinfo": "all",
           "hovertemplate": "<extra></extra>",
           "marker": {
            "color": [
             "rgb(146, 1, 181)",
             "rgb(237, 253, 16)",
             "rgb(28, 83, 127)",
             "rgb(123, 104, 173)",
             "rgb(172, 101, 4)"
            ]
           },
           "orientation": "h",
           "textangle": 0,
           "textposition": "outside",
           "texttemplate": "%{y}<br>%{x:.4s}",
           "type": "bar",
           "x": [
            7.575700462108056,
            20.70234415413618,
            53.865223303,
            78.65613402957176,
            132.06401937163076
           ],
           "y": [
            "nuclear",
            "renewables_n_other",
            "natural_gas",
            "coal",
            "petroleum_n_other_liquids"
           ]
          }
         ],
         "layout": {
          "bargap": 0.15,
          "font": {
           "size": 14
          },
          "plot_bgcolor": "#FFFFFF",
          "xaxis": {
           "range": [
            0,
            196.92883215112363
           ],
           "showline": true,
           "visible": true
          },
          "yaxis": {
           "showline": false,
           "visible": true
          }
         },
         "name": "1980"
        },
        {
         "data": [
          {
           "cliponaxis": false,
           "hoverinfo": "all",
           "hovertemplate": "<extra></extra>",
           "marker": {
            "color": [
             "rgb(146, 1, 181)",
             "rgb(237, 253, 16)",
             "rgb(28, 83, 127)",
             "rgb(123, 104, 173)",
             "rgb(172, 101, 4)"
            ]
           },
           "orientation": "h",
           "textangle": 0,
           "textposition": "outside",
           "texttemplate": "%{y}<br>%{x:.4s}",
           "type": "bar",
           "x": [
            8.527153469041346,
            21.113323652314552,
            53.895423471,
            78.9635811572502,
            126.8111321367698
           ],
           "y": [
            "nuclear",
            "renewables_n_other",
            "natural_gas",
            "coal",
            "petroleum_n_other_liquids"
           ]
          }
         ],
         "layout": {
          "bargap": 0.15,
          "font": {
           "size": 14
          },
          "plot_bgcolor": "#FFFFFF",
          "xaxis": {
           "range": [
            0,
            196.92883215112363
           ],
           "showline": true,
           "visible": true
          },
          "yaxis": {
           "showline": false,
           "visible": true
          }
         },
         "name": "1981"
        },
        {
         "data": [
          {
           "cliponaxis": false,
           "hoverinfo": "all",
           "hovertemplate": "<extra></extra>",
           "marker": {
            "color": [
             "rgb(146, 1, 181)",
             "rgb(237, 253, 16)",
             "rgb(28, 83, 127)",
             "rgb(123, 104, 173)",
             "rgb(172, 101, 4)"
            ]
           },
           "orientation": "h",
           "textangle": 0,
           "textposition": "outside",
           "texttemplate": "%{y}<br>%{x:.4s}",
           "type": "bar",
           "x": [
            9.50768642751678,
            21.722309955084427,
            54.055255448,
            80.42233145882604,
            123.92428288938332
           ],
           "y": [
            "nuclear",
            "renewables_n_other",
            "natural_gas",
            "coal",
            "petroleum_n_other_liquids"
           ]
          }
         ],
         "layout": {
          "bargap": 0.15,
          "font": {
           "size": 14
          },
          "plot_bgcolor": "#FFFFFF",
          "xaxis": {
           "range": [
            0,
            196.92883215112363
           ],
           "showline": true,
           "visible": true
          },
          "yaxis": {
           "showline": false,
           "visible": true
          }
         },
         "name": "1982"
        },
        {
         "data": [
          {
           "cliponaxis": false,
           "hoverinfo": "all",
           "hovertemplate": "<extra></extra>",
           "marker": {
            "color": [
             "rgb(146, 1, 181)",
             "rgb(237, 253, 16)",
             "rgb(28, 83, 127)",
             "rgb(123, 104, 173)",
             "rgb(172, 101, 4)"
            ]
           },
           "orientation": "h",
           "textangle": 0,
           "textposition": "outside",
           "texttemplate": "%{y}<br>%{x:.4s}",
           "type": "bar",
           "x": [
            10.718344095623602,
            22.947336629455624,
            55.149772666,
            82.63117397819225,
            122.21533499685695
           ],
           "y": [
            "nuclear",
            "renewables_n_other",
            "natural_gas",
            "coal",
            "petroleum_n_other_liquids"
           ]
          }
         ],
         "layout": {
          "bargap": 0.15,
          "font": {
           "size": 14
          },
          "plot_bgcolor": "#FFFFFF",
          "xaxis": {
           "range": [
            0,
            196.92883215112363
           ],
           "showline": true,
           "visible": true
          },
          "yaxis": {
           "showline": false,
           "visible": true
          }
         },
         "name": "1983"
        },
        {
         "data": [
          {
           "cliponaxis": false,
           "hoverinfo": "all",
           "hovertemplate": "<extra></extra>",
           "marker": {
            "color": [
             "rgb(146, 1, 181)",
             "rgb(237, 253, 16)",
             "rgb(28, 83, 127)",
             "rgb(123, 104, 173)",
             "rgb(172, 101, 4)"
            ]
           },
           "orientation": "h",
           "textangle": 0,
           "textposition": "outside",
           "texttemplate": "%{y}<br>%{x:.4s}",
           "type": "bar",
           "x": [
            12.994607878980151,
            23.543215518272262,
            60.842896415,
            86.35602132998221,
            123.41709237538814
           ],
           "y": [
            "nuclear",
            "renewables_n_other",
            "natural_gas",
            "coal",
            "petroleum_n_other_liquids"
           ]
          }
         ],
         "layout": {
          "bargap": 0.15,
          "font": {
           "size": 14
          },
          "plot_bgcolor": "#FFFFFF",
          "xaxis": {
           "range": [
            0,
            196.92883215112363
           ],
           "showline": true,
           "visible": true
          },
          "yaxis": {
           "showline": false,
           "visible": true
          }
         },
         "name": "1984"
        },
        {
         "data": [
          {
           "cliponaxis": false,
           "hoverinfo": "all",
           "hovertemplate": "<extra></extra>",
           "marker": {
            "color": [
             "rgb(146, 1, 181)",
             "rgb(237, 253, 16)",
             "rgb(28, 83, 127)",
             "rgb(123, 104, 173)",
             "rgb(172, 101, 4)"
            ]
           },
           "orientation": "h",
           "textangle": 0,
           "textposition": "outside",
           "texttemplate": "%{y}<br>%{x:.4s}",
           "type": "bar",
           "x": [
            15.298615144911766,
            23.80220229548592,
            63.371661785,
            89.40927570308125,
            123.47159748556288
           ],
           "y": [
            "nuclear",
            "renewables_n_other",
            "natural_gas",
            "coal",
            "petroleum_n_other_liquids"
           ]
          }
         ],
         "layout": {
          "bargap": 0.15,
          "font": {
           "size": 14
          },
          "plot_bgcolor": "#FFFFFF",
          "xaxis": {
           "range": [
            0,
            196.92883215112363
           ],
           "showline": true,
           "visible": true
          },
          "yaxis": {
           "showline": false,
           "visible": true
          }
         },
         "name": "1985"
        },
        {
         "data": [
          {
           "cliponaxis": false,
           "hoverinfo": "all",
           "hovertemplate": "<extra></extra>",
           "marker": {
            "color": [
             "rgb(146, 1, 181)",
             "rgb(237, 253, 16)",
             "rgb(28, 83, 127)",
             "rgb(123, 104, 173)",
             "rgb(172, 101, 4)"
            ]
           },
           "orientation": "h",
           "textangle": 0,
           "textposition": "outside",
           "texttemplate": "%{y}<br>%{x:.4s}",
           "type": "bar",
           "x": [
            16.247905140338766,
            24.228503721597203,
            64.224390643,
            90.43233993374491,
            127.00641121864258
           ],
           "y": [
            "nuclear",
            "renewables_n_other",
            "natural_gas",
            "coal",
            "petroleum_n_other_liquids"
           ]
          }
         ],
         "layout": {
          "bargap": 0.15,
          "font": {
           "size": 14
          },
          "plot_bgcolor": "#FFFFFF",
          "xaxis": {
           "range": [
            0,
            196.92883215112363
           ],
           "showline": true,
           "visible": true
          },
          "yaxis": {
           "showline": false,
           "visible": true
          }
         },
         "name": "1986"
        },
        {
         "data": [
          {
           "cliponaxis": false,
           "hoverinfo": "all",
           "hovertemplate": "<extra></extra>",
           "marker": {
            "color": [
             "rgb(146, 1, 181)",
             "rgb(237, 253, 16)",
             "rgb(28, 83, 127)",
             "rgb(123, 104, 173)",
             "rgb(172, 101, 4)"
            ]
           },
           "orientation": "h",
           "textangle": 0,
           "textposition": "outside",
           "texttemplate": "%{y}<br>%{x:.4s}",
           "type": "bar",
           "x": [
            17.643888337124533,
            24.12685092092971,
            67.561969979,
            94.05052174459549,
            129.26577065229108
           ],
           "y": [
            "nuclear",
            "renewables_n_other",
            "natural_gas",
            "coal",
            "petroleum_n_other_liquids"
           ]
          }
         ],
         "layout": {
          "bargap": 0.15,
          "font": {
           "size": 14
          },
          "plot_bgcolor": "#FFFFFF",
          "xaxis": {
           "range": [
            0,
            196.92883215112363
           ],
           "showline": true,
           "visible": true
          },
          "yaxis": {
           "showline": false,
           "visible": true
          }
         },
         "name": "1987"
        },
        {
         "data": [
          {
           "cliponaxis": false,
           "hoverinfo": "all",
           "hovertemplate": "<extra></extra>",
           "marker": {
            "color": [
             "rgb(146, 1, 181)",
             "rgb(237, 253, 16)",
             "rgb(28, 83, 127)",
             "rgb(123, 104, 173)",
             "rgb(172, 101, 4)"
            ]
           },
           "orientation": "h",
           "textangle": 0,
           "textposition": "outside",
           "texttemplate": "%{y}<br>%{x:.4s}",
           "type": "bar",
           "x": [
            19.226897009802904,
            24.927484099754743,
            71.010048252,
            96.87317779039796,
            133.4458139147525
           ],
           "y": [
            "nuclear",
            "renewables_n_other",
            "natural_gas",
            "coal",
            "petroleum_n_other_liquids"
           ]
          }
         ],
         "layout": {
          "bargap": 0.15,
          "font": {
           "size": 14
          },
          "plot_bgcolor": "#FFFFFF",
          "xaxis": {
           "range": [
            0,
            196.92883215112363
           ],
           "showline": true,
           "visible": true
          },
          "yaxis": {
           "showline": false,
           "visible": true
          }
         },
         "name": "1988"
        },
        {
         "data": [
          {
           "cliponaxis": false,
           "hoverinfo": "all",
           "hovertemplate": "<extra></extra>",
           "marker": {
            "color": [
             "rgb(146, 1, 181)",
             "rgb(237, 253, 16)",
             "rgb(28, 83, 127)",
             "rgb(123, 104, 173)",
             "rgb(172, 101, 4)"
            ]
           },
           "orientation": "h",
           "textangle": 0,
           "textposition": "outside",
           "texttemplate": "%{y}<br>%{x:.4s}",
           "type": "bar",
           "x": [
            19.73998079757778,
            25.437535639314675,
            74.229726266,
            96.9119610015374,
            135.03680047363878
           ],
           "y": [
            "nuclear",
            "renewables_n_other",
            "natural_gas",
            "coal",
            "petroleum_n_other_liquids"
           ]
          }
         ],
         "layout": {
          "bargap": 0.15,
          "font": {
           "size": 14
          },
          "plot_bgcolor": "#FFFFFF",
          "xaxis": {
           "range": [
            0,
            196.92883215112363
           ],
           "showline": true,
           "visible": true
          },
          "yaxis": {
           "showline": false,
           "visible": true
          }
         },
         "name": "1989"
        },
        {
         "data": [
          {
           "cliponaxis": false,
           "hoverinfo": "all",
           "hovertemplate": "<extra></extra>",
           "marker": {
            "color": [
             "rgb(146, 1, 181)",
             "rgb(237, 253, 16)",
             "rgb(28, 83, 127)",
             "rgb(123, 104, 173)",
             "rgb(172, 101, 4)"
            ]
           },
           "orientation": "h",
           "textangle": 0,
           "textposition": "outside",
           "texttemplate": "%{y}<br>%{x:.4s}",
           "type": "bar",
           "x": [
            20.356921439558445,
            26.113772690595034,
            75.1232191863526,
            95.86821051948635,
            136.13352935820737
           ],
           "y": [
            "nuclear",
            "renewables_n_other",
            "natural_gas",
            "coal",
            "petroleum_n_other_liquids"
           ]
          }
         ],
         "layout": {
          "bargap": 0.15,
          "font": {
           "size": 14
          },
          "plot_bgcolor": "#FFFFFF",
          "xaxis": {
           "range": [
            0,
            196.92883215112363
           ],
           "showline": true,
           "visible": true
          },
          "yaxis": {
           "showline": false,
           "visible": true
          }
         },
         "name": "1990"
        },
        {
         "data": [
          {
           "cliponaxis": false,
           "hoverinfo": "all",
           "hovertemplate": "<extra></extra>",
           "marker": {
            "color": [
             "rgb(146, 1, 181)",
             "rgb(237, 253, 16)",
             "rgb(28, 83, 127)",
             "rgb(123, 104, 173)",
             "rgb(172, 101, 4)"
            ]
           },
           "orientation": "h",
           "textangle": 0,
           "textposition": "outside",
           "texttemplate": "%{y}<br>%{x:.4s}",
           "type": "bar",
           "x": [
            21.182969679019,
            26.743595895263997,
            76.729898462955,
            92.79332773456142,
            136.44086780686322
           ],
           "y": [
            "nuclear",
            "renewables_n_other",
            "natural_gas",
            "coal",
            "petroleum_n_other_liquids"
           ]
          }
         ],
         "layout": {
          "bargap": 0.15,
          "font": {
           "size": 14
          },
          "plot_bgcolor": "#FFFFFF",
          "xaxis": {
           "range": [
            0,
            196.92883215112363
           ],
           "showline": true,
           "visible": true
          },
          "yaxis": {
           "showline": false,
           "visible": true
          }
         },
         "name": "1991"
        },
        {
         "data": [
          {
           "cliponaxis": false,
           "hoverinfo": "all",
           "hovertemplate": "<extra></extra>",
           "marker": {
            "color": [
             "rgb(146, 1, 181)",
             "rgb(237, 253, 16)",
             "rgb(28, 83, 127)",
             "rgb(123, 104, 173)",
             "rgb(172, 101, 4)"
            ]
           },
           "orientation": "h",
           "textangle": 0,
           "textposition": "outside",
           "texttemplate": "%{y}<br>%{x:.4s}",
           "type": "bar",
           "x": [
            21.279740377511,
            26.744910599864134,
            77.11050758932,
            90.33662590324896,
            137.34167892047086
           ],
           "y": [
            "nuclear",
            "renewables_n_other",
            "natural_gas",
            "coal",
            "petroleum_n_other_liquids"
           ]
          }
         ],
         "layout": {
          "bargap": 0.15,
          "font": {
           "size": 14
          },
          "plot_bgcolor": "#FFFFFF",
          "xaxis": {
           "range": [
            0,
            196.92883215112363
           ],
           "showline": true,
           "visible": true
          },
          "yaxis": {
           "showline": false,
           "visible": true
          }
         },
         "name": "1992"
        },
        {
         "data": [
          {
           "cliponaxis": false,
           "hoverinfo": "all",
           "hovertemplate": "<extra></extra>",
           "marker": {
            "color": [
             "rgb(146, 1, 181)",
             "rgb(237, 253, 16)",
             "rgb(28, 83, 127)",
             "rgb(123, 104, 173)",
             "rgb(172, 101, 4)"
            ]
           },
           "orientation": "h",
           "textangle": 0,
           "textposition": "outside",
           "texttemplate": "%{y}<br>%{x:.4s}",
           "type": "bar",
           "x": [
            22.008421930090257,
            28.01653706002204,
            79.11024176793,
            90.35808901345528,
            136.1587100913755
           ],
           "y": [
            "nuclear",
            "renewables_n_other",
            "natural_gas",
            "coal",
            "petroleum_n_other_liquids"
           ]
          }
         ],
         "layout": {
          "bargap": 0.15,
          "font": {
           "size": 14
          },
          "plot_bgcolor": "#FFFFFF",
          "xaxis": {
           "range": [
            0,
            196.92883215112363
           ],
           "showline": true,
           "visible": true
          },
          "yaxis": {
           "showline": false,
           "visible": true
          }
         },
         "name": "1993"
        },
        {
         "data": [
          {
           "cliponaxis": false,
           "hoverinfo": "all",
           "hovertemplate": "<extra></extra>",
           "marker": {
            "color": [
             "rgb(146, 1, 181)",
             "rgb(237, 253, 16)",
             "rgb(28, 83, 127)",
             "rgb(123, 104, 173)",
             "rgb(172, 101, 4)"
            ]
           },
           "orientation": "h",
           "textangle": 0,
           "textposition": "outside",
           "texttemplate": "%{y}<br>%{x:.4s}",
           "type": "bar",
           "x": [
            22.405882022448,
            28.34065811561189,
            79.00091895378,
            90.80055859663648,
            138.8725208592033
           ],
           "y": [
            "nuclear",
            "renewables_n_other",
            "natural_gas",
            "coal",
            "petroleum_n_other_liquids"
           ]
          }
         ],
         "layout": {
          "bargap": 0.15,
          "font": {
           "size": 14
          },
          "plot_bgcolor": "#FFFFFF",
          "xaxis": {
           "range": [
            0,
            196.92883215112363
           ],
           "showline": true,
           "visible": true
          },
          "yaxis": {
           "showline": false,
           "visible": true
          }
         },
         "name": "1994"
        },
        {
         "data": [
          {
           "cliponaxis": false,
           "hoverinfo": "all",
           "hovertemplate": "<extra></extra>",
           "marker": {
            "color": [
             "rgb(146, 1, 181)",
             "rgb(237, 253, 16)",
             "rgb(28, 83, 127)",
             "rgb(123, 104, 173)",
             "rgb(172, 101, 4)"
            ]
           },
           "orientation": "h",
           "textangle": 0,
           "textposition": "outside",
           "texttemplate": "%{y}<br>%{x:.4s}",
           "type": "bar",
           "x": [
            23.257957417755105,
            29.69655623780221,
            81.324420245955,
            93.39771785841435,
            141.60974269046193
           ],
           "y": [
            "nuclear",
            "renewables_n_other",
            "natural_gas",
            "coal",
            "petroleum_n_other_liquids"
           ]
          }
         ],
         "layout": {
          "bargap": 0.15,
          "font": {
           "size": 14
          },
          "plot_bgcolor": "#FFFFFF",
          "xaxis": {
           "range": [
            0,
            196.92883215112363
           ],
           "showline": true,
           "visible": true
          },
          "yaxis": {
           "showline": false,
           "visible": true
          }
         },
         "name": "1995"
        },
        {
         "data": [
          {
           "cliponaxis": false,
           "hoverinfo": "all",
           "hovertemplate": "<extra></extra>",
           "marker": {
            "color": [
             "rgb(146, 1, 181)",
             "rgb(237, 253, 16)",
             "rgb(28, 83, 127)",
             "rgb(123, 104, 173)",
             "rgb(172, 101, 4)"
            ]
           },
           "orientation": "h",
           "textangle": 0,
           "textposition": "outside",
           "texttemplate": "%{y}<br>%{x:.4s}",
           "type": "bar",
           "x": [
            24.10796693266635,
            30.3163959634474,
            83.19845674782,
            95.4367912046054,
            146.05621548862808
           ],
           "y": [
            "nuclear",
            "renewables_n_other",
            "natural_gas",
            "coal",
            "petroleum_n_other_liquids"
           ]
          }
         ],
         "layout": {
          "bargap": 0.15,
          "font": {
           "size": 14
          },
          "plot_bgcolor": "#FFFFFF",
          "xaxis": {
           "range": [
            0,
            196.92883215112363
           ],
           "showline": true,
           "visible": true
          },
          "yaxis": {
           "showline": false,
           "visible": true
          }
         },
         "name": "1996"
        },
        {
         "data": [
          {
           "cliponaxis": false,
           "hoverinfo": "all",
           "hovertemplate": "<extra></extra>",
           "marker": {
            "color": [
             "rgb(146, 1, 181)",
             "rgb(237, 253, 16)",
             "rgb(28, 83, 127)",
             "rgb(123, 104, 173)",
             "rgb(172, 101, 4)"
            ]
           },
           "orientation": "h",
           "textangle": 0,
           "textposition": "outside",
           "texttemplate": "%{y}<br>%{x:.4s}",
           "type": "bar",
           "x": [
            23.88021511247444,
            30.642092296587226,
            83.6992688324645,
            93.94179571905325,
            148.1374849751835
           ],
           "y": [
            "nuclear",
            "renewables_n_other",
            "natural_gas",
            "coal",
            "petroleum_n_other_liquids"
           ]
          }
         ],
         "layout": {
          "bargap": 0.15,
          "font": {
           "size": 14
          },
          "plot_bgcolor": "#FFFFFF",
          "xaxis": {
           "range": [
            0,
            196.92883215112363
           ],
           "showline": true,
           "visible": true
          },
          "yaxis": {
           "showline": false,
           "visible": true
          }
         },
         "name": "1997"
        },
        {
         "data": [
          {
           "cliponaxis": false,
           "hoverinfo": "all",
           "hovertemplate": "<extra></extra>",
           "marker": {
            "color": [
             "rgb(146, 1, 181)",
             "rgb(237, 253, 16)",
             "rgb(28, 83, 127)",
             "rgb(123, 104, 173)",
             "rgb(172, 101, 4)"
            ]
           },
           "orientation": "h",
           "textangle": 0,
           "textposition": "outside",
           "texttemplate": "%{y}<br>%{x:.4s}",
           "type": "bar",
           "x": [
            24.307510268174,
            30.567243639038185,
            84.3733127522675,
            93.32844651317797,
            149.87485668240456
           ],
           "y": [
            "nuclear",
            "renewables_n_other",
            "natural_gas",
            "coal",
            "petroleum_n_other_liquids"
           ]
          }
         ],
         "layout": {
          "bargap": 0.15,
          "font": {
           "size": 14
          },
          "plot_bgcolor": "#FFFFFF",
          "xaxis": {
           "range": [
            0,
            196.92883215112363
           ],
           "showline": true,
           "visible": true
          },
          "yaxis": {
           "showline": false,
           "visible": true
          }
         },
         "name": "1998"
        },
        {
         "data": [
          {
           "cliponaxis": false,
           "hoverinfo": "all",
           "hovertemplate": "<extra></extra>",
           "marker": {
            "color": [
             "rgb(146, 1, 181)",
             "rgb(237, 253, 16)",
             "rgb(28, 83, 127)",
             "rgb(123, 104, 173)",
             "rgb(172, 101, 4)"
            ]
           },
           "orientation": "h",
           "textangle": 0,
           "textposition": "outside",
           "texttemplate": "%{y}<br>%{x:.4s}",
           "type": "bar",
           "x": [
            25.084084853514,
            31.26699833212221,
            86.518865328148,
            93.71771359906964,
            153.06806927203507
           ],
           "y": [
            "nuclear",
            "renewables_n_other",
            "natural_gas",
            "coal",
            "petroleum_n_other_liquids"
           ]
          }
         ],
         "layout": {
          "bargap": 0.15,
          "font": {
           "size": 14
          },
          "plot_bgcolor": "#FFFFFF",
          "xaxis": {
           "range": [
            0,
            196.92883215112363
           ],
           "showline": true,
           "visible": true
          },
          "yaxis": {
           "showline": false,
           "visible": true
          }
         },
         "name": "1999"
        },
        {
         "data": [
          {
           "cliponaxis": false,
           "hoverinfo": "all",
           "hovertemplate": "<extra></extra>",
           "marker": {
            "color": [
             "rgb(146, 1, 181)",
             "rgb(237, 253, 16)",
             "rgb(28, 83, 127)",
             "rgb(123, 104, 173)",
             "rgb(172, 101, 4)"
            ]
           },
           "orientation": "h",
           "textangle": 0,
           "textposition": "outside",
           "texttemplate": "%{y}<br>%{x:.4s}",
           "type": "bar",
           "x": [
            25.65052127917325,
            31.759231023146743,
            89.60485067943,
            98.65762994538656,
            156.6662310775443
           ],
           "y": [
            "nuclear",
            "renewables_n_other",
            "natural_gas",
            "coal",
            "petroleum_n_other_liquids"
           ]
          }
         ],
         "layout": {
          "bargap": 0.15,
          "font": {
           "size": 14
          },
          "plot_bgcolor": "#FFFFFF",
          "xaxis": {
           "range": [
            0,
            196.92883215112363
           ],
           "showline": true,
           "visible": true
          },
          "yaxis": {
           "showline": false,
           "visible": true
          }
         },
         "name": "2000"
        },
        {
         "data": [
          {
           "cliponaxis": false,
           "hoverinfo": "all",
           "hovertemplate": "<extra></extra>",
           "marker": {
            "color": [
             "rgb(146, 1, 181)",
             "rgb(237, 253, 16)",
             "rgb(28, 83, 127)",
             "rgb(123, 104, 173)",
             "rgb(172, 101, 4)"
            ]
           },
           "orientation": "h",
           "textangle": 0,
           "textposition": "outside",
           "texttemplate": "%{y}<br>%{x:.4s}",
           "type": "bar",
           "x": [
            26.38297596440445,
            31.44678607489284,
            89.9313550030595,
            99.65626417533356,
            157.84758543802394
           ],
           "y": [
            "nuclear",
            "renewables_n_other",
            "natural_gas",
            "coal",
            "petroleum_n_other_liquids"
           ]
          }
         ],
         "layout": {
          "bargap": 0.15,
          "font": {
           "size": 14
          },
          "plot_bgcolor": "#FFFFFF",
          "xaxis": {
           "range": [
            0,
            196.92883215112363
           ],
           "showline": true,
           "visible": true
          },
          "yaxis": {
           "showline": false,
           "visible": true
          }
         },
         "name": "2001"
        },
        {
         "data": [
          {
           "cliponaxis": false,
           "hoverinfo": "all",
           "hovertemplate": "<extra></extra>",
           "marker": {
            "color": [
             "rgb(146, 1, 181)",
             "rgb(237, 253, 16)",
             "rgb(28, 83, 127)",
             "rgb(123, 104, 173)",
             "rgb(172, 101, 4)"
            ]
           },
           "orientation": "h",
           "textangle": 0,
           "textposition": "outside",
           "texttemplate": "%{y}<br>%{x:.4s}",
           "type": "bar",
           "x": [
            26.671801824546,
            31.73461379288345,
            94.060202677925,
            102.20566985113796,
            159.3442758238204
           ],
           "y": [
            "nuclear",
            "renewables_n_other",
            "natural_gas",
            "coal",
            "petroleum_n_other_liquids"
           ]
          }
         ],
         "layout": {
          "bargap": 0.15,
          "font": {
           "size": 14
          },
          "plot_bgcolor": "#FFFFFF",
          "xaxis": {
           "range": [
            0,
            196.92883215112363
           ],
           "showline": true,
           "visible": true
          },
          "yaxis": {
           "showline": false,
           "visible": true
          }
         },
         "name": "2002"
        },
        {
         "data": [
          {
           "cliponaxis": false,
           "hoverinfo": "all",
           "hovertemplate": "<extra></extra>",
           "marker": {
            "color": [
             "rgb(146, 1, 181)",
             "rgb(237, 253, 16)",
             "rgb(28, 83, 127)",
             "rgb(123, 104, 173)",
             "rgb(172, 101, 4)"
            ]
           },
           "orientation": "h",
           "textangle": 0,
           "textposition": "outside",
           "texttemplate": "%{y}<br>%{x:.4s}",
           "type": "bar",
           "x": [
            26.295364207393,
            32.093241918358245,
            96.78718448268,
            110.73420015103116,
            162.76075297218082
           ],
           "y": [
            "nuclear",
            "renewables_n_other",
            "natural_gas",
            "coal",
            "petroleum_n_other_liquids"
           ]
          }
         ],
         "layout": {
          "bargap": 0.15,
          "font": {
           "size": 14
          },
          "plot_bgcolor": "#FFFFFF",
          "xaxis": {
           "range": [
            0,
            196.92883215112363
           ],
           "showline": true,
           "visible": true
          },
          "yaxis": {
           "showline": false,
           "visible": true
          }
         },
         "name": "2003"
        },
        {
         "data": [
          {
           "cliponaxis": false,
           "hoverinfo": "all",
           "hovertemplate": "<extra></extra>",
           "marker": {
            "color": [
             "rgb(146, 1, 181)",
             "rgb(237, 253, 16)",
             "rgb(28, 83, 127)",
             "rgb(123, 104, 173)",
             "rgb(172, 101, 4)"
            ]
           },
           "orientation": "h",
           "textangle": 0,
           "textposition": "outside",
           "texttemplate": "%{y}<br>%{x:.4s}",
           "type": "bar",
           "x": [
            27.24894844964241,
            33.945780886731605,
            99.794809654715,
            120.26882746150632,
            169.55927017750517
           ],
           "y": [
            "nuclear",
            "renewables_n_other",
            "natural_gas",
            "coal",
            "petroleum_n_other_liquids"
           ]
          }
         ],
         "layout": {
          "bargap": 0.15,
          "font": {
           "size": 14
          },
          "plot_bgcolor": "#FFFFFF",
          "xaxis": {
           "range": [
            0,
            196.92883215112363
           ],
           "showline": true,
           "visible": true
          },
          "yaxis": {
           "showline": false,
           "visible": true
          }
         },
         "name": "2004"
        },
        {
         "data": [
          {
           "cliponaxis": false,
           "hoverinfo": "all",
           "hovertemplate": "<extra></extra>",
           "marker": {
            "color": [
             "rgb(146, 1, 181)",
             "rgb(237, 253, 16)",
             "rgb(28, 83, 127)",
             "rgb(123, 104, 173)",
             "rgb(172, 101, 4)"
            ]
           },
           "orientation": "h",
           "textangle": 0,
           "textposition": "outside",
           "texttemplate": "%{y}<br>%{x:.4s}",
           "type": "bar",
           "x": [
            27.30488986758656,
            35.66009872404079,
            102.60690568774,
            128.30798263540512,
            171.64048708217436
           ],
           "y": [
            "nuclear",
            "renewables_n_other",
            "natural_gas",
            "coal",
            "petroleum_n_other_liquids"
           ]
          }
         ],
         "layout": {
          "bargap": 0.15,
          "font": {
           "size": 14
          },
          "plot_bgcolor": "#FFFFFF",
          "xaxis": {
           "range": [
            0,
            196.92883215112363
           ],
           "showline": true,
           "visible": true
          },
          "yaxis": {
           "showline": false,
           "visible": true
          }
         },
         "name": "2005"
        },
        {
         "data": [
          {
           "cliponaxis": false,
           "hoverinfo": "all",
           "hovertemplate": "<extra></extra>",
           "marker": {
            "color": [
             "rgb(146, 1, 181)",
             "rgb(237, 253, 16)",
             "rgb(28, 83, 127)",
             "rgb(123, 104, 173)",
             "rgb(172, 101, 4)"
            ]
           },
           "orientation": "h",
           "textangle": 0,
           "textposition": "outside",
           "texttemplate": "%{y}<br>%{x:.4s}",
           "type": "bar",
           "x": [
            27.6704188738486,
            36.99140043319318,
            106.312122890923,
            135.43779024771712,
            173.98767208827496
           ],
           "y": [
            "nuclear",
            "renewables_n_other",
            "natural_gas",
            "coal",
            "petroleum_n_other_liquids"
           ]
          }
         ],
         "layout": {
          "bargap": 0.15,
          "font": {
           "size": 14
          },
          "plot_bgcolor": "#FFFFFF",
          "xaxis": {
           "range": [
            0,
            196.92883215112363
           ],
           "showline": true,
           "visible": true
          },
          "yaxis": {
           "showline": false,
           "visible": true
          }
         },
         "name": "2006"
        },
        {
         "data": [
          {
           "cliponaxis": false,
           "hoverinfo": "all",
           "hovertemplate": "<extra></extra>",
           "marker": {
            "color": [
             "rgb(146, 1, 181)",
             "rgb(237, 253, 16)",
             "rgb(28, 83, 127)",
             "rgb(123, 104, 173)",
             "rgb(172, 101, 4)"
            ]
           },
           "orientation": "h",
           "textangle": 0,
           "textposition": "outside",
           "texttemplate": "%{y}<br>%{x:.4s}",
           "type": "bar",
           "x": [
            27.16302390461301,
            38.04163460780531,
            109.720940385248,
            142.11523807257117,
            176.51233897647805
           ],
           "y": [
            "nuclear",
            "renewables_n_other",
            "natural_gas",
            "coal",
            "petroleum_n_other_liquids"
           ]
          }
         ],
         "layout": {
          "bargap": 0.15,
          "font": {
           "size": 14
          },
          "plot_bgcolor": "#FFFFFF",
          "xaxis": {
           "range": [
            0,
            196.92883215112363
           ],
           "showline": true,
           "visible": true
          },
          "yaxis": {
           "showline": false,
           "visible": true
          }
         },
         "name": "2007"
        },
        {
         "data": [
          {
           "cliponaxis": false,
           "hoverinfo": "all",
           "hovertemplate": "<extra></extra>",
           "marker": {
            "color": [
             "rgb(146, 1, 181)",
             "rgb(237, 253, 16)",
             "rgb(28, 83, 127)",
             "rgb(123, 104, 173)",
             "rgb(172, 101, 4)"
            ]
           },
           "orientation": "h",
           "textangle": 0,
           "textposition": "outside",
           "texttemplate": "%{y}<br>%{x:.4s}",
           "type": "bar",
           "x": [
            27.03040339943654,
            40.294780860321374,
            112.872765057765,
            144.71222820642691,
            175.58349664756403
           ],
           "y": [
            "nuclear",
            "renewables_n_other",
            "natural_gas",
            "coal",
            "petroleum_n_other_liquids"
           ]
          }
         ],
         "layout": {
          "bargap": 0.15,
          "font": {
           "size": 14
          },
          "plot_bgcolor": "#FFFFFF",
          "xaxis": {
           "range": [
            0,
            196.92883215112363
           ],
           "showline": true,
           "visible": true
          },
          "yaxis": {
           "showline": false,
           "visible": true
          }
         },
         "name": "2008"
        },
        {
         "data": [
          {
           "cliponaxis": false,
           "hoverinfo": "all",
           "hovertemplate": "<extra></extra>",
           "marker": {
            "color": [
             "rgb(146, 1, 181)",
             "rgb(237, 253, 16)",
             "rgb(28, 83, 127)",
             "rgb(123, 104, 173)",
             "rgb(172, 101, 4)"
            ]
           },
           "orientation": "h",
           "textangle": 0,
           "textposition": "outside",
           "texttemplate": "%{y}<br>%{x:.4s}",
           "type": "bar",
           "x": [
            26.64169141457496,
            41.6429114389615,
            109.14931366682482,
            145.839438748034,
            172.67894835493252
           ],
           "y": [
            "nuclear",
            "renewables_n_other",
            "natural_gas",
            "coal",
            "petroleum_n_other_liquids"
           ]
          }
         ],
         "layout": {
          "bargap": 0.15,
          "font": {
           "size": 14
          },
          "plot_bgcolor": "#FFFFFF",
          "xaxis": {
           "range": [
            0,
            196.92883215112363
           ],
           "showline": true,
           "visible": true
          },
          "yaxis": {
           "showline": false,
           "visible": true
          }
         },
         "name": "2009"
        },
        {
         "data": [
          {
           "cliponaxis": false,
           "hoverinfo": "all",
           "hovertemplate": "<extra></extra>",
           "marker": {
            "color": [
             "rgb(146, 1, 181)",
             "rgb(237, 253, 16)",
             "rgb(28, 83, 127)",
             "rgb(123, 104, 173)",
             "rgb(172, 101, 4)"
            ]
           },
           "orientation": "h",
           "textangle": 0,
           "textposition": "outside",
           "texttemplate": "%{y}<br>%{x:.4s}",
           "type": "bar",
           "x": [
            27.37991816251363,
            45.25116456899967,
            119.42387934839796,
            157.78400778429594,
            177.93274273599403
           ],
           "y": [
            "nuclear",
            "renewables_n_other",
            "natural_gas",
            "coal",
            "petroleum_n_other_liquids"
           ]
          }
         ],
         "layout": {
          "bargap": 0.15,
          "font": {
           "size": 14
          },
          "plot_bgcolor": "#FFFFFF",
          "xaxis": {
           "range": [
            0,
            196.92883215112363
           ],
           "showline": true,
           "visible": true
          },
          "yaxis": {
           "showline": false,
           "visible": true
          }
         },
         "name": "2010"
        },
        {
         "data": [
          {
           "cliponaxis": false,
           "hoverinfo": "all",
           "hovertemplate": "<extra></extra>",
           "marker": {
            "color": [
             "rgb(146, 1, 181)",
             "rgb(237, 253, 16)",
             "rgb(28, 83, 127)",
             "rgb(123, 104, 173)",
             "rgb(172, 101, 4)"
            ]
           },
           "orientation": "h",
           "textangle": 0,
           "textposition": "outside",
           "texttemplate": "%{y}<br>%{x:.4s}",
           "type": "bar",
           "x": [
            26.24755313733225,
            47.19889380975991,
            122.99248610538244,
            166.2996775467487,
            178.82455167979182
           ],
           "y": [
            "nuclear",
            "renewables_n_other",
            "natural_gas",
            "coal",
            "petroleum_n_other_liquids"
           ]
          }
         ],
         "layout": {
          "bargap": 0.15,
          "font": {
           "size": 14
          },
          "plot_bgcolor": "#FFFFFF",
          "xaxis": {
           "range": [
            0,
            196.92883215112363
           ],
           "showline": true,
           "visible": true
          },
          "yaxis": {
           "showline": false,
           "visible": true
          }
         },
         "name": "2011"
        },
        {
         "data": [
          {
           "cliponaxis": false,
           "hoverinfo": "all",
           "hovertemplate": "<extra></extra>",
           "marker": {
            "color": [
             "rgb(146, 1, 181)",
             "rgb(237, 253, 16)",
             "rgb(28, 83, 127)",
             "rgb(123, 104, 173)",
             "rgb(172, 101, 4)"
            ]
           },
           "orientation": "h",
           "textangle": 0,
           "textposition": "outside",
           "texttemplate": "%{y}<br>%{x:.4s}",
           "type": "bar",
           "x": [
            24.474108820505307,
            49.22515374689624,
            125.80264763157165,
            171.40109186597854,
            181.73874865005945
           ],
           "y": [
            "nuclear",
            "renewables_n_other",
            "natural_gas",
            "coal",
            "petroleum_n_other_liquids"
           ]
          }
         ],
         "layout": {
          "bargap": 0.15,
          "font": {
           "size": 14
          },
          "plot_bgcolor": "#FFFFFF",
          "xaxis": {
           "range": [
            0,
            196.92883215112363
           ],
           "showline": true,
           "visible": true
          },
          "yaxis": {
           "showline": false,
           "visible": true
          }
         },
         "name": "2012"
        },
        {
         "data": [
          {
           "cliponaxis": false,
           "hoverinfo": "all",
           "hovertemplate": "<extra></extra>",
           "marker": {
            "color": [
             "rgb(146, 1, 181)",
             "rgb(237, 253, 16)",
             "rgb(28, 83, 127)",
             "rgb(123, 104, 173)",
             "rgb(172, 101, 4)"
            ]
           },
           "orientation": "h",
           "textangle": 0,
           "textposition": "outside",
           "texttemplate": "%{y}<br>%{x:.4s}",
           "type": "bar",
           "x": [
            24.651921363938744,
            52.826496386058736,
            127.6546761511796,
            173.32209852457285,
            183.7594021705714
           ],
           "y": [
            "nuclear",
            "renewables_n_other",
            "natural_gas",
            "coal",
            "petroleum_n_other_liquids"
           ]
          }
         ],
         "layout": {
          "bargap": 0.15,
          "font": {
           "size": 14
          },
          "plot_bgcolor": "#FFFFFF",
          "xaxis": {
           "range": [
            0,
            196.92883215112363
           ],
           "showline": true,
           "visible": true
          },
          "yaxis": {
           "showline": false,
           "visible": true
          }
         },
         "name": "2013"
        },
        {
         "data": [
          {
           "cliponaxis": false,
           "hoverinfo": "all",
           "hovertemplate": "<extra></extra>",
           "marker": {
            "color": [
             "rgb(146, 1, 181)",
             "rgb(237, 253, 16)",
             "rgb(28, 83, 127)",
             "rgb(123, 104, 173)",
             "rgb(172, 101, 4)"
            ]
           },
           "orientation": "h",
           "textangle": 0,
           "textposition": "outside",
           "texttemplate": "%{y}<br>%{x:.4s}",
           "type": "bar",
           "x": [
            25.138315345434304,
            55.12570389316955,
            128.14512471331605,
            172.36054129319592,
            186.52025825071735
           ],
           "y": [
            "nuclear",
            "renewables_n_other",
            "natural_gas",
            "coal",
            "petroleum_n_other_liquids"
           ]
          }
         ],
         "layout": {
          "bargap": 0.15,
          "font": {
           "size": 14
          },
          "plot_bgcolor": "#FFFFFF",
          "xaxis": {
           "range": [
            0,
            196.92883215112363
           ],
           "showline": true,
           "visible": true
          },
          "yaxis": {
           "showline": false,
           "visible": true
          }
         },
         "name": "2014"
        },
        {
         "data": [
          {
           "cliponaxis": false,
           "hoverinfo": "all",
           "hovertemplate": "<extra></extra>",
           "marker": {
            "color": [
             "rgb(146, 1, 181)",
             "rgb(237, 253, 16)",
             "rgb(28, 83, 127)",
             "rgb(123, 104, 173)",
             "rgb(172, 101, 4)"
            ]
           },
           "orientation": "h",
           "textangle": 0,
           "textposition": "outside",
           "texttemplate": "%{y}<br>%{x:.4s}",
           "type": "bar",
           "x": [
            25.43752788818358,
            56.10941875575339,
            130.05169300073453,
            167.55604551302267,
            189.3365688883315
           ],
           "y": [
            "nuclear",
            "renewables_n_other",
            "natural_gas",
            "coal",
            "petroleum_n_other_liquids"
           ]
          }
         ],
         "layout": {
          "bargap": 0.15,
          "font": {
           "size": 14
          },
          "plot_bgcolor": "#FFFFFF",
          "xaxis": {
           "range": [
            0,
            196.92883215112363
           ],
           "showline": true,
           "visible": true
          },
          "yaxis": {
           "showline": false,
           "visible": true
          }
         },
         "name": "2015"
        },
        {
         "data": [
          {
           "cliponaxis": false,
           "hoverinfo": "all",
           "hovertemplate": "<extra></extra>",
           "marker": {
            "color": [
             "rgb(146, 1, 181)",
             "rgb(237, 253, 16)",
             "rgb(28, 83, 127)",
             "rgb(123, 104, 173)",
             "rgb(172, 101, 4)"
            ]
           },
           "orientation": "h",
           "textangle": 0,
           "textposition": "outside",
           "texttemplate": "%{y}<br>%{x:.4s}",
           "type": "bar",
           "x": [
            25.712197376129318,
            59.24526604305957,
            132.69922920813946,
            163.26576382050655,
            192.5112857579168
           ],
           "y": [
            "nuclear",
            "renewables_n_other",
            "natural_gas",
            "coal",
            "petroleum_n_other_liquids"
           ]
          }
         ],
         "layout": {
          "bargap": 0.15,
          "font": {
           "size": 14
          },
          "plot_bgcolor": "#FFFFFF",
          "xaxis": {
           "range": [
            0,
            196.92883215112363
           ],
           "showline": true,
           "visible": true
          },
          "yaxis": {
           "showline": false,
           "visible": true
          }
         },
         "name": "2016"
        },
        {
         "data": [
          {
           "cliponaxis": false,
           "hoverinfo": "all",
           "hovertemplate": "<extra></extra>",
           "marker": {
            "color": [
             "rgb(146, 1, 181)",
             "rgb(237, 253, 16)",
             "rgb(28, 83, 127)",
             "rgb(123, 104, 173)",
             "rgb(172, 101, 4)"
            ]
           },
           "orientation": "h",
           "textangle": 0,
           "textposition": "outside",
           "texttemplate": "%{y}<br>%{x:.4s}",
           "type": "bar",
           "x": [
            25.89828117063508,
            62.3964159391521,
            137.0509911947091,
            164.2355903925062,
            195.93670633542715
           ],
           "y": [
            "nuclear",
            "renewables_n_other",
            "natural_gas",
            "coal",
            "petroleum_n_other_liquids"
           ]
          }
         ],
         "layout": {
          "bargap": 0.15,
          "font": {
           "size": 14
          },
          "plot_bgcolor": "#FFFFFF",
          "xaxis": {
           "range": [
            0,
            196.92883215112363
           ],
           "showline": true,
           "visible": true
          },
          "yaxis": {
           "showline": false,
           "visible": true
          }
         },
         "name": "2017"
        },
        {
         "data": [
          {
           "cliponaxis": false,
           "hoverinfo": "all",
           "hovertemplate": "<extra></extra>",
           "marker": {
            "color": [
             "rgb(146, 1, 181)",
             "rgb(237, 253, 16)",
             "rgb(28, 83, 127)",
             "rgb(123, 104, 173)",
             "rgb(172, 101, 4)"
            ]
           },
           "orientation": "h",
           "textangle": 0,
           "textposition": "outside",
           "texttemplate": "%{y}<br>%{x:.4s}",
           "type": "bar",
           "x": [
            26.513243556955885,
            65.84972252771597,
            143.8918578857722,
            165.88969331156548,
            196.92883215112363
           ],
           "y": [
            "nuclear",
            "renewables_n_other",
            "natural_gas",
            "coal",
            "petroleum_n_other_liquids"
           ]
          }
         ],
         "layout": {
          "bargap": 0.15,
          "font": {
           "size": 14
          },
          "plot_bgcolor": "#FFFFFF",
          "xaxis": {
           "range": [
            0,
            196.92883215112363
           ],
           "showline": true,
           "visible": true
          },
          "yaxis": {
           "showline": false,
           "visible": true
          }
         },
         "name": "2018"
        },
        {
         "data": [
          {
           "cliponaxis": false,
           "hoverinfo": "all",
           "hovertemplate": "<extra></extra>",
           "marker": {
            "color": [
             "rgb(146, 1, 181)",
             "rgb(237, 253, 16)",
             "rgb(28, 83, 127)",
             "rgb(123, 104, 173)",
             "rgb(172, 101, 4)"
            ]
           },
           "orientation": "h",
           "textangle": 0,
           "textposition": "outside",
           "texttemplate": "%{y}<br>%{x:.4s}",
           "type": "bar",
           "x": [
            27.65989087153229,
            67.75897673906928,
            146.92339602648022,
            163.97177585957522,
            196.07735760722844
           ],
           "y": [
            "nuclear",
            "renewables_n_other",
            "natural_gas",
            "coal",
            "petroleum_n_other_liquids"
           ]
          }
         ],
         "layout": {
          "bargap": 0.15,
          "font": {
           "size": 14
          },
          "plot_bgcolor": "#FFFFFF",
          "xaxis": {
           "range": [
            0,
            196.92883215112363
           ],
           "showline": true,
           "visible": true
          },
          "yaxis": {
           "showline": false,
           "visible": true
          }
         },
         "name": "2019"
        }
       ],
       "layout": {
        "bargap": 0.15,
        "font": {
         "size": 14
        },
        "height": 550,
        "paper_bgcolor": "whitesmoke",
        "plot_bgcolor": "#FFFFFF",
        "sliders": [
         {
          "active": 0,
          "currentvalue": {
           "font": {
            "size": 20
           },
           "prefix": "Date: ",
           "visible": true,
           "xanchor": "right"
          },
          "len": 0.9,
          "pad": {
           "b": 10,
           "t": 50
          },
          "steps": [
           {
            "args": [
             [
              "1980"
             ],
             {
              "frame": {
               "duration": 200,
               "redraw": false
              },
              "mode": "immediate",
              "transition": {
               "duration": 200
              }
             }
            ],
            "label": "1980",
            "method": "animate"
           },
           {
            "args": [
             [
              "1981"
             ],
             {
              "frame": {
               "duration": 200,
               "redraw": false
              },
              "mode": "immediate",
              "transition": {
               "duration": 200
              }
             }
            ],
            "label": "1981",
            "method": "animate"
           },
           {
            "args": [
             [
              "1982"
             ],
             {
              "frame": {
               "duration": 200,
               "redraw": false
              },
              "mode": "immediate",
              "transition": {
               "duration": 200
              }
             }
            ],
            "label": "1982",
            "method": "animate"
           },
           {
            "args": [
             [
              "1983"
             ],
             {
              "frame": {
               "duration": 200,
               "redraw": false
              },
              "mode": "immediate",
              "transition": {
               "duration": 200
              }
             }
            ],
            "label": "1983",
            "method": "animate"
           },
           {
            "args": [
             [
              "1984"
             ],
             {
              "frame": {
               "duration": 200,
               "redraw": false
              },
              "mode": "immediate",
              "transition": {
               "duration": 200
              }
             }
            ],
            "label": "1984",
            "method": "animate"
           },
           {
            "args": [
             [
              "1985"
             ],
             {
              "frame": {
               "duration": 200,
               "redraw": false
              },
              "mode": "immediate",
              "transition": {
               "duration": 200
              }
             }
            ],
            "label": "1985",
            "method": "animate"
           },
           {
            "args": [
             [
              "1986"
             ],
             {
              "frame": {
               "duration": 200,
               "redraw": false
              },
              "mode": "immediate",
              "transition": {
               "duration": 200
              }
             }
            ],
            "label": "1986",
            "method": "animate"
           },
           {
            "args": [
             [
              "1987"
             ],
             {
              "frame": {
               "duration": 200,
               "redraw": false
              },
              "mode": "immediate",
              "transition": {
               "duration": 200
              }
             }
            ],
            "label": "1987",
            "method": "animate"
           },
           {
            "args": [
             [
              "1988"
             ],
             {
              "frame": {
               "duration": 200,
               "redraw": false
              },
              "mode": "immediate",
              "transition": {
               "duration": 200
              }
             }
            ],
            "label": "1988",
            "method": "animate"
           },
           {
            "args": [
             [
              "1989"
             ],
             {
              "frame": {
               "duration": 200,
               "redraw": false
              },
              "mode": "immediate",
              "transition": {
               "duration": 200
              }
             }
            ],
            "label": "1989",
            "method": "animate"
           },
           {
            "args": [
             [
              "1990"
             ],
             {
              "frame": {
               "duration": 200,
               "redraw": false
              },
              "mode": "immediate",
              "transition": {
               "duration": 200
              }
             }
            ],
            "label": "1990",
            "method": "animate"
           },
           {
            "args": [
             [
              "1991"
             ],
             {
              "frame": {
               "duration": 200,
               "redraw": false
              },
              "mode": "immediate",
              "transition": {
               "duration": 200
              }
             }
            ],
            "label": "1991",
            "method": "animate"
           },
           {
            "args": [
             [
              "1992"
             ],
             {
              "frame": {
               "duration": 200,
               "redraw": false
              },
              "mode": "immediate",
              "transition": {
               "duration": 200
              }
             }
            ],
            "label": "1992",
            "method": "animate"
           },
           {
            "args": [
             [
              "1993"
             ],
             {
              "frame": {
               "duration": 200,
               "redraw": false
              },
              "mode": "immediate",
              "transition": {
               "duration": 200
              }
             }
            ],
            "label": "1993",
            "method": "animate"
           },
           {
            "args": [
             [
              "1994"
             ],
             {
              "frame": {
               "duration": 200,
               "redraw": false
              },
              "mode": "immediate",
              "transition": {
               "duration": 200
              }
             }
            ],
            "label": "1994",
            "method": "animate"
           },
           {
            "args": [
             [
              "1995"
             ],
             {
              "frame": {
               "duration": 200,
               "redraw": false
              },
              "mode": "immediate",
              "transition": {
               "duration": 200
              }
             }
            ],
            "label": "1995",
            "method": "animate"
           },
           {
            "args": [
             [
              "1996"
             ],
             {
              "frame": {
               "duration": 200,
               "redraw": false
              },
              "mode": "immediate",
              "transition": {
               "duration": 200
              }
             }
            ],
            "label": "1996",
            "method": "animate"
           },
           {
            "args": [
             [
              "1997"
             ],
             {
              "frame": {
               "duration": 200,
               "redraw": false
              },
              "mode": "immediate",
              "transition": {
               "duration": 200
              }
             }
            ],
            "label": "1997",
            "method": "animate"
           },
           {
            "args": [
             [
              "1998"
             ],
             {
              "frame": {
               "duration": 200,
               "redraw": false
              },
              "mode": "immediate",
              "transition": {
               "duration": 200
              }
             }
            ],
            "label": "1998",
            "method": "animate"
           },
           {
            "args": [
             [
              "1999"
             ],
             {
              "frame": {
               "duration": 200,
               "redraw": false
              },
              "mode": "immediate",
              "transition": {
               "duration": 200
              }
             }
            ],
            "label": "1999",
            "method": "animate"
           },
           {
            "args": [
             [
              "2000"
             ],
             {
              "frame": {
               "duration": 200,
               "redraw": false
              },
              "mode": "immediate",
              "transition": {
               "duration": 200
              }
             }
            ],
            "label": "2000",
            "method": "animate"
           },
           {
            "args": [
             [
              "2001"
             ],
             {
              "frame": {
               "duration": 200,
               "redraw": false
              },
              "mode": "immediate",
              "transition": {
               "duration": 200
              }
             }
            ],
            "label": "2001",
            "method": "animate"
           },
           {
            "args": [
             [
              "2002"
             ],
             {
              "frame": {
               "duration": 200,
               "redraw": false
              },
              "mode": "immediate",
              "transition": {
               "duration": 200
              }
             }
            ],
            "label": "2002",
            "method": "animate"
           },
           {
            "args": [
             [
              "2003"
             ],
             {
              "frame": {
               "duration": 200,
               "redraw": false
              },
              "mode": "immediate",
              "transition": {
               "duration": 200
              }
             }
            ],
            "label": "2003",
            "method": "animate"
           },
           {
            "args": [
             [
              "2004"
             ],
             {
              "frame": {
               "duration": 200,
               "redraw": false
              },
              "mode": "immediate",
              "transition": {
               "duration": 200
              }
             }
            ],
            "label": "2004",
            "method": "animate"
           },
           {
            "args": [
             [
              "2005"
             ],
             {
              "frame": {
               "duration": 200,
               "redraw": false
              },
              "mode": "immediate",
              "transition": {
               "duration": 200
              }
             }
            ],
            "label": "2005",
            "method": "animate"
           },
           {
            "args": [
             [
              "2006"
             ],
             {
              "frame": {
               "duration": 200,
               "redraw": false
              },
              "mode": "immediate",
              "transition": {
               "duration": 200
              }
             }
            ],
            "label": "2006",
            "method": "animate"
           },
           {
            "args": [
             [
              "2007"
             ],
             {
              "frame": {
               "duration": 200,
               "redraw": false
              },
              "mode": "immediate",
              "transition": {
               "duration": 200
              }
             }
            ],
            "label": "2007",
            "method": "animate"
           },
           {
            "args": [
             [
              "2008"
             ],
             {
              "frame": {
               "duration": 200,
               "redraw": false
              },
              "mode": "immediate",
              "transition": {
               "duration": 200
              }
             }
            ],
            "label": "2008",
            "method": "animate"
           },
           {
            "args": [
             [
              "2009"
             ],
             {
              "frame": {
               "duration": 200,
               "redraw": false
              },
              "mode": "immediate",
              "transition": {
               "duration": 200
              }
             }
            ],
            "label": "2009",
            "method": "animate"
           },
           {
            "args": [
             [
              "2010"
             ],
             {
              "frame": {
               "duration": 200,
               "redraw": false
              },
              "mode": "immediate",
              "transition": {
               "duration": 200
              }
             }
            ],
            "label": "2010",
            "method": "animate"
           },
           {
            "args": [
             [
              "2011"
             ],
             {
              "frame": {
               "duration": 200,
               "redraw": false
              },
              "mode": "immediate",
              "transition": {
               "duration": 200
              }
             }
            ],
            "label": "2011",
            "method": "animate"
           },
           {
            "args": [
             [
              "2012"
             ],
             {
              "frame": {
               "duration": 200,
               "redraw": false
              },
              "mode": "immediate",
              "transition": {
               "duration": 200
              }
             }
            ],
            "label": "2012",
            "method": "animate"
           },
           {
            "args": [
             [
              "2013"
             ],
             {
              "frame": {
               "duration": 200,
               "redraw": false
              },
              "mode": "immediate",
              "transition": {
               "duration": 200
              }
             }
            ],
            "label": "2013",
            "method": "animate"
           },
           {
            "args": [
             [
              "2014"
             ],
             {
              "frame": {
               "duration": 200,
               "redraw": false
              },
              "mode": "immediate",
              "transition": {
               "duration": 200
              }
             }
            ],
            "label": "2014",
            "method": "animate"
           },
           {
            "args": [
             [
              "2015"
             ],
             {
              "frame": {
               "duration": 200,
               "redraw": false
              },
              "mode": "immediate",
              "transition": {
               "duration": 200
              }
             }
            ],
            "label": "2015",
            "method": "animate"
           },
           {
            "args": [
             [
              "2016"
             ],
             {
              "frame": {
               "duration": 200,
               "redraw": false
              },
              "mode": "immediate",
              "transition": {
               "duration": 200
              }
             }
            ],
            "label": "2016",
            "method": "animate"
           },
           {
            "args": [
             [
              "2017"
             ],
             {
              "frame": {
               "duration": 200,
               "redraw": false
              },
              "mode": "immediate",
              "transition": {
               "duration": 200
              }
             }
            ],
            "label": "2017",
            "method": "animate"
           },
           {
            "args": [
             [
              "2018"
             ],
             {
              "frame": {
               "duration": 200,
               "redraw": false
              },
              "mode": "immediate",
              "transition": {
               "duration": 200
              }
             }
            ],
            "label": "2018",
            "method": "animate"
           },
           {
            "args": [
             [
              "2019"
             ],
             {
              "frame": {
               "duration": 200,
               "redraw": false
              },
              "mode": "immediate",
              "transition": {
               "duration": 200
              }
             }
            ],
            "label": "2019",
            "method": "animate"
           }
          ],
          "transition": {
           "duration": 300,
           "easing": "cubic-in-out"
          },
          "x": 0.1,
          "xanchor": "left",
          "y": 0,
          "yanchor": "top"
         }
        ],
        "template": {
         "data": {
          "bar": [
           {
            "error_x": {
             "color": "#2a3f5f"
            },
            "error_y": {
             "color": "#2a3f5f"
            },
            "marker": {
             "line": {
              "color": "#E5ECF6",
              "width": 0.5
             },
             "pattern": {
              "fillmode": "overlay",
              "size": 10,
              "solidity": 0.2
             }
            },
            "type": "bar"
           }
          ],
          "barpolar": [
           {
            "marker": {
             "line": {
              "color": "#E5ECF6",
              "width": 0.5
             },
             "pattern": {
              "fillmode": "overlay",
              "size": 10,
              "solidity": 0.2
             }
            },
            "type": "barpolar"
           }
          ],
          "carpet": [
           {
            "aaxis": {
             "endlinecolor": "#2a3f5f",
             "gridcolor": "white",
             "linecolor": "white",
             "minorgridcolor": "white",
             "startlinecolor": "#2a3f5f"
            },
            "baxis": {
             "endlinecolor": "#2a3f5f",
             "gridcolor": "white",
             "linecolor": "white",
             "minorgridcolor": "white",
             "startlinecolor": "#2a3f5f"
            },
            "type": "carpet"
           }
          ],
          "choropleth": [
           {
            "colorbar": {
             "outlinewidth": 0,
             "ticks": ""
            },
            "type": "choropleth"
           }
          ],
          "contour": [
           {
            "colorbar": {
             "outlinewidth": 0,
             "ticks": ""
            },
            "colorscale": [
             [
              0,
              "#0d0887"
             ],
             [
              0.1111111111111111,
              "#46039f"
             ],
             [
              0.2222222222222222,
              "#7201a8"
             ],
             [
              0.3333333333333333,
              "#9c179e"
             ],
             [
              0.4444444444444444,
              "#bd3786"
             ],
             [
              0.5555555555555556,
              "#d8576b"
             ],
             [
              0.6666666666666666,
              "#ed7953"
             ],
             [
              0.7777777777777778,
              "#fb9f3a"
             ],
             [
              0.8888888888888888,
              "#fdca26"
             ],
             [
              1,
              "#f0f921"
             ]
            ],
            "type": "contour"
           }
          ],
          "contourcarpet": [
           {
            "colorbar": {
             "outlinewidth": 0,
             "ticks": ""
            },
            "type": "contourcarpet"
           }
          ],
          "heatmap": [
           {
            "colorbar": {
             "outlinewidth": 0,
             "ticks": ""
            },
            "colorscale": [
             [
              0,
              "#0d0887"
             ],
             [
              0.1111111111111111,
              "#46039f"
             ],
             [
              0.2222222222222222,
              "#7201a8"
             ],
             [
              0.3333333333333333,
              "#9c179e"
             ],
             [
              0.4444444444444444,
              "#bd3786"
             ],
             [
              0.5555555555555556,
              "#d8576b"
             ],
             [
              0.6666666666666666,
              "#ed7953"
             ],
             [
              0.7777777777777778,
              "#fb9f3a"
             ],
             [
              0.8888888888888888,
              "#fdca26"
             ],
             [
              1,
              "#f0f921"
             ]
            ],
            "type": "heatmap"
           }
          ],
          "heatmapgl": [
           {
            "colorbar": {
             "outlinewidth": 0,
             "ticks": ""
            },
            "colorscale": [
             [
              0,
              "#0d0887"
             ],
             [
              0.1111111111111111,
              "#46039f"
             ],
             [
              0.2222222222222222,
              "#7201a8"
             ],
             [
              0.3333333333333333,
              "#9c179e"
             ],
             [
              0.4444444444444444,
              "#bd3786"
             ],
             [
              0.5555555555555556,
              "#d8576b"
             ],
             [
              0.6666666666666666,
              "#ed7953"
             ],
             [
              0.7777777777777778,
              "#fb9f3a"
             ],
             [
              0.8888888888888888,
              "#fdca26"
             ],
             [
              1,
              "#f0f921"
             ]
            ],
            "type": "heatmapgl"
           }
          ],
          "histogram": [
           {
            "marker": {
             "pattern": {
              "fillmode": "overlay",
              "size": 10,
              "solidity": 0.2
             }
            },
            "type": "histogram"
           }
          ],
          "histogram2d": [
           {
            "colorbar": {
             "outlinewidth": 0,
             "ticks": ""
            },
            "colorscale": [
             [
              0,
              "#0d0887"
             ],
             [
              0.1111111111111111,
              "#46039f"
             ],
             [
              0.2222222222222222,
              "#7201a8"
             ],
             [
              0.3333333333333333,
              "#9c179e"
             ],
             [
              0.4444444444444444,
              "#bd3786"
             ],
             [
              0.5555555555555556,
              "#d8576b"
             ],
             [
              0.6666666666666666,
              "#ed7953"
             ],
             [
              0.7777777777777778,
              "#fb9f3a"
             ],
             [
              0.8888888888888888,
              "#fdca26"
             ],
             [
              1,
              "#f0f921"
             ]
            ],
            "type": "histogram2d"
           }
          ],
          "histogram2dcontour": [
           {
            "colorbar": {
             "outlinewidth": 0,
             "ticks": ""
            },
            "colorscale": [
             [
              0,
              "#0d0887"
             ],
             [
              0.1111111111111111,
              "#46039f"
             ],
             [
              0.2222222222222222,
              "#7201a8"
             ],
             [
              0.3333333333333333,
              "#9c179e"
             ],
             [
              0.4444444444444444,
              "#bd3786"
             ],
             [
              0.5555555555555556,
              "#d8576b"
             ],
             [
              0.6666666666666666,
              "#ed7953"
             ],
             [
              0.7777777777777778,
              "#fb9f3a"
             ],
             [
              0.8888888888888888,
              "#fdca26"
             ],
             [
              1,
              "#f0f921"
             ]
            ],
            "type": "histogram2dcontour"
           }
          ],
          "mesh3d": [
           {
            "colorbar": {
             "outlinewidth": 0,
             "ticks": ""
            },
            "type": "mesh3d"
           }
          ],
          "parcoords": [
           {
            "line": {
             "colorbar": {
              "outlinewidth": 0,
              "ticks": ""
             }
            },
            "type": "parcoords"
           }
          ],
          "pie": [
           {
            "automargin": true,
            "type": "pie"
           }
          ],
          "scatter": [
           {
            "fillpattern": {
             "fillmode": "overlay",
             "size": 10,
             "solidity": 0.2
            },
            "type": "scatter"
           }
          ],
          "scatter3d": [
           {
            "line": {
             "colorbar": {
              "outlinewidth": 0,
              "ticks": ""
             }
            },
            "marker": {
             "colorbar": {
              "outlinewidth": 0,
              "ticks": ""
             }
            },
            "type": "scatter3d"
           }
          ],
          "scattercarpet": [
           {
            "marker": {
             "colorbar": {
              "outlinewidth": 0,
              "ticks": ""
             }
            },
            "type": "scattercarpet"
           }
          ],
          "scattergeo": [
           {
            "marker": {
             "colorbar": {
              "outlinewidth": 0,
              "ticks": ""
             }
            },
            "type": "scattergeo"
           }
          ],
          "scattergl": [
           {
            "marker": {
             "colorbar": {
              "outlinewidth": 0,
              "ticks": ""
             }
            },
            "type": "scattergl"
           }
          ],
          "scattermapbox": [
           {
            "marker": {
             "colorbar": {
              "outlinewidth": 0,
              "ticks": ""
             }
            },
            "type": "scattermapbox"
           }
          ],
          "scatterpolar": [
           {
            "marker": {
             "colorbar": {
              "outlinewidth": 0,
              "ticks": ""
             }
            },
            "type": "scatterpolar"
           }
          ],
          "scatterpolargl": [
           {
            "marker": {
             "colorbar": {
              "outlinewidth": 0,
              "ticks": ""
             }
            },
            "type": "scatterpolargl"
           }
          ],
          "scatterternary": [
           {
            "marker": {
             "colorbar": {
              "outlinewidth": 0,
              "ticks": ""
             }
            },
            "type": "scatterternary"
           }
          ],
          "surface": [
           {
            "colorbar": {
             "outlinewidth": 0,
             "ticks": ""
            },
            "colorscale": [
             [
              0,
              "#0d0887"
             ],
             [
              0.1111111111111111,
              "#46039f"
             ],
             [
              0.2222222222222222,
              "#7201a8"
             ],
             [
              0.3333333333333333,
              "#9c179e"
             ],
             [
              0.4444444444444444,
              "#bd3786"
             ],
             [
              0.5555555555555556,
              "#d8576b"
             ],
             [
              0.6666666666666666,
              "#ed7953"
             ],
             [
              0.7777777777777778,
              "#fb9f3a"
             ],
             [
              0.8888888888888888,
              "#fdca26"
             ],
             [
              1,
              "#f0f921"
             ]
            ],
            "type": "surface"
           }
          ],
          "table": [
           {
            "cells": {
             "fill": {
              "color": "#EBF0F8"
             },
             "line": {
              "color": "white"
             }
            },
            "header": {
             "fill": {
              "color": "#C8D4E3"
             },
             "line": {
              "color": "white"
             }
            },
            "type": "table"
           }
          ]
         },
         "layout": {
          "annotationdefaults": {
           "arrowcolor": "#2a3f5f",
           "arrowhead": 0,
           "arrowwidth": 1
          },
          "autotypenumbers": "strict",
          "coloraxis": {
           "colorbar": {
            "outlinewidth": 0,
            "ticks": ""
           }
          },
          "colorscale": {
           "diverging": [
            [
             0,
             "#8e0152"
            ],
            [
             0.1,
             "#c51b7d"
            ],
            [
             0.2,
             "#de77ae"
            ],
            [
             0.3,
             "#f1b6da"
            ],
            [
             0.4,
             "#fde0ef"
            ],
            [
             0.5,
             "#f7f7f7"
            ],
            [
             0.6,
             "#e6f5d0"
            ],
            [
             0.7,
             "#b8e186"
            ],
            [
             0.8,
             "#7fbc41"
            ],
            [
             0.9,
             "#4d9221"
            ],
            [
             1,
             "#276419"
            ]
           ],
           "sequential": [
            [
             0,
             "#0d0887"
            ],
            [
             0.1111111111111111,
             "#46039f"
            ],
            [
             0.2222222222222222,
             "#7201a8"
            ],
            [
             0.3333333333333333,
             "#9c179e"
            ],
            [
             0.4444444444444444,
             "#bd3786"
            ],
            [
             0.5555555555555556,
             "#d8576b"
            ],
            [
             0.6666666666666666,
             "#ed7953"
            ],
            [
             0.7777777777777778,
             "#fb9f3a"
            ],
            [
             0.8888888888888888,
             "#fdca26"
            ],
            [
             1,
             "#f0f921"
            ]
           ],
           "sequentialminus": [
            [
             0,
             "#0d0887"
            ],
            [
             0.1111111111111111,
             "#46039f"
            ],
            [
             0.2222222222222222,
             "#7201a8"
            ],
            [
             0.3333333333333333,
             "#9c179e"
            ],
            [
             0.4444444444444444,
             "#bd3786"
            ],
            [
             0.5555555555555556,
             "#d8576b"
            ],
            [
             0.6666666666666666,
             "#ed7953"
            ],
            [
             0.7777777777777778,
             "#fb9f3a"
            ],
            [
             0.8888888888888888,
             "#fdca26"
            ],
            [
             1,
             "#f0f921"
            ]
           ]
          },
          "colorway": [
           "#636efa",
           "#EF553B",
           "#00cc96",
           "#ab63fa",
           "#FFA15A",
           "#19d3f3",
           "#FF6692",
           "#B6E880",
           "#FF97FF",
           "#FECB52"
          ],
          "font": {
           "color": "#2a3f5f"
          },
          "geo": {
           "bgcolor": "white",
           "lakecolor": "white",
           "landcolor": "#E5ECF6",
           "showlakes": true,
           "showland": true,
           "subunitcolor": "white"
          },
          "hoverlabel": {
           "align": "left"
          },
          "hovermode": "closest",
          "mapbox": {
           "style": "light"
          },
          "paper_bgcolor": "white",
          "plot_bgcolor": "#E5ECF6",
          "polar": {
           "angularaxis": {
            "gridcolor": "white",
            "linecolor": "white",
            "ticks": ""
           },
           "bgcolor": "#E5ECF6",
           "radialaxis": {
            "gridcolor": "white",
            "linecolor": "white",
            "ticks": ""
           }
          },
          "scene": {
           "xaxis": {
            "backgroundcolor": "#E5ECF6",
            "gridcolor": "white",
            "gridwidth": 2,
            "linecolor": "white",
            "showbackground": true,
            "ticks": "",
            "zerolinecolor": "white"
           },
           "yaxis": {
            "backgroundcolor": "#E5ECF6",
            "gridcolor": "white",
            "gridwidth": 2,
            "linecolor": "white",
            "showbackground": true,
            "ticks": "",
            "zerolinecolor": "white"
           },
           "zaxis": {
            "backgroundcolor": "#E5ECF6",
            "gridcolor": "white",
            "gridwidth": 2,
            "linecolor": "white",
            "showbackground": true,
            "ticks": "",
            "zerolinecolor": "white"
           }
          },
          "shapedefaults": {
           "line": {
            "color": "#2a3f5f"
           }
          },
          "ternary": {
           "aaxis": {
            "gridcolor": "white",
            "linecolor": "white",
            "ticks": ""
           },
           "baxis": {
            "gridcolor": "white",
            "linecolor": "white",
            "ticks": ""
           },
           "bgcolor": "#E5ECF6",
           "caxis": {
            "gridcolor": "white",
            "linecolor": "white",
            "ticks": ""
           }
          },
          "title": {
           "x": 0.05
          },
          "xaxis": {
           "automargin": true,
           "gridcolor": "white",
           "linecolor": "white",
           "ticks": "",
           "title": {
            "standoff": 15
           },
           "zerolinecolor": "white",
           "zerolinewidth": 2
          },
          "yaxis": {
           "automargin": true,
           "gridcolor": "white",
           "linecolor": "white",
           "ticks": "",
           "title": {
            "standoff": 15
           },
           "zerolinecolor": "white",
           "zerolinewidth": 2
          }
         }
        },
        "title": {
         "text": "Production de energía",
         "x": 0.15
        },
        "updatemenus": [
         {
          "buttons": [
           {
            "args": [
             null,
             {
              "frame": {
               "duration": 200,
               "redraw": false
              },
              "fromcurrent": true,
              "transition": {
               "duration": 200,
               "easing": "quadratic-in-out"
              }
             }
            ],
            "label": "Play",
            "method": "animate"
           },
           {
            "args": [
             [
              null
             ],
             {
              "frame": {
               "duration": 0,
               "redraw": false
              },
              "mode": "immediate",
              "transition": {
               "duration": 0
              }
             }
            ],
            "label": "Pause",
            "method": "animate"
           }
          ],
          "direction": "left",
          "pad": {
           "r": 10,
           "t": 87
          },
          "showactive": true,
          "type": "buttons",
          "x": 0.1,
          "xanchor": "right",
          "y": 0,
          "yanchor": "top"
         }
        ],
        "width": 800,
        "xaxis": {
         "range": [
          0,
          196.92883215112363
         ],
         "showline": true,
         "showticklabels": true,
         "title": {
          "text": "Energy_consumption"
         },
         "visible": true
        },
        "yaxis": {
         "showline": false,
         "showticklabels": false,
         "title": {
          "text": "Tipo de Energías"
         },
         "visible": true
        }
       }
      }
     },
     "metadata": {},
     "output_type": "display_data"
    }
   ],
   "source": [
    "my_raceplot = barplot(df_ba,  item_column='Energy_type', value_column='Energy_consumption', time_column='Year',top_entries=10)\n",
    "fig=my_raceplot.plot(item_label = 'Tipo de Energías', value_label = 'Energy_consumption', frame_duration = 200, date_format='%Y',orientation='horizontal')\n",
    "\n",
    "#Add chart title, format the chart, etc.\n",
    "fig.update_layout(\n",
    "      title='Production de energía',\n",
    "      title_x=0.15,\n",
    "      width=800,\n",
    "      height=550,\n",
    "      paper_bgcolor=\"whitesmoke\",\n",
    "      )"
   ]
  },
  {
   "cell_type": "markdown",
   "metadata": {},
   "source": [
    "sandybrown, seagreen, seashell, sienna, silver,\n",
    "            skyblue, slateblue, slategray, slategrey, snow,\n",
    "            springgreen, steelblue, tan, teal, thistle, tomato,\n",
    "            turquoise, violet, wheat, white, whitesmoke,\n",
    "            yellow, yellowgreen"
   ]
  },
  {
   "cell_type": "code",
   "execution_count": null,
   "metadata": {},
   "outputs": [],
   "source": []
  }
 ],
 "metadata": {
  "kernelspec": {
   "display_name": "Python 3.10.4 64-bit",
   "language": "python",
   "name": "python3"
  },
  "language_info": {
   "codemirror_mode": {
    "name": "ipython",
    "version": 3
   },
   "file_extension": ".py",
   "mimetype": "text/x-python",
   "name": "python",
   "nbconvert_exporter": "python",
   "pygments_lexer": "ipython3",
   "version": "3.10.4"
  },
  "orig_nbformat": 4,
  "vscode": {
   "interpreter": {
    "hash": "a42ccb73e7d9bfdf27e036f1d2b8b681e55fc0743cc5586bc2474d4a60f4b886"
   }
  }
 },
 "nbformat": 4,
 "nbformat_minor": 2
}
