{
 "cells": [
  {
   "cell_type": "code",
   "execution_count": 80,
   "metadata": {},
   "outputs": [],
   "source": [
    "import psycopg2\n",
    "from sqlalchemy import create_engine\n",
    "from configparser import ConfigParser\n",
    "from pathlib import Path\n",
    "import os\n",
    "import io\n",
    "import pandas as pd"
   ]
  },
  {
   "cell_type": "code",
   "execution_count": 26,
   "metadata": {},
   "outputs": [],
   "source": [
    "config = ConfigParser()\n",
    "file = '../Notebooks/config.ini'\n",
    "config.read(file)\n",
    "\n",
    "USER_BASE = config['database']['user']\n",
    "PASSWORD_BASE = config['database']['passw']\n",
    "DATABASE = config['database']['db']\n",
    "PORT = config['database']['port']\n",
    "HOST = config['database']['host']"
   ]
  },
  {
   "cell_type": "code",
   "execution_count": 72,
   "metadata": {},
   "outputs": [],
   "source": [
    "def conn():\n",
    "    connetion = psycopg2.connect(host=HOST, dbname=DATABASE, user=USER_BASE, password=PASSWORD_BASE)\n",
    "    conn = connetion.raw_connection()\n",
    "    return conn\n",
    "    "
   ]
  },
  {
   "cell_type": "code",
   "execution_count": 85,
   "metadata": {},
   "outputs": [],
   "source": [
    "datos = pd.read_csv('D:\\\\emissionsmap\\\\SubirData\\\\Normalizados\\\\Tabla_Hecho.csv')"
   ]
  },
  {
   "cell_type": "code",
   "execution_count": 86,
   "metadata": {},
   "outputs": [
    {
     "data": {
      "text/html": [
       "<div>\n",
       "<style scoped>\n",
       "    .dataframe tbody tr th:only-of-type {\n",
       "        vertical-align: middle;\n",
       "    }\n",
       "\n",
       "    .dataframe tbody tr th {\n",
       "        vertical-align: top;\n",
       "    }\n",
       "\n",
       "    .dataframe thead th {\n",
       "        text-align: right;\n",
       "    }\n",
       "</style>\n",
       "<table border=\"1\" class=\"dataframe\">\n",
       "  <thead>\n",
       "    <tr style=\"text-align: right;\">\n",
       "      <th></th>\n",
       "      <th>Año</th>\n",
       "      <th>País</th>\n",
       "      <th>Combustible</th>\n",
       "      <th>Continente</th>\n",
       "      <th>Id_Año</th>\n",
       "      <th>Id_País</th>\n",
       "      <th>Id_Combustible</th>\n",
       "      <th>Id_Continente</th>\n",
       "    </tr>\n",
       "  </thead>\n",
       "  <tbody>\n",
       "    <tr>\n",
       "      <th>0</th>\n",
       "      <td>1965</td>\n",
       "      <td>World</td>\n",
       "      <td>Biomass</td>\n",
       "      <td>País</td>\n",
       "      <td>d46e1fcf4c07ce4a69ee07e4134bcef1</td>\n",
       "      <td>f5a7924e621e84c9280a9a27e1bcb7f6</td>\n",
       "      <td>57a34c10edc9db4cc4fbfc06367285f8</td>\n",
       "      <td>f0aa1982f61314b9aab258c2f110ebab</td>\n",
       "    </tr>\n",
       "    <tr>\n",
       "      <th>1</th>\n",
       "      <td>1966</td>\n",
       "      <td>Afghanistan</td>\n",
       "      <td>Coal</td>\n",
       "      <td>Código</td>\n",
       "      <td>3683af9d6f6c06acee72992f2977f67e</td>\n",
       "      <td>6e9767f4f15357401b148b9a8ced14ef</td>\n",
       "      <td>ff8cfc4e6a79e6514be2533a5f5506ad</td>\n",
       "      <td>c54e67f2ff1683617c1edadad20f99bb</td>\n",
       "    </tr>\n",
       "    <tr>\n",
       "      <th>2</th>\n",
       "      <td>1967</td>\n",
       "      <td>Albania</td>\n",
       "      <td>Cogeneration</td>\n",
       "      <td>Año</td>\n",
       "      <td>a82d922b133be19c1171534e6594f754</td>\n",
       "      <td>c420ddff824a5c0eec70dd23d62496bc</td>\n",
       "      <td>be8c640ab7313b88c232af9328ebf5a8</td>\n",
       "      <td>c55baca5e562cecdd18fb070c0ff8f80</td>\n",
       "    </tr>\n",
       "    <tr>\n",
       "      <th>3</th>\n",
       "      <td>1968</td>\n",
       "      <td>Algeria</td>\n",
       "      <td>Gas</td>\n",
       "      <td>Combustibles Fósiles (% Energía Primaria Equiv...</td>\n",
       "      <td>98c7242894844ecd6ec94af67ac8247d</td>\n",
       "      <td>575b9408b6daa2ddcefbcf6d81c9b4c9</td>\n",
       "      <td>635459702f9817de29e608fa3395637c</td>\n",
       "      <td>50a5739c47db56022e3798a1f85637cd</td>\n",
       "    </tr>\n",
       "    <tr>\n",
       "      <th>4</th>\n",
       "      <td>1969</td>\n",
       "      <td>American Samoa</td>\n",
       "      <td>Geothermal</td>\n",
       "      <td>Renovables (% Energía Primaria Equivalente)</td>\n",
       "      <td>4d8556695c262ab91ff51a943fdd6058</td>\n",
       "      <td>b86f99753a08d00fa3ca946d07ecac29</td>\n",
       "      <td>3f3f7ddaa26a792f9707f4de5f077cf3</td>\n",
       "      <td>af1b6e0ed591be5893f58516a3f64119</td>\n",
       "    </tr>\n",
       "  </tbody>\n",
       "</table>\n",
       "</div>"
      ],
      "text/plain": [
       "    Año            País   Combustible  \\\n",
       "0  1965           World       Biomass   \n",
       "1  1966     Afghanistan          Coal   \n",
       "2  1967         Albania  Cogeneration   \n",
       "3  1968         Algeria           Gas   \n",
       "4  1969  American Samoa    Geothermal   \n",
       "\n",
       "                                          Continente  \\\n",
       "0                                               País   \n",
       "1                                             Código   \n",
       "2                                                Año   \n",
       "3  Combustibles Fósiles (% Energía Primaria Equiv...   \n",
       "4        Renovables (% Energía Primaria Equivalente)   \n",
       "\n",
       "                             Id_Año                           Id_País  \\\n",
       "0  d46e1fcf4c07ce4a69ee07e4134bcef1  f5a7924e621e84c9280a9a27e1bcb7f6   \n",
       "1  3683af9d6f6c06acee72992f2977f67e  6e9767f4f15357401b148b9a8ced14ef   \n",
       "2  a82d922b133be19c1171534e6594f754  c420ddff824a5c0eec70dd23d62496bc   \n",
       "3  98c7242894844ecd6ec94af67ac8247d  575b9408b6daa2ddcefbcf6d81c9b4c9   \n",
       "4  4d8556695c262ab91ff51a943fdd6058  b86f99753a08d00fa3ca946d07ecac29   \n",
       "\n",
       "                     Id_Combustible                     Id_Continente  \n",
       "0  57a34c10edc9db4cc4fbfc06367285f8  f0aa1982f61314b9aab258c2f110ebab  \n",
       "1  ff8cfc4e6a79e6514be2533a5f5506ad  c54e67f2ff1683617c1edadad20f99bb  \n",
       "2  be8c640ab7313b88c232af9328ebf5a8  c55baca5e562cecdd18fb070c0ff8f80  \n",
       "3  635459702f9817de29e608fa3395637c  50a5739c47db56022e3798a1f85637cd  \n",
       "4  3f3f7ddaa26a792f9707f4de5f077cf3  af1b6e0ed591be5893f58516a3f64119  "
      ]
     },
     "execution_count": 86,
     "metadata": {},
     "output_type": "execute_result"
    }
   ],
   "source": [
    "datos.head()"
   ]
  },
  {
   "cell_type": "code",
   "execution_count": 91,
   "metadata": {},
   "outputs": [],
   "source": [
    "def cargarTablas(data, nombre):\n",
    "    create_connection = f'postgresql+psycopg2://{USER_BASE}:{PASSWORD_BASE}@{HOST}:{PORT}/{DATABASE}'\n",
    "    engine = create_engine(create_connection)\n",
    "\n",
    "    data.head(0).to_sql(nombre, engine, if_exists='replace',index=False) #drops old table and creates new empty table\n",
    "\n",
    "    conn = engine.raw_connection()\n",
    "    cur = conn.cursor()\n",
    "    output = io.StringIO()\n",
    "    data.to_csv(output, sep='\\t', header=False, index=False)\n",
    "    output.seek(0)\n",
    "    contents = output.getvalue()\n",
    "    cur.copy_from(output, nombre, null='')\n",
    "    \n",
    "    return('Tabala cargadas Exitosamente')"
   ]
  },
  {
   "cell_type": "code",
   "execution_count": 100,
   "metadata": {},
   "outputs": [],
   "source": [
    "def consultas(consulta):\n",
    "    try:\n",
    "        connetion = psycopg2.connect(host=HOST, dbname=DATABASE, user=USER_BASE, password=PASSWORD_BASE)\n",
    "        micursor = connetion.cursor()\n",
    "        micursor.execute(consulta)\n",
    "        df = micursor.fetchall()\n",
    "        df = list(df)\n",
    "        df = pd.DataFrame(df)\n",
    "                    \n",
    "    except Exception as error:\n",
    "        print(error)\n",
    "    finally:\n",
    "        if micursor is not None:\n",
    "            micursor.close()\n",
    "        if connetion is not None:\n",
    "            connetion.close()\n",
    "        return df"
   ]
  },
  {
   "cell_type": "code",
   "execution_count": 92,
   "metadata": {},
   "outputs": [
    {
     "data": {
      "text/plain": [
       "'Tabala cargadas Exitosamente'"
      ]
     },
     "execution_count": 92,
     "metadata": {},
     "output_type": "execute_result"
    }
   ],
   "source": [
    "cargarTablas(datos, 'prueba')"
   ]
  },
  {
   "cell_type": "code",
   "execution_count": 107,
   "metadata": {},
   "outputs": [],
   "source": [
    "df = consultas('SELECT * FROM gases') #consulta de tablas\n"
   ]
  },
  {
   "cell_type": "code",
   "execution_count": 103,
   "metadata": {},
   "outputs": [],
   "source": [
    "dd = consultas('select table_schema,table_name,column_name,data_type from information_schema.columns order by column_name') #lista toda las tablas y campos"
   ]
  },
  {
   "cell_type": "code",
   "execution_count": 106,
   "metadata": {},
   "outputs": [
    {
     "data": {
      "text/html": [
       "<div>\n",
       "<style scoped>\n",
       "    .dataframe tbody tr th:only-of-type {\n",
       "        vertical-align: middle;\n",
       "    }\n",
       "\n",
       "    .dataframe tbody tr th {\n",
       "        vertical-align: top;\n",
       "    }\n",
       "\n",
       "    .dataframe thead th {\n",
       "        text-align: right;\n",
       "    }\n",
       "</style>\n",
       "<table border=\"1\" class=\"dataframe\">\n",
       "  <thead>\n",
       "    <tr style=\"text-align: right;\">\n",
       "      <th></th>\n",
       "      <th>0</th>\n",
       "      <th>1</th>\n",
       "      <th>2</th>\n",
       "      <th>3</th>\n",
       "    </tr>\n",
       "  </thead>\n",
       "  <tbody>\n",
       "    <tr>\n",
       "      <th>98</th>\n",
       "      <td>public</td>\n",
       "      <td>gases</td>\n",
       "      <td>Año</td>\n",
       "      <td>bigint</td>\n",
       "    </tr>\n",
       "    <tr>\n",
       "      <th>224</th>\n",
       "      <td>public</td>\n",
       "      <td>gases</td>\n",
       "      <td>Id_Año</td>\n",
       "      <td>text</td>\n",
       "    </tr>\n",
       "    <tr>\n",
       "      <th>253</th>\n",
       "      <td>public</td>\n",
       "      <td>gases</td>\n",
       "      <td>Medios Canal 4</td>\n",
       "      <td>double precision</td>\n",
       "    </tr>\n",
       "    <tr>\n",
       "      <th>254</th>\n",
       "      <td>public</td>\n",
       "      <td>gases</td>\n",
       "      <td>Medios De Co2</td>\n",
       "      <td>double precision</td>\n",
       "    </tr>\n",
       "    <tr>\n",
       "      <th>255</th>\n",
       "      <td>public</td>\n",
       "      <td>gases</td>\n",
       "      <td>Medios N20</td>\n",
       "      <td>double precision</td>\n",
       "    </tr>\n",
       "    <tr>\n",
       "      <th>256</th>\n",
       "      <td>public</td>\n",
       "      <td>gases</td>\n",
       "      <td>Medios Sf6</td>\n",
       "      <td>double precision</td>\n",
       "    </tr>\n",
       "    <tr>\n",
       "      <th>322</th>\n",
       "      <td>public</td>\n",
       "      <td>gases</td>\n",
       "      <td>Unc Ch4</td>\n",
       "      <td>double precision</td>\n",
       "    </tr>\n",
       "    <tr>\n",
       "      <th>323</th>\n",
       "      <td>public</td>\n",
       "      <td>gases</td>\n",
       "      <td>Unc Co2</td>\n",
       "      <td>double precision</td>\n",
       "    </tr>\n",
       "    <tr>\n",
       "      <th>324</th>\n",
       "      <td>public</td>\n",
       "      <td>gases</td>\n",
       "      <td>Unc N2O</td>\n",
       "      <td>double precision</td>\n",
       "    </tr>\n",
       "    <tr>\n",
       "      <th>325</th>\n",
       "      <td>public</td>\n",
       "      <td>gases</td>\n",
       "      <td>Unc Sf6</td>\n",
       "      <td>double precision</td>\n",
       "    </tr>\n",
       "  </tbody>\n",
       "</table>\n",
       "</div>"
      ],
      "text/plain": [
       "          0      1               2                 3\n",
       "98   public  gases             Año            bigint\n",
       "224  public  gases          Id_Año              text\n",
       "253  public  gases  Medios Canal 4  double precision\n",
       "254  public  gases   Medios De Co2  double precision\n",
       "255  public  gases      Medios N20  double precision\n",
       "256  public  gases      Medios Sf6  double precision\n",
       "322  public  gases         Unc Ch4  double precision\n",
       "323  public  gases         Unc Co2  double precision\n",
       "324  public  gases         Unc N2O  double precision\n",
       "325  public  gases         Unc Sf6  double precision"
      ]
     },
     "execution_count": 106,
     "metadata": {},
     "output_type": "execute_result"
    }
   ],
   "source": [
    "dd[dd[1] == 'gases']"
   ]
  },
  {
   "cell_type": "code",
   "execution_count": null,
   "metadata": {},
   "outputs": [],
   "source": []
  }
 ],
 "metadata": {
  "kernelspec": {
   "display_name": "Python 3.10.4 64-bit",
   "language": "python",
   "name": "python3"
  },
  "language_info": {
   "codemirror_mode": {
    "name": "ipython",
    "version": 3
   },
   "file_extension": ".py",
   "mimetype": "text/x-python",
   "name": "python",
   "nbconvert_exporter": "python",
   "pygments_lexer": "ipython3",
   "version": "3.10.4"
  },
  "orig_nbformat": 4,
  "vscode": {
   "interpreter": {
    "hash": "a42ccb73e7d9bfdf27e036f1d2b8b681e55fc0743cc5586bc2474d4a60f4b886"
   }
  }
 },
 "nbformat": 4,
 "nbformat_minor": 2
}
