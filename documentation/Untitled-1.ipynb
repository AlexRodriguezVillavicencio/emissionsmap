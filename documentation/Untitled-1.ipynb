{
 "cells": [
  {
   "cell_type": "code",
   "execution_count": 1,
   "metadata": {},
   "outputs": [
    {
     "data": {
      "text/html": [
       "        <script type=\"text/javascript\">\n",
       "        window.PlotlyConfig = {MathJaxConfig: 'local'};\n",
       "        if (window.MathJax && window.MathJax.Hub && window.MathJax.Hub.Config) {window.MathJax.Hub.Config({SVG: {font: \"STIX-Web\"}});}\n",
       "        if (typeof require !== 'undefined') {\n",
       "        require.undef(\"plotly\");\n",
       "        requirejs.config({\n",
       "            paths: {\n",
       "                'plotly': ['https://cdn.plot.ly/plotly-2.12.1.min']\n",
       "            }\n",
       "        });\n",
       "        require(['plotly'], function(Plotly) {\n",
       "            window._Plotly = Plotly;\n",
       "        });\n",
       "        }\n",
       "        </script>\n",
       "        "
      ]
     },
     "metadata": {},
     "output_type": "display_data"
    }
   ],
   "source": [
    "import requests\n",
    "import pandas as pd\n",
    "import matplotlib.pyplot as plt\n",
    "import plotly.offline as py\n",
    "import numpy as np\n",
    "import seaborn as sns\n",
    "import datetime as dt\n",
    "import cufflinks as cf\n",
    "from IPython.display import display, HTML\n",
    "from sodapy import Socrata\n",
    "import streamlit as st\n",
    "import mysql.connector\n",
    "from sqlalchemy import create_engine\n",
    "\n",
    "from pathlib import Path\n",
    "import csv\n",
    "import os"
   ]
  },
  {
   "cell_type": "code",
   "execution_count": null,
   "metadata": {},
   "outputs": [],
   "source": [
    "def generarId (df, colmna):\n",
    "    df = df.sort_values(by=colmna)\n",
    "    n = 0\n",
    "    nombre = \"Id\" + colmna\n",
    "    df[nombre] = n\n",
    "    for i in df[colmna].unique():\n",
    "        n += 1\n",
    "        df.loc[df[colmna] == i, nombre] = n\n",
    "    return df"
   ]
  },
  {
   "cell_type": "code",
   "execution_count": null,
   "metadata": {},
   "outputs": [],
   "source": [
    "def limpieza (df):\n",
    "    translator = Translator()\n",
    "    for i in df.columns:\n",
    "        df.rename(columns={i:translator.translate(i, dest=\"es\").text.title()}, inplace=True)\n",
    "    df.drop(columns=\"Sin Nombre: 0\", inplace=True)\n",
    "\n",
    "    otro = pd.read_csv(\"./owid-co2-data.csv\", delimiter=\",\", encoding=\"utf-8\")\n",
    "    otro = otro[[\"year\",\"country\",\"population\",\"gdp\"]]\n",
    "    df = pd.merge(df, otro, left_on=[\"Año\",\"País\"], right_on=[\"year\",\"country\"], how=\"left\")\n",
    "    df.loc[(df[\"Población\"].isna() == True) & (df[\"population\"].isna() == False), \"Población\"] = df.loc[(df[\"Población\"].isna() == True) & (df[\"population\"].isna() == False)][\"population\"]\n",
    "    df.loc[(df[\"Pib\"].isna() == True) & (df[\"gdp\"].isna() == False), \"Pib\"] = df.loc[(df[\"Pib\"].isna() == True) & (df[\"gdp\"].isna() == False)][\"gdp\"]\n",
    "    df.drop(columns=[\"country\", \"year\", \"population\",\"gdp\"], inplace=True)\n",
    "\n",
    "    df.dropna(subset=[\"Emisión De Co2\"], inplace=True)\n",
    "\n",
    "    for i in df.columns:\n",
    "        if i == \"Tipo_Energia\":\n",
    "            continue\n",
    "        elif \"Energ\" in i:\n",
    "            nom = i + \" \" + \"TWh\"\n",
    "            df[nom] = df[i] / 3.412e+12\n",
    "\n",
    "    return df"
   ]
  },
  {
   "cell_type": "code",
   "execution_count": null,
   "metadata": {},
   "outputs": [],
   "source": [
    "def prueba(path):\n",
    "    with os.scandir(path) as ficheros:\n",
    "        for i in ficheros:\n",
    "            directorio, extencion = os.path.splitext(i)\n",
    "            if extencion == \"\":\n",
    "                prueba(directorio)\n",
    "                continue\n",
    "            else:\n",
    "                if extencion == \".txt\" or extencion == \".csv\":\n",
    "                    ruta = directorio + extencion\n",
    "                    arch = os.path.basename(ruta)\n",
    "                    df = DataFrame2(ruta)\n",
    "                    baseDeDatos(df,arch[:-4])"
   ]
  }
 ],
 "metadata": {
  "kernelspec": {
   "display_name": "Python 3.10.4 64-bit",
   "language": "python",
   "name": "python3"
  },
  "language_info": {
   "codemirror_mode": {
    "name": "ipython",
    "version": 3
   },
   "file_extension": ".py",
   "mimetype": "text/x-python",
   "name": "python",
   "nbconvert_exporter": "python",
   "pygments_lexer": "ipython3",
   "version": "3.10.4"
  },
  "orig_nbformat": 4,
  "vscode": {
   "interpreter": {
    "hash": "a42ccb73e7d9bfdf27e036f1d2b8b681e55fc0743cc5586bc2474d4a60f4b886"
   }
  }
 },
 "nbformat": 4,
 "nbformat_minor": 2
}
