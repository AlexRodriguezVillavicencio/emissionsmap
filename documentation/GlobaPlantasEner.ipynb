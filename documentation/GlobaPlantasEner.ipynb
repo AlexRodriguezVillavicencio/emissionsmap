{
 "cells": [
  {
   "cell_type": "code",
   "execution_count": 138,
   "metadata": {},
   "outputs": [],
   "source": [
    "import requests\n",
    "import pandas as pd\n",
    "import matplotlib.pyplot as plt\n",
    "import plotly.offline as py\n",
    "import numpy as np\n",
    "import seaborn as sns\n",
    "import datetime as dt\n",
    "import cufflinks as cf\n",
    "from IPython.display import display, HTML\n",
    "from sodapy import Socrata\n",
    "import streamlit as st\n",
    "import mysql.connector\n",
    "import datetime\n",
    "import time\n",
    "from googletrans import Translator\n",
    "\n",
    "from sqlalchemy import create_engine\n",
    "from pathlib import Path\n",
    "import csv\n",
    "import os"
   ]
  },
  {
   "cell_type": "code",
   "execution_count": 142,
   "metadata": {},
   "outputs": [],
   "source": [
    "def calidaDato (data):\n",
    "    df = data\n",
    "    calidad = []\n",
    "    mascara = df.isna().sum()\n",
    "    for i in range(0,len(mascara)):\n",
    "        p = (df.shape[0]- mascara[i]) / df.shape[0]\n",
    "        calidad.append([mascara.index[i], round((p*100),2)])\n",
    "   \n",
    "    calidad = pd.DataFrame(calidad)\n",
    "    calidad.rename(columns={0:'Columna', 1: 'Calida %'}, inplace=True)\n",
    "    \n",
    "    return calidad"
   ]
  },
  {
   "cell_type": "code",
   "execution_count": 3,
   "metadata": {},
   "outputs": [],
   "source": [
    "def renombracol(data):\n",
    "    data = data\n",
    "    translator = Translator()\n",
    "    for i in data.columns:\n",
    "        b = i.replace('_',' ')\n",
    "        data.rename(columns={i:b}, inplace=True)\n",
    "        data.rename(columns={'owner':'owne'}, inplace=True)\n",
    "        \n",
    "    for i in data.columns:\n",
    "        data.rename(columns={i:translator.translate(i, dest=\"es\").text.title()}, inplace=True)\n",
    "        \n",
    "    return data"
   ]
  },
  {
   "cell_type": "code",
   "execution_count": 136,
   "metadata": {},
   "outputs": [],
   "source": [
    "def subircsv(nomcarpeta, nomarchivo, extencion, df):\n",
    "    df = df\n",
    "    filepath = Path(nomcarpeta + '/' + nomarchivo +'.' + extencion)  \n",
    "    filepath.parent.mkdir(parents=True, exist_ok=True)  \n",
    "    df.to_csv(filepath, index=False)  "
   ]
  },
  {
   "cell_type": "code",
   "execution_count": 80,
   "metadata": {},
   "outputs": [],
   "source": [
    "import hashlib\n",
    "def hash(df,colum):\n",
    "    nom = \"Id\" + colum\n",
    "    if df[colum].dtype == 'int64':\n",
    "        df[colum] = df[colum].astype(str)\n",
    "        df[nom] = df[colum].apply(lambda x: hashlib.md5(x.encode()).hexdigest())\n",
    "        df[colum] = df[colum].astype(int)\n",
    "    else:\n",
    "        df[nom] = df[colum].apply(lambda x: hashlib.md5(x.encode()).hexdigest())\n",
    "    return df"
   ]
  },
  {
   "cell_type": "code",
   "execution_count": 51,
   "metadata": {},
   "outputs": [],
   "source": [
    "data02 = pd.read_csv('D:\\ProyectoFinal\\dataset\\global_power_plant_database.csv', sep=',', low_memory=False, encoding='utf-8')"
   ]
  },
  {
   "cell_type": "code",
   "execution_count": 58,
   "metadata": {},
   "outputs": [],
   "source": [
    "\n",
    "hechos = pd.read_csv('D:\\emissionsmap\\documentation\\TablasNormal\\Tabla_Hecho.csv', sep=',', low_memory=False, encoding='utf-8')"
   ]
  },
  {
   "cell_type": "code",
   "execution_count": 59,
   "metadata": {},
   "outputs": [
    {
     "data": {
      "text/plain": [
       "array(['Biomass', 'Coal', 'Cogeneration', 'Gas', 'Geothermal', 'Hydro',\n",
       "       'Nuclear', 'Oil', 'Other', 'Petcoke', 'Solar', 'Storage', 'Waste',\n",
       "       'Wave and Tidal', 'Wind', 'all_energy_types', 'natural_gas',\n",
       "       'petroleum_n_other_liquids', 'renewables_n_other', nan],\n",
       "      dtype=object)"
      ]
     },
     "execution_count": 59,
     "metadata": {},
     "output_type": "execute_result"
    }
   ],
   "source": [
    "hechos.Combustible.unique()"
   ]
  },
  {
   "cell_type": "code",
   "execution_count": 62,
   "metadata": {},
   "outputs": [
    {
     "data": {
      "text/html": [
       "<div>\n",
       "<style scoped>\n",
       "    .dataframe tbody tr th:only-of-type {\n",
       "        vertical-align: middle;\n",
       "    }\n",
       "\n",
       "    .dataframe tbody tr th {\n",
       "        vertical-align: top;\n",
       "    }\n",
       "\n",
       "    .dataframe thead th {\n",
       "        text-align: right;\n",
       "    }\n",
       "</style>\n",
       "<table border=\"1\" class=\"dataframe\">\n",
       "  <thead>\n",
       "    <tr style=\"text-align: right;\">\n",
       "      <th></th>\n",
       "      <th>Año</th>\n",
       "      <th>País</th>\n",
       "      <th>Combustible</th>\n",
       "      <th>Id_Año</th>\n",
       "      <th>Id_País</th>\n",
       "      <th>Id_Combustible</th>\n",
       "    </tr>\n",
       "  </thead>\n",
       "  <tbody>\n",
       "    <tr>\n",
       "      <th>0</th>\n",
       "      <td>1959.0</td>\n",
       "      <td>World</td>\n",
       "      <td>Biomass</td>\n",
       "      <td>e4dd5528f7596dcdf871aa55cfccc53c</td>\n",
       "      <td>f5a7924e621e84c9280a9a27e1bcb7f6</td>\n",
       "      <td>57a34c10edc9db4cc4fbfc06367285f8</td>\n",
       "    </tr>\n",
       "    <tr>\n",
       "      <th>1</th>\n",
       "      <td>1960.0</td>\n",
       "      <td>Afghanistan</td>\n",
       "      <td>Coal</td>\n",
       "      <td>7f16109f1619fd7a733daf5a84c708c1</td>\n",
       "      <td>6e9767f4f15357401b148b9a8ced14ef</td>\n",
       "      <td>ff8cfc4e6a79e6514be2533a5f5506ad</td>\n",
       "    </tr>\n",
       "    <tr>\n",
       "      <th>2</th>\n",
       "      <td>1961.0</td>\n",
       "      <td>Albania</td>\n",
       "      <td>Cogeneration</td>\n",
       "      <td>f106b7f99d2cb30c3db1c3cc0fde9ccb</td>\n",
       "      <td>c420ddff824a5c0eec70dd23d62496bc</td>\n",
       "      <td>be8c640ab7313b88c232af9328ebf5a8</td>\n",
       "    </tr>\n",
       "    <tr>\n",
       "      <th>3</th>\n",
       "      <td>1962.0</td>\n",
       "      <td>Algeria</td>\n",
       "      <td>Gas</td>\n",
       "      <td>95f6870ff3dcd442254e334a9033d349</td>\n",
       "      <td>575b9408b6daa2ddcefbcf6d81c9b4c9</td>\n",
       "      <td>635459702f9817de29e608fa3395637c</td>\n",
       "    </tr>\n",
       "    <tr>\n",
       "      <th>4</th>\n",
       "      <td>1963.0</td>\n",
       "      <td>American Samoa</td>\n",
       "      <td>Geothermal</td>\n",
       "      <td>c215b446bcdf956d848a8419c1b5a920</td>\n",
       "      <td>b86f99753a08d00fa3ca946d07ecac29</td>\n",
       "      <td>3f3f7ddaa26a792f9707f4de5f077cf3</td>\n",
       "    </tr>\n",
       "    <tr>\n",
       "      <th>...</th>\n",
       "      <td>...</td>\n",
       "      <td>...</td>\n",
       "      <td>...</td>\n",
       "      <td>...</td>\n",
       "      <td>...</td>\n",
       "      <td>...</td>\n",
       "    </tr>\n",
       "    <tr>\n",
       "      <th>226</th>\n",
       "      <td>NaN</td>\n",
       "      <td>Wake Island</td>\n",
       "      <td>NaN</td>\n",
       "      <td>7ecfb3bf076a6a9635f975fe96ac97fd</td>\n",
       "      <td>89a94c76c0eef267f267d9a96d3419d0</td>\n",
       "      <td>7ecfb3bf076a6a9635f975fe96ac97fd</td>\n",
       "    </tr>\n",
       "    <tr>\n",
       "      <th>227</th>\n",
       "      <td>NaN</td>\n",
       "      <td>Western Sahara</td>\n",
       "      <td>NaN</td>\n",
       "      <td>7ecfb3bf076a6a9635f975fe96ac97fd</td>\n",
       "      <td>1bdb61bdbf5bc9a2cdc5db037ab610e0</td>\n",
       "      <td>7ecfb3bf076a6a9635f975fe96ac97fd</td>\n",
       "    </tr>\n",
       "    <tr>\n",
       "      <th>228</th>\n",
       "      <td>NaN</td>\n",
       "      <td>Yemen</td>\n",
       "      <td>NaN</td>\n",
       "      <td>7ecfb3bf076a6a9635f975fe96ac97fd</td>\n",
       "      <td>724bf4ca11a567636547a92a37e397b7</td>\n",
       "      <td>7ecfb3bf076a6a9635f975fe96ac97fd</td>\n",
       "    </tr>\n",
       "    <tr>\n",
       "      <th>229</th>\n",
       "      <td>NaN</td>\n",
       "      <td>Zambia</td>\n",
       "      <td>NaN</td>\n",
       "      <td>7ecfb3bf076a6a9635f975fe96ac97fd</td>\n",
       "      <td>b0aa0804e676a38255af4fd70236af7c</td>\n",
       "      <td>7ecfb3bf076a6a9635f975fe96ac97fd</td>\n",
       "    </tr>\n",
       "    <tr>\n",
       "      <th>230</th>\n",
       "      <td>NaN</td>\n",
       "      <td>Zimbabwe</td>\n",
       "      <td>NaN</td>\n",
       "      <td>7ecfb3bf076a6a9635f975fe96ac97fd</td>\n",
       "      <td>9d5116a2451bc98c2b46b93acbc1b4f0</td>\n",
       "      <td>7ecfb3bf076a6a9635f975fe96ac97fd</td>\n",
       "    </tr>\n",
       "  </tbody>\n",
       "</table>\n",
       "<p>231 rows × 6 columns</p>\n",
       "</div>"
      ],
      "text/plain": [
       "        Año            País   Combustible                            Id_Año  \\\n",
       "0    1959.0           World       Biomass  e4dd5528f7596dcdf871aa55cfccc53c   \n",
       "1    1960.0     Afghanistan          Coal  7f16109f1619fd7a733daf5a84c708c1   \n",
       "2    1961.0         Albania  Cogeneration  f106b7f99d2cb30c3db1c3cc0fde9ccb   \n",
       "3    1962.0         Algeria           Gas  95f6870ff3dcd442254e334a9033d349   \n",
       "4    1963.0  American Samoa    Geothermal  c215b446bcdf956d848a8419c1b5a920   \n",
       "..      ...             ...           ...                               ...   \n",
       "226     NaN     Wake Island           NaN  7ecfb3bf076a6a9635f975fe96ac97fd   \n",
       "227     NaN  Western Sahara           NaN  7ecfb3bf076a6a9635f975fe96ac97fd   \n",
       "228     NaN           Yemen           NaN  7ecfb3bf076a6a9635f975fe96ac97fd   \n",
       "229     NaN          Zambia           NaN  7ecfb3bf076a6a9635f975fe96ac97fd   \n",
       "230     NaN        Zimbabwe           NaN  7ecfb3bf076a6a9635f975fe96ac97fd   \n",
       "\n",
       "                              Id_País                    Id_Combustible  \n",
       "0    f5a7924e621e84c9280a9a27e1bcb7f6  57a34c10edc9db4cc4fbfc06367285f8  \n",
       "1    6e9767f4f15357401b148b9a8ced14ef  ff8cfc4e6a79e6514be2533a5f5506ad  \n",
       "2    c420ddff824a5c0eec70dd23d62496bc  be8c640ab7313b88c232af9328ebf5a8  \n",
       "3    575b9408b6daa2ddcefbcf6d81c9b4c9  635459702f9817de29e608fa3395637c  \n",
       "4    b86f99753a08d00fa3ca946d07ecac29  3f3f7ddaa26a792f9707f4de5f077cf3  \n",
       "..                                ...                               ...  \n",
       "226  89a94c76c0eef267f267d9a96d3419d0  7ecfb3bf076a6a9635f975fe96ac97fd  \n",
       "227  1bdb61bdbf5bc9a2cdc5db037ab610e0  7ecfb3bf076a6a9635f975fe96ac97fd  \n",
       "228  724bf4ca11a567636547a92a37e397b7  7ecfb3bf076a6a9635f975fe96ac97fd  \n",
       "229  b0aa0804e676a38255af4fd70236af7c  7ecfb3bf076a6a9635f975fe96ac97fd  \n",
       "230  9d5116a2451bc98c2b46b93acbc1b4f0  7ecfb3bf076a6a9635f975fe96ac97fd  \n",
       "\n",
       "[231 rows x 6 columns]"
      ]
     },
     "execution_count": 62,
     "metadata": {},
     "output_type": "execute_result"
    }
   ],
   "source": [
    "hechos\n"
   ]
  },
  {
   "cell_type": "code",
   "execution_count": 143,
   "metadata": {},
   "outputs": [],
   "source": [
    "calidad = calidaDato(data02)\n"
   ]
  },
  {
   "cell_type": "code",
   "execution_count": 7,
   "metadata": {},
   "outputs": [],
   "source": [
    "data = renombracol(data02)"
   ]
  },
  {
   "cell_type": "code",
   "execution_count": 101,
   "metadata": {},
   "outputs": [],
   "source": [
    "tabla_global_planta_energia = data.copy()"
   ]
  },
  {
   "cell_type": "code",
   "execution_count": 102,
   "metadata": {},
   "outputs": [],
   "source": [
    "tabla_global_planta_energia = data[['País', 'País Largo', 'Combustible Principal']]\n",
    "tabla_global_planta_energia = tabla_global_planta_energia.drop_duplicates()\n"
   ]
  },
  {
   "cell_type": "code",
   "execution_count": 103,
   "metadata": {},
   "outputs": [],
   "source": [
    "tabla_global_planta_energia['cant'] = 1 #unidad por dato"
   ]
  },
  {
   "cell_type": "code",
   "execution_count": 104,
   "metadata": {},
   "outputs": [
    {
     "data": {
      "text/plain": [
       "array(['Biomass', 'Coal', 'Cogeneration', 'Gas', 'Geothermal', 'Hydro',\n",
       "       'Nuclear', 'Oil', 'Other', 'Petcoke', 'Solar', 'Storage', 'Waste',\n",
       "       'Wave and Tidal', 'Wind', 'all_energy_types', 'natural_gas',\n",
       "       'petroleum_n_other_liquids', 'renewables_n_other', nan],\n",
       "      dtype=object)"
      ]
     },
     "execution_count": 104,
     "metadata": {},
     "output_type": "execute_result"
    }
   ],
   "source": [
    "hechos['Combustible'].unique()"
   ]
  },
  {
   "cell_type": "code",
   "execution_count": 105,
   "metadata": {},
   "outputs": [],
   "source": [
    "tabla_global_planta_energia.rename(columns={'Combustible Principal':'Combustible'}, inplace=True)"
   ]
  },
  {
   "cell_type": "code",
   "execution_count": 106,
   "metadata": {},
   "outputs": [
    {
     "data": {
      "text/plain": [
       "array(['Hydro', 'Solar', 'Gas', 'Other', 'Oil', 'Wind', 'Nuclear', 'Coal',\n",
       "       'Waste', 'Biomass', 'Wave and Tidal', 'Petcoke', 'Geothermal',\n",
       "       'Storage', 'Cogeneration'], dtype=object)"
      ]
     },
     "execution_count": 106,
     "metadata": {},
     "output_type": "execute_result"
    }
   ],
   "source": [
    "tabla_global_planta_energia['Combustible'].unique()"
   ]
  },
  {
   "cell_type": "code",
   "execution_count": 107,
   "metadata": {},
   "outputs": [
    {
     "data": {
      "text/html": [
       "<div>\n",
       "<style scoped>\n",
       "    .dataframe tbody tr th:only-of-type {\n",
       "        vertical-align: middle;\n",
       "    }\n",
       "\n",
       "    .dataframe tbody tr th {\n",
       "        vertical-align: top;\n",
       "    }\n",
       "\n",
       "    .dataframe thead th {\n",
       "        text-align: right;\n",
       "    }\n",
       "</style>\n",
       "<table border=\"1\" class=\"dataframe\">\n",
       "  <thead>\n",
       "    <tr style=\"text-align: right;\">\n",
       "      <th></th>\n",
       "      <th>País</th>\n",
       "      <th>País Largo</th>\n",
       "      <th>Combustible</th>\n",
       "      <th>cant</th>\n",
       "    </tr>\n",
       "  </thead>\n",
       "  <tbody>\n",
       "    <tr>\n",
       "      <th>0</th>\n",
       "      <td>AFG</td>\n",
       "      <td>Afghanistan</td>\n",
       "      <td>Hydro</td>\n",
       "      <td>1</td>\n",
       "    </tr>\n",
       "    <tr>\n",
       "      <th>1</th>\n",
       "      <td>AFG</td>\n",
       "      <td>Afghanistan</td>\n",
       "      <td>Solar</td>\n",
       "      <td>1</td>\n",
       "    </tr>\n",
       "    <tr>\n",
       "      <th>6</th>\n",
       "      <td>AFG</td>\n",
       "      <td>Afghanistan</td>\n",
       "      <td>Gas</td>\n",
       "      <td>1</td>\n",
       "    </tr>\n",
       "    <tr>\n",
       "      <th>9</th>\n",
       "      <td>ALB</td>\n",
       "      <td>Albania</td>\n",
       "      <td>Hydro</td>\n",
       "      <td>1</td>\n",
       "    </tr>\n",
       "    <tr>\n",
       "      <th>16</th>\n",
       "      <td>ALB</td>\n",
       "      <td>Albania</td>\n",
       "      <td>Other</td>\n",
       "      <td>1</td>\n",
       "    </tr>\n",
       "    <tr>\n",
       "      <th>...</th>\n",
       "      <td>...</td>\n",
       "      <td>...</td>\n",
       "      <td>...</td>\n",
       "      <td>...</td>\n",
       "    </tr>\n",
       "    <tr>\n",
       "      <th>34921</th>\n",
       "      <td>ZMB</td>\n",
       "      <td>Zambia</td>\n",
       "      <td>Solar</td>\n",
       "      <td>1</td>\n",
       "    </tr>\n",
       "    <tr>\n",
       "      <th>34928</th>\n",
       "      <td>ZMB</td>\n",
       "      <td>Zambia</td>\n",
       "      <td>Coal</td>\n",
       "      <td>1</td>\n",
       "    </tr>\n",
       "    <tr>\n",
       "      <th>34930</th>\n",
       "      <td>ZMB</td>\n",
       "      <td>Zambia</td>\n",
       "      <td>Biomass</td>\n",
       "      <td>1</td>\n",
       "    </tr>\n",
       "    <tr>\n",
       "      <th>34934</th>\n",
       "      <td>ZWE</td>\n",
       "      <td>Zimbabwe</td>\n",
       "      <td>Coal</td>\n",
       "      <td>1</td>\n",
       "    </tr>\n",
       "    <tr>\n",
       "      <th>34935</th>\n",
       "      <td>ZWE</td>\n",
       "      <td>Zimbabwe</td>\n",
       "      <td>Hydro</td>\n",
       "      <td>1</td>\n",
       "    </tr>\n",
       "  </tbody>\n",
       "</table>\n",
       "<p>698 rows × 4 columns</p>\n",
       "</div>"
      ],
      "text/plain": [
       "      País   País Largo Combustible  cant\n",
       "0      AFG  Afghanistan       Hydro     1\n",
       "1      AFG  Afghanistan       Solar     1\n",
       "6      AFG  Afghanistan         Gas     1\n",
       "9      ALB      Albania       Hydro     1\n",
       "16     ALB      Albania       Other     1\n",
       "...    ...          ...         ...   ...\n",
       "34921  ZMB       Zambia       Solar     1\n",
       "34928  ZMB       Zambia        Coal     1\n",
       "34930  ZMB       Zambia     Biomass     1\n",
       "34934  ZWE     Zimbabwe        Coal     1\n",
       "34935  ZWE     Zimbabwe       Hydro     1\n",
       "\n",
       "[698 rows x 4 columns]"
      ]
     },
     "execution_count": 107,
     "metadata": {},
     "output_type": "execute_result"
    }
   ],
   "source": [
    "tabla_global_planta_energia"
   ]
  },
  {
   "cell_type": "code",
   "execution_count": 108,
   "metadata": {},
   "outputs": [],
   "source": [
    "df = tabla_global_planta_energia.copy()"
   ]
  },
  {
   "cell_type": "code",
   "execution_count": 109,
   "metadata": {},
   "outputs": [],
   "source": [
    "df = hash(df, 'País')"
   ]
  },
  {
   "cell_type": "code",
   "execution_count": 111,
   "metadata": {},
   "outputs": [],
   "source": [
    "df.set_index('IdPaís', inplace=True)\n",
    "df = df.reset_index()"
   ]
  },
  {
   "cell_type": "code",
   "execution_count": 113,
   "metadata": {},
   "outputs": [
    {
     "data": {
      "text/html": [
       "<div>\n",
       "<style scoped>\n",
       "    .dataframe tbody tr th:only-of-type {\n",
       "        vertical-align: middle;\n",
       "    }\n",
       "\n",
       "    .dataframe tbody tr th {\n",
       "        vertical-align: top;\n",
       "    }\n",
       "\n",
       "    .dataframe thead th {\n",
       "        text-align: right;\n",
       "    }\n",
       "</style>\n",
       "<table border=\"1\" class=\"dataframe\">\n",
       "  <thead>\n",
       "    <tr style=\"text-align: right;\">\n",
       "      <th></th>\n",
       "      <th>IdPaís</th>\n",
       "      <th>País</th>\n",
       "      <th>País Largo</th>\n",
       "      <th>Combustible</th>\n",
       "      <th>cant</th>\n",
       "    </tr>\n",
       "  </thead>\n",
       "  <tbody>\n",
       "    <tr>\n",
       "      <th>0</th>\n",
       "      <td>c902514ac30b6e23dbb0c3dc80ec7d4a</td>\n",
       "      <td>AFG</td>\n",
       "      <td>Afghanistan</td>\n",
       "      <td>Hydro</td>\n",
       "      <td>1</td>\n",
       "    </tr>\n",
       "    <tr>\n",
       "      <th>1</th>\n",
       "      <td>c902514ac30b6e23dbb0c3dc80ec7d4a</td>\n",
       "      <td>AFG</td>\n",
       "      <td>Afghanistan</td>\n",
       "      <td>Solar</td>\n",
       "      <td>1</td>\n",
       "    </tr>\n",
       "  </tbody>\n",
       "</table>\n",
       "</div>"
      ],
      "text/plain": [
       "                             IdPaís País   País Largo Combustible  cant\n",
       "0  c902514ac30b6e23dbb0c3dc80ec7d4a  AFG  Afghanistan       Hydro     1\n",
       "1  c902514ac30b6e23dbb0c3dc80ec7d4a  AFG  Afghanistan       Solar     1"
      ]
     },
     "execution_count": 113,
     "metadata": {},
     "output_type": "execute_result"
    }
   ],
   "source": [
    "df.head(2)"
   ]
  },
  {
   "cell_type": "code",
   "execution_count": 122,
   "metadata": {},
   "outputs": [],
   "source": [
    "#participacion porcentual de eneregia a nivel mundial\n",
    "df = df.assign(Percentage = lambda x: (x['cant'] /df['cant'].sum() * 100))"
   ]
  },
  {
   "cell_type": "code",
   "execution_count": 137,
   "metadata": {},
   "outputs": [],
   "source": [
    "subircsv('TablasNormal', 'Partic_Global_Energia', 'csv', df)"
   ]
  },
  {
   "cell_type": "code",
   "execution_count": 124,
   "metadata": {},
   "outputs": [],
   "source": [
    "df01 = df.groupby('Combustible')['Percentage'].sum() # cantidad por energia primaria \n",
    "df01 = df01.reset_index()"
   ]
  },
  {
   "cell_type": "code",
   "execution_count": 127,
   "metadata": {},
   "outputs": [
    {
     "data": {
      "image/png": "[encoded data removed]",
      "text/plain": [
       "<Figure size 1152x648 with 1 Axes>"
      ]
     },
     "metadata": {
      "needs_background": "light"
     },
     "output_type": "display_data"
    }
   ],
   "source": [
    "plt.figure(figsize=(16,9))\n",
    "sns.barplot(data=df01, x=\"Combustible\", y=\"Percentage\", palette='pastel')\n",
    "plt.title('Participacion por tipos de energia mundial')\n",
    "plt.xlabel('Tipo de energia')\n",
    "plt.ylabel('Participacion de energia (%)')\n",
    "plt.show()"
   ]
  }
 ],
 "metadata": {
  "kernelspec": {
   "display_name": "Python 3.10.4 64-bit",
   "language": "python",
   "name": "python3"
  },
  "language_info": {
   "codemirror_mode": {
    "name": "ipython",
    "version": 3
   },
   "file_extension": ".py",
   "mimetype": "text/x-python",
   "name": "python",
   "nbconvert_exporter": "python",
   "pygments_lexer": "ipython3",
   "version": "3.10.4"
  },
  "orig_nbformat": 4,
  "vscode": {
   "interpreter": {
    "hash": "a42ccb73e7d9bfdf27e036f1d2b8b681e55fc0743cc5586bc2474d4a60f4b886"
   }
  }
 },
 "nbformat": 4,
 "nbformat_minor": 2
}
