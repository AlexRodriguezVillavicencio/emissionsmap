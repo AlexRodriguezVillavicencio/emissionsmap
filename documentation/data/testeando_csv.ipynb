{
 "cells": [
  {
   "cell_type": "code",
   "execution_count": 2,
   "metadata": {},
   "outputs": [],
   "source": [
    "import numpy as np\n",
    "import pandas as pd\n",
    "import seaborn as sns\n",
    "import matplotlib.pyplot as plt"
   ]
  },
  {
   "cell_type": "code",
   "execution_count": 3,
   "metadata": {},
   "outputs": [],
   "source": [
    "# Importamos el archivo csv\n",
    "energy = pd.read_csv('energyco2.csv')"
   ]
  },
  {
   "cell_type": "code",
   "execution_count": null,
   "metadata": {},
   "outputs": [
    {
     "name": "stdout",
     "output_type": "stream",
     "text": [
      "   Unnamed: 0 Country                Energy_type  Year  Energy_consumption  \\\n",
      "0           0   World           all_energy_types  1980          292.899790   \n",
      "1           1   World                       coal  1980           78.656134   \n",
      "2           2   World                natural_gas  1980           53.865223   \n",
      "3           3   World  petroleum_n_other_liquids  1980          132.064019   \n",
      "4           4   World                    nuclear  1980            7.575700   \n",
      "\n",
      "   Energy_production           GDP    Population  Energy_intensity_per_capita  \\\n",
      "0         296.337228  27770.910281  4.298127e+06                    68.145921   \n",
      "1          80.114194  27770.910281  4.298127e+06                    68.145921   \n",
      "2          54.761046  27770.910281  4.298127e+06                    68.145921   \n",
      "3         133.111109  27770.910281  4.298127e+06                    68.145921   \n",
      "4           7.575700  27770.910281  4.298127e+06                    68.145921   \n",
      "\n",
      "   Energy_intensity_by_GDP  CO2_emission  \n",
      "0                   10.547   4946.627130  \n",
      "1                   10.547   1409.790188  \n",
      "2                   10.547   1081.593377  \n",
      "3                   10.547   2455.243565  \n",
      "4                   10.547      0.000000  \n"
     ]
    }
   ],
   "source": [
    "print(energy.head())"
   ]
  },
  {
   "cell_type": "code",
   "execution_count": null,
   "metadata": {},
   "outputs": [
    {
     "name": "stdout",
     "output_type": "stream",
     "text": [
      "       Unnamed: 0   Country                Energy_type  Year  \\\n",
      "55435       55435  Zimbabwe                       coal  2019   \n",
      "55436       55436  Zimbabwe                natural_gas  2019   \n",
      "55437       55437  Zimbabwe  petroleum_n_other_liquids  2019   \n",
      "55438       55438  Zimbabwe                    nuclear  2019   \n",
      "55439       55439  Zimbabwe         renewables_n_other  2019   \n",
      "\n",
      "       Energy_consumption  Energy_production      GDP  Population  \\\n",
      "55435            0.045064           0.075963  37.6204     14654.2   \n",
      "55436            0.000000           0.000000  37.6204     14654.2   \n",
      "55437            0.055498           0.000000  37.6204     14654.2   \n",
      "55438                 NaN                NaN  37.6204     14654.2   \n",
      "55439            0.068089           0.067499  37.6204     14654.2   \n",
      "\n",
      "       Energy_intensity_per_capita  Energy_intensity_by_GDP  CO2_emission  \n",
      "55435                    11.508701                 4.482962      4.586869  \n",
      "55436                    11.508701                 4.482962      0.000000  \n",
      "55437                    11.508701                 4.482962      4.377890  \n",
      "55438                    11.508701                 4.482962      0.000000  \n",
      "55439                    11.508701                 4.482962      0.000000  \n"
     ]
    }
   ],
   "source": [
    "print(energy.tail())"
   ]
  },
  {
   "cell_type": "code",
   "execution_count": null,
   "metadata": {},
   "outputs": [
    {
     "name": "stdout",
     "output_type": "stream",
     "text": [
      "<class 'pandas.core.frame.DataFrame'>\n",
      "RangeIndex: 55440 entries, 0 to 55439\n",
      "Data columns (total 11 columns):\n",
      " #   Column                       Non-Null Count  Dtype  \n",
      "---  ------                       --------------  -----  \n",
      " 0   Unnamed: 0                   55440 non-null  int64  \n",
      " 1   Country                      55440 non-null  object \n",
      " 2   Energy_type                  55440 non-null  object \n",
      " 3   Year                         55440 non-null  int64  \n",
      " 4   Energy_consumption           44287 non-null  float64\n",
      " 5   Energy_production            44289 non-null  float64\n",
      " 6   GDP                          40026 non-null  float64\n",
      " 7   Population                   46014 non-null  float64\n",
      " 8   Energy_intensity_per_capita  50358 non-null  float64\n",
      " 9   Energy_intensity_by_GDP      50358 non-null  float64\n",
      " 10  CO2_emission                 51614 non-null  float64\n",
      "dtypes: float64(7), int64(2), object(2)\n",
      "memory usage: 4.7+ MB\n",
      "None\n"
     ]
    }
   ],
   "source": [
    "print(energy.info())"
   ]
  },
  {
   "cell_type": "code",
   "execution_count": null,
   "metadata": {},
   "outputs": [
    {
     "name": "stdout",
     "output_type": "stream",
     "text": [
      "       Unnamed: 0 Country                Energy_type  Year  \\\n",
      "54054       54054   World           all_energy_types  2019   \n",
      "54055       54055   World                       coal  2019   \n",
      "54056       54056   World                natural_gas  2019   \n",
      "54057       54057   World  petroleum_n_other_liquids  2019   \n",
      "54058       54058   World                    nuclear  2019   \n",
      "\n",
      "       Energy_consumption  Energy_production            GDP    Population  \\\n",
      "54054          601.040490         611.508969  127690.247059  7.714631e+06   \n",
      "54055          163.971776         171.840424  127690.247059  7.714631e+06   \n",
      "54056          146.923396         149.401588  127690.247059  7.714631e+06   \n",
      "54057          196.077358         192.134558  127690.247059  7.714631e+06   \n",
      "54058           27.659891          27.659891  127690.247059  7.714631e+06   \n",
      "\n",
      "       Energy_intensity_per_capita  Energy_intensity_by_GDP  CO2_emission  \n",
      "54054                    77.909168                  4.70702  35584.933498  \n",
      "54055                    77.909168                  4.70702  15773.074341  \n",
      "54056                    77.909168                  4.70702   7607.936618  \n",
      "54057                    77.909168                  4.70702  12203.922539  \n",
      "54058                    77.909168                  4.70702      0.000000  \n"
     ]
    }
   ],
   "source": [
    "#seleccionar datos de 2019\n",
    "energy_2019 = energy[energy['Year'] == 2019]\n",
    "print(energy_2019.head())"
   ]
  },
  {
   "cell_type": "code",
   "execution_count": null,
   "metadata": {},
   "outputs": [
    {
     "name": "stdout",
     "output_type": "stream",
     "text": [
      "        Entity Code  Year  Electricity from coal (TWh)  \\\n",
      "0  Afghanistan  AFG  2000                          0.0   \n",
      "1  Afghanistan  AFG  2001                          0.0   \n",
      "2  Afghanistan  AFG  2002                          0.0   \n",
      "3  Afghanistan  AFG  2003                          0.0   \n",
      "4  Afghanistan  AFG  2004                          0.0   \n",
      "\n",
      "   Electricity from gas (TWh)  Electricity from hydro (TWh)  \\\n",
      "0                         0.0                          0.31   \n",
      "1                         0.0                          0.50   \n",
      "2                         0.0                          0.56   \n",
      "3                         0.0                          0.63   \n",
      "4                         0.0                          0.56   \n",
      "\n",
      "   Other renewables including bioenergy (TWh)  Electricity from solar (TWh)  \\\n",
      "0                                         0.0                           0.0   \n",
      "1                                         0.0                           0.0   \n",
      "2                                         0.0                           0.0   \n",
      "3                                         0.0                           0.0   \n",
      "4                                         0.0                           0.0   \n",
      "\n",
      "   Electricity from oil (TWh)  Electricity from wind (TWh)  \\\n",
      "0                        0.16                          0.0   \n",
      "1                        0.09                          0.0   \n",
      "2                        0.13                          0.0   \n",
      "3                        0.31                          0.0   \n",
      "4                        0.33                          0.0   \n",
      "\n",
      "   Electricity from nuclear (TWh)  \n",
      "0                             0.0  \n",
      "1                             0.0  \n",
      "2                             0.0  \n",
      "3                             0.0  \n",
      "4                             0.0  \n",
      "        Entity Code  Year  Electricity from coal (TWh)  \\\n",
      "9170  Zimbabwe  ZWE  2016                         3.46   \n",
      "9171  Zimbabwe  ZWE  2017                         3.02   \n",
      "9172  Zimbabwe  ZWE  2018                         3.69   \n",
      "9173  Zimbabwe  ZWE  2019                         3.62   \n",
      "9174  Zimbabwe  ZWE  2020                         3.44   \n",
      "\n",
      "      Electricity from gas (TWh)  Electricity from hydro (TWh)  \\\n",
      "9170                         0.0                          2.95   \n",
      "9171                         0.0                          3.93   \n",
      "9172                         0.0                          5.00   \n",
      "9173                         0.0                          7.26   \n",
      "9174                         0.0                          7.26   \n",
      "\n",
      "      Other renewables including bioenergy (TWh)  \\\n",
      "9170                                        0.36   \n",
      "9171                                        0.32   \n",
      "9172                                        0.39   \n",
      "9173                                        0.38   \n",
      "9174                                        0.36   \n",
      "\n",
      "      Electricity from solar (TWh)  Electricity from oil (TWh)  \\\n",
      "9170                          0.01                        0.04   \n",
      "9171                          0.01                        0.03   \n",
      "9172                          0.01                        0.04   \n",
      "9173                          0.01                        0.04   \n",
      "9174                          0.01                        0.04   \n",
      "\n",
      "      Electricity from wind (TWh)  Electricity from nuclear (TWh)  \n",
      "9170                          0.0                             0.0  \n",
      "9171                          0.0                             0.0  \n",
      "9172                          0.0                             0.0  \n",
      "9173                          0.0                             0.0  \n",
      "9174                          0.0                             0.0  \n",
      "<class 'pandas.core.frame.DataFrame'>\n",
      "RangeIndex: 9175 entries, 0 to 9174\n",
      "Data columns (total 11 columns):\n",
      " #   Column                                      Non-Null Count  Dtype  \n",
      "---  ------                                      --------------  -----  \n",
      " 0   Entity                                      9175 non-null   object \n",
      " 1   Code                                        7182 non-null   object \n",
      " 2   Year                                        9175 non-null   int64  \n",
      " 3   Electricity from coal (TWh)                 6437 non-null   float64\n",
      " 4   Electricity from gas (TWh)                  6438 non-null   float64\n",
      " 5   Electricity from hydro (TWh)                9170 non-null   float64\n",
      " 6   Other renewables including bioenergy (TWh)  8899 non-null   float64\n",
      " 7   Electricity from solar (TWh)                8939 non-null   float64\n",
      " 8   Electricity from oil (TWh)                  6438 non-null   float64\n",
      " 9   Electricity from wind (TWh)                 8953 non-null   float64\n",
      " 10  Electricity from nuclear (TWh)              8808 non-null   float64\n",
      "dtypes: float64(8), int64(1), object(2)\n",
      "memory usage: 788.6+ KB\n",
      "None\n"
     ]
    }
   ],
   "source": [
    "#abrir csv electricity-prod-source-stacked.csv\n",
    "electricity_source = pd.read_csv('electricity-prod-source-stacked.csv')\n",
    "print(electricity_source.head())"
   ]
  },
  {
   "cell_type": "code",
   "execution_count": null,
   "metadata": {},
   "outputs": [
    {
     "name": "stdout",
     "output_type": "stream",
     "text": [
      "        Entity Code  Year  Electricity from coal (TWh)  \\\n",
      "9170  Zimbabwe  ZWE  2016                         3.46   \n",
      "9171  Zimbabwe  ZWE  2017                         3.02   \n",
      "9172  Zimbabwe  ZWE  2018                         3.69   \n",
      "9173  Zimbabwe  ZWE  2019                         3.62   \n",
      "9174  Zimbabwe  ZWE  2020                         3.44   \n",
      "\n",
      "      Electricity from gas (TWh)  Electricity from hydro (TWh)  \\\n",
      "9170                         0.0                          2.95   \n",
      "9171                         0.0                          3.93   \n",
      "9172                         0.0                          5.00   \n",
      "9173                         0.0                          7.26   \n",
      "9174                         0.0                          7.26   \n",
      "\n",
      "      Other renewables including bioenergy (TWh)  \\\n",
      "9170                                        0.36   \n",
      "9171                                        0.32   \n",
      "9172                                        0.39   \n",
      "9173                                        0.38   \n",
      "9174                                        0.36   \n",
      "\n",
      "      Electricity from solar (TWh)  Electricity from oil (TWh)  \\\n",
      "9170                          0.01                        0.04   \n",
      "9171                          0.01                        0.03   \n",
      "9172                          0.01                        0.04   \n",
      "9173                          0.01                        0.04   \n",
      "9174                          0.01                        0.04   \n",
      "\n",
      "      Electricity from wind (TWh)  Electricity from nuclear (TWh)  \n",
      "9170                          0.0                             0.0  \n",
      "9171                          0.0                             0.0  \n",
      "9172                          0.0                             0.0  \n",
      "9173                          0.0                             0.0  \n",
      "9174                          0.0                             0.0  \n"
     ]
    }
   ],
   "source": [
    "print(electricity_source.tail())"
   ]
  },
  {
   "cell_type": "code",
   "execution_count": null,
   "metadata": {},
   "outputs": [
    {
     "name": "stdout",
     "output_type": "stream",
     "text": [
      "<class 'pandas.core.frame.DataFrame'>\n",
      "RangeIndex: 9175 entries, 0 to 9174\n",
      "Data columns (total 11 columns):\n",
      " #   Column                                      Non-Null Count  Dtype  \n",
      "---  ------                                      --------------  -----  \n",
      " 0   Entity                                      9175 non-null   object \n",
      " 1   Code                                        7182 non-null   object \n",
      " 2   Year                                        9175 non-null   int64  \n",
      " 3   Electricity from coal (TWh)                 6437 non-null   float64\n",
      " 4   Electricity from gas (TWh)                  6438 non-null   float64\n",
      " 5   Electricity from hydro (TWh)                9170 non-null   float64\n",
      " 6   Other renewables including bioenergy (TWh)  8899 non-null   float64\n",
      " 7   Electricity from solar (TWh)                8939 non-null   float64\n",
      " 8   Electricity from oil (TWh)                  6438 non-null   float64\n",
      " 9   Electricity from wind (TWh)                 8953 non-null   float64\n",
      " 10  Electricity from nuclear (TWh)              8808 non-null   float64\n",
      "dtypes: float64(8), int64(1), object(2)\n",
      "memory usage: 788.6+ KB\n",
      "None\n"
     ]
    }
   ],
   "source": [
    "print(electricity_source.info())"
   ]
  },
  {
   "cell_type": "code",
   "execution_count": null,
   "metadata": {},
   "outputs": [
    {
     "name": "stdout",
     "output_type": "stream",
     "text": [
      "Empty DataFrame\n",
      "Columns: [Entity, Code, Year, Electricity from coal (TWh), Electricity from gas (TWh), Electricity from hydro (TWh), Other renewables including bioenergy (TWh), Electricity from solar (TWh), Electricity from oil (TWh), Electricity from wind (TWh), Electricity from nuclear (TWh)]\n",
      "Index: []\n"
     ]
    }
   ],
   "source": [
    "#filtrar datos de 2022\n",
    "electricity_source_2022 = electricity_source[electricity_source['Year'] == 2022]\n",
    "print(electricity_source_2022.head())"
   ]
  },
  {
   "cell_type": "code",
   "execution_count": null,
   "metadata": {},
   "outputs": [
    {
     "name": "stdout",
     "output_type": "stream",
     "text": [
      "          Entity Code  Year  Electricity from coal (TWh)  \\\n",
      "57        Africa  NaN  2021                   247.403763   \n",
      "114  Africa (BP)  NaN  2021                   247.403763   \n",
      "222      Algeria  DZA  2021                          NaN   \n",
      "322    Argentina  ARG  2021                     2.916733   \n",
      "364      Armenia  ARM  2021                     0.000000   \n",
      "\n",
      "     Electricity from gas (TWh)  Electricity from hydro (TWh)  \\\n",
      "57                   355.564392                    153.418701   \n",
      "114                  355.564392                    153.418686   \n",
      "222                         NaN                      0.009300   \n",
      "322                   93.331833                     19.597536   \n",
      "364                    3.020000                      1.840000   \n",
      "\n",
      "     Other renewables including bioenergy (TWh)  Electricity from solar (TWh)  \\\n",
      "57                                     8.026317                     16.515236   \n",
      "114                                    8.026318                     16.515236   \n",
      "222                                    0.000000                      0.664000   \n",
      "322                                    2.103897                      2.195563   \n",
      "364                                    0.000000                      0.020000   \n",
      "\n",
      "     Electricity from oil (TWh)  Electricity from wind (TWh)  \\\n",
      "57                    76.190125                    24.415970   \n",
      "114                   76.190125                    24.415970   \n",
      "222                         NaN                     0.010500   \n",
      "322                    7.933881                    12.937551   \n",
      "364                    0.000000                     0.000000   \n",
      "\n",
      "     Electricity from nuclear (TWh)  \n",
      "57                        10.424211  \n",
      "114                       10.424211  \n",
      "222                             NaN  \n",
      "322                       10.831573  \n",
      "364                        2.610000  \n"
     ]
    }
   ],
   "source": [
    "#filtrar datos de 2021\n",
    "electricity_source_2021 = electricity_source[electricity_source['Year'] == 2021]\n",
    "print(electricity_source_2021.head())"
   ]
  },
  {
   "cell_type": "markdown",
   "metadata": {},
   "source": [
    "### Los datos de electricity-prod-source-stacked.csv estan hasta 2021\n",
    "#### Fuente:"
   ]
  },
  {
   "cell_type": "markdown",
   "metadata": {},
   "source": [
    "### Archivo : CO2 emissions per capita per country.csv\n",
    "#### Fuente: https://data.world/makeovermonday/2019w22"
   ]
  },
  {
   "cell_type": "code",
   "execution_count": null,
   "metadata": {},
   "outputs": [
    {
     "name": "stdout",
     "output_type": "stream",
     "text": [
      "  Country Name Country Code      1960      1961      1962      1963      1964  \\\n",
      "0        Aruba          ABW       NaN       NaN       NaN       NaN       NaN   \n",
      "1  Afghanistan          AFG  0.046060  0.053604  0.073765  0.074233  0.086292   \n",
      "2       Angola          AGO  0.097472  0.079038  0.201289  0.192535  0.201003   \n",
      "3      Albania          ALB  1.258195  1.374186  1.439956  1.181681  1.111742   \n",
      "4      Andorra          AND       NaN       NaN       NaN       NaN       NaN   \n",
      "\n",
      "       1965      1966      1967  ...       2009       2010       2011  \\\n",
      "0       NaN       NaN       NaN  ...  25.915833  24.670529  24.505835   \n",
      "1  0.101467  0.107637  0.123734  ...   0.241723   0.293837   0.412017   \n",
      "2  0.191528  0.246413  0.154912  ...   1.232495   1.243406   1.252789   \n",
      "3  1.166099  1.333055  1.363746  ...   1.495600   1.578574   1.803715   \n",
      "4       NaN       NaN       NaN  ...   6.121652   6.122595   5.867130   \n",
      "\n",
      "        2012      2013      2014  2015  2016  2017  2018  \n",
      "0  13.155542  8.351294  8.408363   NaN   NaN   NaN   NaN  \n",
      "1   0.350371  0.315602  0.299445   NaN   NaN   NaN   NaN  \n",
      "2   1.330843  1.254617  1.291328   NaN   NaN   NaN   NaN  \n",
      "3   1.692908  1.749211  1.978763   NaN   NaN   NaN   NaN  \n",
      "4   5.916597  5.900753  5.832170   NaN   NaN   NaN   NaN  \n",
      "\n",
      "[5 rows x 61 columns]\n"
     ]
    }
   ],
   "source": [
    "#crear dataframe con el csv CO2-emissions-per-capita.csv\n",
    "co2_emissions = pd.read_csv('CO2 emissions per capita per country.csv')\n",
    "print(co2_emissions.head())"
   ]
  },
  {
   "cell_type": "code",
   "execution_count": null,
   "metadata": {},
   "outputs": [
    {
     "name": "stdout",
     "output_type": "stream",
     "text": [
      "     Country Name Country Code      1960      1961      1962      1963  \\\n",
      "259        Kosovo          XKX       NaN       NaN       NaN       NaN   \n",
      "260   Yemen, Rep.          YEM  0.702611  0.506779  0.726302  0.535971   \n",
      "261  South Africa          ZAF  5.610092  5.703690  5.747719  5.811157   \n",
      "262        Zambia          ZMB       NaN       NaN       NaN       NaN   \n",
      "263      Zimbabwe          ZWE       NaN       NaN       NaN       NaN   \n",
      "\n",
      "         1964      1965      1966      1967  ...      2009      2010  \\\n",
      "259       NaN       NaN       NaN       NaN  ...       NaN       NaN   \n",
      "260  0.655561  0.696540  0.602812  0.521386  ...  1.069059  0.992602   \n",
      "261  6.163809  6.431587  6.265413  6.361646  ...  9.870597  9.190699   \n",
      "262  0.949422  1.099048  0.952613  1.263954  ...  0.186396  0.194337   \n",
      "263  1.047748  1.182364  1.327983  1.127398  ...  0.405716  0.552146   \n",
      "\n",
      "         2011      2012      2013      2014  2015  2016  2017  2018  \n",
      "259       NaN       NaN       NaN       NaN   NaN   NaN   NaN   NaN  \n",
      "260  0.810900  0.749447  0.996885  0.864835   NaN   NaN   NaN   NaN  \n",
      "261  9.004033  8.845033  8.673963  8.980119   NaN   NaN   NaN   NaN  \n",
      "262  0.205911  0.249457  0.261113  0.288271   NaN   NaN   NaN   NaN  \n",
      "263  0.664751  0.529703  0.775564  0.779956   NaN   NaN   NaN   NaN  \n",
      "\n",
      "[5 rows x 61 columns]\n"
     ]
    }
   ],
   "source": [
    "#tail co2_emissions\n",
    "print(co2_emissions.tail())\n"
   ]
  },
  {
   "cell_type": "code",
   "execution_count": null,
   "metadata": {},
   "outputs": [
    {
     "name": "stdout",
     "output_type": "stream",
     "text": [
      "<class 'pandas.core.frame.DataFrame'>\n",
      "RangeIndex: 264 entries, 0 to 263\n",
      "Data columns (total 61 columns):\n",
      " #   Column        Non-Null Count  Dtype  \n",
      "---  ------        --------------  -----  \n",
      " 0   Country Name  264 non-null    object \n",
      " 1   Country Code  264 non-null    object \n",
      " 2   1960          192 non-null    float64\n",
      " 3   1961          193 non-null    float64\n",
      " 4   1962          195 non-null    float64\n",
      " 5   1963          196 non-null    float64\n",
      " 6   1964          203 non-null    float64\n",
      " 7   1965          203 non-null    float64\n",
      " 8   1966          203 non-null    float64\n",
      " 9   1967          203 non-null    float64\n",
      " 10  1968          203 non-null    float64\n",
      " 11  1969          203 non-null    float64\n",
      " 12  1970          205 non-null    float64\n",
      " 13  1971          206 non-null    float64\n",
      " 14  1972          208 non-null    float64\n",
      " 15  1973          208 non-null    float64\n",
      " 16  1974          208 non-null    float64\n",
      " 17  1975          208 non-null    float64\n",
      " 18  1976          208 non-null    float64\n",
      " 19  1977          208 non-null    float64\n",
      " 20  1978          208 non-null    float64\n",
      " 21  1979          208 non-null    float64\n",
      " 22  1980          208 non-null    float64\n",
      " 23  1981          208 non-null    float64\n",
      " 24  1982          208 non-null    float64\n",
      " 25  1983          208 non-null    float64\n",
      " 26  1984          208 non-null    float64\n",
      " 27  1985          208 non-null    float64\n",
      " 28  1986          209 non-null    float64\n",
      " 29  1987          209 non-null    float64\n",
      " 30  1988          209 non-null    float64\n",
      " 31  1989          209 non-null    float64\n",
      " 32  1990          215 non-null    float64\n",
      " 33  1991          217 non-null    float64\n",
      " 34  1992          241 non-null    float64\n",
      " 35  1993          241 non-null    float64\n",
      " 36  1994          242 non-null    float64\n",
      " 37  1995          243 non-null    float64\n",
      " 38  1996          243 non-null    float64\n",
      " 39  1997          244 non-null    float64\n",
      " 40  1998          245 non-null    float64\n",
      " 41  1999          245 non-null    float64\n",
      " 42  2000          245 non-null    float64\n",
      " 43  2001          245 non-null    float64\n",
      " 44  2002          246 non-null    float64\n",
      " 45  2003          246 non-null    float64\n",
      " 46  2004          246 non-null    float64\n",
      " 47  2005          247 non-null    float64\n",
      " 48  2006          248 non-null    float64\n",
      " 49  2007          249 non-null    float64\n",
      " 50  2008          249 non-null    float64\n",
      " 51  2009          249 non-null    float64\n",
      " 52  2010          249 non-null    float64\n",
      " 53  2011          249 non-null    float64\n",
      " 54  2012          251 non-null    float64\n",
      " 55  2013          251 non-null    float64\n",
      " 56  2014          250 non-null    float64\n",
      " 57  2015          0 non-null      float64\n",
      " 58  2016          0 non-null      float64\n",
      " 59  2017          0 non-null      float64\n",
      " 60  2018          0 non-null      float64\n",
      "dtypes: float64(59), object(2)\n",
      "memory usage: 125.9+ KB\n"
     ]
    }
   ],
   "source": [
    "co2_emissions.info()"
   ]
  },
  {
   "cell_type": "markdown",
   "metadata": {},
   "source": [
    "### Datos hasta 2018 "
   ]
  },
  {
   "cell_type": "markdown",
   "metadata": {},
   "source": [
    "Estos datos se extrajeron de la Administración de Energía de los Estados Unidos y se unieron para un análisis más fácil. Es una colección de algunos factores importantes que juegan en las emisiones de C02, con todo, desde la producción y el consumo de cada tipo de fuente de energía importante para cada país y su calificación de contaminación cada año. También incluye el PIB de cada país, la población, la intensidad energética per cápita (persona) y la intensidad energética por PIB (PIB por persona). Todos los datos abarcan todo el camino desde la década de 1980 hasta 2020.\n",
    "\n",
    "Descripciones de las columnas:\n",
    "\n",
    "* País - País en cuestión\n",
    "* Energy_type - Tipo de fuente de energía\n",
    "* Año - Año en que se registraron los datos\n",
    "* Energy_consumption - Cantidad de consumo para la fuente de energía específica, medida (quad Btu)\n",
    "* Energy_production - Cantidad de producción para la fuente de energía específica, medida (quad Btu)\n",
    "* PIB - PIB de los países a paridades de poder adquisitivo, medido (Millardo 2015$ PPA)\n",
    "* Población - Población de un país específico, medida (Mperson)\n",
    "* Intensidadenergéticaper_capita - La intensidad energética es una medida de la ineficiencia energética de una economía. Se calcula como unidades de energía por unidad de cápita (cápita = persona individual), medida (MMBtu/persona)\n",
    "* Intensidadenergéticaby_GDP- La intensidad energética es una medida de la ineficiencia energética de una economía. Se calcula como unidades de energía por unidad de PIB, medidas (1000 Btu/2015$ PIB PPA)\n",
    "* CO2_emission - La cantidad de C02 emitida, medida (MMtonnes CO2)\n",
    "\n",
    "\n",
    "### Info hasta el año 2019"
   ]
  },
  {
   "cell_type": "code",
   "execution_count": 4,
   "metadata": {},
   "outputs": [],
   "source": [
    "# Importamos el archivo csv\n",
    "energy_main = pd.read_csv('energy.csv')"
   ]
  },
  {
   "cell_type": "code",
   "execution_count": 5,
   "metadata": {},
   "outputs": [
    {
     "name": "stdout",
     "output_type": "stream",
     "text": [
      "   Unnamed: 0 Country                Energy_type  Year  Energy_consumption  \\\n",
      "0           0   World           all_energy_types  1980          292.899790   \n",
      "1           1   World                       coal  1980           78.656134   \n",
      "2           2   World                natural_gas  1980           53.865223   \n",
      "3           3   World  petroleum_n_other_liquids  1980          132.064019   \n",
      "4           4   World                    nuclear  1980            7.575700   \n",
      "\n",
      "   Energy_production           GDP    Population  Energy_intensity_per_capita  \\\n",
      "0         296.337228  27770.910281  4.298127e+06                    68.145921   \n",
      "1          80.114194  27770.910281  4.298127e+06                    68.145921   \n",
      "2          54.761046  27770.910281  4.298127e+06                    68.145921   \n",
      "3         133.111109  27770.910281  4.298127e+06                    68.145921   \n",
      "4           7.575700  27770.910281  4.298127e+06                    68.145921   \n",
      "\n",
      "   Energy_intensity_by_GDP  CO2_emission  \n",
      "0                   10.547   4946.627130  \n",
      "1                   10.547   1409.790188  \n",
      "2                   10.547   1081.593377  \n",
      "3                   10.547   2455.243565  \n",
      "4                   10.547      0.000000  \n"
     ]
    }
   ],
   "source": [
    "#head energy_main\n",
    "print(energy_main.head())"
   ]
  },
  {
   "cell_type": "code",
   "execution_count": 6,
   "metadata": {},
   "outputs": [
    {
     "name": "stdout",
     "output_type": "stream",
     "text": [
      "       Unnamed: 0   Country                Energy_type  Year  \\\n",
      "55435       55435  Zimbabwe                       coal  2019   \n",
      "55436       55436  Zimbabwe                natural_gas  2019   \n",
      "55437       55437  Zimbabwe  petroleum_n_other_liquids  2019   \n",
      "55438       55438  Zimbabwe                    nuclear  2019   \n",
      "55439       55439  Zimbabwe         renewables_n_other  2019   \n",
      "\n",
      "       Energy_consumption  Energy_production      GDP  Population  \\\n",
      "55435            0.045064           0.075963  37.6204     14654.2   \n",
      "55436            0.000000           0.000000  37.6204     14654.2   \n",
      "55437            0.055498           0.000000  37.6204     14654.2   \n",
      "55438                 NaN                NaN  37.6204     14654.2   \n",
      "55439            0.068089           0.067499  37.6204     14654.2   \n",
      "\n",
      "       Energy_intensity_per_capita  Energy_intensity_by_GDP  CO2_emission  \n",
      "55435                    11.508701                 4.482962      4.586869  \n",
      "55436                    11.508701                 4.482962      0.000000  \n",
      "55437                    11.508701                 4.482962      4.377890  \n",
      "55438                    11.508701                 4.482962      0.000000  \n",
      "55439                    11.508701                 4.482962      0.000000  \n"
     ]
    }
   ],
   "source": [
    "#tail energy_main\n",
    "print(energy_main.tail())"
   ]
  },
  {
   "cell_type": "code",
   "execution_count": 9,
   "metadata": {},
   "outputs": [
    {
     "name": "stdout",
     "output_type": "stream",
     "text": [
      "       Unnamed: 0 Country                Energy_type  Year  \\\n",
      "54054       54054   World           all_energy_types  2019   \n",
      "54055       54055   World                       coal  2019   \n",
      "54056       54056   World                natural_gas  2019   \n",
      "54057       54057   World  petroleum_n_other_liquids  2019   \n",
      "54058       54058   World                    nuclear  2019   \n",
      "\n",
      "       Energy_consumption  Energy_production            GDP    Population  \\\n",
      "54054          601.040490         611.508969  127690.247059  7.714631e+06   \n",
      "54055          163.971776         171.840424  127690.247059  7.714631e+06   \n",
      "54056          146.923396         149.401588  127690.247059  7.714631e+06   \n",
      "54057          196.077358         192.134558  127690.247059  7.714631e+06   \n",
      "54058           27.659891          27.659891  127690.247059  7.714631e+06   \n",
      "\n",
      "       Energy_intensity_per_capita  Energy_intensity_by_GDP  CO2_emission  \n",
      "54054                    77.909168                  4.70702  35584.933498  \n",
      "54055                    77.909168                  4.70702  15773.074341  \n",
      "54056                    77.909168                  4.70702   7607.936618  \n",
      "54057                    77.909168                  4.70702  12203.922539  \n",
      "54058                    77.909168                  4.70702      0.000000  \n"
     ]
    }
   ],
   "source": [
    "#filtrar datos de 2019\n",
    "energy_main_2019 = energy_main[energy_main['Year'] == 2019]\n",
    "print(energy_main_2019.head())"
   ]
  },
  {
   "cell_type": "code",
   "execution_count": 10,
   "metadata": {},
   "outputs": [
    {
     "name": "stdout",
     "output_type": "stream",
     "text": [
      "<class 'pandas.core.frame.DataFrame'>\n",
      "RangeIndex: 55440 entries, 0 to 55439\n",
      "Data columns (total 11 columns):\n",
      " #   Column                       Non-Null Count  Dtype  \n",
      "---  ------                       --------------  -----  \n",
      " 0   Unnamed: 0                   55440 non-null  int64  \n",
      " 1   Country                      55440 non-null  object \n",
      " 2   Energy_type                  55440 non-null  object \n",
      " 3   Year                         55440 non-null  int64  \n",
      " 4   Energy_consumption           44287 non-null  float64\n",
      " 5   Energy_production            44289 non-null  float64\n",
      " 6   GDP                          40026 non-null  float64\n",
      " 7   Population                   46014 non-null  float64\n",
      " 8   Energy_intensity_per_capita  50358 non-null  float64\n",
      " 9   Energy_intensity_by_GDP      50358 non-null  float64\n",
      " 10  CO2_emission                 51614 non-null  float64\n",
      "dtypes: float64(7), int64(2), object(2)\n",
      "memory usage: 4.7+ MB\n"
     ]
    }
   ],
   "source": [
    "energy_main.info()"
   ]
  },
  {
   "cell_type": "code",
   "execution_count": 11,
   "metadata": {},
   "outputs": [
    {
     "name": "stdout",
     "output_type": "stream",
     "text": [
      "World                   240\n",
      "Netherlands Antilles    240\n",
      "New Zealand             240\n",
      "Nicaragua               240\n",
      "Niger                   240\n",
      "                       ... \n",
      "Germany, West           240\n",
      "Ghana                   240\n",
      "Gibraltar               240\n",
      "Greece                  240\n",
      "Zimbabwe                240\n",
      "Name: Country, Length: 231, dtype: int64\n"
     ]
    }
   ],
   "source": [
    "# cada valor de la columna country \n",
    "print(energy_main['Country'].value_counts())"
   ]
  },
  {
   "cell_type": "code",
   "execution_count": 13,
   "metadata": {},
   "outputs": [
    {
     "name": "stdout",
     "output_type": "stream",
     "text": [
      "   Unnamed: 0 Country                Energy_type  Year  Energy_consumption  \\\n",
      "0           0   World           all_energy_types  1980          292.899790   \n",
      "1           1   World                       coal  1980           78.656134   \n",
      "2           2   World                natural_gas  1980           53.865223   \n",
      "3           3   World  petroleum_n_other_liquids  1980          132.064019   \n",
      "4           4   World                    nuclear  1980            7.575700   \n",
      "\n",
      "   Energy_production           GDP    Population  Energy_intensity_per_capita  \\\n",
      "0         296.337228  27770.910281  4.298127e+06                    68.145921   \n",
      "1          80.114194  27770.910281  4.298127e+06                    68.145921   \n",
      "2          54.761046  27770.910281  4.298127e+06                    68.145921   \n",
      "3         133.111109  27770.910281  4.298127e+06                    68.145921   \n",
      "4           7.575700  27770.910281  4.298127e+06                    68.145921   \n",
      "\n",
      "   Energy_intensity_by_GDP  CO2_emission  \n",
      "0                   10.547   4946.627130  \n",
      "1                   10.547   1409.790188  \n",
      "2                   10.547   1081.593377  \n",
      "3                   10.547   2455.243565  \n",
      "4                   10.547      0.000000  \n"
     ]
    }
   ],
   "source": [
    "# dataframe con World \n",
    "world = energy_main[energy_main['Country'] == 'World']\n",
    "print(world.head())"
   ]
  },
  {
   "cell_type": "markdown",
   "metadata": {},
   "source": [
    "### historical_emissions.csv\n",
    "\n",
    "Fuente: https://www.climatewatchdata.org/data-explorer/historical-emissions?historical-emissions-data-sources=cait&historical-emissions-gases=all-ghg&historical-emissions-regions=All%20Selected&historical-emissions-sectors=total-including-lucf%2Ctotal-including-lucf&page=1"
   ]
  },
  {
   "cell_type": "code",
   "execution_count": 2,
   "metadata": {},
   "outputs": [],
   "source": [
    "import pandas as pd"
   ]
  },
  {
   "cell_type": "code",
   "execution_count": 3,
   "metadata": {},
   "outputs": [
    {
     "name": "stdout",
     "output_type": "stream",
     "text": [
      "               Country Data source                Sector      Gas    Unit  \\\n",
      "0                World        CAIT  Total including LUCF  All GHG  MtCO₂e   \n",
      "1                China        CAIT  Total including LUCF  All GHG  MtCO₂e   \n",
      "2        United States        CAIT  Total including LUCF  All GHG  MtCO₂e   \n",
      "3                India        CAIT  Total including LUCF  All GHG  MtCO₂e   \n",
      "4  European Union (27)        CAIT  Total including LUCF  All GHG  MtCO₂e   \n",
      "\n",
      "       2019      2018      2017      2016      2015  ...      1999      1998  \\\n",
      "0  49758.23  49368.04  48251.88  47531.68  46871.77  ...  35101.90  35099.21   \n",
      "1  12055.41  11821.66  11385.48  11151.31  11108.86  ...   4028.58   4095.97   \n",
      "2   5771.00   5892.37   5689.61   5743.85   5665.21  ...   6210.12   6208.83   \n",
      "3   3363.60   3360.56   3215.07   3076.48   3003.07  ...   1440.38   1362.33   \n",
      "4   3149.57   3295.53   3379.38   3364.77   3019.49  ...   3874.40   3949.25   \n",
      "\n",
      "       1997      1996      1995      1994      1993      1992      1991  \\\n",
      "0  35537.18  34179.33  33805.61  33015.04  32729.06  32588.09  32670.51   \n",
      "1   3977.65   3982.11   3960.71   3557.37   3397.80   3168.05   3039.15   \n",
      "2   6160.86   5901.00   5729.69   5661.57   5567.55   5456.12   5372.08   \n",
      "3   1331.88   1272.74   1223.65   1158.48   1114.22   1081.28   1056.25   \n",
      "4   3983.29   4058.46   3947.64   3894.63   3908.95   3981.08   4120.94   \n",
      "\n",
      "       1990  \n",
      "0  32523.58  \n",
      "1   2891.73  \n",
      "2   5417.32  \n",
      "3   1002.56  \n",
      "4   4187.90  \n",
      "\n",
      "[5 rows x 35 columns]\n"
     ]
    }
   ],
   "source": [
    "#extraer historical_emissions.csv\n",
    "historical_emissions = pd.read_csv('historical_emissions.csv')\n",
    "print(historical_emissions.head())"
   ]
  },
  {
   "cell_type": "code",
   "execution_count": 5,
   "metadata": {},
   "outputs": [
    {
     "name": "stdout",
     "output_type": "stream",
     "text": [
      "                      Source  \\\n",
      "0  historical_emissions_cait   \n",
      "1  historical_emissions_cait   \n",
      "2  historical_emissions_cait   \n",
      "3  historical_emissions_cait   \n",
      "4  historical_emissions_cait   \n",
      "5  historical_emissions_cait   \n",
      "6  historical_emissions_cait   \n",
      "7  historical_emissions_cait   \n",
      "8  historical_emissions_cait   \n",
      "9  historical_emissions_cait   \n",
      "\n",
      "                                            Property  \\\n",
      "0                         Title (75 character limit)   \n",
      "1                                    Technical Title   \n",
      "2                                Source Organization   \n",
      "3                                    Learn More Link   \n",
      "4  Function/Summary: Tagline description of what ...   \n",
      "5  Description: \\nRecap data name, source organiz...   \n",
      "6  Cautions: Known use limitations/cautions regar...   \n",
      "7  Geographic Coverage: global; quasi-global; sel...   \n",
      "8  Date of Content: List all years; for multiple ...   \n",
      "9  Frequency of Updates: annual; every x years/mo...   \n",
      "\n",
      "                                               Value  \n",
      "0             Climate Watch Historical GHG Emissions  \n",
      "1  Climate Watch Historical Country Greenhouse Ga...  \n",
      "2                          World Resources Institute  \n",
      "3     https://www.climatewatchdata.org/ghg-emissions  \n",
      "4  Historical country-level and sectoral GHG emis...  \n",
      "5  Climate Watch Historical Emissions data contai...  \n",
      "6  Climate Watch Historical GHG Emissions data (p...  \n",
      "7                                             Global  \n",
      "8                                          1990-2019  \n",
      "9                   Annual. Last updated April 2022.  \n"
     ]
    }
   ],
   "source": [
    "#extraer sources.csv\n",
    "sources = pd.read_csv('sources.csv')\n",
    "print(sources.head(10))"
   ]
  },
  {
   "cell_type": "code",
   "execution_count": 6,
   "metadata": {},
   "outputs": [
    {
     "name": "stdout",
     "output_type": "stream",
     "text": [
      "                       Source  \\\n",
      "9   historical_emissions_cait   \n",
      "10  historical_emissions_cait   \n",
      "11  historical_emissions_cait   \n",
      "12  historical_emissions_cait   \n",
      "13  historical_emissions_cait   \n",
      "\n",
      "                                             Property  \\\n",
      "9   Frequency of Updates: annual; every x years/mo...   \n",
      "10                                 Summary of License   \n",
      "11                Link to License or Terms of Service   \n",
      "12                                           Citation   \n",
      "13                                 Published Language   \n",
      "\n",
      "                                                Value  \n",
      "9                    Annual. Last updated April 2022.  \n",
      "10  Creative Commons Attribution-NonCommercial 4.0...  \n",
      "11       https://creativecommons.org/licenses/by/4.0/  \n",
      "12  Climate Watch Historical GHG Emissions. 2022. ...  \n",
      "13                                            English  \n"
     ]
    }
   ],
   "source": [
    "#tail sources\n",
    "print(sources.tail())"
   ]
  },
  {
   "cell_type": "code",
   "execution_count": 7,
   "metadata": {},
   "outputs": [
    {
     "name": "stdout",
     "output_type": "stream",
     "text": [
      "<class 'pandas.core.frame.DataFrame'>\n",
      "RangeIndex: 14 entries, 0 to 13\n",
      "Data columns (total 3 columns):\n",
      " #   Column    Non-Null Count  Dtype \n",
      "---  ------    --------------  ----- \n",
      " 0   Source    14 non-null     object\n",
      " 1   Property  14 non-null     object\n",
      " 2   Value     14 non-null     object\n",
      "dtypes: object(3)\n",
      "memory usage: 464.0+ bytes\n",
      "None\n"
     ]
    }
   ],
   "source": [
    "#info sources\n",
    "print(sources.info())"
   ]
  }
 ],
 "metadata": {
  "kernelspec": {
   "display_name": "Python 3.10.6 64-bit (windows store)",
   "language": "python",
   "name": "python3"
  },
  "language_info": {
   "codemirror_mode": {
    "name": "ipython",
    "version": 3
   },
   "file_extension": ".py",
   "mimetype": "text/x-python",
   "name": "python",
   "nbconvert_exporter": "python",
   "pygments_lexer": "ipython3",
   "version": "3.10.6"
  },
  "orig_nbformat": 4,
  "vscode": {
   "interpreter": {
    "hash": "7ec9833d269f19a831f36bc6613108b7aac82e51287a4c151b04f68c903f9ba8"
   }
  }
 },
 "nbformat": 4,
 "nbformat_minor": 2
}
