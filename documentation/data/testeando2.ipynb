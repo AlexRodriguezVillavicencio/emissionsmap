{
 "cells": [
  {
   "cell_type": "markdown",
   "metadata": {},
   "source": [
    "fuente : https://www.eia.gov/energyexplained/energy-and-the-environment/where-greenhouse-gases-come-from.php\n",
    "Emisiones de gases efecto invernadero 2020"
   ]
  },
  {
   "cell_type": "code",
   "execution_count": 2,
   "metadata": {},
   "outputs": [],
   "source": [
    "import pandas as pd"
   ]
  },
  {
   "cell_type": "code",
   "execution_count": 3,
   "metadata": {},
   "outputs": [],
   "source": [
    "#ingestar greenhouse-gas-emissions-by-gas.csv   \n",
    "df = pd.read_csv('greenhouse-gas-emissions-by-gas.csv')"
   ]
  },
  {
   "cell_type": "markdown",
   "metadata": {},
   "source": []
  },
  {
   "cell_type": "code",
   "execution_count": 5,
   "metadata": {},
   "outputs": [
    {
     "name": "stdout",
     "output_type": "stream",
     "text": [
      "          U.S. greenhouse gas emissions by gas, 2020  Unnamed: 1\n",
      "0  total = 5,981 million metric tons of carbon di...         NaN\n",
      "1  Data source: U.S. Environmental Protection Age...         NaN\n",
      "2  Note: Data are CO2e based on 100-year global w...         NaN\n",
      "3  An interactive pie chart showing the shares of...         NaN\n",
      "4                         fossil fuel combustion CO2        72.6\n"
     ]
    }
   ],
   "source": [
    "#head, tail y columns\n",
    "print(df.head())"
   ]
  },
  {
   "cell_type": "code",
   "execution_count": 6,
   "metadata": {},
   "outputs": [
    {
     "name": "stdout",
     "output_type": "stream",
     "text": [
      "  U.S. greenhouse gas emissions by gas, 2020  Unnamed: 1\n",
      "4                 fossil fuel combustion CO2        72.6\n",
      "5                                    methane        10.9\n",
      "6                              nitrous oxide         7.1\n",
      "7                             high-GWP gases         3.2\n",
      "8                                  other CO2         6.2\n"
     ]
    }
   ],
   "source": [
    "print(df.tail())"
   ]
  },
  {
   "cell_type": "code",
   "execution_count": 8,
   "metadata": {},
   "outputs": [
    {
     "name": "stdout",
     "output_type": "stream",
     "text": [
      "<bound method DataFrame.info of           U.S. greenhouse gas emissions by gas, 2020  Unnamed: 1\n",
      "0  total = 5,981 million metric tons of carbon di...         NaN\n",
      "1  Data source: U.S. Environmental Protection Age...         NaN\n",
      "2  Note: Data are CO2e based on 100-year global w...         NaN\n",
      "3  An interactive pie chart showing the shares of...         NaN\n",
      "4                         fossil fuel combustion CO2        72.6\n",
      "5                                            methane        10.9\n",
      "6                                      nitrous oxide         7.1\n",
      "7                                     high-GWP gases         3.2\n",
      "8                                          other CO2         6.2>\n"
     ]
    }
   ],
   "source": [
    "print(df.info)"
   ]
  }
 ],
 "metadata": {
  "kernelspec": {
   "display_name": "Python 3.10.6 64-bit (windows store)",
   "language": "python",
   "name": "python3"
  },
  "language_info": {
   "codemirror_mode": {
    "name": "ipython",
    "version": 3
   },
   "file_extension": ".py",
   "mimetype": "text/x-python",
   "name": "python",
   "nbconvert_exporter": "python",
   "pygments_lexer": "ipython3",
   "version": "3.10.6"
  },
  "orig_nbformat": 4,
  "vscode": {
   "interpreter": {
    "hash": "7ec9833d269f19a831f36bc6613108b7aac82e51287a4c151b04f68c903f9ba8"
   }
  }
 },
 "nbformat": 4,
 "nbformat_minor": 2
}
